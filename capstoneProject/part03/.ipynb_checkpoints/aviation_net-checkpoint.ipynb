{
 "cells": [
  {
   "cell_type": "markdown",
   "metadata": {},
   "source": [
    "## Import libraries and dataset"
   ]
  },
  {
   "cell_type": "code",
   "execution_count": 335,
   "metadata": {
    "collapsed": true
   },
   "outputs": [],
   "source": [
    "import pandas as pd\n",
    "pd.set_option('display.max_rows', 500)\n",
    "pd.set_option('display.max_columns', 500)"
   ]
  },
  {
   "cell_type": "code",
   "execution_count": 336,
   "metadata": {
    "collapsed": true
   },
   "outputs": [],
   "source": [
    "path = './output.csv'"
   ]
  },
  {
   "cell_type": "code",
   "execution_count": 337,
   "metadata": {
    "collapsed": false
   },
   "outputs": [],
   "source": [
    "data = pd.read_csv(path)"
   ]
  },
  {
   "cell_type": "markdown",
   "metadata": {},
   "source": [
    "###  Shape of the data"
   ]
  },
  {
   "cell_type": "code",
   "execution_count": 338,
   "metadata": {
    "collapsed": false
   },
   "outputs": [
    {
     "data": {
      "text/plain": [
       "(8184, 37)"
      ]
     },
     "execution_count": 338,
     "metadata": {},
     "output_type": "execute_result"
    }
   ],
   "source": [
    "data.shape"
   ]
  },
  {
   "cell_type": "markdown",
   "metadata": {},
   "source": [
    "### Features"
   ]
  },
  {
   "cell_type": "code",
   "execution_count": 339,
   "metadata": {
    "collapsed": false
   },
   "outputs": [
    {
     "name": "stdout",
     "output_type": "stream",
     "text": [
      "<class 'pandas.core.frame.DataFrame'>\n",
      "RangeIndex: 8184 entries, 0 to 8183\n",
      "Data columns (total 37 columns):\n",
      "LeasedFrom                 7901 non-null object\n",
      "Engines                    8183 non-null object\n",
      "CrashSiteElevation         8000 non-null object\n",
      "Duration                   7930 non-null object\n",
      "Narrative                  8130 non-null object\n",
      "FlightNumber               8172 non-null object\n",
      "Crew                       8184 non-null object\n",
      "Location                   8184 non-null object\n",
      "InvestigatingAgency        7930 non-null object\n",
      "Type                       8182 non-null object\n",
      "GroundCasualities          8097 non-null object\n",
      "Status                     2590 non-null object\n",
      "OnBehalfOf                 7950 non-null object\n",
      "TotalFatalities            8184 non-null object\n",
      "TotalAirFrameHrs           8165 non-null object\n",
      "Nature                     8182 non-null object\n",
      "AirplaneDamage             8184 non-null object\n",
      "Released                   7930 non-null object\n",
      "CarrierNumber              8184 non-null object\n",
      "Phase                      8184 non-null object\n",
      "Passengers                 8184 non-null object\n",
      "OperatedBy                 7950 non-null object\n",
      "DestinationAirport         8184 non-null object\n",
      "OperatingFor               8144 non-null object\n",
      "Date                       8184 non-null object\n",
      "Time                       8172 non-null object\n",
      "Cycles                     8082 non-null object\n",
      "DownloadReport             7930 non-null object\n",
      "DepartureAirport           8184 non-null object\n",
      "Issued                     7930 non-null object\n",
      "Number                     0 non-null float64\n",
      "Registration               8184 non-null object\n",
      "Operator                   8181 non-null object\n",
      "DurationOfInvestigation    7432 non-null object\n",
      "AirplaneFate               8172 non-null object\n",
      "CollisionCasualties        8012 non-null object\n",
      "FirstFlight                8184 non-null object\n",
      "dtypes: float64(1), object(36)\n",
      "memory usage: 2.3+ MB\n"
     ]
    }
   ],
   "source": [
    "data.info()"
   ]
  },
  {
   "cell_type": "code",
   "execution_count": 340,
   "metadata": {
    "collapsed": false
   },
   "outputs": [
    {
     "name": "stdout",
     "output_type": "stream",
     "text": [
      "37\n"
     ]
    },
    {
     "data": {
      "text/plain": [
       "Index(['LeasedFrom', 'Engines', 'CrashSiteElevation', 'Duration', 'Narrative',\n",
       "       'FlightNumber', 'Crew', 'Location', 'InvestigatingAgency', 'Type',\n",
       "       'GroundCasualities', 'Status', 'OnBehalfOf', 'TotalFatalities',\n",
       "       'TotalAirFrameHrs', 'Nature', 'AirplaneDamage', 'Released',\n",
       "       'CarrierNumber', 'Phase', 'Passengers', 'OperatedBy',\n",
       "       'DestinationAirport', 'OperatingFor', 'Date', 'Time', 'Cycles',\n",
       "       'DownloadReport', 'DepartureAirport', 'Issued', 'Number',\n",
       "       'Registration', 'Operator', 'DurationOfInvestigation', 'AirplaneFate',\n",
       "       'CollisionCasualties', 'FirstFlight'],\n",
       "      dtype='object')"
      ]
     },
     "execution_count": 340,
     "metadata": {},
     "output_type": "execute_result"
    }
   ],
   "source": [
    "print(len(data.columns))\n",
    "data.columns"
   ]
  },
  {
   "cell_type": "markdown",
   "metadata": {},
   "source": [
    "### Examine Nulls and Data types"
   ]
  },
  {
   "cell_type": "code",
   "execution_count": 341,
   "metadata": {
    "collapsed": false,
    "scrolled": true
   },
   "outputs": [
    {
     "data": {
      "text/html": [
       "<div>\n",
       "<table border=\"1\" class=\"dataframe\">\n",
       "  <thead>\n",
       "    <tr style=\"text-align: right;\">\n",
       "      <th></th>\n",
       "      <th>Feature</th>\n",
       "      <th>Nullcount</th>\n",
       "      <th>Dtypes</th>\n",
       "    </tr>\n",
       "  </thead>\n",
       "  <tbody>\n",
       "    <tr>\n",
       "      <th>30</th>\n",
       "      <td>Number</td>\n",
       "      <td>8184</td>\n",
       "      <td>float64</td>\n",
       "    </tr>\n",
       "    <tr>\n",
       "      <th>11</th>\n",
       "      <td>Status</td>\n",
       "      <td>5594</td>\n",
       "      <td>object</td>\n",
       "    </tr>\n",
       "    <tr>\n",
       "      <th>33</th>\n",
       "      <td>DurationOfInvestigation</td>\n",
       "      <td>752</td>\n",
       "      <td>object</td>\n",
       "    </tr>\n",
       "    <tr>\n",
       "      <th>0</th>\n",
       "      <td>LeasedFrom</td>\n",
       "      <td>283</td>\n",
       "      <td>object</td>\n",
       "    </tr>\n",
       "    <tr>\n",
       "      <th>17</th>\n",
       "      <td>Released</td>\n",
       "      <td>254</td>\n",
       "      <td>object</td>\n",
       "    </tr>\n",
       "    <tr>\n",
       "      <th>29</th>\n",
       "      <td>Issued</td>\n",
       "      <td>254</td>\n",
       "      <td>object</td>\n",
       "    </tr>\n",
       "    <tr>\n",
       "      <th>8</th>\n",
       "      <td>InvestigatingAgency</td>\n",
       "      <td>254</td>\n",
       "      <td>object</td>\n",
       "    </tr>\n",
       "    <tr>\n",
       "      <th>3</th>\n",
       "      <td>Duration</td>\n",
       "      <td>254</td>\n",
       "      <td>object</td>\n",
       "    </tr>\n",
       "    <tr>\n",
       "      <th>27</th>\n",
       "      <td>DownloadReport</td>\n",
       "      <td>254</td>\n",
       "      <td>object</td>\n",
       "    </tr>\n",
       "    <tr>\n",
       "      <th>21</th>\n",
       "      <td>OperatedBy</td>\n",
       "      <td>234</td>\n",
       "      <td>object</td>\n",
       "    </tr>\n",
       "    <tr>\n",
       "      <th>12</th>\n",
       "      <td>OnBehalfOf</td>\n",
       "      <td>234</td>\n",
       "      <td>object</td>\n",
       "    </tr>\n",
       "    <tr>\n",
       "      <th>2</th>\n",
       "      <td>CrashSiteElevation</td>\n",
       "      <td>184</td>\n",
       "      <td>object</td>\n",
       "    </tr>\n",
       "    <tr>\n",
       "      <th>35</th>\n",
       "      <td>CollisionCasualties</td>\n",
       "      <td>172</td>\n",
       "      <td>object</td>\n",
       "    </tr>\n",
       "    <tr>\n",
       "      <th>26</th>\n",
       "      <td>Cycles</td>\n",
       "      <td>102</td>\n",
       "      <td>object</td>\n",
       "    </tr>\n",
       "    <tr>\n",
       "      <th>10</th>\n",
       "      <td>GroundCasualities</td>\n",
       "      <td>87</td>\n",
       "      <td>object</td>\n",
       "    </tr>\n",
       "    <tr>\n",
       "      <th>4</th>\n",
       "      <td>Narrative</td>\n",
       "      <td>54</td>\n",
       "      <td>object</td>\n",
       "    </tr>\n",
       "    <tr>\n",
       "      <th>23</th>\n",
       "      <td>OperatingFor</td>\n",
       "      <td>40</td>\n",
       "      <td>object</td>\n",
       "    </tr>\n",
       "    <tr>\n",
       "      <th>14</th>\n",
       "      <td>TotalAirFrameHrs</td>\n",
       "      <td>19</td>\n",
       "      <td>object</td>\n",
       "    </tr>\n",
       "    <tr>\n",
       "      <th>5</th>\n",
       "      <td>FlightNumber</td>\n",
       "      <td>12</td>\n",
       "      <td>object</td>\n",
       "    </tr>\n",
       "    <tr>\n",
       "      <th>34</th>\n",
       "      <td>AirplaneFate</td>\n",
       "      <td>12</td>\n",
       "      <td>object</td>\n",
       "    </tr>\n",
       "    <tr>\n",
       "      <th>25</th>\n",
       "      <td>Time</td>\n",
       "      <td>12</td>\n",
       "      <td>object</td>\n",
       "    </tr>\n",
       "    <tr>\n",
       "      <th>32</th>\n",
       "      <td>Operator</td>\n",
       "      <td>3</td>\n",
       "      <td>object</td>\n",
       "    </tr>\n",
       "    <tr>\n",
       "      <th>9</th>\n",
       "      <td>Type</td>\n",
       "      <td>2</td>\n",
       "      <td>object</td>\n",
       "    </tr>\n",
       "    <tr>\n",
       "      <th>15</th>\n",
       "      <td>Nature</td>\n",
       "      <td>2</td>\n",
       "      <td>object</td>\n",
       "    </tr>\n",
       "    <tr>\n",
       "      <th>1</th>\n",
       "      <td>Engines</td>\n",
       "      <td>1</td>\n",
       "      <td>object</td>\n",
       "    </tr>\n",
       "    <tr>\n",
       "      <th>31</th>\n",
       "      <td>Registration</td>\n",
       "      <td>0</td>\n",
       "      <td>object</td>\n",
       "    </tr>\n",
       "    <tr>\n",
       "      <th>28</th>\n",
       "      <td>DepartureAirport</td>\n",
       "      <td>0</td>\n",
       "      <td>object</td>\n",
       "    </tr>\n",
       "    <tr>\n",
       "      <th>18</th>\n",
       "      <td>CarrierNumber</td>\n",
       "      <td>0</td>\n",
       "      <td>object</td>\n",
       "    </tr>\n",
       "    <tr>\n",
       "      <th>24</th>\n",
       "      <td>Date</td>\n",
       "      <td>0</td>\n",
       "      <td>object</td>\n",
       "    </tr>\n",
       "    <tr>\n",
       "      <th>22</th>\n",
       "      <td>DestinationAirport</td>\n",
       "      <td>0</td>\n",
       "      <td>object</td>\n",
       "    </tr>\n",
       "    <tr>\n",
       "      <th>20</th>\n",
       "      <td>Passengers</td>\n",
       "      <td>0</td>\n",
       "      <td>object</td>\n",
       "    </tr>\n",
       "    <tr>\n",
       "      <th>19</th>\n",
       "      <td>Phase</td>\n",
       "      <td>0</td>\n",
       "      <td>object</td>\n",
       "    </tr>\n",
       "    <tr>\n",
       "      <th>16</th>\n",
       "      <td>AirplaneDamage</td>\n",
       "      <td>0</td>\n",
       "      <td>object</td>\n",
       "    </tr>\n",
       "    <tr>\n",
       "      <th>13</th>\n",
       "      <td>TotalFatalities</td>\n",
       "      <td>0</td>\n",
       "      <td>object</td>\n",
       "    </tr>\n",
       "    <tr>\n",
       "      <th>7</th>\n",
       "      <td>Location</td>\n",
       "      <td>0</td>\n",
       "      <td>object</td>\n",
       "    </tr>\n",
       "    <tr>\n",
       "      <th>6</th>\n",
       "      <td>Crew</td>\n",
       "      <td>0</td>\n",
       "      <td>object</td>\n",
       "    </tr>\n",
       "    <tr>\n",
       "      <th>36</th>\n",
       "      <td>FirstFlight</td>\n",
       "      <td>0</td>\n",
       "      <td>object</td>\n",
       "    </tr>\n",
       "  </tbody>\n",
       "</table>\n",
       "</div>"
      ],
      "text/plain": [
       "                    Feature  Nullcount   Dtypes\n",
       "30                   Number       8184  float64\n",
       "11                   Status       5594   object\n",
       "33  DurationOfInvestigation        752   object\n",
       "0                LeasedFrom        283   object\n",
       "17                 Released        254   object\n",
       "29                   Issued        254   object\n",
       "8       InvestigatingAgency        254   object\n",
       "3                  Duration        254   object\n",
       "27           DownloadReport        254   object\n",
       "21               OperatedBy        234   object\n",
       "12               OnBehalfOf        234   object\n",
       "2        CrashSiteElevation        184   object\n",
       "35      CollisionCasualties        172   object\n",
       "26                   Cycles        102   object\n",
       "10        GroundCasualities         87   object\n",
       "4                 Narrative         54   object\n",
       "23             OperatingFor         40   object\n",
       "14         TotalAirFrameHrs         19   object\n",
       "5              FlightNumber         12   object\n",
       "34             AirplaneFate         12   object\n",
       "25                     Time         12   object\n",
       "32                 Operator          3   object\n",
       "9                      Type          2   object\n",
       "15                   Nature          2   object\n",
       "1                   Engines          1   object\n",
       "31             Registration          0   object\n",
       "28         DepartureAirport          0   object\n",
       "18            CarrierNumber          0   object\n",
       "24                     Date          0   object\n",
       "22       DestinationAirport          0   object\n",
       "20               Passengers          0   object\n",
       "19                    Phase          0   object\n",
       "16           AirplaneDamage          0   object\n",
       "13          TotalFatalities          0   object\n",
       "7                  Location          0   object\n",
       "6                      Crew          0   object\n",
       "36              FirstFlight          0   object"
      ]
     },
     "execution_count": 341,
     "metadata": {},
     "output_type": "execute_result"
    }
   ],
   "source": [
    "# Check the null values in the dataset\n",
    "# Function to check the null counts in a dataframe\n",
    "def checknullcount(df):\n",
    "    info = []\n",
    "    columns = ('Feature', 'Nullcount', 'Dtypes')\n",
    "    for col in df.columns:\n",
    "        nullcount = df[col].isnull().sum()\n",
    "        datatype = df[col].dtypes\n",
    "        info.append([col, nullcount, datatype])\n",
    "    return (pd.DataFrame(columns=columns, data=info).sort_values('Nullcount', ascending = False))\n",
    "\n",
    "(checknullcount(data))"
   ]
  },
  {
   "cell_type": "markdown",
   "metadata": {},
   "source": [
    "## Check Feature Category - Aircraft and Airline Details"
   ]
  },
  {
   "cell_type": "markdown",
   "metadata": {},
   "source": [
    "### 1. LeasedFrom: \n",
    "- The company, organisation or individual that owns the aircraft, but did not operate it at the time of the accident. \n",
    "    - Null count - 283, datatype = object\n",
    "        - Here I can assume that when the 'Leased From'value is null, the operator is using their own aircraft.\n",
    "    - What do I i do?\n",
    "        - Drop the column LeasedFrom"
   ]
  },
  {
   "cell_type": "code",
   "execution_count": 342,
   "metadata": {
    "collapsed": false
   },
   "outputs": [
    {
     "data": {
      "text/html": [
       "<div>\n",
       "<table border=\"1\" class=\"dataframe\">\n",
       "  <thead>\n",
       "    <tr style=\"text-align: right;\">\n",
       "      <th></th>\n",
       "      <th>Nunique</th>\n",
       "      <th>NullCount</th>\n",
       "      <th>x</th>\n",
       "    </tr>\n",
       "  </thead>\n",
       "  <tbody>\n",
       "    <tr>\n",
       "      <th>OnBehalfOf</th>\n",
       "      <td>10</td>\n",
       "      <td>234</td>\n",
       "      <td>a</td>\n",
       "    </tr>\n",
       "    <tr>\n",
       "      <th>OperatedBy</th>\n",
       "      <td>8</td>\n",
       "      <td>234</td>\n",
       "      <td>a</td>\n",
       "    </tr>\n",
       "    <tr>\n",
       "      <th>OperatingFor</th>\n",
       "      <td>183</td>\n",
       "      <td>40</td>\n",
       "      <td>a</td>\n",
       "    </tr>\n",
       "    <tr>\n",
       "      <th>Operator</th>\n",
       "      <td>2745</td>\n",
       "      <td>3</td>\n",
       "      <td>a</td>\n",
       "    </tr>\n",
       "    <tr>\n",
       "      <th>LeasedFrom</th>\n",
       "      <td>12</td>\n",
       "      <td>283</td>\n",
       "      <td>a</td>\n",
       "    </tr>\n",
       "  </tbody>\n",
       "</table>\n",
       "</div>"
      ],
      "text/plain": [
       "              Nunique  NullCount  x\n",
       "OnBehalfOf         10        234  a\n",
       "OperatedBy          8        234  a\n",
       "OperatingFor      183         40  a\n",
       "Operator         2745          3  a\n",
       "LeasedFrom         12        283  a"
      ]
     },
     "execution_count": 342,
     "metadata": {},
     "output_type": "execute_result"
    }
   ],
   "source": [
    "checkcols = ['OnBehalfOf', 'OperatedBy', 'OperatingFor', 'Operator', 'LeasedFrom']\n",
    "cnt = []\n",
    "null = []\n",
    "\n",
    "for col in checkcols:\n",
    "    row = []\n",
    "    row.append(data[col].nunique())\n",
    "    row.append(data[col].isnull().sum())\n",
    "    row.append('a')\n",
    "    data[col].fillna('-', inplace = True)\n",
    "    null.append(row)\n",
    "cols = ['Nunique','NullCount','x']\n",
    "pd.DataFrame(columns=cols, data=null, index = checkcols)"
   ]
  },
  {
   "cell_type": "markdown",
   "metadata": {},
   "source": [
    "### 24. OperatingFor\n",
    "- The company, organisation or individual operating the aircraft at the time of the accident. This does not necessarily have to be the owner. "
   ]
  },
  {
   "cell_type": "code",
   "execution_count": 343,
   "metadata": {
    "collapsed": false
   },
   "outputs": [
    {
     "data": {
      "text/plain": [
       "-                                                      7908\n",
       "United Express                                           11\n",
       "United Nations - UN                                      10\n",
       "Saudi Arabian Airlines                                    8\n",
       "FedEx Express                                             8\n",
       "Delta Connection                                          7\n",
       "American Eagle                                            7\n",
       "Royal Australian Air Force - RAAF                         6\n",
       "USAir Express                                             4\n",
       "US Airways Express                                        4\n",
       "Qantas Empire Airways                                     3\n",
       "Sri Lanka Air Force                                       3\n",
       "Manx2                                                     3\n",
       "Air Force of the Democratic Republic of the Congo         3\n",
       "Air Méditerranée                                          3\n",
       "Baron Aviation                                            3\n",
       "Platinum Jet Management                                   2\n",
       "Regina Cargo Airlines                                     2\n",
       "International Jet Charter                                 2\n",
       "Agricultural High School                                  2\n",
       "LAC - SkyCongo                                            2\n",
       "Greenlandair                                              2\n",
       "Alitalia                                                  2\n",
       "Trigana Air Service                                       2\n",
       "Continental Express                                       2\n",
       "GEASA - Guinea Equatorial Airlines                        2\n",
       "Aero-Tropics Air Services                                 2\n",
       "Aviacsa                                                   2\n",
       "Air New Zealand Link                                      2\n",
       "Zaire International Cargo                                 2\n",
       "Daallo Airlines                                           2\n",
       "Japan Air Lines - JAL                                     2\n",
       "Empire Airlines                                           2\n",
       "Royal Air Force - RAF                                     2\n",
       "Indian Airlines                                           2\n",
       "Multinational Force and Observers - MFO                   2\n",
       "African Air                                               2\n",
       "International Red Cross                                   2\n",
       "VIASA                                                     2\n",
       "Kivu Air Services                                         2\n",
       "Corporate Air                                             2\n",
       "Chanchangi Airlines                                       2\n",
       "Mountain Air Cargo                                        1\n",
       "America West Express                                      1\n",
       "Jazz Aviation                                             1\n",
       "Air BAS Transportation                                    1\n",
       "Flybe                                                     1\n",
       "Regional Airlines                                         1\n",
       "Interisland Airlines                                      1\n",
       "Integerresources Inc. & Drayton Ass.                      1\n",
       "Zimbabwe Express Airlines                                 1\n",
       "Air New Zealand                                           1\n",
       "Canadian Airways Congo                                    1\n",
       "PENAS                                                     1\n",
       "Cubana de Aviación                                        1\n",
       "Anuschka Club International                               1\n",
       "Maldivian Air Taxi                                        1\n",
       "DHL Airways                                               1\n",
       "Oil and Natural Gas Corporation - ONGC                    1\n",
       "Federal Express                                           1\n",
       "Kisangani Airlift                                         1\n",
       "Kenting Aviation                                          1\n",
       "Tarom                                                     1\n",
       "Australian National Airways - ANA                         1\n",
       "Royal Air Maroc - RAM                                     1\n",
       "Linjeflyg                                                 1\n",
       "Aer Arann                                                 1\n",
       "Caribair, S.A.                                            1\n",
       "Middle East Airlines - MEA                                1\n",
       "American Eagle Airlines                                   1\n",
       "Northwest Airlink                                         1\n",
       "Sky Cabs                                                  1\n",
       "ASKY Airlines                                             1\n",
       "Gulf & Caribbean Cargo                                    1\n",
       "AZZA Transport                                            1\n",
       "Braathens SAFE                                            1\n",
       "Occidental Petroleum                                      1\n",
       "ECHO Flight                                               1\n",
       "Air Canada Express                                        1\n",
       "Trishan Air                                               1\n",
       "Minerva Airlines                                          1\n",
       "Smiths Aviation                                           1\n",
       "Krasnoyarskaya Baza Lesoohrani                            1\n",
       "Marsland Aviation                                         1\n",
       "United States Army Air Force - USAAF                      1\n",
       "US Airlines                                               1\n",
       "Tadair                                                    1\n",
       "All Nippon Airways - ANA                                  1\n",
       "Servicios Aéreos Milenio                                  1\n",
       "Cello Aviation                                            1\n",
       "Avita Servicos Aéreos                                     1\n",
       "Private Air Charters                                      1\n",
       "South African Airways - SAA                               1\n",
       "Comair                                                    1\n",
       "Expo Aviation                                             1\n",
       "Air America                                               1\n",
       "Varig                                                     1\n",
       "AKDON                                                     1\n",
       "Piedmont Commuter                                         1\n",
       "International Organization for Migration - IOM            1\n",
       "Air Exec Services                                         1\n",
       "Aerovias Guatemala                                        1\n",
       "Guinee Air Service                                        1\n",
       "Nigeria Airways                                           1\n",
       "Transcontinental & Western Air - TWA                      1\n",
       "Southern Right Air Charter                                1\n",
       "West Air                                                  1\n",
       "Ethiopian Airlines                                        1\n",
       "Channel Express                                           1\n",
       "Malaysian Airways                                         1\n",
       "Freight Air                                               1\n",
       "Türk Hava Yollari - THY                                   1\n",
       "Katanga Express                                           1\n",
       "Panarctic Oils                                            1\n",
       "Dominican Services                                        1\n",
       "LTE International Airways                                 1\n",
       "Democratic Republic of the Congo Government               1\n",
       "Carpatair                                                 1\n",
       "Hoseba                                                    1\n",
       "Southern Sudan Air Connection                             1\n",
       "W. Jackson                                                1\n",
       "Contact Air Flugdienst                                    1\n",
       "Gryphon Airlines                                          1\n",
       "Aspen Airways                                             1\n",
       "Europe Aero Service - EAS                                 1\n",
       "Uzbek Civil Aviation Adminstration                        1\n",
       "Sirte Oil Company                                         1\n",
       "Relief Air Transport                                      1\n",
       "Angolan Government                                        1\n",
       "American Air Transport                                    1\n",
       "Volare Airlines                                           1\n",
       "Alas Nacionales                                           1\n",
       "Aerocosta Colombia                                        1\n",
       "AmericanConnection                                        1\n",
       "Lipetsk Aero Club                                         1\n",
       "RusLine                                                   1\n",
       "Caledonian Airways                                        1\n",
       "Caribbean Atlantic Airlines                               1\n",
       "Resort Airlines                                           1\n",
       "Arizin Ventures, LLC                                      1\n",
       "Air Nostrum                                               1\n",
       "Mandated Airines Ltd. - MAL                               1\n",
       "Trans Australia Airlines - TAA                            1\n",
       "Kuwait Airways                                            1\n",
       "LTU                                                       1\n",
       "Seaboard & Western Airlines                               1\n",
       "Prestige Tours                                            1\n",
       "SOREM - Società Richerche Esperienze Meteorologiche       1\n",
       "OMNI - Aviação e Tecnologia                               1\n",
       "Wien Air Alaska                                           1\n",
       "ROSTO Shahty                                              1\n",
       "British Airways Express                                   1\n",
       "M. Todd                                                   1\n",
       "Aerocom                                                   1\n",
       "Kasernierte Volkspolizei (KVP) Luft                       1\n",
       "Robin Airlines                                            1\n",
       "SISAM - Società Italiana Servizi Aerei Mediterranei       1\n",
       "Faucett                                                   1\n",
       "Iran Air                                                  1\n",
       "Manunggal Air                                             1\n",
       "THY Turkish Airlines                                      1\n",
       "Trans-Asia                                                1\n",
       "Sibaviatrans                                              1\n",
       "Laredo Air                                                1\n",
       "Eastern Air Lines                                         1\n",
       "Air Arabia                                                1\n",
       "Krasnoyarskie Avialinii                                   1\n",
       "Azal Cargo                                                1\n",
       "Libyan Arab Air Force                                     1\n",
       "Air Norway                                                1\n",
       "Linair                                                    1\n",
       "Hughes Charter Air                                        1\n",
       "DHL Aviation                                              1\n",
       "Savanair (Angola)                                         1\n",
       "Xieng Khouang Air Transport                               1\n",
       "Icon Health and Fitness                                   1\n",
       "Coco Aviation                                             1\n",
       "National Iranian Oil Company - NIOC                       1\n",
       "Taban Air                                                 1\n",
       "Gading Sari Aviation Services                             1\n",
       "National Airlines (National Air Cargo)                    1\n",
       "Qantas                                                    1\n",
       "Kam Air                                                   1\n",
       "Name: OperatingFor, dtype: int64"
      ]
     },
     "execution_count": 343,
     "metadata": {},
     "output_type": "execute_result"
    }
   ],
   "source": [
    "data['OperatingFor'].value_counts()"
   ]
  },
  {
   "cell_type": "markdown",
   "metadata": {},
   "source": [
    "### 13. OnBehalfOf - Same as Operating For?"
   ]
  },
  {
   "cell_type": "code",
   "execution_count": 344,
   "metadata": {
    "collapsed": false
   },
   "outputs": [
    {
     "data": {
      "text/plain": [
       "-                                8173\n",
       "U.S. Forest Service                 3\n",
       "Cargo North                         1\n",
       "Swiss International Air Lines       1\n",
       "Continental Express                 1\n",
       "US Department of State              1\n",
       "Air France                          1\n",
       "US Airways Express                  1\n",
       "Northwest Airlink                   1\n",
       "HOP!                                1\n",
       "Name: OnBehalfOf, dtype: int64"
      ]
     },
     "execution_count": 344,
     "metadata": {},
     "output_type": "execute_result"
    }
   ],
   "source": [
    "data['OnBehalfOf'].value_counts()"
   ]
  },
  {
   "cell_type": "markdown",
   "metadata": {},
   "source": [
    "### 22. OperatedBy - Same as OperatingFor?"
   ]
  },
  {
   "cell_type": "code",
   "execution_count": 345,
   "metadata": {
    "collapsed": false
   },
   "outputs": [
    {
     "data": {
      "text/plain": [
       "-                                8173\n",
       "U.S. Forest Service                 3\n",
       "Cargo North                         1\n",
       "Swiss International Air Lines       1\n",
       "Continental Express                 1\n",
       "US Department of State              1\n",
       "Air France                          1\n",
       "US Airways Express                  1\n",
       "Northwest Airlink                   1\n",
       "HOP!                                1\n",
       "Name: OnBehalfOf, dtype: int64"
      ]
     },
     "execution_count": 345,
     "metadata": {},
     "output_type": "execute_result"
    }
   ],
   "source": [
    "data['OnBehalfOf'].value_counts()"
   ]
  },
  {
   "cell_type": "markdown",
   "metadata": {},
   "source": [
    "### 33. Operator - Same as OperatingFor?"
   ]
  },
  {
   "cell_type": "code",
   "execution_count": 346,
   "metadata": {
    "collapsed": false
   },
   "outputs": [
    {
     "data": {
      "text/plain": [
       "United States Air Force - USAF                              462\n",
       "-                                                           288\n",
       "Royal Air Force - RAF                                       253\n",
       "United States Navy                                          247\n",
       "United States Army Air Force - USAAF                        221\n",
       "Luftwaffe                                                    87\n",
       "Air France                                                   62\n",
       "Unknown                                                      49\n",
       "Indian Air Force - IAF                                       47\n",
       "Indian Airlines                                              46\n",
       "Ejército del Aire                                            45\n",
       "L'Armée de L'Air                                             42\n",
       "Deutsche Lufthansa                                           40\n",
       "Soviet Air Force                                             39\n",
       "Eastern Air Lines                                            39\n",
       "American Airlines                                            38\n",
       "Aeroflot                                                     38\n",
       "Aeroflot, Yakutsk Civil Aviation Directorate                 38\n",
       "Avianca                                                      37\n",
       "Imperial Airways                                             36\n",
       "KLM Royal Dutch Airlines                                     34\n",
       "Delta Air Lines                                              34\n",
       "British Overseas Airways Corporation - BOAC                  31\n",
       "Força Aérea Brasileira - FAB                                 29\n",
       "Ethiopian Airlines                                           29\n",
       "Royal Australian Air Force - RAAF                            28\n",
       "private                                                      28\n",
       "Royal Canadian Air Force - RCAF                              27\n",
       "United Air Lines                                             27\n",
       "Aeroflot / Ukraine                                           26\n",
       "VASP - Viação Aérea São Paulo                                26\n",
       "Merpati Nusantara Airlines                                   25\n",
       "LOT Polskie Linie Lotnicze                                   24\n",
       "CSA Ceskoslovenské Aerolinie                                 24\n",
       "Philippine Air Lines                                         23\n",
       "Fuerza Aérea Colombiana                                      23\n",
       "Cubana de Aviación                                           23\n",
       "Iran Air                                                     23\n",
       "Türk Hava Kuvvetleri (Turkish Air Force)                     22\n",
       "Iberia                                                       22\n",
       "China National Aviation Corporation - CNAC                   22\n",
       "Fuerza Aérea Argentina - FAA                                 21\n",
       "Aeroflot, East Siberia Civil Aviation Directorate            21\n",
       "Pakistan International Airlines - PIA                        21\n",
       "Pan American World Airways (Pan Am)                          21\n",
       "Garuda Indonesia Airways                                     20\n",
       "Varig                                                        20\n",
       "Saudi Arabian Airlines                                       19\n",
       "United States Marine Corps                                   19\n",
       "British European Airways - BEA                               19\n",
       "Trans World Airlines - TWA                                   19\n",
       "Aeroflot, Moscow Civil Aviation Directorate                  19\n",
       "South African Air Force - SAAF                               19\n",
       "Zakladu Uslug Agrolotniczych - ZUA                           18\n",
       "Ala Littoria                                                 18\n",
       "National Airlines                                            18\n",
       "Transcontinental & Western Air - TWA                         17\n",
       "Força Aérea Popular de Angola                                17\n",
       "Aeroflot, Privolzhsk Civil Aviation Directorate              17\n",
       "Royal Thai Air Force - RTAF                                  17\n",
       "United Arab Airlines - UAA                                   16\n",
       "Northwest Airlines                                           16\n",
       "Aeroflot, North Kavkaz Civil Aviation Directorate            16\n",
       "Aeroflot, Uralsk Civil Aviation Directorate                  16\n",
       "Sabena                                                       16\n",
       "United States Army                                           15\n",
       "Türk Hava Yollari - THY                                      15\n",
       "Scandinavian Airlines System - SAS                           15\n",
       "Japan Maritime Self Defence Force - JMSDF                    15\n",
       "Transporte Aéreo Militar - TAM                               15\n",
       "Air Algérie                                                  15\n",
       "Aeroflot, West Siberia Civil Aviation Directorate            15\n",
       "Aeronautica Militare Italiana - AMI                          14\n",
       "Marine Luchtvaart Dienst (MLD)                               14\n",
       "Aéronavale                                                   14\n",
       "Linea Aeropostal Venezolana - LAV                            14\n",
       "Al Quwwat al-Jawwiya As-Sudaniya (Sudanese Air Force)        14\n",
       "Fuerza Aérea del Peru - FAP                                  14\n",
       "Lloyd Aéreo Boliviano - LAB                                  14\n",
       "Aerolineas Argentinas                                        14\n",
       "SATENA                                                       14\n",
       "GUSMP, Directorate of Polar Aviation                         13\n",
       "Cruzeiro do Sul                                              13\n",
       "Middle East Airlines - MEA                                   13\n",
       "Continental Air Lines                                        13\n",
       "Pan American Airways (Pan Am)                                13\n",
       "China Airlines                                               13\n",
       "All Nippon Airways - ANA                                     13\n",
       "Lineas Aéreas del Estado - LADE                              13\n",
       "Air-India                                                    12\n",
       "Pan American Grace Airways (Panagra)                         12\n",
       "Air Union (France)                                           12\n",
       "Royal Air Lao                                                12\n",
       "Air America                                                  12\n",
       "CAAC                                                         11\n",
       "Russian Air Force                                            11\n",
       "Tarom                                                        11\n",
       "Aeroflot, Kazakstan Civil Aviation Directorate               11\n",
       "Alitalia                                                     11\n",
       "THY Turkish Airlines                                         11\n",
       "Swissair                                                     11\n",
       "Aeroflot / Uzbekistan                                        11\n",
       "LAN Chile                                                    11\n",
       "Panair do Brasil                                             10\n",
       "Balkan Bulgarian Airlines                                    10\n",
       "Faucett                                                      10\n",
       "British Airways                                              10\n",
       "South African Airways - SAA                                  10\n",
       "Japan Air Lines - JAL                                        10\n",
       "EgyptAir                                                      9\n",
       "Aeroflot, Krasnoyarsk Civil Aviation Directorate              9\n",
       "Capital Airlines                                              9\n",
       "Alaska Airlines                                               9\n",
       "Tentara Nasional Indonesia-AU (Air Force)                     9\n",
       "Pelita Air Service                                            9\n",
       "Polyarnaya Aviatsiya                                          9\n",
       "TAAG Angola Airlines                                          9\n",
       "TAME Ecuador                                                  9\n",
       "Ariana Afghan Airlines                                        9\n",
       "Sudan Airways                                                 9\n",
       "Northwest Orient Airlines                                     9\n",
       "Fuerza Aérea de Chile                                         9\n",
       "Widerøes Flyveselskap                                         9\n",
       "Aeroflot, Northern Civil Aviation Directorate                 9\n",
       "United Airlines                                               9\n",
       "Aeroflot, Far East Civil Aviation Directorate                 9\n",
       "Air Canada                                                    9\n",
       "Canadian Armed Forces                                         8\n",
       "SAHSA - Servicio Aéreo de Honduras SA                         8\n",
       "Transbrasil                                                   8\n",
       "Lufthansa                                                     8\n",
       "Aeroflot / Georgia                                            8\n",
       "Líneas Aéreas de Nicaragua - LANICA                           8\n",
       "Polish Air Force                                              8\n",
       "Fuerza Aérea Revolucionaria                                   8\n",
       "Pacific Western Airlines                                      8\n",
       "Aviación del Ejército Ecuatoriana - AEE                       8\n",
       "Kenn Borek Air                                                8\n",
       "Dai Nippon Koku KK (Imperial Japanese Airways)                8\n",
       "Aeroflot, Central Region Civil Aviation Directorate           8\n",
       "TACA International Airlines                                   7\n",
       "AVENSA                                                        7\n",
       "Fuerza Aérea Mexicana                                         7\n",
       "Imperial Iranian Air Force - IIAF                             7\n",
       "Aeroflot, Magadan Civil Aviation Directorate                  7\n",
       "Aeroflot, International Civil Aviation Directorate            7\n",
       "Piedmont Airlines                                             7\n",
       "Air National Guard                                            7\n",
       "Dan-Air Services                                              7\n",
       "Union of Burma Airways                                        7\n",
       "Aviaco                                                        7\n",
       "Democratic Republic of Afghanistan Air Force (DRAAF)          7\n",
       "Mexicana de Aviación                                          7\n",
       "Alco Aviation                                                 7\n",
       "Paraense Transportes Aéreos                                   7\n",
       "Dirgantara Air Services                                       7\n",
       "Força Aérea Portuguesa                                        7\n",
       "FedEx Express                                                 7\n",
       "Fuerza Aérea Ecuatoriana                                      7\n",
       "Bouraq Indonesia Airlines                                     7\n",
       "Malev Hungarian Airlines                                      6\n",
       "Belgische Luchtmacht                                          6\n",
       "Aeroflot / Turkmenistan                                       6\n",
       "Japan Air Self-Defense Force - JASDF                          6\n",
       "Pacific Southwest Airlines - PSA                              6\n",
       "Aeroflot, Tyumen Civil Aviation Directorate                   6\n",
       "Malaysia Airlines                                             6\n",
       "Hukbong Himpapawid ng Pilipinas (Philippine Air Force)        6\n",
       "SGTA - Société Générale des Transports Aériens                6\n",
       "Aviateca                                                      6\n",
       "Continental Air Services, Inc. - CASI                         6\n",
       "Kuwait Airways                                                6\n",
       "Yemen Air Force                                               6\n",
       "Air Cargo Carriers                                            6\n",
       "Aeroflot / Azerbaijan                                         6\n",
       "Jugoslovenski Aerotransport - JAT                             6\n",
       "United States Army Air Corps - USAAC                          6\n",
       "Aeroflot / Polar                                              6\n",
       "Flying Tiger Line                                             6\n",
       "Canadian Pacific Air Lines - CPAL                             6\n",
       "Aeroflot / Belarus                                            6\n",
       "Trigana Air Service                                           6\n",
       "Southwest Airlines                                            6\n",
       "DOSAAF                                                        6\n",
       "VOTEC Servicios Aéreos Regionais                              6\n",
       "Aigle Azur                                                    6\n",
       "Handley Page Transport                                        6\n",
       "Western Air Lines                                             6\n",
       "Force Aérienne de la République Islamique de Mauritanie       6\n",
       "Thai Airways                                                  6\n",
       "ACES - Aerolineas Centrales de Colombia                       6\n",
       "Armada Argentina, Comando de Aviación Naval                   6\n",
       "Syndicato Condor                                              6\n",
       "Talair                                                        6\n",
       "Antonov Design Bureau                                         6\n",
       "Trans-Canada Air Lines - TCAL                                 6\n",
       "Air Zaire                                                     6\n",
       "Trans Australia Airlines - TAA                                6\n",
       "Canada Department of Transport                                6\n",
       "Republic of China Air Force - ROCAF                           6\n",
       "Iraqi Airways                                                 6\n",
       "TransAsia Airways                                             6\n",
       "Biman Bangladesh Airlines                                     6\n",
       "MIAT - Mongolian Airlines                                     6\n",
       "Singapore Airlines                                            5\n",
       "Reeve Aleutian Airways                                        5\n",
       "Lion Air                                                      5\n",
       "Trans Maldivian Airways                                       5\n",
       "Aeroflot / Tajikistan                                         5\n",
       "Force Aérienne Tchadienne                                     5\n",
       "Ethiopian Air Force                                           5\n",
       "Aeroflot / Armenia                                            5\n",
       "KNILM-Kon. Nederlandsch-Indische Luchtvaart Maatschappij      5\n",
       "Mandala Airlines                                              5\n",
       "Libyan Arab Air Force                                         5\n",
       "Air Tanzania                                                  5\n",
       "British Midland Airways - BMA                                 5\n",
       "Royal Malaysian Air Force - RMAF                              5\n",
       "Loganair                                                      5\n",
       "Hewa Bora Airways                                             5\n",
       "Compagnie Africaine d'Aviation - CAA                          5\n",
       "Pilgrim Airlines                                              5\n",
       "ATESA (Aerotaxis Ecuatorianos SA)                             5\n",
       "Martinaire                                                    5\n",
       "Beechcraft                                                    5\n",
       "Línea Aérea Amaszonas                                         5\n",
       "China Southern Airlines                                       5\n",
       "Slick Airways                                                 5\n",
       "American Airways                                              5\n",
       "Braniff International Airways                                 5\n",
       "Aeronica - Aerolineas Nicaraguenses                           5\n",
       "Procuraduría General de la República (PGR)                    5\n",
       "Eastern Provincial Airways                                    5\n",
       "Elleniki Polemikí Aeroporía                                   5\n",
       "Republic of Korea Air Force - ROKAF                           5\n",
       "USAir                                                         5\n",
       "Qantas                                                        5\n",
       "Neptune Aviation Services                                     5\n",
       "American Eagle Airlines                                       5\n",
       "AREA Ecuador                                                  5\n",
       "Far Eastern Air Transport - FEAT                              5\n",
       "Air Libya                                                     5\n",
       "Frigorifico Reyes                                             5\n",
       "United Parcel Service - UPS                                   5\n",
       "Bali International Air Service                                5\n",
       "Crossair                                                      5\n",
       "Bulgarian Air Force                                           5\n",
       "Aer Lingus                                                    5\n",
       "Nigeria Airways                                               5\n",
       "British South American Airways - BSAA                         5\n",
       "                                                           ... \n",
       "Crown Charter Services                                        1\n",
       "Black Sheep Aviation & Cattle Company                         1\n",
       "TVA - Travel Air SA                                           1\n",
       "Deutsche Versuchsanstalt für Luftfahrt (DVL)                  1\n",
       "Kata Air Transport                                            1\n",
       "British Gulf International Airlines                           1\n",
       "AVCOM - Aviones Comerciales De Guatemala                      1\n",
       "Redec Aviation                                                1\n",
       "Evergreen International Aviation                              1\n",
       "Avia Zov                                                      1\n",
       "Telford Aviation                                              1\n",
       "Lineas Aéreas de los Libertadores                             1\n",
       "Consejo de Recursos Minerales                                 1\n",
       "Downeast Airlines                                             1\n",
       "Jim McGeorge                                                  1\n",
       "O.K. Southwick                                                1\n",
       "Automobil Club Argentino                                      1\n",
       "Meteor Air Transport                                          1\n",
       "Air Central                                                   1\n",
       "Hudson Bay Air Transport                                      1\n",
       "Petroproduccion - Unidad de Aviacion                          1\n",
       "Enterprise General M.Forrest                                  1\n",
       "Clayton V. Curtis                                             1\n",
       "Aero Aysen                                                    1\n",
       "Zapolyarye Airlines                                           1\n",
       "Invicta Bearings (Pty) Ltd                                    1\n",
       "FS Corsair Inc                                                1\n",
       "Transavia Airlines                                            1\n",
       "Malindi Air Services                                          1\n",
       "Lady Lori (Kenya) Ltd                                         1\n",
       "Business Air Connection                                       1\n",
       "Civil Aeronautics Administration                              1\n",
       "Northern Illinois Flight Center                               1\n",
       "Transportes Aéreos de Timor                                   1\n",
       "Simmons Airlines                                              1\n",
       "The Connecticut National Bank                                 1\n",
       "Batik Air                                                     1\n",
       "Air Taxis Inc.                                                1\n",
       "Evolga                                                        1\n",
       "Ansett Airlines of Australia                                  1\n",
       "Aeroflot / Moldova                                            1\n",
       "N67AN Inc.                                                    1\n",
       "Tatmadaw Lei (Myanmar Air Force)                              1\n",
       "Transporturile Aeriene Romano-Sovietice - TARS                1\n",
       "Kyrghyzstan Airlines                                          1\n",
       "Skystream Airlines                                            1\n",
       "Concord Airlines                                              1\n",
       "Alsair                                                        1\n",
       "Avcon Industries                                              1\n",
       "Mass Bay Kustom Leasing                                       1\n",
       "Desert Sand Aircraft Leasing                                  1\n",
       "Excel-Jet                                                     1\n",
       "Command Aviation                                              1\n",
       "Airlines of New South Wales                                   1\n",
       "Nature Air                                                    1\n",
       "Gifford Aviation                                              1\n",
       "Travel Service Airlines                                       1\n",
       "Taxi Aero Centroamericano- TACSA                              1\n",
       "Air Caribbean                                                 1\n",
       "Blue Lines                                                    1\n",
       "Colvin Aviation Inc.                                          1\n",
       "ABA Aviation Resources Inc.                                   1\n",
       "Estramed Spa                                                  1\n",
       "Air Class Líneas Aéreas                                       1\n",
       "North Coast Air Services                                      1\n",
       "ALCI Aviation                                                 1\n",
       "Ngangeni Air Charters                                         1\n",
       "Aero Virgin Islands (AVI)                                     1\n",
       "Star Air A/S                                                  1\n",
       "Provincial Express                                            1\n",
       "Air Indus                                                     1\n",
       "Pan Malaysian Air Transport                                   1\n",
       "Trans Aéreos Cochabamba                                       1\n",
       "Prince V. Bibescu                                             1\n",
       "E. Saltzgeber                                                 1\n",
       "Bush Pilots Airways                                           1\n",
       "Aeroflot, Krasnokutske Flight School of Civil Aviation        1\n",
       "Virazh Ltd                                                    1\n",
       "Aeriantur-M Airlines                                          1\n",
       "Edwin L. Byrd                                                 1\n",
       "MK Air Cargo                                                  1\n",
       "Transcontinental - TSA                                        1\n",
       "Corporate Air                                                 1\n",
       "US Motorsports                                                1\n",
       "Wuhan Airlines                                                1\n",
       "DK&L Company                                                  1\n",
       "Société Indochinoise de Ravitaillement                        1\n",
       "India Civil Aviation Department                               1\n",
       "Inter Atoll Air                                               1\n",
       "Trans Atlantica Argentina                                     1\n",
       "Air Ecosse                                                    1\n",
       "Biafran Government                                            1\n",
       "Nagasaki Airways                                              1\n",
       "Aerolineas Carreras Transportes Aéreos - ACTA                 1\n",
       "Feeder Airlines                                               1\n",
       "Air Parabat                                                   1\n",
       "Bako Air                                                      1\n",
       "IPTN                                                          1\n",
       "Barckley Airlines                                             1\n",
       "Macchi                                                        1\n",
       "Force Aérienne de la République du Mali                       1\n",
       "TAESA                                                         1\n",
       "British Regional Airlines                                     1\n",
       "Ebco Manufacturing Co.                                        1\n",
       "Aero Cabo                                                     1\n",
       "Jim Hankins Air Service                                       1\n",
       "Perris Valley Paracenter                                      1\n",
       "Aérospatiale                                                  1\n",
       "West Aviation                                                 1\n",
       "Thai Smile                                                    1\n",
       "Necon Air                                                     1\n",
       "Aero Zambia                                                   1\n",
       "Aeropanamericano                                              1\n",
       "SAESA - Servicios Aéreos Especiales SA                        1\n",
       "Italair                                                       1\n",
       "Cape York Airlines                                            1\n",
       "Enimex                                                        1\n",
       "Capital Investment Worldwide Inc.                             1\n",
       "Manacá Táxi Aéreo                                             1\n",
       "Boogie Performance                                            1\n",
       "Zhong Fei General Aviation Company (CFGAC)                    1\n",
       "Sabourin Lake Airways                                         1\n",
       "Interamerica Air Lease                                        1\n",
       "Transportes Aéreos Catarinense                                1\n",
       "Nationwide Air Transport Service                              1\n",
       "CIM Associates                                                1\n",
       "Superior Airways                                              1\n",
       "VFW-Fokker                                                    1\n",
       "Uni Air                                                       1\n",
       "Frontier Air                                                  1\n",
       "Aero Trasporti Italiani - ATI                                 1\n",
       "Sun Oil Co                                                    1\n",
       "SOL Líneas Aéreas                                             1\n",
       "James Teng & Sons                                             1\n",
       "CityJet                                                       1\n",
       "DePonti Aviation Company                                      1\n",
       "ASL - Air Service Liege                                       1\n",
       "BWIA International                                            1\n",
       "National Air Operators                                        1\n",
       "Islands of the Bahamas Inc                                    1\n",
       "Azerbaijan Airlines                                           1\n",
       "Samaki Airlines                                               1\n",
       "Air Archipels                                                 1\n",
       "Armée de l'Air Malgache                                       1\n",
       "Kamchatavia                                                   1\n",
       "Uganda Airlines                                               1\n",
       "AirAsia                                                       1\n",
       "Air Sunshine                                                  1\n",
       "Aviaagro                                                      1\n",
       "Viessmann Werke                                               1\n",
       "Advance Airlines                                              1\n",
       "TAG - Transportes Aéreos Guatemaltecos                        1\n",
       "Olympic Aviation                                              1\n",
       "Air Sénégal International                                     1\n",
       "E. Micah Aviation                                             1\n",
       "Air Service                                                   1\n",
       "EAS Airlines                                                  1\n",
       "Sino Swearingen                                               1\n",
       "Inter Island Shipping Inc.                                    1\n",
       "Travelair                                                     1\n",
       "Lignes Aeriennes Congolaises - LAC / CAL                      1\n",
       "Servicios Aéreos de Chiapas                                   1\n",
       "Nürnberger Flugdienst - NFD                                   1\n",
       "TAG Aviation USA                                              1\n",
       "Skyservice Airlines                                           1\n",
       "Perdigao SA Comercio y Industria                              1\n",
       "F & S Contracting                                             1\n",
       "G5 Executive                                                  1\n",
       "Barash Aviation                                               1\n",
       "Romair Inc.                                                   1\n",
       "Ukrainska Shkola Pilotov                                      1\n",
       "Clarks Aerial Service                                         1\n",
       "Airvantage                                                    1\n",
       "Fiji Air                                                      1\n",
       "Kelowna Flightcraft Air Charter                               1\n",
       "Leeward Islands Air Transport - LIAT                          1\n",
       "Agrotekhservice                                               1\n",
       "PGA Tour Investments                                          1\n",
       "Flybe                                                         1\n",
       "Sahel Air Service                                             1\n",
       "Madrid Táxi Aéreo                                             1\n",
       "Southwest Air                                                 1\n",
       "Nepalese Royal Flight                                         1\n",
       "Lebap Aircompany                                              1\n",
       "US Global of Florida                                          1\n",
       "Southeast Airlines                                            1\n",
       "FLA RF                                                        1\n",
       "E.W. Brown                                                    1\n",
       "Navegação Aérea Brasileira - NAB                              1\n",
       "AIM Air                                                       1\n",
       "Inversiones Agropecuarias del Casanare                        1\n",
       "Prince Aviation                                               1\n",
       "Commercial Airways                                            1\n",
       "Britt Airways                                                 1\n",
       "Joel Guinn                                                    1\n",
       "Pine Paper Products Co.                                       1\n",
       "Airblue                                                       1\n",
       "Hanford's Tri-State Airlines                                  1\n",
       "SpiceJet                                                      1\n",
       "Bordeaux Aviation                                             1\n",
       "Sun Air Pacific                                               1\n",
       "DOSAAF, Rostov ATSK                                           1\n",
       "Sierra West Airlines                                          1\n",
       "Skyways International                                         1\n",
       "Medit Air Vuelos Mediterraneo                                 1\n",
       "Sky Escort Aero-Club Hungary                                  1\n",
       "B. Dubois                                                     1\n",
       "Mission Aviation Fellowship                                   1\n",
       "Foreman Flying Service                                        1\n",
       "MAP Kiev MSZ                                                  1\n",
       "Far East Air Transport                                        1\n",
       "Air Carrier Transport                                         1\n",
       "Sabin Air                                                     1\n",
       "Caribbean Aviation                                            1\n",
       "Sud Aviacion                                                  1\n",
       "SASCA Airlines                                                1\n",
       "Dragon Air Leasing Inc.                                       1\n",
       "Gran Propeller                                                1\n",
       "Marchwiel Plant & Engineering                                 1\n",
       "Transair France                                               1\n",
       "Air Kenya                                                     1\n",
       "DB Aviation                                                   1\n",
       "Albarka Air                                                   1\n",
       "Línea Turística Aereotuy - LTA                                1\n",
       "P. Pichay                                                     1\n",
       "Bataafse Petroleum Maatschappij (BPM)                         1\n",
       "Americana de Aviación                                         1\n",
       "Airwork                                                       1\n",
       "Hamburger Flugzeugbau                                         1\n",
       "Digital Equipment Corporation                                 1\n",
       "Associated Airlines of Australia                              1\n",
       "Araiavia                                                      1\n",
       "Transoriente Colombia                                         1\n",
       "Aeronorte Colombia - Aerovias del Norte                       1\n",
       "J & D Aviation CC                                             1\n",
       "GAS Air Nigeria                                               1\n",
       "Continental Air Transport                                     1\n",
       "Norfolk Pacific Aviation                                      1\n",
       "Autoritatea Aeronautica Civila Romana                         1\n",
       "Dagens Nyheter                                                1\n",
       "Força Aérea Nacional Angolana - FANA                          1\n",
       "Moskovia Airlines                                             1\n",
       "ALM - Antillean Airlines                                      1\n",
       "Air Liban                                                     1\n",
       "Yakustk Air Enterprise                                        1\n",
       "Atlantic Air BVI                                              1\n",
       "Two Táxi Aéreo                                                1\n",
       "TAM - Táxi Aéreo Marília                                      1\n",
       "Wabusk Air                                                    1\n",
       "Aer Arann Express                                             1\n",
       "Name: Operator, dtype: int64"
      ]
     },
     "execution_count": 346,
     "metadata": {},
     "output_type": "execute_result"
    }
   ],
   "source": [
    "data['Operator'].value_counts()"
   ]
  },
  {
   "cell_type": "markdown",
   "metadata": {},
   "source": [
    "### These 4 seem the same. Let me look at them to know the difference\n",
    "    - LeasedFrom has 7888 empty values, 283 null values, [10 unique values]\n",
    "        - There are 13 rows with valid Leased from values. In these 3 cases Operator is not provided.\n",
    "    - OnBehalfOf has 7939 empty values, 234 null values [10 unique values]\n",
    "        - There are only 11 valid values. I think I am going to drop this column\n",
    "        - Mostly \n",
    "    - OperatedBy has 7943 empty values, 234 null values [8 unique values]\n",
    "        - When operated By is filled, Operator is not provided. I will merge Operated By and Operator\n",
    "    - OperatingFor has 7868 empty values, 40 null values [183 unique values]\n",
    "        - When operating for is filled, Operator is not provided. I will merge Operated For and Operator\n",
    "    - Operator has only 3 null values [ 2745 unique values]\n",
    "        - Most are null here. I will drop all 3 null values"
   ]
  },
  {
   "cell_type": "code",
   "execution_count": 347,
   "metadata": {
    "collapsed": false,
    "scrolled": false
   },
   "outputs": [
    {
     "name": "stderr",
     "output_type": "stream",
     "text": [
      "/Users/roshanlulu/anaconda3/lib/python3.6/site-packages/pandas/core/generic.py:3295: SettingWithCopyWarning: \n",
      "A value is trying to be set on a copy of a slice from a DataFrame\n",
      "\n",
      "See the caveats in the documentation: http://pandas.pydata.org/pandas-docs/stable/indexing.html#indexing-view-versus-copy\n",
      "  self._update_inplace(new_data)\n"
     ]
    },
    {
     "data": {
      "text/html": [
       "<div>\n",
       "<table border=\"1\" class=\"dataframe\">\n",
       "  <thead>\n",
       "    <tr style=\"text-align: right;\">\n",
       "      <th></th>\n",
       "      <th>OnBehalfOf</th>\n",
       "      <th>OperatedBy</th>\n",
       "      <th>OperatingFor</th>\n",
       "      <th>Operator</th>\n",
       "      <th>LeasedFrom</th>\n",
       "      <th>Date</th>\n",
       "    </tr>\n",
       "  </thead>\n",
       "  <tbody>\n",
       "    <tr>\n",
       "      <th>1527</th>\n",
       "      <td>U.S. Forest Service</td>\n",
       "      <td>-</td>\n",
       "      <td>-</td>\n",
       "      <td>Neptune Aviation Services</td>\n",
       "      <td>-</td>\n",
       "      <td>Saturday 26 June 2010</td>\n",
       "    </tr>\n",
       "    <tr>\n",
       "      <th>1891</th>\n",
       "      <td>U.S. Forest Service</td>\n",
       "      <td>-</td>\n",
       "      <td>-</td>\n",
       "      <td>Neptune Aviation Services</td>\n",
       "      <td>-</td>\n",
       "      <td>Sunday 3 June 2012</td>\n",
       "    </tr>\n",
       "    <tr>\n",
       "      <th>2238</th>\n",
       "      <td>U.S. Forest Service</td>\n",
       "      <td>-</td>\n",
       "      <td>-</td>\n",
       "      <td>Minden Air Corporation</td>\n",
       "      <td>-</td>\n",
       "      <td>Sunday 15 June 2014</td>\n",
       "    </tr>\n",
       "    <tr>\n",
       "      <th>4134</th>\n",
       "      <td>Air France</td>\n",
       "      <td>-</td>\n",
       "      <td>-</td>\n",
       "      <td>TAME Ecuador</td>\n",
       "      <td>-</td>\n",
       "      <td>Monday 20 April 1998</td>\n",
       "    </tr>\n",
       "  </tbody>\n",
       "</table>\n",
       "</div>"
      ],
      "text/plain": [
       "               OnBehalfOf OperatedBy OperatingFor                   Operator  \\\n",
       "1527  U.S. Forest Service          -            -  Neptune Aviation Services   \n",
       "1891  U.S. Forest Service          -            -  Neptune Aviation Services   \n",
       "2238  U.S. Forest Service          -            -     Minden Air Corporation   \n",
       "4134           Air France          -            -               TAME Ecuador   \n",
       "\n",
       "     LeasedFrom                   Date  \n",
       "1527          -  Saturday 26 June 2010  \n",
       "1891          -     Sunday 3 June 2012  \n",
       "2238          -    Sunday 15 June 2014  \n",
       "4134          -   Monday 20 April 1998  "
      ]
     },
     "execution_count": 347,
     "metadata": {},
     "output_type": "execute_result"
    }
   ],
   "source": [
    "test = data[['OnBehalfOf', 'OperatedBy', 'OperatingFor', 'Operator', 'LeasedFrom','Date']]\n",
    "test['OnBehalfOf'].fillna('-',inplace = True)\n",
    "                          \n",
    "test[(test['OnBehalfOf'] != '-') & (test['Operator'] != '-')]\n",
    "# test['OnBehalfOf'].value_counts()"
   ]
  },
  {
   "cell_type": "markdown",
   "metadata": {},
   "source": [
    "#### Operating For and Operator are never empty together. I will merge these 2 values into Operator, assuming it is the same."
   ]
  },
  {
   "cell_type": "code",
   "execution_count": 348,
   "metadata": {
    "collapsed": false,
    "scrolled": false
   },
   "outputs": [
    {
     "name": "stdout",
     "output_type": "stream",
     "text": [
      "8184\n"
     ]
    },
    {
     "data": {
      "text/plain": [
       "8172"
      ]
     },
     "execution_count": 348,
     "metadata": {},
     "output_type": "execute_result"
    }
   ],
   "source": [
    "# Merge \n",
    "operator = []\n",
    "for index, op in enumerate(data['Operator']):\n",
    "    if op == '-':\n",
    "        op = data.ix[index, 'OperatingFor']\n",
    "    else:\n",
    "        pass\n",
    "    operator.append(op)\n",
    "\n",
    "data['Operator'] = operator\n",
    "# After merging there are still 12 columns which dont have operator information\n",
    "# 12 is a small number so I choose to remvoe these rows!\n",
    "# data['Operator'] = [col.replace(' ', '_') for col in ufo.columns]\n",
    "print(len(data))\n",
    "data = data[data['Operator'] != '-']\n",
    "len(data)\n"
   ]
  },
  {
   "cell_type": "markdown",
   "metadata": {},
   "source": [
    "#### Drop the other columns - LeasedFrom,OnBehalfOf, OperatedBy"
   ]
  },
  {
   "cell_type": "code",
   "execution_count": 349,
   "metadata": {
    "collapsed": false
   },
   "outputs": [],
   "source": [
    "# Drop the columns\n",
    "drop_col = ['LeasedFrom', 'OperatedBy', 'OperatingFor', 'OnBehalfOf']\n",
    "data.drop(drop_col, axis = 1, inplace = True)"
   ]
  },
  {
   "cell_type": "code",
   "execution_count": 350,
   "metadata": {
    "collapsed": false,
    "scrolled": false
   },
   "outputs": [
    {
     "data": {
      "text/plain": [
       "(8172, 33)"
      ]
     },
     "execution_count": 350,
     "metadata": {},
     "output_type": "execute_result"
    }
   ],
   "source": [
    "data.shape"
   ]
  },
  {
   "cell_type": "code",
   "execution_count": 351,
   "metadata": {
    "collapsed": false,
    "scrolled": true
   },
   "outputs": [
    {
     "data": {
      "text/plain": [
       "2857"
      ]
     },
     "execution_count": 351,
     "metadata": {},
     "output_type": "execute_result"
    }
   ],
   "source": [
    "# No of Unique Operators - 2857\n",
    "\n",
    "data['Operator'].nunique()\n",
    "# data['Operator'].value_counts()\n",
    "# I amnot changing the operator names now. Once I get the country cleaned up, Then I can group the operators"
   ]
  },
  {
   "cell_type": "code",
   "execution_count": 352,
   "metadata": {
    "collapsed": false
   },
   "outputs": [
    {
     "name": "stdout",
     "output_type": "stream",
     "text": [
      "2748\n"
     ]
    },
    {
     "data": {
      "text/plain": [
       "Air Force                                                   1359\n",
       "Aeroflot                                                     360\n",
       "United States Navy                                           247\n",
       "Luftwaffe                                                     87\n",
       "Air France                                                    62\n",
       "Unknown                                                       49\n",
       "Indian Airlines                                               48\n",
       "Ejército del Aire                                             45\n",
       "L'Armée de L'Air                                              42\n",
       "Deutsche Lufthansa                                            40\n",
       "Eastern Air Lines                                             40\n",
       "American Airlines                                             38\n",
       "Avianca                                                       37\n",
       "Imperial Airways                                              36\n",
       "Delta Air Lines                                               34\n",
       "KLM Royal Dutch Airlines                                      34\n",
       "British Overseas Airways Corporation - BOAC                   31\n",
       "Ethiopian Airlines                                            30\n",
       "Força Aérea Brasileira - FAB                                  29\n",
       "private                                                       28\n",
       "United Air Lines                                              27\n",
       "Saudi Arabian Airlines                                        27\n",
       "VASP - Viação Aérea São Paulo                                 26\n",
       "Merpati Nusantara Airlines                                    25\n",
       "LOT Polskie Linie Lotnicze                                    24\n",
       "Iran Air                                                      24\n",
       "CSA Ceskoslovenské Aerolinie                                  24\n",
       "Cubana de Aviación                                            24\n",
       "Fuerza Aérea Colombiana                                       23\n",
       "Philippine Air Lines                                          23\n",
       "China National Aviation Corporation - CNAC                    22\n",
       "Iberia                                                        22\n",
       "Pan American World Airways (Pan Am)                           21\n",
       "Varig                                                         21\n",
       "Pakistan International Airlines - PIA                         21\n",
       "Fuerza Aérea Argentina - FAA                                  21\n",
       "Garuda Indonesia Airways                                      20\n",
       "Trans World Airlines - TWA                                    19\n",
       "British European Airways - BEA                                19\n",
       "United States Marine Corps                                    19\n",
       "Ala Littoria                                                  18\n",
       "Zakladu Uslug Agrolotniczych - ZUA                            18\n",
       "National Airlines                                             18\n",
       "Transcontinental & Western Air - TWA                          18\n",
       "Força Aérea Popular de Angola                                 17\n",
       "Sabena                                                        16\n",
       "United Arab Airlines - UAA                                    16\n",
       "Northwest Airlines                                            16\n",
       "Türk Hava Yollari - THY                                       16\n",
       "Scandinavian Airlines System - SAS                            15\n",
       "Japan Maritime Self Defence Force - JMSDF                     15\n",
       "Transporte Aéreo Militar - TAM                                15\n",
       "Air Algérie                                                   15\n",
       "FedEx Express                                                 15\n",
       "United States Army                                            15\n",
       "Marine Luchtvaart Dienst (MLD)                                14\n",
       "Aéronavale                                                    14\n",
       "Middle East Airlines - MEA                                    14\n",
       "Aeronautica Militare Italiana - AMI                           14\n",
       "All Nippon Airways - ANA                                      14\n",
       "Aerolineas Argentinas                                         14\n",
       "Fuerza Aérea del Peru - FAP                                   14\n",
       "United Nations - UN                                           14\n",
       "Lloyd Aéreo Boliviano - LAB                                   14\n",
       "SATENA                                                        14\n",
       "Linea Aeropostal Venezolana - LAV                             14\n",
       "China Airlines                                                13\n",
       "Air America                                                   13\n",
       "Lineas Aéreas del Estado - LADE                               13\n",
       "Alitalia                                                      13\n",
       "GUSMP, Directorate of Polar Aviation                          13\n",
       "Continental Air Lines                                         13\n",
       "Pan American Airways (Pan Am)                                 13\n",
       "Cruzeiro do Sul                                               13\n",
       "THY Turkish Airlines                                          12\n",
       "Tarom                                                         12\n",
       "Pan American Grace Airways (Panagra)                          12\n",
       "Air Union (France)                                            12\n",
       "Japan Air Lines - JAL                                         12\n",
       "Air-India                                                     12\n",
       "Royal Air Lao                                                 12\n",
       "South African Airways - SAA                                   11\n",
       "Swissair                                                      11\n",
       "Faucett                                                       11\n",
       "United Express                                                11\n",
       "LAN Chile                                                     11\n",
       "CAAC                                                          11\n",
       "Panair do Brasil                                              10\n",
       "British Airways                                               10\n",
       "Balkan Bulgarian Airlines                                     10\n",
       "United Airlines                                                9\n",
       "Sudan Airways                                                  9\n",
       "Northwest Orient Airlines                                      9\n",
       "Polyarnaya Aviatsiya                                           9\n",
       "EgyptAir                                                       9\n",
       "TAAG Angola Airlines                                           9\n",
       "American Eagle                                                 9\n",
       "TAME Ecuador                                                   9\n",
       "Air Canada                                                     9\n",
       "Alaska Airlines                                                9\n",
       "Pelita Air Service                                             9\n",
       "Widerøes Flyveselskap                                          9\n",
       "Ariana Afghan Airlines                                         9\n",
       "Fuerza Aérea de Chile                                          9\n",
       "Capital Airlines                                               9\n",
       "Líneas Aéreas de Nicaragua - LANICA                            8\n",
       "Aviación del Ejército Ecuatoriana - AEE                        8\n",
       "Pacific Western Airlines                                       8\n",
       "Canadian Armed Forces                                          8\n",
       "Trigana Air Service                                            8\n",
       "Transbrasil                                                    8\n",
       "Kenn Borek Air                                                 8\n",
       "Fuerza Aérea Revolucionaria                                    8\n",
       "Dai Nippon Koku KK (Imperial Japanese Airways)                 8\n",
       "Lufthansa                                                      8\n",
       "SAHSA - Servicio Aéreo de Honduras SA                          8\n",
       "Aviaco                                                         7\n",
       "Trans Australia Airlines - TAA                                 7\n",
       "Fuerza Aérea Mexicana                                          7\n",
       "Piedmont Airlines                                              7\n",
       "Força Aérea Portuguesa                                         7\n",
       "Air National Guard                                             7\n",
       "Dirgantara Air Services                                        7\n",
       "AVENSA                                                         7\n",
       "Bouraq Indonesia Airlines                                      7\n",
       "Union of Burma Airways                                         7\n",
       "Paraense Transportes Aéreos                                    7\n",
       "Fuerza Aérea Ecuatoriana                                       7\n",
       "Mexicana de Aviación                                           7\n",
       "Kuwait Airways                                                 7\n",
       "Delta Connection                                               7\n",
       "Dan-Air Services                                               7\n",
       "TACA International Airlines                                    7\n",
       "Alco Aviation                                                  7\n",
       "DOSAAF                                                         6\n",
       "Aigle Azur                                                     6\n",
       "Qantas                                                         6\n",
       "Japan Air Self-Defense Force - JASDF                           6\n",
       "Pacific Southwest Airlines - PSA                               6\n",
       "ACES - Aerolineas Centrales de Colombia                        6\n",
       "Armada Argentina, Comando de Aviación Naval                    6\n",
       "TransAsia Airways                                              6\n",
       "Western Air Lines                                              6\n",
       "Thai Airways                                                   6\n",
       "Flying Tiger Line                                              6\n",
       "Force Aérienne de la République Islamique de Mauritanie        6\n",
       "Royal Air Maroc - RAM                                          6\n",
       "Nigeria Airways                                                6\n",
       "United States Army Air Corps - USAAC                           6\n",
       "Trans-Canada Air Lines - TCAL                                  6\n",
       "Belgische Luchtmacht                                           6\n",
       "Canadian Pacific Air Lines - CPAL                              6\n",
       "VOTEC Servicios Aéreos Regionais                               6\n",
       "Jugoslovenski Aerotransport - JAT                              6\n",
       "Air Zaire                                                      6\n",
       "Iraqi Airways                                                  6\n",
       "Syndicato Condor                                               6\n",
       "Air Cargo Carriers                                             6\n",
       "Canada Department of Transport                                 6\n",
       "Aviateca                                                       6\n",
       "SGTA - Société Générale des Transports Aériens                 6\n",
       "Talair                                                         6\n",
       "Antonov Design Bureau                                          6\n",
       "MIAT - Mongolian Airlines                                      6\n",
       "American Eagle Airlines                                        6\n",
       "Handley Page Transport                                         6\n",
       "Continental Air Services, Inc. - CASI                          6\n",
       "Biman Bangladesh Airlines                                      6\n",
       "Southwest Airlines                                             6\n",
       "Malev Hungarian Airlines                                       6\n",
       "Malaysia Airlines                                              6\n",
       "Martinaire                                                     5\n",
       "Beechcraft                                                     5\n",
       "Alia Royal Jordanian Airlines                                  5\n",
       "Aeronica - Aerolineas Nicaraguenses                            5\n",
       "Frigorifico Reyes                                              5\n",
       "British South American Airways - BSAA                          5\n",
       "Channel Express                                                5\n",
       "Crossair                                                       5\n",
       "USAir                                                          5\n",
       "Lion Air                                                       5\n",
       "Maritime Central Airways                                       5\n",
       "Force Aérienne Tchadienne                                      5\n",
       "Mandala Airlines                                               5\n",
       "Air Tanzania                                                   5\n",
       "AREA Ecuador                                                   5\n",
       "China Southern Airlines                                        5\n",
       "Airfast Indonesia                                              5\n",
       "British Midland Airways - BMA                                  5\n",
       "Hewa Bora Airways                                              5\n",
       "Reeve Aleutian Airways                                         5\n",
       "Compagnie Africaine d'Aviation - CAA                           5\n",
       "Slick Airways                                                  5\n",
       "Procuraduría General de la República (PGR)                     5\n",
       "Taiwan Airlines                                                5\n",
       "United Parcel Service - UPS                                    5\n",
       "Singapore Airlines                                             5\n",
       "Australian National Airways - ANA                              5\n",
       "Aer Lingus                                                     5\n",
       "ATESA (Aerotaxis Ecuatorianos SA)                              5\n",
       "Neptune Aviation Services                                      5\n",
       "Elleniki Polemikí Aeroporía                                    5\n",
       "Braniff International Airways                                  5\n",
       "Bali International Air Service                                 5\n",
       "Transafrik                                                     5\n",
       "Trans Maldivian Airways                                        5\n",
       "KNILM-Kon. Nederlandsch-Indische Luchtvaart Maatschappij       5\n",
       "American Airways                                               5\n",
       "Far Eastern Air Transport - FEAT                               5\n",
       "Eastern Provincial Airways                                     5\n",
       "Línea Aérea Amaszonas                                          5\n",
       "Aeropesca Colombia                                             5\n",
       "Pilgrim Airlines                                               5\n",
       "Loganair                                                       5\n",
       "Air Libya                                                      5\n",
       "Khmer Hansa Airlines                                           4\n",
       "Transportes Aéreos Peruanos - TAPSA                            4\n",
       "Kalinga Airlines                                               4\n",
       "Air New Zealand                                                4\n",
       "China Eastern Airlines                                         4\n",
       "Transportes Aéreos Litoral                                     4\n",
       "Lynden Air Cargo                                               4\n",
       "Autrex                                                         4\n",
       "USAir Express                                                  4\n",
       "British United Airways - BUA                                   4\n",
       "US Airways                                                     4\n",
       "Companhia Itaú de Transportes Aéreos                           4\n",
       "Air Union                                                      4\n",
       "Airworks                                                       4\n",
       "Aeronaves de México                                            4\n",
       "Libyan Arab Airlines                                           4\n",
       "Aerotaca Colombia - Aerotransportes Casanare                   4\n",
       "Intercontinental de Aviación                                   4\n",
       "Union Aéromaritime de Transport                                4\n",
       "Iraqi Government                                               4\n",
       "Atlas Air                                                      4\n",
       "Royal Nepal Airlines                                           4\n",
       "SkyWest Airlines                                               4\n",
       "Aerotal Colombia                                               4\n",
       "REAL Transportes Aéreos                                        4\n",
       "Aviación Naval Ecuatoriana - ANE                               4\n",
       "Air Méditerranée                                               4\n",
       "Uzbekistan Airways                                             4\n",
       "Air Trek                                                       4\n",
       "Líneas Aéreas del Caribe - LAC Colombia                        4\n",
       "Manunggal Air                                                  4\n",
       "AB Aerotransport                                               4\n",
       "Austral Lineas Aéreas                                          4\n",
       "DETA Moçambique Airlines                                       4\n",
       "Transporte Aéreo Militar - TAM Peru                            4\n",
       "                                                            ... \n",
       "Kata Air Transport                                             1\n",
       "British Gulf International Airlines                            1\n",
       "AVCOM - Aviones Comerciales De Guatemala                       1\n",
       "Redec Aviation                                                 1\n",
       "Evergreen International Aviation                               1\n",
       "Telford Aviation                                               1\n",
       "Consejo de Recursos Minerales                                  1\n",
       "Kyrghyzstan Airlines                                           1\n",
       "Hudson Bay Air Transport                                       1\n",
       "Invicta Bearings (Pty) Ltd                                     1\n",
       "Zapolyarye Airlines                                            1\n",
       "Aero Aysen                                                     1\n",
       "Clayton V. Curtis                                              1\n",
       "Enterprise General M.Forrest                                   1\n",
       "Petroproduccion - Unidad de Aviacion                           1\n",
       "Air Central                                                    1\n",
       "Lady Lori (Kenya) Ltd                                          1\n",
       "Meteor Air Transport                                           1\n",
       "Automobil Club Argentino                                       1\n",
       "O.K. Southwick                                                 1\n",
       "Jim McGeorge                                                   1\n",
       "Aeropanamericano                                               1\n",
       "Lignum Ltd.                                                    1\n",
       "Marsland Aviation                                              1\n",
       "FS Corsair Inc                                                 1\n",
       "Transavia Airlines                                             1\n",
       "Downeast Airlines                                              1\n",
       "Malindi Air Services                                           1\n",
       "Business Air Connection                                        1\n",
       "Civil Aeronautics Administration                               1\n",
       "Northern Illinois Flight Center                                1\n",
       "Transportes Aéreos de Timor                                    1\n",
       "Simmons Airlines                                               1\n",
       "The Connecticut National Bank                                  1\n",
       "Batik Air                                                      1\n",
       "Air Taxis Inc.                                                 1\n",
       "Evolga                                                         1\n",
       "Ansett Airlines of Australia                                   1\n",
       "N67AN Inc.                                                     1\n",
       "E. Marger                                                      1\n",
       "Avia Zov                                                       1\n",
       "TACA de Venezuela                                              1\n",
       "MAP Arsenyev MSZ                                               1\n",
       "Nature Air                                                     1\n",
       "Colvin Aviation Inc.                                           1\n",
       "Blue Lines                                                     1\n",
       "Air Caribbean                                                  1\n",
       "Taxi Aero Centroamericano- TACSA                               1\n",
       "Gifford Aviation                                               1\n",
       "Krasnoyarskaya Baza Lesoohrani                                 1\n",
       "Airlines of New South Wales                                    1\n",
       "Edwin L. Byrd                                                  1\n",
       "Command Aviation                                               1\n",
       "Excel-Jet                                                      1\n",
       "Desert Sand Aircraft Leasing                                   1\n",
       "Mass Bay Kustom Leasing                                        1\n",
       "Avcon Industries                                               1\n",
       "Aeriantur-M Airlines                                           1\n",
       "ABA Aviation Resources Inc.                                    1\n",
       "Alsair                                                         1\n",
       "Estramed Spa                                                   1\n",
       "North Coast Air Services                                       1\n",
       "ALCI Aviation                                                  1\n",
       "Ngangeni Air Charters                                          1\n",
       "Aero Virgin Islands (AVI)                                      1\n",
       "Star Air A/S                                                   1\n",
       "Provincial Express                                             1\n",
       "Air Indus                                                      1\n",
       "Pan Malaysian Air Transport                                    1\n",
       "Trans Aéreos Cochabamba                                        1\n",
       "Prince V. Bibescu                                              1\n",
       "E. Saltzgeber                                                  1\n",
       "Bush Pilots Airways                                            1\n",
       "Kar-Air Finland                                                1\n",
       "Scibe Airlift Cargo Zaire                                      1\n",
       "Air Class Líneas Aéreas                                        1\n",
       "IPTN                                                           1\n",
       "Skystream Airlines                                             1\n",
       "Inter Atoll Air                                                1\n",
       "Feeder Airlines                                                1\n",
       "Aerolineas Carreras Transportes Aéreos - ACTA                  1\n",
       "Nagasaki Airways                                               1\n",
       "LTU                                                            1\n",
       "Air Ecosse                                                     1\n",
       "Trans Atlantica Argentina                                      1\n",
       "India Civil Aviation Department                                1\n",
       "Aero Zambia                                                    1\n",
       "Société Indochinoise de Ravitaillement                         1\n",
       "DK&L Company                                                   1\n",
       "Wuhan Airlines                                                 1\n",
       "US Motorsports                                                 1\n",
       "MK Air Cargo                                                   1\n",
       "Concord Airlines                                               1\n",
       "Cie Dariénitas de Servicios                                    1\n",
       "Transcontinental - TSA                                         1\n",
       "Bako Air                                                       1\n",
       "Barckley Airlines                                              1\n",
       "Macchi                                                         1\n",
       "Gryphon Airlines                                               1\n",
       "Force Aérienne de la République du Mali                        1\n",
       "TAESA                                                          1\n",
       "British Regional Airlines                                      1\n",
       "Ebco Manufacturing Co.                                         1\n",
       "Aero Cabo                                                      1\n",
       "Jim Hankins Air Service                                        1\n",
       "Perris Valley Paracenter                                       1\n",
       "Aérospatiale                                                   1\n",
       "West Aviation                                                  1\n",
       "W. Jackson                                                     1\n",
       "Necon Air                                                      1\n",
       "SAESA - Servicios Aéreos Especiales SA                         1\n",
       "Transportes Aéreos Catarinense                                 1\n",
       "Sud Aviacion                                                   1\n",
       "Manacá Táxi Aéreo                                              1\n",
       "Virazh Ltd                                                     1\n",
       "Sun Oil Co                                                     1\n",
       "Aero Trasporti Italiani - ATI                                  1\n",
       "Medit Air Vuelos Mediterraneo                                  1\n",
       "Nordeste Linhas Aéreas                                         1\n",
       "Capital Investment Worldwide Inc.                              1\n",
       "Boogie Performance                                             1\n",
       "CIM Associates                                                 1\n",
       "Mex-Jet Cargo                                                  1\n",
       "Savanair (Angola)                                              1\n",
       "Zhong Fei General Aviation Company (CFGAC)                     1\n",
       "Sabourin Lake Airways                                          1\n",
       "Cape York Airlines                                             1\n",
       "Interamerica Air Lease                                         1\n",
       "James Teng & Sons                                              1\n",
       "CityJet                                                        1\n",
       "DePonti Aviation Company                                       1\n",
       "ASL - Air Service Liege                                        1\n",
       "BWIA International                                             1\n",
       "National Air Operators                                         1\n",
       "Islands of the Bahamas Inc                                     1\n",
       "Azerbaijan Airlines                                            1\n",
       "Samaki Airlines                                                1\n",
       "Papua New Guinea Defence Force                                 1\n",
       "Comstock International                                         1\n",
       "Air Archipels                                                  1\n",
       "Armée de l'Air Malgache                                        1\n",
       "Kamchatavia                                                    1\n",
       "Uganda Airlines                                                1\n",
       "AirAsia                                                        1\n",
       "Southwest Air                                                  1\n",
       "Nationwide Air Transport Service                               1\n",
       "Regional Airlines                                              1\n",
       "Gulf & Caribbean Cargo                                         1\n",
       "TAG Aviation USA                                               1\n",
       "Barash Aviation                                                1\n",
       "G5 Executive                                                   1\n",
       "Perdigao SA Comercio y Industria                               1\n",
       "Aerial Transit Company                                         1\n",
       "Advance Airlines                                               1\n",
       "Skyservice Airlines                                            1\n",
       "Nürnberger Flugdienst - NFD                                    1\n",
       "Superior Airways                                               1\n",
       "Servicios Aéreos de Chiapas                                    1\n",
       "Lignes Aeriennes Congolaises - LAC / CAL                       1\n",
       "Travelair                                                      1\n",
       "Comair                                                         1\n",
       "Airdine                                                        1\n",
       "Sino Swearingen                                                1\n",
       "Romair Inc.                                                    1\n",
       "Ukrainska Shkola Pilotov                                       1\n",
       "Clarks Aerial Service                                          1\n",
       "Airvantage                                                     1\n",
       "Fiji Air                                                       1\n",
       "Kelowna Flightcraft Air Charter                                1\n",
       "Leeward Islands Air Transport - LIAT                           1\n",
       "PGA Tour Investments                                           1\n",
       "Sahel Air Service                                              1\n",
       "Madrid Táxi Aéreo                                              1\n",
       "F & S Contracting                                              1\n",
       "Golden Star Air Cargo                                          1\n",
       "Viessmann Werke                                                1\n",
       "Aviaagro                                                       1\n",
       "Air Sunshine                                                   1\n",
       "Frontier Air                                                   1\n",
       "Uni Air                                                        1\n",
       "Nepalese Royal Flight                                          1\n",
       "Lebap Aircompany                                               1\n",
       "Gran Propeller                                                 1\n",
       "Prince Aviation                                                1\n",
       "Hanford's Tri-State Airlines                                   1\n",
       "Airblue                                                        1\n",
       "Pine Paper Products Co.                                        1\n",
       "Joel Guinn                                                     1\n",
       "Britt Airways                                                  1\n",
       "Commercial Airways                                             1\n",
       "Inversiones Agropecuarias del Casanare                         1\n",
       "Air Kenya                                                      1\n",
       "M. Todd                                                        1\n",
       "Aerovanguardia                                                 1\n",
       "Navegação Aérea Brasileira - NAB                               1\n",
       "E.W. Brown                                                     1\n",
       "FLA RF                                                         1\n",
       "Southeast Airlines                                             1\n",
       "SpiceJet                                                       1\n",
       "US Global of Florida                                           1\n",
       "Bordeaux Aviation                                              1\n",
       "DOSAAF, Rostov ATSK                                            1\n",
       "Sierra West Airlines                                           1\n",
       "Skyways International                                          1\n",
       "British Airways Express                                        1\n",
       "OMNI - Aviação e Tecnologia                                    1\n",
       "Sky Escort Aero-Club Hungary                                   1\n",
       "B. Dubois                                                      1\n",
       "Mission Aviation Fellowship                                    1\n",
       "Foreman Flying Service                                         1\n",
       "MAP Kiev MSZ                                                   1\n",
       "Far East Air Transport                                         1\n",
       "Air Carrier Transport                                          1\n",
       "Sabin Air                                                      1\n",
       "Caribbean Aviation                                             1\n",
       "SASCA Airlines                                                 1\n",
       "Sun Air Pacific                                                1\n",
       "Dragon Air Leasing Inc.                                        1\n",
       "Marchwiel Plant & Engineering                                  1\n",
       "DB Aviation                                                    1\n",
       "Albarka Air                                                    1\n",
       "Línea Turística Aereotuy - LTA                                 1\n",
       "P. Pichay                                                      1\n",
       "Bataafse Petroleum Maatschappij (BPM)                          1\n",
       "Americana de Aviación                                          1\n",
       "Airwork                                                        1\n",
       "Hamburger Flugzeugbau                                          1\n",
       "Digital Equipment Corporation                                  1\n",
       "Associated Airlines of Australia                               1\n",
       "Araiavia                                                       1\n",
       "MAP Tyumen No. 26                                              1\n",
       "Burmah Oil Company                                             1\n",
       "Transoriente Colombia                                          1\n",
       "Aeronorte Colombia - Aerovias del Norte                        1\n",
       "J & D Aviation CC                                              1\n",
       "GAS Air Nigeria                                                1\n",
       "Continental Air Transport                                      1\n",
       "Norfolk Pacific Aviation                                       1\n",
       "Autoritatea Aeronautica Civila Romana                          1\n",
       "Dagens Nyheter                                                 1\n",
       "Força Aérea Nacional Angolana - FANA                           1\n",
       "Moskovia Airlines                                              1\n",
       "ALM - Antillean Airlines                                       1\n",
       "Air Liban                                                      1\n",
       "Yakustk Air Enterprise                                         1\n",
       "Atlantic Air BVI                                               1\n",
       "Connie Kalitta Services                                        1\n",
       "TAM - Táxi Aéreo Marília                                       1\n",
       "Wabusk Air                                                     1\n",
       "ALAS - Atlantida Linea Aérea Sudamericana                      1\n",
       "Name: Operator, dtype: int64"
      ]
     },
     "execution_count": 352,
     "metadata": {},
     "output_type": "execute_result"
    }
   ],
   "source": [
    "# There are a lot of names here. I want to categorize the airforce ones together for now\n",
    "# Aim is to get something like Airforce\n",
    "# Im nto grouping the other lines, since they can be used to subclassify within a coutnry classification\n",
    "# Remove any text with numbers in it\n",
    "\n",
    "data['Operator'] = ['Aeroflot' if 'Aeroflot' in t \n",
    "                    else 'Air Force' if 'Air Force' in t\n",
    "#                     else 'US Air Force' if 'USAF' in t or 'USAAF' in t or 'United States Navy' in t\n",
    "                else t for t in data['Operator']]\n",
    "print(data['Operator'].nunique())\n",
    "data['Operator'].value_counts()\n",
    " # Use regular expression to remove any text with numbers\n"
   ]
  },
  {
   "cell_type": "markdown",
   "metadata": {},
   "source": [
    "### 16. Nature\n",
    "- Nature of the flight. For passenger flights ‘domestic’  or ‘international’ is added where known. \n",
    "For a full list of flight natures used, see Appendix 3"
   ]
  },
  {
   "cell_type": "code",
   "execution_count": 353,
   "metadata": {
    "collapsed": false
   },
   "outputs": [
    {
     "data": {
      "text/plain": [
       "Military                             2181\n",
       "Domestic Scheduled Passenger         1514\n",
       "Unknown                               958\n",
       "Cargo                                 825\n",
       "International Scheduled Passenger     548\n",
       "-                                     310\n",
       "Domestic Non Scheduled Passenger      308\n",
       "Ferry/positioning                     283\n",
       "Training                              213\n",
       "Executive                             212\n",
       "Int'l Non Scheduled Passenger         147\n",
       "Test                                  111\n",
       "Passenger                              97\n",
       "Agricultural                           71\n",
       "Private                                68\n",
       "Scheduled Passenger                    67\n",
       "Illegal Flight                         59\n",
       "Ambulance                              38\n",
       "Survey/research                        37\n",
       "Parachuting                            34\n",
       "Fire fighting                          24\n",
       "Non Scheduled Passenger                20\n",
       "Official state flight                  19\n",
       "Demonstration                          17\n",
       "Aerial Work (Calibration, Photo)       11\n",
       "Name: Nature, dtype: int64"
      ]
     },
     "execution_count": 353,
     "metadata": {},
     "output_type": "execute_result"
    }
   ],
   "source": [
    "data.reset_index(inplace = True)\n",
    "### Now might be a good time to check the nature of the flight. If that is categorized well\n",
    "data['Nature'].nunique()\n",
    "## There are 25 unique nature of flights\n",
    "\n",
    "## Can this be cleaned further?\n",
    "data['Nature'].value_counts()\n",
    "\n"
   ]
  },
  {
   "cell_type": "code",
   "execution_count": 354,
   "metadata": {
    "collapsed": true
   },
   "outputs": [],
   "source": [
    "# Id like to categorize them as follows into 3 categories.\n",
    "# 0 - Others/Misc\n",
    "# 1 - Passenger Flights\n",
    "# 2 - Military\n",
    "# Adding a new column for Flight_Nature_Code\n",
    "code_list = []\n",
    "for row in range(0, len(data)):\n",
    "    code = 0\n",
    "    nature = data.ix[row, 'Nature']\n",
    "    if 'Military' in nature:\n",
    "        code = 2\n",
    "    elif 'Passenger' in nature:\n",
    "        code = 1\n",
    "    code_list.append(code)\n",
    "data['Nature_Code'] = code_list"
   ]
  },
  {
   "cell_type": "markdown",
   "metadata": {},
   "source": [
    "### 10. Type\n",
    "- Manufacturer and exact model involved in the accident. For Boeing models for instance a (first) customer code is being used. The second and third digits indicate this code. Customer code for Boeing 747-206 is '06', which is KLM. \n",
    "Where possible the name of the manufacturer is used at the time the airplane in question was built. For example, the MD-11 remains “McDonnell Douglas MD-11” and does not become Boeing MD-11 or Boeing (McDD) MD-11.\n",
    "\n",
    "\n",
    "\n",
    "    - Ive reduced it into 27 categories of Type.\n",
    "    - The ones with lesser no of incidents have been grouped together to form a category called Others"
   ]
  },
  {
   "cell_type": "code",
   "execution_count": 355,
   "metadata": {
    "collapsed": false
   },
   "outputs": [],
   "source": [
    "# import re\n",
    "# # remove string with digits in it\n",
    "# def cleanstring(text):\n",
    "#     # split by word\n",
    "#     # check if the word has a number\n",
    "#     # delete word with number\n",
    "#     text = re.sub(\"\\S*\\d\\S*\", \"\", text).strip()\n",
    "#     t = text\n",
    "#     if len(text) > 0:\n",
    "#         t = text.split()\n",
    "#         t = t[0]\n",
    "#     return t\n",
    "\n",
    "# data['Type'] = [cleanstring(t) for t in data['Type']]"
   ]
  },
  {
   "cell_type": "code",
   "execution_count": 356,
   "metadata": {
    "collapsed": false
   },
   "outputs": [
    {
     "name": "stdout",
     "output_type": "stream",
     "text": [
      "27\n"
     ]
    },
    {
     "data": {
      "text/plain": [
       "Douglas           1859\n",
       "Others            1441\n",
       "Antonov            635\n",
       "Boeing             613\n",
       "Lockheed           502\n",
       "de Havilland       356\n",
       "Curtiss            268\n",
       "Cessna             268\n",
       "Beechcraft         232\n",
       "Junkers            228\n",
       "Britten-Norman     183\n",
       "Vickers            171\n",
       "Fokker             152\n",
       "Catalina           151\n",
       "Ilyushin           145\n",
       "Fairchild          139\n",
       "Airbus             135\n",
       "Learjet            127\n",
       "Tupolev             99\n",
       "Ford                98\n",
       "Swearingen          81\n",
       "Embraer             78\n",
       "Lisunov             72\n",
       "Yakovlev            57\n",
       "Sabreliner          41\n",
       "Jetstream           26\n",
       "Bombardier          15\n",
       "Name: Type, dtype: int64"
      ]
     },
     "execution_count": 356,
     "metadata": {},
     "output_type": "execute_result"
    }
   ],
   "source": [
    "data['Type'].value_counts()\n",
    "# data['Type'].nunique()\n",
    "\n",
    "# There are a lot of names here. I want to categorize it by removing the numbers first.\n",
    "# Aim si to get something like Airbus, Douglas, Antonov, Boeing\n",
    "# Remove any text with numbers in it\n",
    "\n",
    "data['Type'] = ['Douglas' if 'Douglas' in t \n",
    "                else 'Antonov' if 'Antonov' in t\n",
    "                else 'Cessna' if 'Cessna' in t\n",
    "                else 'Airbus' if 'Airbus' in t\n",
    "                else 'Boeing' if 'Boeing' in t\n",
    "                else 'Bombardier' if 'Bombardier' in t\n",
    "                else 'Embraer' if 'Embraer' in t\n",
    "                else 'Curtiss' if 'Curtiss' in t\n",
    "                else 'Catalina' if 'Catalina' in t\n",
    "                else 'Learjet' if 'Learjet' in t\n",
    "                else 'Fairchild' if 'Fairchild' in t\n",
    "                else 'Lockheed' if 'Lockheed' in t\n",
    "                else 'Beechcraft' if 'Beechcraft' in t\n",
    "                else 'Britten-Norman' if 'Britten-Norman' in t\n",
    "                else 'Jetstream' if 'Jetstream' in t\n",
    "                else 'Ford' if 'Ford' in t\n",
    "                else 'Yakovlev' if 'Yakovlev' in t\n",
    "                else 'de Havilland' if 'de Havilland' in t\n",
    "                else 'Sabreliner' if 'Sabreliner' in t\n",
    "                else 'Lisunov' if 'Lisunov' in t\n",
    "                else 'Tupolev' if 'Tupolev' in t\n",
    "                else 'Junkers' if 'Junkers' in t\n",
    "                else 'Vickers' if 'Vickers' in t\n",
    "                else 'Fokker' if 'Fokker' in t\n",
    "                else 'Swearingen' if 'Swearingen' in t\n",
    "                else 'Ilyushin' if 'Ilyushin' in t\n",
    "                else 'Others' for t in data['Type']]\n",
    "print(data['Type'].nunique())\n",
    "data['Type'].value_counts()\n",
    " # Use regular expression to remove any text with numbers\n"
   ]
  },
  {
   "cell_type": "code",
   "execution_count": 357,
   "metadata": {
    "collapsed": true
   },
   "outputs": [],
   "source": [
    "## Id like to plot the Aircraft distributions wrt timelines\n",
    "## See the dictibution of aircraft type to airline operator"
   ]
  },
  {
   "cell_type": "code",
   "execution_count": 358,
   "metadata": {
    "collapsed": false
   },
   "outputs": [],
   "source": [
    "# import re\n",
    "\n",
    "\n",
    "# s = \"ABCD abcd AB55 55CD A55D 5555\"\n",
    "# re.sub(\"\\S*\\d\\S*\", \"\", s).strip()"
   ]
  },
  {
   "cell_type": "markdown",
   "metadata": {},
   "source": [
    "### FlightNumber - Verdict: Make it my unique ID.\n",
    "- Flightnumber as assigned to the flight by the operator. They ar esupposed ot be unique values\n",
    "- I am going to randomly assign unique values to it. I wont be retaining the original numbers. It will not make a difference to my data"
   ]
  },
  {
   "cell_type": "code",
   "execution_count": 364,
   "metadata": {
    "collapsed": false
   },
   "outputs": [],
   "source": [
    "# data[['CarrierNumber', 'FlightNumber']]\n",
    "unique_id = [t for t in range(0, len(data))]\n",
    "data['FlightNumber'] = unique_id"
   ]
  },
  {
   "cell_type": "markdown",
   "metadata": {},
   "source": [
    "###  CarrierNumber  - Verdict: Drop it!"
   ]
  },
  {
   "cell_type": "code",
   "execution_count": 360,
   "metadata": {
    "collapsed": false
   },
   "outputs": [],
   "source": [
    "# I dont think carrier number is a useful feature.\n",
    "# Im going to drop the column\n",
    "data.drop('CarrierNumber', axis = 1, inplace = True)"
   ]
  },
  {
   "cell_type": "markdown",
   "metadata": {},
   "source": [
    "### 37. FirstFlight - Is this the Year Built?"
   ]
  },
  {
   "cell_type": "markdown",
   "metadata": {},
   "source": [
    "### 32. Registration\n",
    "- The registrationmark applied on the  the aircaft at the time of the accident. Airplanes involved in some occurrences carried illegal/unofficial registration marks. In these cases the unofficial registration is given."
   ]
  },
  {
   "cell_type": "markdown",
   "metadata": {},
   "source": [
    "### 31. Number\n",
    "- Manufacturer serial number/construction number. Some manufacturers like Boeing and McDonnell Douglas include the line number, preceded by a /. Thus a Boeing 767, c/n 24542/28 means it has construction number 24542, and that it is the 28th B767 off the production line. Construction numbers for each manufacturer are usually unique."
   ]
  },
  {
   "cell_type": "markdown",
   "metadata": {},
   "source": [
    "### 2.Engines\n",
    "- Number and type (model and mark) of engines.\n"
   ]
  },
  {
   "cell_type": "code",
   "execution_count": null,
   "metadata": {
    "collapsed": true
   },
   "outputs": [],
   "source": []
  },
  {
   "cell_type": "code",
   "execution_count": null,
   "metadata": {
    "collapsed": true
   },
   "outputs": [],
   "source": []
  },
  {
   "cell_type": "markdown",
   "metadata": {},
   "source": [
    "## Feature Category Fatalities"
   ]
  },
  {
   "cell_type": "markdown",
   "metadata": {},
   "source": [
    "### 7. Crew\n",
    "- Exact number of flight- and cabincrew members aboard the aircraft at the time of departure, and number of passengers fatally injured as a direct result of the accident. An injury is classified as fatal if death results from the injury within 30 days from the date of the accident (ICAO) Deadheading crewmembers are judged 'passengers'.\n"
   ]
  },
  {
   "cell_type": "markdown",
   "metadata": {},
   "source": [
    "### 14. TotalFatalities"
   ]
  },
  {
   "cell_type": "markdown",
   "metadata": {},
   "source": [
    "### 21. Passengers\n",
    "- Number of passengers aboard the aircraft at the time of departure, and number of passengers fatally injured as a direct result of the accident. \n",
    "An injury is classified as fatal if death results from the injury within 30 days from the date of the accident (ICAO)\n",
    "Total:\tNumber of occupants (crew + passengers) aboard the aircraft at the time of the accident, and number of occupants fatally injured as a direct result of the accident. An injury is classified as fatal if death results from the injury within 30 days from the date of the accident (ICAO).\n"
   ]
  },
  {
   "cell_type": "code",
   "execution_count": null,
   "metadata": {
    "collapsed": true
   },
   "outputs": [],
   "source": []
  },
  {
   "cell_type": "markdown",
   "metadata": {},
   "source": [
    "### 11. GroundCasualities\n",
    "- Number of fatalities on the ground as a direct result of the occurrence. Ground casualties exclude fatalities as a result of an airplane collision on the ground.\n",
    "See also: Collision casualties\n"
   ]
  },
  {
   "cell_type": "markdown",
   "metadata": {},
   "source": [
    "### 36. CollisionCasualties\n",
    "- Number of fatalities aboard other aircraft involved in collision accidents."
   ]
  },
  {
   "cell_type": "code",
   "execution_count": null,
   "metadata": {
    "collapsed": true
   },
   "outputs": [],
   "source": []
  },
  {
   "cell_type": "markdown",
   "metadata": {},
   "source": [
    "## Feature Category Crash Details"
   ]
  },
  {
   "cell_type": "markdown",
   "metadata": {},
   "source": [
    "### 3. CrashSiteElevation"
   ]
  },
  {
   "cell_type": "markdown",
   "metadata": {},
   "source": [
    "### 20. Phase\n",
    "- Phase of flight. The flight phases are in accordance with the broad phases defined by the CAST/ICAO Common Taxonomy Team (CICTT), as laid down in the Phase of Flight Definitions document (October, 2002)"
   ]
  },
  {
   "cell_type": "markdown",
   "metadata": {},
   "source": [
    "### 4. Duration - Same as Total airframe hours?"
   ]
  },
  {
   "cell_type": "markdown",
   "metadata": {},
   "source": [
    "### 5. Narrative\n",
    "- Description of the occurrence.\n"
   ]
  },
  {
   "cell_type": "markdown",
   "metadata": {},
   "source": [
    "### 25. Date\n",
    "- Date of occurrence (local time), format DD MMM YYYY. DD or MMM becomes XX or XXX if the exact day or month of an occurrence is unknown."
   ]
  },
  {
   "cell_type": "markdown",
   "metadata": {},
   "source": [
    "### 29. DepartureAirport\n",
    "- Last airport of departure before the accident (between brackets if known the IATA airport code)."
   ]
  },
  {
   "cell_type": "markdown",
   "metadata": {},
   "source": [
    "### 23. DestinationAirport\n",
    "- Scheduled destination airport. In case of diversions, the intended destination airport is given (between brackets if known the IATA airport code).\n"
   ]
  },
  {
   "cell_type": "markdown",
   "metadata": {},
   "source": [
    "### 17. AirplaneDamage\n",
    "- Describes the amount of damage to the airplane as a result of the occurrence. Possible values are: Written off (See also: Definitions), Substantial, Minor, None, and Unknown.\n"
   ]
  },
  {
   "cell_type": "markdown",
   "metadata": {},
   "source": [
    "### 26. Time\n",
    "- Time of the accident – local time."
   ]
  },
  {
   "cell_type": "markdown",
   "metadata": {},
   "source": [
    "### 35. AirplaneFate\n",
    "- Describes the amount of damage to the airplane as a result of the occurrence. Possible values are: Written off (See also: Definitions), Substantial, Minor, None, and Unknown.\n"
   ]
  },
  {
   "cell_type": "markdown",
   "metadata": {},
   "source": [
    "### 15. TotalAirFrameHrs - What is this?\n",
    "- Total airframe hours at the time of the accident."
   ]
  },
  {
   "cell_type": "markdown",
   "metadata": {},
   "source": [
    "### 27. Cycles - What category to put this ?\n",
    "- Total number of take-offs and landings at the time of the accident.\n"
   ]
  },
  {
   "cell_type": "markdown",
   "metadata": {},
   "source": [
    "### 8. Location\n",
    "- Location of the incident"
   ]
  },
  {
   "cell_type": "code",
   "execution_count": null,
   "metadata": {
    "collapsed": true
   },
   "outputs": [],
   "source": []
  },
  {
   "cell_type": "markdown",
   "metadata": {},
   "source": [
    "## Feature Category - Investigation results"
   ]
  },
  {
   "cell_type": "markdown",
   "metadata": {},
   "source": [
    "### 28. DownloadReport - What is this?"
   ]
  },
  {
   "cell_type": "markdown",
   "metadata": {},
   "source": [
    "### 30. Issued -When was report issued?"
   ]
  },
  {
   "cell_type": "markdown",
   "metadata": {},
   "source": [
    "### 18. Released"
   ]
  },
  {
   "cell_type": "markdown",
   "metadata": {},
   "source": [
    "### 12. Status\n",
    "- Status of the information. Final means that the official final investigation report was used to compile the accident description. Preliminary- Official means that the official preliminary investigation report was used and Preliminary means press information and other unofficial information was used.\n"
   ]
  },
  {
   "cell_type": "markdown",
   "metadata": {},
   "source": [
    "### 34. DurationOfInvestigation"
   ]
  },
  {
   "cell_type": "markdown",
   "metadata": {},
   "source": [
    "### 9. InvestigatingAgency"
   ]
  },
  {
   "cell_type": "code",
   "execution_count": null,
   "metadata": {
    "collapsed": false
   },
   "outputs": [],
   "source": [
    "data['Date'] = [d.split()[-1] for d in data['Date']]"
   ]
  },
  {
   "cell_type": "code",
   "execution_count": null,
   "metadata": {
    "collapsed": false
   },
   "outputs": [],
   "source": [
    "data = data[data['Date'] != 'unk']"
   ]
  },
  {
   "cell_type": "code",
   "execution_count": null,
   "metadata": {
    "collapsed": true
   },
   "outputs": [],
   "source": [
    "data = data[data['Date'] != 'unk.']"
   ]
  },
  {
   "cell_type": "code",
   "execution_count": null,
   "metadata": {
    "collapsed": true
   },
   "outputs": [],
   "source": [
    "data = data[data['Date'] != '195.']"
   ]
  },
  {
   "cell_type": "code",
   "execution_count": null,
   "metadata": {
    "collapsed": true
   },
   "outputs": [],
   "source": [
    "data = data[data['Date'] != '197x']"
   ]
  },
  {
   "cell_type": "code",
   "execution_count": null,
   "metadata": {
    "collapsed": true
   },
   "outputs": [],
   "source": [
    "import re"
   ]
  },
  {
   "cell_type": "code",
   "execution_count": null,
   "metadata": {
    "collapsed": false
   },
   "outputs": [],
   "source": [
    "test  = 'ABs9'\n",
    "print(re.match(\"[0-9]\", test))"
   ]
  },
  {
   "cell_type": "code",
   "execution_count": null,
   "metadata": {
    "collapsed": false
   },
   "outputs": [],
   "source": [
    "import re\n",
    "\n",
    "data['Date'] = [0 if (re.match(\"[0-9]\", d)) == None else int(d) for d in data['Date']]"
   ]
  },
  {
   "cell_type": "code",
   "execution_count": null,
   "metadata": {
    "collapsed": false
   },
   "outputs": [],
   "source": [
    "# data = data[data['Date'] > 1980]"
   ]
  },
  {
   "cell_type": "code",
   "execution_count": null,
   "metadata": {
    "collapsed": false
   },
   "outputs": [],
   "source": [
    "data.shape"
   ]
  },
  {
   "cell_type": "code",
   "execution_count": null,
   "metadata": {
    "collapsed": false
   },
   "outputs": [],
   "source": [
    "checknullcount(data)"
   ]
  },
  {
   "cell_type": "code",
   "execution_count": null,
   "metadata": {
    "collapsed": false
   },
   "outputs": [],
   "source": [
    "data['Nature'].value_counts()"
   ]
  },
  {
   "cell_type": "code",
   "execution_count": null,
   "metadata": {
    "collapsed": true
   },
   "outputs": [],
   "source": []
  }
 ],
 "metadata": {
  "kernelspec": {
   "display_name": "Python 3",
   "language": "python",
   "name": "python3"
  },
  "language_info": {
   "codemirror_mode": {
    "name": "ipython",
    "version": 3
   },
   "file_extension": ".py",
   "mimetype": "text/x-python",
   "name": "python",
   "nbconvert_exporter": "python",
   "pygments_lexer": "ipython3",
   "version": "3.6.0"
  }
 },
 "nbformat": 4,
 "nbformat_minor": 2
}
