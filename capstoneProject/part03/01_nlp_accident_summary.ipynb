{
 "cells": [
  {
   "cell_type": "markdown",
   "metadata": {
    "collapsed": true
   },
   "source": [
    "# <span style='color:#551a8b'>Aviation Accident Analytics - Capstone Part 3</span>\n",
    "## <span style='color:#551a8b'>Submitted by - Roshan Lulu</span>\n",
    "\n",
    "\n",
    "\n",
    "#### Text analytics and Modelling\n",
    "![Narrative Analytics](http://firsteigen.com/wp-content/uploads/2015/09/text-visual.jpg)"
   ]
  },
  {
   "cell_type": "markdown",
   "metadata": {},
   "source": [
    "## Introduction\n",
    "- In this Notebook I will be analyzing the accident summary in the dataset.\n",
    "- Along with analysing the patterns in accidents based on different features, it would be interesting to classify the incidents based on the narrative."
   ]
  },
  {
   "cell_type": "markdown",
   "metadata": {},
   "source": [
    "## A. Import Dataset\n",
    "- The raw dataset was from aviation.net was cleaned during the data munging and exploratory data analysis phase. \n",
    "- I will be reading in the cleaned version of the dataset here to have a look at the **Narrative** feature"
   ]
  },
  {
   "cell_type": "code",
   "execution_count": 6,
   "metadata": {
    "collapsed": true
   },
   "outputs": [],
   "source": [
    "import pandas as pd\n",
    "import numpy as np\n",
    "\n",
    "import seaborn as sns\n",
    "sns.set(font_scale=1.5)\n",
    "\n",
    "import matplotlib.pyplot as plt\n",
    "%matplotlib inline\n",
    "\n",
    "pd.set_option('display.max_rows', 50)\n",
    "pd.set_option('display.max_columns', 50)"
   ]
  },
  {
   "cell_type": "code",
   "execution_count": 17,
   "metadata": {
    "collapsed": true
   },
   "outputs": [],
   "source": [
    "path = './dataset/01_aviation_cleaned.csv'"
   ]
  },
  {
   "cell_type": "code",
   "execution_count": 18,
   "metadata": {
    "collapsed": true
   },
   "outputs": [],
   "source": [
    "data = pd.read_csv(path)"
   ]
  },
  {
   "cell_type": "code",
   "execution_count": 20,
   "metadata": {
    "collapsed": false
   },
   "outputs": [
    {
     "data": {
      "text/html": [
       "<div>\n",
       "<table border=\"1\" class=\"dataframe\">\n",
       "  <thead>\n",
       "    <tr style=\"text-align: right;\">\n",
       "      <th></th>\n",
       "      <th>Engines</th>\n",
       "      <th>Narrative</th>\n",
       "      <th>FlightNumber</th>\n",
       "      <th>InvestigatingAgency</th>\n",
       "      <th>Status</th>\n",
       "      <th>Nature</th>\n",
       "      <th>AirplaneDamage</th>\n",
       "      <th>Phase</th>\n",
       "      <th>DestinationAirport</th>\n",
       "      <th>Date</th>\n",
       "      <th>Time</th>\n",
       "      <th>DepartureAirport</th>\n",
       "      <th>Operator</th>\n",
       "      <th>DurationOfInvestigation</th>\n",
       "      <th>AirplaneFate</th>\n",
       "      <th>FirstFlight</th>\n",
       "      <th>Nature_Code</th>\n",
       "      <th>Type_Code</th>\n",
       "      <th>Engine_Type</th>\n",
       "      <th>Engine_count</th>\n",
       "      <th>Crew_Fatal</th>\n",
       "      <th>Crew_Occ</th>\n",
       "      <th>Total_Fatal</th>\n",
       "      <th>Total_Occ</th>\n",
       "      <th>Psngr_Fatal</th>\n",
       "      <th>Psngr_Occ</th>\n",
       "      <th>GndFatal</th>\n",
       "      <th>Coll_Fatal</th>\n",
       "      <th>Crash_Elev_m</th>\n",
       "      <th>Day</th>\n",
       "      <th>Month</th>\n",
       "      <th>Year</th>\n",
       "      <th>Dep_Airport_1</th>\n",
       "      <th>Dest_Airport_1</th>\n",
       "      <th>SubLocation</th>\n",
       "      <th>Country</th>\n",
       "      <th>Age</th>\n",
       "      <th>Location_latlon</th>\n",
       "    </tr>\n",
       "  </thead>\n",
       "  <tbody>\n",
       "    <tr>\n",
       "      <th>0</th>\n",
       "      <td>NaN</td>\n",
       "      <td>The Peruvian Metro 23 was apparently involved ...</td>\n",
       "      <td>0</td>\n",
       "      <td>NaN</td>\n",
       "      <td>NaN</td>\n",
       "      <td>Military</td>\n",
       "      <td>Damaged beyond repair</td>\n",
       "      <td>Unknown (UNK)</td>\n",
       "      <td>?</td>\n",
       "      <td>0</td>\n",
       "      <td>NaN</td>\n",
       "      <td>?</td>\n",
       "      <td>Fuerza Aérea del Peru - FAP</td>\n",
       "      <td>NaN</td>\n",
       "      <td>NaN</td>\n",
       "      <td>1992</td>\n",
       "      <td>Military</td>\n",
       "      <td>Swearingen</td>\n",
       "      <td>NaN</td>\n",
       "      <td>NaN</td>\n",
       "      <td>0</td>\n",
       "      <td>0</td>\n",
       "      <td>0</td>\n",
       "      <td>0</td>\n",
       "      <td>0</td>\n",
       "      <td>0</td>\n",
       "      <td>0</td>\n",
       "      <td>0</td>\n",
       "      <td>0</td>\n",
       "      <td>xx</td>\n",
       "      <td>xxx</td>\n",
       "      <td>0</td>\n",
       "      <td>?</td>\n",
       "      <td>?</td>\n",
       "      <td>unknown</td>\n",
       "      <td>Peru</td>\n",
       "      <td>0</td>\n",
       "      <td>(-9.189967, -75.015152)</td>\n",
       "    </tr>\n",
       "    <tr>\n",
       "      <th>1</th>\n",
       "      <td>1 BMW VI</td>\n",
       "      <td>Reportedly damaged beyond repair.</td>\n",
       "      <td>1</td>\n",
       "      <td>NaN</td>\n",
       "      <td>NaN</td>\n",
       "      <td>Cargo</td>\n",
       "      <td>Damaged beyond repair</td>\n",
       "      <td>Unknown (UNK)</td>\n",
       "      <td>?</td>\n",
       "      <td>0</td>\n",
       "      <td>NaN</td>\n",
       "      <td>?</td>\n",
       "      <td>Deutsche Lufthansa</td>\n",
       "      <td>NaN</td>\n",
       "      <td>NaN</td>\n",
       "      <td>1925</td>\n",
       "      <td>Cargo</td>\n",
       "      <td>Junkers</td>\n",
       "      <td>BMW</td>\n",
       "      <td>1.0</td>\n",
       "      <td>0</td>\n",
       "      <td>0</td>\n",
       "      <td>0</td>\n",
       "      <td>0</td>\n",
       "      <td>0</td>\n",
       "      <td>0</td>\n",
       "      <td>0</td>\n",
       "      <td>0</td>\n",
       "      <td>0</td>\n",
       "      <td>xx</td>\n",
       "      <td>xxx</td>\n",
       "      <td>1935</td>\n",
       "      <td>?</td>\n",
       "      <td>?</td>\n",
       "      <td>at an unknown location</td>\n",
       "      <td>Germany</td>\n",
       "      <td>10</td>\n",
       "      <td>(51.165691, 10.451526)</td>\n",
       "    </tr>\n",
       "  </tbody>\n",
       "</table>\n",
       "</div>"
      ],
      "text/plain": [
       "     Engines                                          Narrative  FlightNumber  \\\n",
       "0        NaN  The Peruvian Metro 23 was apparently involved ...             0   \n",
       "1   1 BMW VI                  Reportedly damaged beyond repair.             1   \n",
       "\n",
       "  InvestigatingAgency Status    Nature          AirplaneDamage  \\\n",
       "0                 NaN    NaN  Military   Damaged beyond repair   \n",
       "1                 NaN    NaN     Cargo   Damaged beyond repair   \n",
       "\n",
       "            Phase DestinationAirport  Date Time DepartureAirport  \\\n",
       "0   Unknown (UNK)                  ?     0  NaN                ?   \n",
       "1   Unknown (UNK)                  ?     0  NaN                ?   \n",
       "\n",
       "                      Operator DurationOfInvestigation AirplaneFate  \\\n",
       "0  Fuerza Aérea del Peru - FAP                     NaN          NaN   \n",
       "1           Deutsche Lufthansa                     NaN          NaN   \n",
       "\n",
       "   FirstFlight Nature_Code   Type_Code Engine_Type  Engine_count  Crew_Fatal  \\\n",
       "0         1992    Military  Swearingen         NaN           NaN           0   \n",
       "1         1925       Cargo     Junkers         BMW           1.0           0   \n",
       "\n",
       "   Crew_Occ  Total_Fatal  Total_Occ  Psngr_Fatal  Psngr_Occ  GndFatal  \\\n",
       "0         0            0          0            0          0         0   \n",
       "1         0            0          0            0          0         0   \n",
       "\n",
       "   Coll_Fatal  Crash_Elev_m Day Month  Year Dep_Airport_1 Dest_Airport_1  \\\n",
       "0           0             0  xx   xxx     0             ?              ?   \n",
       "1           0             0  xx   xxx  1935             ?              ?   \n",
       "\n",
       "              SubLocation  Country  Age          Location_latlon  \n",
       "0                 unknown     Peru    0  (-9.189967, -75.015152)  \n",
       "1  at an unknown location  Germany   10   (51.165691, 10.451526)  "
      ]
     },
     "execution_count": 20,
     "metadata": {},
     "output_type": "execute_result"
    }
   ],
   "source": [
    "data.head(2)"
   ]
  },
  {
   "cell_type": "markdown",
   "metadata": {},
   "source": [
    "## Natural Language Processing"
   ]
  },
  {
   "cell_type": "markdown",
   "metadata": {},
   "source": [
    "## B. Text Pre-Processing - Noise Removal\n",
    "\n",
    "** Text is one of the most unstructured forms of data and Noise removal is a very important step before any data can be analysed. So is the case for text.**\n",
    "\n",
    "**Noise is information that either corrupts your data or is not useful. Below are some of the common forms of noise in text and that I will be employing going ahead:**\n",
    "\n",
    "**1. Stop words are the most commonly used words in a language. i.e the words that do not convey meaniful information if on its own. eg: The, A, An, Is, for etc**\n",
    "\n",
    "\n",
    "**2. Punctuations also do not convey any information from an analytics point of view. Hence, it can also be considered as Noise.**\n",
    "\n",
    "#### <span style='color:#990000'>Noise(text) = Stopwords(text language) + Punctuation(text)</span>"
   ]
  },
  {
   "cell_type": "code",
   "execution_count": 31,
   "metadata": {
    "collapsed": false
   },
   "outputs": [],
   "source": [
    "# Import library \n",
    "from sklearn.feature_extraction.text import CountVectorizer\n",
    "from nltk.stem.porter import PorterStemmer\n",
    "from nltk.stem.wordnet import WordNetLemmatizer\n",
    "from nltk.corpus import stopwords\n",
    "from gensim import corpora, models, matutils\n",
    "from collections import defaultdict\n",
    "import string\n",
    "from nltk import word_tokenize \n",
    "import pycountry"
   ]
  },
  {
   "cell_type": "markdown",
   "metadata": {},
   "source": [
    "**This is a live stop word listt that I will be iteratively updating. It is a challenge when dealing with unstructured text.**\n",
    "\n",
    "My list will consist of:\n",
    "- English stop words\n",
    "- Country name stop words\n",
    "- Common aviation terms like airplane, airline etc"
   ]
  },
  {
   "cell_type": "code",
   "execution_count": 64,
   "metadata": {
    "collapsed": true
   },
   "outputs": [],
   "source": [
    "# Creating stop words database for all the numbers\n",
    "stop = stopwords.words('english')\n",
    "stop += ['00', '000', '01', '02', '03', '04', '04r', '05', '050', '05l', '05r', '06', '06r', '07', '08', '080', '09', '09r', '10', '100', '1000', '10000', '102', '103', '104', '1049', '105', '106', '107', '108', '109', '10deg', '10l', '11', '110', '1100', '111', '111f', '112', '113', '114', '115', '116', '117', '118', '118a', '119', '11f', '11s', '12', '120', '1200', '12000', '121', '361', '376','122', '123', '124', '124c', '125', '128', '129', '12bk', '13', '130', '1300', '130b', '130e', '130h', '130j', '131', '133', '134', '135', '135a', '139', '13l', '14', '140', '1400', '141', '1420', '145', '14500', '146', '148', '15', '150', '1500', '153', '154', '157', '158', '159', '15deg', '16', '160', '1600', '163', '165', '166', '168', '16r', '17', '170', '1700', '172', '175', '1750', '17l', '18', '180', '1800', '180deg', '185', '188', '19', '190', '1900', '1900c', '1900d', '191', '1936', '1938', '1940', '1941', '1942', '1943', '1944', '1945', '1948', '1949', '1950', '1951', '1953', '1954', '1955', '1957', '1963', '1964', '1966', '1968', '1969', '1972', '1973', '1974', '1978', '1979', '1980', '1981', '1982', '1983', '1985', '1986', '1988', '1990', '1991', '1992', '1993', '1994', '1997', '1998', '1999', '19r', '1a', '1a10', '1st', '20', '200', '2000', '2001', '2002', '2003', '2004', '2005', '2006', '2007', '200c', '201', '2011', '2013', '2015', '202', '203', '2050', '207', '208', '208b', '20deg', '21', '210', '211', '212', '215', '22', '220', '2200', '222', '225', '227', '228', '22l', '23', '230', '2300', '232', '235', '24', '240', '2400', '241', '242', '24b', '24l', '24r', '24rv', '25', '250', '2500', '25l', '26', '260', '265', '266', '26b', '26l', '27', '270', '2700', '27l', '27r', '28', '280', '2800', '285', '28l', '28r', '29', '290', '29l', '2a', '2r', '2t', '30', '300', '3000', '304', '306', '30deg', '31', '310', '31242', '31243', '314', '315', '31l', '31r', '32', '320', '3200', '320o', '322', '325', '328', '32l', '32r', '33', '330', '3300', '330o', '336', '338', '33l', '34', '340', '340b', '340o', '345', '35', '350', '3500', '350o', '35a', '35l', '36', '360', '3600', '37', '38', '39', '390', '3a', '3c', '3deg', '3m', '3mge', '3t', '40', '400', '4000', '41', '410', '410uvp', '42', '420', '4200', '43', '430', '436', '44', '440', '45', '450', '4500', '45deg', '46', '46d', '47', '470', '4700', '47a', '47b', '47d', '47s', '48', '49', '50', '500', '5000', '501', '504', '50832', '50deg', '51', '52', '525', '53', '54', '5400', '55', '550', '5500', '56', '57', '58', '580', '59', '5a', '5h', '5n', '5nm', '5y', '60', '600', '6000', '601', '61', '610', '62', '620', '63', '631', '64', '640', '65', '650', '6500', '66', '67', '68', '6a', '6e', '70', '700', '7000', '707', '71', '710', '72', '720', '725', '727', '73', '737', '74', '747', '748', '75', '750', '7500', '756', '757', '76', '767', '767s', '76md', '770', '777', '78', '78505', '7nm', '80', '800', '8000', '801', '81', '811', '812', '82', '8235', '8241', '82a', '83', '84', '85', '850', '8500', '86', '87', '88', '8807', '89', '8q', '8th', '90', '900', '9000', '90deg', '91', '910', '92', '93', '931', '94', '95', '96', '97', '98', '99', '990', '9k', '9n', '9q', 'a100', 'a300', 'a310', 'a319', 'a320', 'a321', 'a330', 'a6m2', 'aa', 'aaa', 'aab', 'aaf', 'ab', 'ababa']\n",
    "stop += ['08r', '1009', '101', '1011', '104b', '144', '21st', '221', '22285', '231', '23l', '300yds', '301', '3100', '318', '319', '31de', '321', '321b', '324', '3277', '33666', '33r', '380', '3800', '395', '39a', '3mce', '400a', '402q', '40563', '40deg', '415', '42e', '42w', '4300', '451', '460', '701', '702', '712', '730', '740', '75a', '76td', '7700', '775', '780', '78270', '78462', '785', '797', '800xp', '823', '841', '8as', '8r', '901', '919', '920', '926', '980', '9j', '9l', '9m']\n",
    "stop += ['675','680','6800','6b', '000ft']\n",
    "stop += ['airport', 'airplane','aircraft', 'approach',\n",
    " 'crashed','crew','feet','flight','following','main','members','near','one','operated','passenger','passengers','plane','runway','struck','substantial','sustained','three','took','two','boeing','dc','due','beyond',\n",
    " 'damaged','b200','repair', 'miles', 'km', 'air', 'lines', 'departed', 'abort', 'takeoff', 'landing', 'reported', 'airline', 'captain'\n",
    " ]\n",
    "stop += ['001', '0014', '002', '003', '006', '010', '010º', '0127', '015', '017', '0171', '0173', '0195', '01l', '01r', '020', '020deg', '0218', '022', '024', '0256', '02801', '02r', '030', '030º', '0326', '0328', '040', '040b', '040deg', '044', '045', '0450', '0462', '0463', '049', '04l', '053', '0597', '060', '0602', '060deg', '061', '064', '069', '06l', '070', '0703', '0705', '0719', '072', '0730', '07308', '075deg', '076', '07l', '07r', '0839', '085', '0850', '08l', '090', '0900', '090deg', '092', '094', '0970', '0972', '0981', '09l', '1002', '1006', '1007', '1008', '100912', '100deg', '100e', '100er', '100nm', '100yds', '10100', '1015', '1018', '1020', '10200', '1024', '1025', '1027', '10350', '1036', '1040', '1041k', '104g', '1050', '10500', '1054', '10554', '1058', '1060', '10687', '1069', '1070', '10737', '1074', '1075', '1081', '1086', '10884', '10942', '109770', '10a', '10f', '10nm', '11000', '110c', '110p1', '1114', '1120', '11200', '1121', '1123', '1124', '1124a', '1132', '1140', '11500', '1154', '1159', '11600', '11620', '1169', '1170', '1171', '1173', '117d', '11800', '11900', '1198', '119b', '119c', '119cf', '119f', '119k', '11a', '11deg', '11dme', '1200yds', '120er', '1212', '1215', '121d', '121g', '121k', '121m', '122443', '1229', '1230', '12328', '12364', '123k', '12435', '12467', '124a', '1250', '12500', '1255', '125kts', '126', '1260', '12600', '127', '1276', '1277', '127723', '1279', '1281', '1296', '12a', '12b', '12bp', '12deg', '12l', '12n', '12p', '12th', '12w', '13000', '1300k', '1301', '1307', '130a', '130f', '130kias', '130m', '130p', '130r', '1310', '131582', '131639', '131e', '131f', '132', '1320', '13200', '1322', '1325gal', '1329', '1338', '133b', '133deg', '1340', '13400', '1342', '1347', '134a', '134ak', '13500', '135350', '1355', '135deg', '135j', '135kl', '135lr', '135n', '135r', '135s', '135t', '135v', '136', '1360', '137', '1370', '137e', '138', '13807', '1390', '13e', '13r', '14000', '1400z', '140a', '141b', '142', '143', '1436', '1440', '1449', '144a', '1450', '1455', '1457', '145kts', '145li', '145lr', '145lu', '146deg', '147', '1486', '149', '1490', '1493', '1495', '14970', '149813', '149d', '14b', '14fkm', '14p', '14th', '15000', '1500yds', '1500z', '1502', '1509', '150deg', '150f', '150ft', '150h', '150m', '151', '151890', '152', '15200', '152608', '1533', '1535', '1539', '1541', '1545', '1549', '154a', '154b', '154m', '155', '1550', '155130', '1553', '15585', '155deg', '156', '15652', '15677', '1568', '1570', '15721', '157332', '15800', '158761', '1588', '158930', '159325', '15f', '15l', '15r', '15s', '15th', '15tm', '16000', '1602', '160r', '161', '1610', '16100', '162', '164', '1640', '1645', '16481', '1649a', '16500', '165522', '165525', '1669', '167', '16720', '1687', '1690', '16a', '16b', '16d', '16f', '16l', '16th', '17000', '17010', '1707', '1709', '1716', '171st', '1720', '1721', '1723', '172n', '173', '1730', '1733', '1736', '17388', '174', '1763', '1768', '178', '178deg', '179', '1790', '17c', '17f', '17g', '17r', '17th', '18000', '1801', '181', '1810', '1814', '182', '18255', '1828', '182l', '1833', '1840', '18440', '1850', '1851', '18591', '18598', '186', '1860', '187', '1870', '1880', '1885', '189', '18930l', '18a', '18b', '18d', '18r', '18th', '18v', '19000', '1902', '1908', '1909', '190deg', '1910', '1918', '192', '1920', '1921', '1922p', '1923', '1925', '1929', '193', '1930', '1933', '1934', '1935', '1937', '1939', '194', '1946', '1947', '195', '1952', '1956', '1958', '1959', '1960', '1961', '1962', '1967', '197', '1970', '1971', '1975', '1976', '1977', '198', '1984', '1987', '1989', '1990s', '1995', '1996', '199deg', '19a', '19l', '1b', '1g167', '1h', '1h18', '1hour', '1l', '1r', '20000', '2000ft', '2008', '2009', '200b', '200deg', '200er', '200ft', '200x100', '200yds', '2010', '2012', '2014', '2016', '2025', '204', '204b', '205', '206', '206b', '2086', '209b', '20c', '20f', '20gmt', '20l', '20r', '20th', '2100', '2104', '2110', '212667', '212a', '213', '214', '21504', '216', '2165', '218', '21b', '21l', '21mf', '21r', '21u', '2200m', '220º', '2215', '2219', '221f', '2230', '224', '2250rpm', '226', '227ac', '227b', '227bc', '2280', '2284', '2286', '229', '2295', '22c', '22r', '2300yds', '2303', '2311', '2318', '233', '23310', '23488', '2350', '235m', '236', '2370', '238', '238b', '23f', '23r', '24000', '2400rpm', '2406', '240deg', '2422x', '243', '245', '2450', '246', '2460', '246er', '246tg', '247', '247d', '248', '2487', '24a', '24bi', '24kay', '24ko', '24th', '25000', '2501f', '250deg', '250yds', '250º', '251', '2523', '255', '2560', '258', '25b', '25d', '25deg', '25g', '25nm', '25pd', '25r', '25th', '2600', '2600rpm', '260deg', '261', '2615', '2620', '263', '2638', '26492', '2650', '2652', '26r', '27097', '270deg', '271', '2710', '2720', '2733', '2734', '274', '2740', '2747', '275', '2750', '277', '2771', '2790', '27deg', '27th', '280c', '280º', '2813', '2823', '283er', '284', '2841', '2850', '2850rpm', '286', '287', '2873', '288', '2885', '28d', '28nm', '28p', '28th', '2900', '291', '2925', '295m', '296', '297', '298', '29nm', '29r', '2a8', '2b', '2deg', '2e', '2f', '2h', '2nd', '2nm', '2p', '2sq', '2t5', '2tp', '2u3b', '3002', '300er', '300s', '300º', '302ftu', '303', '3050', '3068', '306m', '307', '3079', '307b', '308', '30862', '30a', '30b', '30cf', '30f', '30l', '30psi', '30r', '30th', '3102', '3108', '310deg', '310º', '311', '311q', '312', '3120', '3130', '3132', '3137', '3150', '317', '3183', '31fi', '3205', '320º', '3232', '3233', '3244lb', '3252', '3260', '3263', '3281', '328jet', '329c', '32a', '32tons', '32z', '330yds', '330º', '331', '3316', '334', '335', '3380', '339', '33a', '33rc', '3400', '34037', '340a', '340er', '340º', '3416', '342', '343', '343rd', '344', '344c', '3476', '34deg', '34l', '34r', '3506', '350º', '352nd', '353', '354', '3540', '355', '357', '3587', '35deg', '35r', '360deg', '3628', '365', '366', '3666', '366er', '3679', '3680', '368lb', '369', '3698', '36a', '36l', '36n', '36r', '370', '3700', '3700rpm', '371', '3720', '375', '377', '378', '379c', '379th', '381er', '3839x', '384th', '385', '38658', '38667', '387', '389', '38th', '3900', '392', '3930', '39323', '39325', '3960', '398', '39939', '39980', '39n', '3b', '3b4c', '3h4', '3k1c', '3l', '3mfe', '3mg4e', '3mlu', '3mte', '3nm', '3rd', '400b', '400bcf', '400yds', '402', '403', '40312', '404', '4042', '405', '406', '4064', '40641', '4069', '407', '408', '40a', '40cm', '40gmt', '40in', '40k', '40nm', '40s2', '40z', '4100', '411', '412f', '413th', '4146', '418', '41834', '419', '4192', '41deg', '41st', '4204', '422', '42444', '425', '4250', '4265', '42a', '42b', '431', '4317', '4340', '435', '4350', '436th', '4374', '439', '43b', '43s', '4400', '441', '44166', '4422', '444', '4458', '44648', '4479', '4525', '4536', '4539', '455', '457', '45g', '4600', '462', '46327', '465', '467', '46807', '46deg', '46e', '46f', '471', '4723', '47302', '47360', '474', '475', '4750', '477', '47deg', '47e', '47j', '47nm', '47p', '47q', '480', '4805', '481', '484', '4860', '4896', '490', '4900', '4904', '491', '4915', '492', '495', '496', '499', '4a', '4c', '4f', '4g', '4h6', '4k', '4l', '4nm', '4y0', '500ft', '500m', '500sq', '500yds', '501sp', '502', '5049', '505', '506', '507', '508', '509', '50c', '50feet', '50psi', '50s', '50th', '510', '5100', '512', '5120', '5160', '518', '520', '52002', '524', '5250', '525c', '527', '529', '52g', '530', '5300', '530yds', '5315', '5323', '5340', '537', '53d', '540', '5401', '5407', '541', '542ct', '543', '545', '5452', '546', '54a', '54b', '550b', '5513', '553', '5539', '557', '558', '55deg', '55kts', '55th', '560', '5600', '560xl', '561', '5615', '5669', '5675', '56g', '56pst', '56th', '570', '5700', '5711', '572', '5733', '57752', '57760', '5800', '580a', '580as', '5811', '583', '585', '588', '589', '590', '5900', '592', '594', '595', '599', '59d', '5b', '5d', '5deg', '5e', '5f', '5g', '5th', '5v', '5x', '5x61', '600f', '600gal', '600r', '600yds', '6013', '6017', '601e', '602', '603', '60314', '603m', '603sq', '604', '6048', '6050', '605r', '6060', '60deg', '6100', '611', '614', '6150', '6163', '6165', '61708', '618', '621', '623', '6240', '625', '6250', '626', '627', '628', '6289', '6291', '62f', '630', '6300', '634', '6343', '635', '6350', '6354', '63f', '6400', '642', '6420', '643', '6448', '64w', '6500ft', '65120', '652', '6526', '654', '655', '65691', '658', '65856', '65nm', '661', '663', '6631', '664', '666', '6700', '670a', '671', '6715', '6745', '676', '67608', '6780', '6800ft', '681', '6865', '687', '6878', '6901', '696', '69620', '6970', '6bf', '6deg', '6in', '6nm', '6th', '70000', '700a', '700b', '70349', '704', '705', '706', '708', '70yds', '7100', '711', '714', '716', '717', '718', '7200', '721', '7218', '724', '726', '72614', '731', '732', '7353', '736', '738', '739', '73960', '7400', '742', '7463', '747sp', '749', '7493', '751', '752', '753', '7533', '75687', '75732', '760', '7613', '7638', '765', '76679', '76685', '76761', '7682', '76825', '76827', '76t', '77', '771', '772', '773', '7743', '77508', '7775', '7800', '7800ft', '7815', '7816', '783', '783cp', '7843', '785d', '7864', '78826', '78849', '79', '790', '793', '7980', '7989', '7b', '7c', '7deg', '7m', '7occupants', '7½', '8000f', '800b', '800ft', '8012', '8015', '8019', '802', '805', '8050', '806', '809', '80c2b2', '80deg', '81000', '813', '8137', '813th', '814', '817', '819', '820', '821', '824', '8276', '82s', '8300', '831', '8315', '832', '835', '8355', '837', '839', '840', '8400', '843', '844', '84738', '84g', '8502', '850xp', '851', '8535', '855', '860', '8600', '861', '8650', '8665', '86a', '86b', '86d', '870', '8700', '8738', '875', '878', '87s', '881', '8810', '88241', '885', '886', '8867', '890', '897', '89d', '8c', '8f600', '8g', '8h4', '8nm', '900c', '9018', '901a', '902', '904', '906', '90nm', '90º', '9100', '911', '914', '916', '918', '9202', '921', '922', '9243', '927', '930', '9300', '933', '9350', '936', '940', '941', '942', '946', '94b', '950', '9500'\n",
    "         , '953', '95981', '95b', '960', '962633', '9640', '967', '96th', '970', '9700', '975', '9766', '97g', '9800', '983', '984', '9842', '985', '9859', '9877', '9900', '99165', '9925', '9930', '9955', '9975', '99853', '99a', '99c', '9d', '9k38', '9th', '9v', '9w354', 'a1', 'a12', 'a185f', 'a2', 'a23', 'a300b4', 'a31', 'a340', 'a36', 'a4', 'a400m', 'a59', 'a59w', 'a6', 'a65', 'a6m', 'a7', 'aa201', 'aa320', 'aa423', 'aa699', 'aac', 'aam', 'aapo', 'aar', 'aarhus', 'aau']"
   ]
  },
  {
   "cell_type": "code",
   "execution_count": 65,
   "metadata": {
    "collapsed": false
   },
   "outputs": [],
   "source": [
    "# Add all countries as stop words\n",
    "for c in list(pycountry.countries):\n",
    "    stop.append(c.name.lower())"
   ]
  },
  {
   "cell_type": "code",
   "execution_count": 72,
   "metadata": {
    "collapsed": true
   },
   "outputs": [],
   "source": [
    "### Remove punctuations"
   ]
  },
  {
   "cell_type": "markdown",
   "metadata": {},
   "source": [
    "## C. Text PreProcessing\n",
    "### Text Normalisation\n",
    "\n",
    "**Normalisation of data is converting different forms of the same word into a common one. Two of the commonly used forms are :**\n",
    "\n",
    "** 1. Stemming i.e. stripping the suffixes (“ing”, “ly”, “es”, “s” etc) from a word.**\n",
    "- I tried using Stemming for my text, but it stripped the word of all its meaning, hence currently I am not using stemming. \n",
    "\n",
    "\n",
    "** 2. Lemmatization i.e. an organised and step by step procedure of obtaining the root form of the word, it makes use of vocabulary and word structure and grammar relations.**\n",
    "- Lemmatization, did not help me much. For now, I am not using these functions. But at a later point I will come back to it if required."
   ]
  },
  {
   "cell_type": "code",
   "execution_count": 66,
   "metadata": {
    "collapsed": true
   },
   "outputs": [],
   "source": [
    "stemmer = PorterStemmer()"
   ]
  },
  {
   "cell_type": "code",
   "execution_count": 67,
   "metadata": {
    "collapsed": true
   },
   "outputs": [],
   "source": [
    "def stem_tokens(tokens, stemmer):\n",
    "    stemmed = []\n",
    "    for item in tokens:\n",
    "        stemmed.append(stemmer.stem(item))\n",
    "    return stemmed\n",
    "\n",
    "def tokenize(text):\n",
    "    text = \"\".join([ch for ch in text if ch not in string.punctuation])\n",
    "    tokens = word_tokenize(text)\n",
    "    stems = stem_tokens(tokens, stemmer)\n",
    "    print(stems)\n",
    "    return stems"
   ]
  },
  {
   "cell_type": "markdown",
   "metadata": {},
   "source": [
    "## D. Feature Extraction\n",
    "### Count Vectorizer: to get the most commonly used vocabulary\n",
    "\n",
    "** Count vectorizer is one of the basic techniques when dealing with textual content. It is the process of getting a word count of the text/document. The parameters of a count vectorizer can be modified depending on the problem at hand.**\n",
    "\n",
    "*As an initial step, I will be analyzing the word count from all the aviation accident summaries*\n",
    "- There are 14836 distinct words excluding the stop words."
   ]
  },
  {
   "cell_type": "code",
   "execution_count": 96,
   "metadata": {
    "collapsed": false,
    "scrolled": true
   },
   "outputs": [],
   "source": [
    "# vectorizer = CountVectorizer(analyzer = \"word\",tokenizer = None, lowercase=True, strip_accents=\"unicode\",\n",
    "#                              preprocessor = None,stop_words = stop,max_features = 1000, ngram_range = (1,1)) \n",
    "\n",
    "vectorizer = CountVectorizer(analyzer = 'word', stop_words = stop) \n",
    "X_narrative = vectorizer.fit_transform(data['Narrative'])"
   ]
  },
  {
   "cell_type": "code",
   "execution_count": 97,
   "metadata": {
    "collapsed": false
   },
   "outputs": [
    {
     "data": {
      "text/plain": [
       "(8172, 14836)"
      ]
     },
     "execution_count": 97,
     "metadata": {},
     "output_type": "execute_result"
    }
   ],
   "source": [
    "X_narrative.shape"
   ]
  },
  {
   "cell_type": "code",
   "execution_count": 98,
   "metadata": {
    "collapsed": false
   },
   "outputs": [
    {
     "name": "stdout",
     "output_type": "stream",
     "text": [
      "peruvian 10022\n",
      "metro 8168\n",
      "apparently 688\n",
      "involved 6376\n",
      "accident 64\n",
      "wreck 14578\n",
      "seen 11716\n",
      "hangar 5583\n",
      "lima 7415\n",
      "september 11773\n"
     ]
    }
   ],
   "source": [
    "# This is a dictionary of the format {word: wordcount}\n",
    "vocabulary = vectorizer.vocabulary_\n",
    "# displaying only a few values \n",
    "count = 0\n",
    "for word in vocabulary:\n",
    "    if count < 10:\n",
    "        print (word, vocabulary[word])\n",
    "    count += 1"
   ]
  },
  {
   "cell_type": "code",
   "execution_count": 99,
   "metadata": {
    "collapsed": false,
    "scrolled": true
   },
   "outputs": [
    {
     "data": {
      "text/plain": [
       "['abalone',\n",
       " 'abandon',\n",
       " 'abandoned',\n",
       " 'abatement',\n",
       " 'abatova',\n",
       " 'abbas',\n",
       " 'abbeville',\n",
       " 'abdomen',\n",
       " 'abdrabbu',\n",
       " 'abdulaziz']"
      ]
     },
     "execution_count": 99,
     "metadata": {},
     "output_type": "execute_result"
    }
   ],
   "source": [
    "# The distinct words acan be obtained using the get feature method\n",
    "distinct_words = vectorizer.get_feature_names()\n",
    "# displaying a sample from the word list\n",
    "distinct_words[0:10]"
   ]
  },
  {
   "cell_type": "code",
   "execution_count": 142,
   "metadata": {
    "collapsed": false,
    "scrolled": false
   },
   "outputs": [],
   "source": [
    "# Converting the distinct words from the model to a dataframe to view the most frequent words\n",
    "docs = pd.DataFrame(X_narrative.todense(), columns=distinct_words)\n",
    "docs_df = pd.DataFrame(docs.sum().sort_values(ascending = False)).reset_index()\n",
    "docs_df_top20 = docs_df[0:20]\n",
    "docs_df_top20.columns = ['word', 'count']"
   ]
  },
  {
   "cell_type": "code",
   "execution_count": 144,
   "metadata": {
    "collapsed": false
   },
   "outputs": [
    {
     "data": {
      "text/plain": [
       "<matplotlib.figure.Figure at 0x11cab5320>"
      ]
     },
     "execution_count": 144,
     "metadata": {},
     "output_type": "execute_result"
    },
    {
     "data": {
      "text/plain": [
       "<matplotlib.axes._subplots.AxesSubplot at 0x11cab52b0>"
      ]
     },
     "execution_count": 144,
     "metadata": {},
     "output_type": "execute_result"
    },
    {
     "data": {
      "text/plain": [
       "<matplotlib.text.Text at 0x11cae9358>"
      ]
     },
     "execution_count": 144,
     "metadata": {},
     "output_type": "execute_result"
    },
    {
     "data": {
      "text/plain": [
       "<matplotlib.text.Text at 0x11ca68860>"
      ]
     },
     "execution_count": 144,
     "metadata": {},
     "output_type": "execute_result"
    },
    {
     "data": {
      "image/png": "[encoded data removed]",
      "text/plain": [
       "<matplotlib.figure.Figure at 0x11cab5320>"
      ]
     },
     "metadata": {},
     "output_type": "display_data"
    }
   ],
   "source": [
    "plt.figure(figsize = (12,8))\n",
    "sns.barplot(y=docs_df_top20['word'], x=docs_df_top20['count'])\n",
    "plt.xlabel('Word Count', rotation = 45)\n",
    "plt.ylabel('Words', rotation = 45)\n",
    "plt.show()"
   ]
  },
  {
   "cell_type": "markdown",
   "metadata": {
    "collapsed": true
   },
   "source": [
    "## E. Unsupervised Topic Modelling using LDA (Latent Dirichlet Allocation)\n",
    "\n",
    "I am interested to divide the topics based on the cause of accidents. Hence Clustering them based on the description is the next task. There are many approaches for obtaining topics from a text. \n",
    "- Latent Dirichlet Allocation is the most popular topic modeling technique and I am planning to try that first.\n",
    "-  Term Frequency and Inverse Document Frequency and NonNegative Matrix Factorization techniques are the other topic modelling techniques\n",
    "\n",
    "\n",
    "**Cleaning and Preprocessing**\n",
    "\n",
    "Cleaning is an important step before any text mining task. Since this has already been done above. we wont be looking at it.\n",
    "\n",
    "**Preparing Document-Term(DT) Matrix**\n",
    "\n",
    "All the text documents combined is known as the **corpus**. To run any mathematical model on text corpus, it is a good practice to convert it into a matrix representation. LDA model looks for repeating term patterns in the DT matrix.\n",
    "\n",
    "**Running LDA Model**\n",
    "\n",
    "Next step is to create an object for LDA model. The dataset does not have enough information to divide it into train and test sets. To begin, I will be using the LDA model to come up with similar words to create topics for the incidents. This can also be seen as feature engineering using the model. I expect to see some interesting results with this model."
   ]
  },
  {
   "cell_type": "code",
   "execution_count": 165,
   "metadata": {
    "collapsed": true
   },
   "outputs": [],
   "source": [
    "from nltk.stem.wordnet import WordNetLemmatizer\n",
    "import string\n",
    "\n",
    "exclude = set(string.punctuation) \n",
    "lemma = WordNetLemmatizer()\n",
    "\n",
    "def clean(doc):\n",
    "    stop_free = \" \".join([i for i in doc.lower().split() if i not in stop])\n",
    "    punc_free = ''.join(ch for ch in stop_free if ch not in exclude)\n",
    "    normalized = \" \".join(lemma.lemmatize(word) for word in punc_free.split())\n",
    "    return normalized\n",
    "\n",
    "# Clean the summaries\n",
    "data['Narrative_Clean'] = [clean(doc).split() for doc in data['Narrative']] "
   ]
  },
  {
   "cell_type": "code",
   "execution_count": 191,
   "metadata": {
    "collapsed": false
   },
   "outputs": [],
   "source": [
    "# This is the fastest way to swap a dictionary key / value order.  \n",
    "# This is the format gensim LDA expects it's vocabulary.\n",
    "vocab = {v: k for k, v in vocabulary.items()}"
   ]
  },
  {
   "cell_type": "code",
   "execution_count": 180,
   "metadata": {
    "collapsed": true
   },
   "outputs": [
    {
     "data": {
      "text/plain": [
       "defaultdict(int,\n",
       "            {'peruvian': 7,\n",
       "             'metro': 42,\n",
       "             'apparently': 47,\n",
       "             'involved': 38,\n",
       "             'accident': 881,\n",
       "             'wreck': 7,\n",
       "             'seen': 63,\n",
       "             'hangar': 137,\n",
       "             'lima': 17,\n",
       "             'september': 16,\n",
       "             '6': 83,\n",
       "             '2005': 5,\n",
       "             'last': 139,\n",
       "             'active': 11,\n",
       "             'july': 9,\n",
       "             '2003': 4,\n",
       "             'reportedly': 194,\n",
       "             'repair': 297,\n",
       "             'blown': 42,\n",
       "             'hurricane': 10,\n",
       "             'ran': 208,\n",
       "             'bomb': 49,\n",
       "             'crater': 2,\n",
       "             'forced': 407,\n",
       "             'brazilian': 8,\n",
       "             'territory': 13,\n",
       "             'rió': 1,\n",
       "             'puritú': 1,\n",
       "             'brazilcolombian': 1,\n",
       "             'border': 14,\n",
       "             'engine': 1754,\n",
       "             'failure': 339,\n",
       "             'caucaya': 1,\n",
       "             'wooded': 63,\n",
       "             'mountainside': 48,\n",
       "             'killing': 105,\n",
       "             'people': 52,\n",
       "             'aboard': 104,\n",
       "             'confirmed': 37,\n",
       "             'escaped': 44,\n",
       "             'uk': 25,\n",
       "             '4939': 1,\n",
       "             'destroyed': 545,\n",
       "             'military': 110,\n",
       "             'use': 67,\n",
       "             'shot': 110,\n",
       "             'paris': 39,\n",
       "             'june': 37,\n",
       "             'abandoned': 37,\n",
       "             'captured': 13,\n",
       "             'german': 71,\n",
       "             'takeoff': 484,\n",
       "             'copilot': 226,\n",
       "             'killed': 360,\n",
       "             'snow': 238,\n",
       "             'storm': 99,\n",
       "             'crashed': 591,\n",
       "             'date': 51,\n",
       "             'known': 17,\n",
       "             'dobrolet': 1,\n",
       "             'spare': 22,\n",
       "             'part': 134,\n",
       "             'aug': 2,\n",
       "             '1930': 7,\n",
       "             'ground': 752,\n",
       "             'toussuslenoble': 1,\n",
       "             'also': 174,\n",
       "             'lucien': 1,\n",
       "             'rougerie': 1,\n",
       "             'farmans': 1,\n",
       "             'employee': 12,\n",
       "             'said': 93,\n",
       "             'first': 395,\n",
       "             'man': 77,\n",
       "             'invent': 1,\n",
       "             'simulator': 2,\n",
       "             'beech': 38,\n",
       "             'northwright': 1,\n",
       "             'airway': 113,\n",
       "             'conducting': 20,\n",
       "             'nwl125': 1,\n",
       "             'norman': 5,\n",
       "             'well': 52,\n",
       "             'tulita': 1,\n",
       "             'canada': 47,\n",
       "             'trying': 41,\n",
       "             'initiate': 12,\n",
       "             'right': 885,\n",
       "             'hand': 182,\n",
       "             'turn': 259,\n",
       "             'ramp': 45,\n",
       "             'park': 28,\n",
       "             'manoeuvre': 37,\n",
       "             'felt': 31,\n",
       "             'started': 174,\n",
       "             'slip': 2,\n",
       "             'slippery': 6,\n",
       "             'surface': 84,\n",
       "             'tried': 116,\n",
       "             'recovery': 29,\n",
       "             'applying': 9,\n",
       "             'differential': 5,\n",
       "             'power': 462,\n",
       "             'reverse': 58,\n",
       "             'braking': 52,\n",
       "             'however': 134,\n",
       "             'unsuccessful': 15,\n",
       "             'left': 1032,\n",
       "             'wing': 643,\n",
       "             'came': 296,\n",
       "             'contact': 190,\n",
       "             'building': 73,\n",
       "             'sheering': 1,\n",
       "             'winglet': 10,\n",
       "             'tip': 34,\n",
       "             'rib': 3,\n",
       "             'located': 91,\n",
       "             'fence': 84,\n",
       "             'continued': 294,\n",
       "             'past': 94,\n",
       "             'coming': 123,\n",
       "             'rest': 275,\n",
       "             'debris': 36,\n",
       "             'resting': 4,\n",
       "             'behind': 37,\n",
       "             'it': 70,\n",
       "             '4': 188,\n",
       "             '2': 437,\n",
       "             'disembarked': 9,\n",
       "             'without': 111,\n",
       "             'injury': 271,\n",
       "             'short': 312,\n",
       "             'cargo': 368,\n",
       "             'impacted': 243,\n",
       "             'terrain': 205,\n",
       "             'attempted': 220,\n",
       "             'charlestonyeager': 1,\n",
       "             'airport': 885,\n",
       "             'west': 88,\n",
       "             'virginia': 4,\n",
       "             'usa': 40,\n",
       "             'suffered': 237,\n",
       "             'fatal': 42,\n",
       "             'pilot': 1387,\n",
       "             'cessna': 192,\n",
       "             'grand': 58,\n",
       "             'caravan': 93,\n",
       "             'chignik': 1,\n",
       "             'alaska': 46,\n",
       "             'junker': 83,\n",
       "             'ju523mce': 3,\n",
       "             'named': 185,\n",
       "             'huanuni': 1,\n",
       "             'sorata': 1,\n",
       "             'bad': 105,\n",
       "             'weather': 491,\n",
       "             'flight': 402,\n",
       "             'parislyonmarseille': 1,\n",
       "             'ju523mge': 7,\n",
       "             'ecuador': 13,\n",
       "             'quitocotocollao': 1,\n",
       "             'overturned': 27,\n",
       "             'whilst': 25,\n",
       "             'taxiing': 66,\n",
       "             'no': 623,\n",
       "             'failed': 344,\n",
       "             'low': 224,\n",
       "             'altitude': 456,\n",
       "             'mishandling': 2,\n",
       "             'ekster': 1,\n",
       "             'dove': 11,\n",
       "             'next': 73,\n",
       "             'farm': 37,\n",
       "             'dyke': 4,\n",
       "             'caught': 341,\n",
       "             'fire': 1145,\n",
       "             'dc2': 23,\n",
       "             'nakajimaassembled': 1,\n",
       "             'fuji': 2,\n",
       "             'east': 80,\n",
       "             'sea': 262,\n",
       "             'kerama': 1,\n",
       "             'island': 150,\n",
       "             'survivor': 35,\n",
       "             'rescued': 35,\n",
       "             'steam': 1,\n",
       "             'ship': 24,\n",
       "             'miyake': 1,\n",
       "             'maru': 2,\n",
       "             'fockewulf': 1,\n",
       "             'fw': 2,\n",
       "             'airliner': 13,\n",
       "             'deutsche': 1,\n",
       "             'lufthansa': 7,\n",
       "             'ditched': 73,\n",
       "             'cavite': 1,\n",
       "             'bay': 92,\n",
       "             'manila': 27,\n",
       "             'philippine': 21,\n",
       "             'super': 80,\n",
       "             'electra': 19,\n",
       "             '480': 2,\n",
       "             'km': 43,\n",
       "             'northwest': 42,\n",
       "             'alexandria': 10,\n",
       "             'egypt': 11,\n",
       "             'six': 142,\n",
       "             'ju523m': 18,\n",
       "             'aircraft': 397,\n",
       "             'sanjurjo': 1,\n",
       "             'iberia': 9,\n",
       "             'british': 28,\n",
       "             'antiaircraft': 8,\n",
       "             'gibraltar': 1,\n",
       "             'south': 167,\n",
       "             'europa': 1,\n",
       "             'point': 154,\n",
       "             'seven': 101,\n",
       "             'italian': 8,\n",
       "             'ju523mlu': 1,\n",
       "             'hillside': 39,\n",
       "             'meter': 75,\n",
       "             'final': 229,\n",
       "             'leg': 138,\n",
       "             'romemunichberlin': 1,\n",
       "             'taken': 212,\n",
       "             'munich': 14,\n",
       "             '1300': 7,\n",
       "             'hour': 252,\n",
       "             'veered': 88,\n",
       "             'collided': 272,\n",
       "             't168': 1,\n",
       "             '6354': 1,\n",
       "             'repaired': 22,\n",
       "             'casualty': 8,\n",
       "             'handley': 8,\n",
       "             'page': 12,\n",
       "             'hp42w': 3,\n",
       "             'horatius': 1,\n",
       "             'wrecked': 8,\n",
       "             'tiverton': 1,\n",
       "             'gulf': 16,\n",
       "             'course': 101,\n",
       "             'four': 236,\n",
       "             'bailed': 39,\n",
       "             'out': 158,\n",
       "             'ala': 4,\n",
       "             'littoria': 3,\n",
       "             'trimotor': 21,\n",
       "             'olías': 2,\n",
       "             'spain': 38,\n",
       "             'hampered': 3,\n",
       "             'fog': 132,\n",
       "             'sevilla': 6,\n",
       "             'descended': 191,\n",
       "             'get': 38,\n",
       "             'cloud': 177,\n",
       "             'hill': 147,\n",
       "             'burst': 89,\n",
       "             'flame': 99,\n",
       "             'sunderland': 26,\n",
       "             'force': 290,\n",
       "             'landed': 498,\n",
       "             'isle': 8,\n",
       "             'scilly': 1,\n",
       "             'gale': 13,\n",
       "             'owing': 5,\n",
       "             'lack': 9,\n",
       "             'fuel': 342,\n",
       "             'lost': 519,\n",
       "             'port': 101,\n",
       "             'float': 20,\n",
       "             'nearby': 20,\n",
       "             'stricken': 2,\n",
       "             'sank': 107,\n",
       "             'quickly': 32,\n",
       "             'handling': 18,\n",
       "             'error': 13,\n",
       "             'oblt': 1,\n",
       "             'günther': 1,\n",
       "             'ii186': 1,\n",
       "             'injured': 263,\n",
       "             'pengana': 1,\n",
       "             'overrun': 25,\n",
       "             'cook': 3,\n",
       "             'river': 109,\n",
       "             'landing': 457,\n",
       "             'returning': 78,\n",
       "             'night': 152,\n",
       "             'antisubmarine': 7,\n",
       "             'patrol': 35,\n",
       "             'became': 113,\n",
       "             'requested': 105,\n",
       "             'df': 4,\n",
       "             'bearing': 7,\n",
       "             'time': 403,\n",
       "             'found': 173,\n",
       "             'st': 37,\n",
       "             'anns': 1,\n",
       "             'lighthouse': 2,\n",
       "             'exhausted': 4,\n",
       "             'downwind': 33,\n",
       "             'tore': 13,\n",
       "             'wingtip': 37,\n",
       "             'salvage': 8,\n",
       "             'capsized': 7,\n",
       "             'beached': 7,\n",
       "             'nanking': 3,\n",
       "             'emergency': 322,\n",
       "             'sandbar': 1,\n",
       "             'trouble': 23,\n",
       "             'hiram': 1,\n",
       "             'broiles': 1,\n",
       "             'recovered': 13,\n",
       "             'flown': 160,\n",
       "             'again': 49,\n",
       "             'ex': 8,\n",
       "             'pan': 7,\n",
       "             'nc14297': 1,\n",
       "             'stop': 310,\n",
       "             'mirabellou': 1,\n",
       "             'crete': 2,\n",
       "             'greece': 8,\n",
       "             'hydroplane': 2,\n",
       "             'damage': 635,\n",
       "             'fuselage': 260,\n",
       "             'rough': 29,\n",
       "             'szechwan': 1,\n",
       "             'chengtu': 1,\n",
       "             'burned': 111,\n",
       "             'tree': 297,\n",
       "             '97': 1,\n",
       "             'destination': 97,\n",
       "             'newark': 26,\n",
       "             'lijster': 1,\n",
       "             'klm': 12,\n",
       "             'service': 152,\n",
       "             'croydon': 5,\n",
       "             'amsterdam': 18,\n",
       "             'visibility': 237,\n",
       "             'departure': 188,\n",
       "             'limited': 15,\n",
       "             'running': 25,\n",
       "             'along': 68,\n",
       "             'white': 6,\n",
       "             'guidance': 13,\n",
       "             'line': 109,\n",
       "             'swerved': 26,\n",
       "             'becoming': 16,\n",
       "             'airborne': 106,\n",
       "             'edge': 83,\n",
       "             'airfield': 89,\n",
       "             'undercarriage': 196,\n",
       "             'wire': 27,\n",
       "             'netting': 1,\n",
       "             'surrounding': 8,\n",
       "             'tennis': 1,\n",
       "             'court': 3,\n",
       "             '1500ft': 1,\n",
       "             '500m': 1,\n",
       "             'roof': 32,\n",
       "             'house': 68,\n",
       "             'ploughed': 8,\n",
       "             'another': 125,\n",
       "             'semidetached': 1,\n",
       "             'ju52': 55,\n",
       "             'rudolf': 2,\n",
       "             'windisch': 1,\n",
       "             'french': 23,\n",
       "             'alp': 2,\n",
       "             'high': 212,\n",
       "             'wind': 251,\n",
       "             'marschall': 1,\n",
       "             'v': 12,\n",
       "             'bieberstein': 1,\n",
       "             'hannover': 5,\n",
       "             'germany': 34,\n",
       "             'month': 22,\n",
       "             'old': 23,\n",
       "             'han': 4,\n",
       "             'berr': 1,\n",
       "             'summit': 21,\n",
       "             'region': 54,\n",
       "             'moritzberg': 1,\n",
       "             '603m': 1,\n",
       "             'mountain': 356,\n",
       "             'close': 47,\n",
       "             'town': 17,\n",
       "             'lauf': 1,\n",
       "             'der': 2,\n",
       "             'pegnitz': 1,\n",
       "             'orientation': 7,\n",
       "             'heavy': 176,\n",
       "             'former': 15,\n",
       "             'nürnberg': 7,\n",
       "             'marienberg': 1,\n",
       "             'heinrich': 2,\n",
       "             'kroll': 1,\n",
       "             'en': 281,\n",
       "             'route': 324,\n",
       "             'flew': 239,\n",
       "             'side': 306,\n",
       "             'ferry': 48,\n",
       "             'mast': 5,\n",
       "             'attempt': 132,\n",
       "             'land': 277,\n",
       "             'sunk': 9,\n",
       "             'radio': 134,\n",
       "             'operator': 27,\n",
       "             'de': 206,\n",
       "             'havilland': 50,\n",
       "             'dh86a': 1,\n",
       "             'express': 32,\n",
       "             'operating': 144,\n",
       "             'mail': 31,\n",
       "             'shortly': 293,\n",
       "             'turned': 97,\n",
       "             'degree': 183,\n",
       "             'height': 235,\n",
       "             'hit': 254,\n",
       "             'ju523mfe': 1,\n",
       "             'hermann': 1,\n",
       "             'goering': 1,\n",
       "             'frankfurt': 26,\n",
       "             's17': 1,\n",
       "             'kent': 5,\n",
       "             'flying': 342,\n",
       "             'boat': 81,\n",
       "             'scipio': 1,\n",
       "             'string': 2,\n",
       "             'downdraft': 13,\n",
       "             'condition': 356,\n",
       "             'communication': 24,\n",
       "             'difficulty': 28,\n",
       "             'rescue': 29,\n",
       "             'delayed': 24,\n",
       "             'died': 102,\n",
       "             'trapped': 3,\n",
       "             'wreckage': 108,\n",
       "             'dh86': 7,\n",
       "             'cologne': 3,\n",
       "             'london': 53,\n",
       "             'start': 34,\n",
       "             'twelve': 16,\n",
       "             'evacuated': 42,\n",
       "             'safety': 25,\n",
       "             'technical': 14,\n",
       "             'soviet': 28,\n",
       "             'polikarpov': 2,\n",
       "             'i15': 1,\n",
       "             'fighter': 52,\n",
       "             'spanish': 15,\n",
       "             'civil': 28,\n",
       "             'war': 70,\n",
       "             '736437': 1,\n",
       "             'of': 2,\n",
       "             '20': 22,\n",
       "             'hisma': 1,\n",
       "             'luftwaffe': 19,\n",
       "             'november': 21,\n",
       "             'among': 30,\n",
       "             'arthur': 2,\n",
       "             'bressler': 1,\n",
       "             'regular': 27,\n",
       "             'bergen': 5,\n",
       "             'tromsø': 5,\n",
       "             'det': 3,\n",
       "             'norske': 2,\n",
       "             'luftfartselskap': 2,\n",
       "             '7': 58,\n",
       "             '1936': 4,\n",
       "             'using': 59,\n",
       "             'floatequipped': 14,\n",
       "             'havørn': 2,\n",
       "             '0630': 5,\n",
       "             'water': 215,\n",
       "             'aerodrome': 19,\n",
       "             'sandviken': 2,\n",
       "             'board': 302,\n",
       "             'load': 60,\n",
       "             'bag': 20,\n",
       "             'kilogram': 5,\n",
       "             '110': 2,\n",
       "             'lb': 33,\n",
       "             'post': 23,\n",
       "             'midair': 51,\n",
       "             'collision': 114,\n",
       "             'daput': 1,\n",
       "             'half': 49,\n",
       "             'mile': 92,\n",
       "             'strong': 48,\n",
       "             'gust': 34,\n",
       "             'ville': 3,\n",
       "             'nice': 8,\n",
       "             'mediterranean': 7,\n",
       "             'occupant': 192,\n",
       "             'douglas': 160,\n",
       "             'praha': 2,\n",
       "             'field': 289,\n",
       "             'doornspijk': 1,\n",
       "             'scheduled': 145,\n",
       "             'pragueamsterdam': 1,\n",
       "             'exhaustion': 25,\n",
       "             'karl': 2,\n",
       "             'balik': 1,\n",
       "             '32': 23,\n",
       "             'w': 8,\n",
       "             'mika': 1,\n",
       "             '29': 13,\n",
       "             'mechanic': 42,\n",
       "             'f': 22,\n",
       "             'strunk': 1,\n",
       "             'nine': 70,\n",
       "             'lechfeld': 1,\n",
       "             'switzerland': 20,\n",
       "             'orvin': 1,\n",
       "             'sikorsky': 5,\n",
       "             's42': 1,\n",
       "             'trinidad': 8,\n",
       "             'originated': 69,\n",
       "             'miami': 65,\n",
       "             'fl': 41,\n",
       "             'bound': 29,\n",
       "             'buenos': 32,\n",
       "             'aire': 26,\n",
       "             'argentina': 18,\n",
       "             'chestnut': 1,\n",
       "             'ridge': 51,\n",
       "             'southeast': 24,\n",
       "             'fairchance': 1,\n",
       "             'camden': 1,\n",
       "             'nj': 14,\n",
       "             'pittsburghallegheny': 1,\n",
       "             'county': 39,\n",
       "             'pa': 13,\n",
       "             'capt': 21,\n",
       "             'otto': 3,\n",
       "             'ferguson': 1,\n",
       "             'harry': 2,\n",
       "             'c': 32,\n",
       "             'lewis': 1,\n",
       "             'hostess': 7,\n",
       "             'nelly': 1,\n",
       "             'h': 1,\n",
       "             'granger': 1,\n",
       "             'eleven': 19,\n",
       "             'mr': 4,\n",
       "             'mc': 1,\n",
       "             'ellenstein': 1,\n",
       "             'survived': 137,\n",
       "             'china': 27,\n",
       "             'hankou': 3,\n",
       "             'now': 38,\n",
       "             'wuhan': 7,\n",
       "             'shanghai': 8,\n",
       "             'pas': 35,\n",
       "             'iztaccíhuatl': 1,\n",
       "             'popocatépetl': 1,\n",
       "             'volcano': 15,\n",
       "             'chungking': 2,\n",
       "             'kweiyang': 1,\n",
       "             'cnac': 1,\n",
       "             'crashedlanded': 3,\n",
       "             'sleet': 3,\n",
       "             'area': 359,\n",
       "             'yunnanfu': 1,\n",
       "             'amazingly': 1,\n",
       "             'although': 51,\n",
       "             'ford': 17,\n",
       "             'demolished': 6,\n",
       "             'torn': 44,\n",
       "             'chorolque': 2,\n",
       "             'tapacarí': 2,\n",
       "             'swamp': 22,\n",
       "             'ne': 10,\n",
       "             'cochabamba': 2,\n",
       "             'floatplane': 13,\n",
       "             'mechanical': 26,\n",
       "             'swampland': 1,\n",
       "             'goodwin': 1,\n",
       "             'ar': 6,\n",
       "             'marshall': 3,\n",
       "             'greenland': 4,\n",
       "             'stewardess': 10,\n",
       "             'casparini': 1,\n",
       "             'broke': 267,\n",
       "             'f24kay': 2,\n",
       "             'düsseldorf': 6,\n",
       "             'glindow': 2,\n",
       "             'provided': 72,\n",
       "             's43b': 2,\n",
       "             'international': 343,\n",
       "             'rio': 43,\n",
       "             'janeiro': 21,\n",
       "             'antilla': 2,\n",
       "             'portauprince': 8,\n",
       "             'san': 158,\n",
       "             'pedro': 7,\n",
       "             'macorís': 2,\n",
       "             'juan': 25,\n",
       "             'georgetown': 2,\n",
       "             'paramaribo': 7,\n",
       "             'cayenne': 1,\n",
       "             'bélem': 1,\n",
       "             'são': 25,\n",
       "             'luís': 2,\n",
       "             'fortaleza': 3,\n",
       "             'natal': 3,\n",
       "             'joão': 3,\n",
       "             'pessoa': 1,\n",
       "             'recife': 9,\n",
       "             'maceió': 1,\n",
       "             'aracaju': 1,\n",
       "             'salvador': 11,\n",
       "             'caravelas': 2,\n",
       "             'vitória': 2,\n",
       "             'leased': 19,\n",
       "             'zurich': 5,\n",
       "             'basel': 1,\n",
       "             'imperial': 9,\n",
       "             'britain': 2,\n",
       "             'cruising': 66,\n",
       "             '10000': 10,\n",
       "             'experienced': 92,\n",
       "             'unable': 47,\n",
       "             'maintain': 61,\n",
       "             '3000': 30,\n",
       "             'wheel': 141,\n",
       "             'carried': 316,\n",
       "             'saintsauveur': 1,\n",
       "             'luxeuillesbains': 1,\n",
       "             'collapsed': 287,\n",
       "             'remained': 44,\n",
       "             'upright': 8,\n",
       "             'ben': 8,\n",
       "             'prowse': 1,\n",
       "             'firstofficer': 2,\n",
       "             'ac': 2,\n",
       "             'wincop': 1,\n",
       "             'able': 89,\n",
       "             'exit': 19,\n",
       "             'cockpit': 118,\n",
       "             'sustaining': 8,\n",
       "             'burn': 19,\n",
       "             'release': 29,\n",
       "             'door': 82,\n",
       "             'enabling': 1,\n",
       "             'consumed': 19,\n",
       "             'ju523mte': 2,\n",
       "             'wende': 1,\n",
       "             'llaberia': 1,\n",
       "             'loeb': 1,\n",
       "             'kirbyinfurness': 1,\n",
       "             'moor': 2,\n",
       "             'belfast': 6,\n",
       "             'secretary': 2,\n",
       "             'state': 61,\n",
       "             'air': 60,\n",
       "             'sir': 3,\n",
       "             'kingsley': 1,\n",
       "             'wood': 13,\n",
       "             'way': 63,\n",
       "             'harland': 1,\n",
       "             'factory': 12,\n",
       "             'inspection': 41,\n",
       "             'official': 33,\n",
       "             'refuelling': 6,\n",
       "             'barge': 5,\n",
       "             'hythe': 1,\n",
       "             'spread': 20,\n",
       "             'engineer': 56,\n",
       "             'hooghly': 3,\n",
       "             'nachtegaal': 1,\n",
       "             'single': 31,\n",
       "             'training': 225,\n",
       "             'hitting': 18,\n",
       "             'station': 88,\n",
       "             'injuring': 16,\n",
       "             'five': 168,\n",
       "             'rebuilt': 4,\n",
       "             'raid': 27,\n",
       "             'schiphol': 2,\n",
       "             '1051940': 1,\n",
       "             'dived': 14,\n",
       "             'control': 611,\n",
       "             'problem': 193,\n",
       "             'dismantled': 6,\n",
       "             'damaging': 15,\n",
       "             'spar': 21,\n",
       "             'japanese': 50,\n",
       "             'firebomb': 1,\n",
       "             'chungmei': 1,\n",
       "             'fukuoka': 6,\n",
       "             'japan': 29,\n",
       "             'lanchow': 1,\n",
       "             'strafed': 5,\n",
       "             'looped': 24,\n",
       "             'encountering': 11,\n",
       "             'sudden': 21,\n",
       "             'icing': 77,\n",
       "             'dakar': 9,\n",
       "             'casablanca': 4,\n",
       "             'late': 30,\n",
       "             'schedule': 13,\n",
       "             'overnight': 15,\n",
       "             'dar': 14,\n",
       "             'e': 19,\n",
       "             'salaam': 7,\n",
       "             'mombassa': 1,\n",
       "             'second': 242,\n",
       "             'porpoising': 2,\n",
       "             'jetty': 2,\n",
       "             'tom': 3,\n",
       "             'webb': 2,\n",
       "             'officer': 259,\n",
       "             'aged': 1,\n",
       "             'george': 13,\n",
       "             'knight': 2,\n",
       "             'clerk': 1,\n",
       "             'graf': 2,\n",
       "             'cemetery': 3,\n",
       "             'ilha': 3,\n",
       "             'da': 14,\n",
       "             'mocambique': 1,\n",
       "             'fokker': 69,\n",
       "             'fviii': 3,\n",
       "             'duif': 1,\n",
       "             'sold': 14,\n",
       "             'venezuelan': 10,\n",
       "             'government': 34,\n",
       "             'march': 69,\n",
       "             '1939': 3,\n",
       "             'april': 55,\n",
       "             'gran': 1,\n",
       "             'sabana': 3,\n",
       "             'try': 7,\n",
       "             'find': 13,\n",
       "             'capitan': 1,\n",
       "             'cardona': 1,\n",
       "             'puig': 1,\n",
       "             'accosted': 1,\n",
       "             'pemones': 1,\n",
       "             'indian': 34,\n",
       "             'kamarata': 2,\n",
       "             'tail': 103,\n",
       "             'ditch': 112,\n",
       "             'put': 29,\n",
       "             'barranquilla': 9,\n",
       "             'el': 54,\n",
       "             'tarra': 1,\n",
       "             'via': 145,\n",
       "             'convención': 1,\n",
       "             'damaged': 70,\n",
       "             'mola': 1,\n",
       "             'sierra': 12,\n",
       "             'gredos': 2,\n",
       "             'cylinder': 21,\n",
       "             'blew': 19,\n",
       "             'return': 166,\n",
       "             'claude': 1,\n",
       "             'seaton': 1,\n",
       "             'miss': 2,\n",
       "             'louise': 1,\n",
       "             'zarr': 1,\n",
       "             'sintstevenswoluwe': 2,\n",
       "             'submerged': 17,\n",
       "             'object': 12,\n",
       "             'alighting': 2,\n",
       "             'immersion': 2,\n",
       "             'shipped': 5,\n",
       "             'england': 8,\n",
       "             'returned': 95,\n",
       "             'chiao': 1,\n",
       "             'tung': 1,\n",
       "             '1': 482,\n",
       "             'guiyang': 3,\n",
       "             'guizhou': 1,\n",
       "             'rcaf': 5,\n",
       "             'hawker': 12,\n",
       "             'mki': 1,\n",
       "             '312': 1,\n",
       "             'taking': 61,\n",
       "             'equipped': 18,\n",
       "             'erupted': 84,\n",
       "             'balearic': 1,\n",
       "             'berlin': 15,\n",
       "             'genoa': 3,\n",
       "             'rome': 34,\n",
       "             'home': 20,\n",
       "             'condor': 2,\n",
       "             'legion': 1,\n",
       "             'fought': 1,\n",
       "             's42a': 1,\n",
       "             'dominican': 3,\n",
       "             'clipper': 10,\n",
       "             'belem': 5,\n",
       "             'camacin': 1,\n",
       "             'salvadore': 1,\n",
       "             'victoria': 8,\n",
       "             'potez': 2,\n",
       "             '62': 1,\n",
       "             'courlis': 1,\n",
       "             'chimney': 6,\n",
       "             'dense': 14,\n",
       "             'kölnknapsack': 1,\n",
       "             'kölnbutzweilerhof': 1,\n",
       "             'intermediate': 83,\n",
       "             's23': 1,\n",
       "             'empire': 3,\n",
       "             'cavalier': 2,\n",
       "             '1038': 3,\n",
       "             'am': 17,\n",
       "             'later': 285,\n",
       "             'decided': 183,\n",
       "             'climb': 165,\n",
       "             'cumulus': 3,\n",
       "             'began': 147,\n",
       "             'drop': 66,\n",
       "             'back': 228,\n",
       "             'towards': 66,\n",
       "             'washington': 41,\n",
       "             'hoping': 4,\n",
       "             'regain': 13,\n",
       "             'clear': 46,\n",
       "             'patch': 9,\n",
       "             'thus': 17,\n",
       "             'cruise': 40,\n",
       "             'favourable': 4,\n",
       "             'much': 11,\n",
       "             'original': 4,\n",
       "             'koranga': 1,\n",
       "             'barely': 15,\n",
       "             'leticia': 1,\n",
       "             'disappeared': 19,\n",
       "             'photo': 7,\n",
       "             'marimbá': 1,\n",
       "             'serra': 4,\n",
       "             'sambé': 1,\n",
       "             'egon': 1,\n",
       "             'frei': 1,\n",
       "             'member': 94,\n",
       "             'josie': 1,\n",
       "             'brook': 2,\n",
       "             'others': 20,\n",
       "             'seriously': 35,\n",
       "             'eight': 58,\n",
       "             'unhurt': 21,\n",
       "             'thüna': 1,\n",
       "             'kahlenberg': 1,\n",
       "             'dc3a': 2,\n",
       "             'plane': 373,\n",
       "             'united': 64,\n",
       "             'trip': 25,\n",
       "             'ditching': 18,\n",
       "             'reyes': 1,\n",
       "             'ca': 37,\n",
       "             'sandstorm': 8,\n",
       "             'darkness': 10,\n",
       "             'order': 65,\n",
       "             'fix': 15,\n",
       "             'position': 143,\n",
       "             'observation': 10,\n",
       "             'calpurnia': 1,\n",
       "             'full': 116,\n",
       "             'ju90': 3,\n",
       "             'preussen': 2,\n",
       "             'palm': 12,\n",
       "             'carrying': 137,\n",
       "             'tropical': 2,\n",
       "             'trial': 9,\n",
       "             'dc3': 290,\n",
       "             'royal': 31,\n",
       "             'dutch': 8,\n",
       "             'airline': 223,\n",
       "             'amsterdamschiphol': 18,\n",
       "             'municipal': 53,\n",
       "             'netherlands': 13,\n",
       "             'stalled': 131,\n",
       "             'person': 59,\n",
       "             'adelaide': 4,\n",
       "             'melbourne': 10,\n",
       "             'kyeema': 1,\n",
       "             'visual': 203,\n",
       "             'locate': 7,\n",
       "             'essendon': 3,\n",
       "             'wrong': 15,\n",
       "             'heading': 93,\n",
       "             'entering': 26,\n",
       "             'top': 81,\n",
       "             'mount': 84,\n",
       "             'dandenong': 1,\n",
       "             'approximately': 209,\n",
       "             'aj': 1,\n",
       "             'steen': 1,\n",
       "             'elva': 1,\n",
       "             'jones': 1,\n",
       "             'cadett': 1,\n",
       "             'phillip': 1,\n",
       "             'pring': 1,\n",
       "             'montgomery': 2,\n",
       "             'normal': 105,\n",
       "             'gear': 789,\n",
       "             'raised': 25,\n",
       "             'vibration': 42,\n",
       "             'set': 70,\n",
       "             'intensity': 4,\n",
       "             'result': 70,\n",
       "             'throttled': 9,\n",
       "             'ypiranga': 1,\n",
       "             'brokeup': 2,\n",
       "             'soest': 1,\n",
       "             'joseph': 4,\n",
       "             'vanden': 1,\n",
       "             'eynde': 1,\n",
       "             'andré': 1,\n",
       "             'edmond': 1,\n",
       "             'moulin': 1,\n",
       "             'jozef': 1,\n",
       "             'baus': 1,\n",
       "             'charles': 8,\n",
       "             'deleusse': 1,\n",
       "             'piz': 1,\n",
       "             'cengalo': 2,\n",
       "             '3369': 1,\n",
       "             'm': 189,\n",
       "             'bregaglia': 1,\n",
       "             'range': 76,\n",
       "             'postal': 3,\n",
       "             'glacier': 10,\n",
       "             '1952': 3,\n",
       "             'kweilin': 1,\n",
       "             'attacked': 29,\n",
       "             'nakajima': 4,\n",
       "             'pearl': 11,\n",
       "             'north': 127,\n",
       "             'macao': 1,\n",
       "             'hugh': 1,\n",
       "             'radiooperator': 3,\n",
       "             'salvaged': 5,\n",
       "             'reflown': 1,\n",
       "             '39': 2,\n",
       "             '29101940': 1,\n",
       "             'anhangá': 1,\n",
       "             'guanabara': 5,\n",
       "             'reduced': 74,\n",
       "             'strasbourg': 7,\n",
       "             'poor': 166,\n",
       "             'thirteen': 4,\n",
       "             'marie': 7,\n",
       "             'krentnerová': 1,\n",
       "             'unfortunately': 1,\n",
       "             'day': 256,\n",
       "             'hospital': 14,\n",
       "             'offenburg': 1,\n",
       "             'manfréd': 2,\n",
       "             'wei': 2,\n",
       "             'wm': 2,\n",
       "             'built': 9,\n",
       "             'fviiib': 1,\n",
       "             'debrecen': 1,\n",
       "             'deb': 1,\n",
       "             'hungary': 2,\n",
       "             'martin': 20,\n",
       "             'hawaii': 26,\n",
       "             'alameda': 5,\n",
       "             'across': 38,\n",
       "             'pacific': 34,\n",
       "             'ocean': 28,\n",
       "             'made': 327,\n",
       "             'guam': 2,\n",
       "             'warsawlvivczerniowce': 1,\n",
       "             'chernovtsybucharestthessaloniki': 1,\n",
       "             'thunderstorm': 71,\n",
       "             'rain': 101,\n",
       "             'attitude': 118,\n",
       "             '538': 1,\n",
       "             'pm': 2,\n",
       "             'local': 96,\n",
       "             'negrileasa': 1,\n",
       "             'se': 2,\n",
       "             'stulpicani': 1,\n",
       "             'eyewitness': 9,\n",
       "             'spinned': 1,\n",
       "             'wooden': 7,\n",
       "             'attempting': 68,\n",
       "             'cross': 19,\n",
       "             'morón': 1,\n",
       "             'suffering': 17,\n",
       "             'cat5': 2,\n",
       "             'fred': 2,\n",
       "             'nelson': 3,\n",
       "             'misti': 1,\n",
       "             'chilligua': 1,\n",
       "             'peru': 14,\n",
       "             'santa': 42,\n",
       "             'lucia': 4,\n",
       "             'andes': 8,\n",
       "             'february': 46,\n",
       "             'no9': 1,\n",
       "             'chicago': 23,\n",
       "             ...})"
      ]
     },
     "execution_count": 180,
     "metadata": {},
     "output_type": "execute_result"
    }
   ],
   "source": [
    "# Now, we are going to create the vocabulary of each accident narrative\n",
    "\n",
    "frequency = defaultdict(int)\n",
    "for text in data['Narrative_Clean']:\n",
    "    for token in text:\n",
    "        frequency[token] += 1\n",
    "\n",
    "# The map of every word in the summary is formed here\n",
    "frequency"
   ]
  },
  {
   "cell_type": "code",
   "execution_count": 181,
   "metadata": {
    "collapsed": false
   },
   "outputs": [],
   "source": [
    "# # Filtering out the stop words from the frequency\n",
    "texts = [[token.lower() for token in text if frequency[token] > 1 and token not in stop]\n",
    "          for text in data['Narrative_Clean']]\n"
   ]
  },
  {
   "cell_type": "code",
   "execution_count": 189,
   "metadata": {
    "collapsed": false
   },
   "outputs": [
    {
     "data": {
      "text/plain": [
       "<gensim.corpora.dictionary.Dictionary at 0x11c4a7748>"
      ]
     },
     "execution_count": 189,
     "metadata": {},
     "output_type": "execute_result"
    }
   ],
   "source": [
    "# Create gensim dictionary object\n",
    "dictionary = corpora.Dictionary(texts)"
   ]
  },
  {
   "cell_type": "code",
   "execution_count": 183,
   "metadata": {
    "collapsed": false
   },
   "outputs": [
    {
     "data": {
      "text/plain": [
       "8172"
      ]
     },
     "execution_count": 183,
     "metadata": {},
     "output_type": "execute_result"
    }
   ],
   "source": [
    "# Create corpus matrix\n",
    "corpus = [dictionary.doc2bow(text) for text in texts]\n",
    "len(corpus)"
   ]
  },
  {
   "cell_type": "code",
   "execution_count": 184,
   "metadata": {
    "collapsed": false
   },
   "outputs": [
    {
     "data": {
      "text/plain": [
       "8172"
      ]
     },
     "execution_count": 184,
     "metadata": {},
     "output_type": "execute_result"
    },
    {
     "data": {
      "text/plain": [
       "8172"
      ]
     },
     "execution_count": 184,
     "metadata": {},
     "output_type": "execute_result"
    },
    {
     "data": {
      "text/plain": [
       "(8172, 14836)"
      ]
     },
     "execution_count": 184,
     "metadata": {},
     "output_type": "execute_result"
    }
   ],
   "source": [
    "len(texts)\n",
    "len(corpus)\n",
    "X.shape"
   ]
  },
  {
   "cell_type": "markdown",
   "metadata": {},
   "source": [
    "** Fitting th elda model for 5 topic. The number of passes have been kept as 100 for better results. \n",
    "The features from count vectorizer have been used here**"
   ]
  },
  {
   "cell_type": "code",
   "execution_count": 202,
   "metadata": {
    "collapsed": false
   },
   "outputs": [
    {
     "data": {
      "text/plain": [
       "<gensim.models.ldamodel.LdaModel at 0x120f2a668>"
      ]
     },
     "execution_count": 202,
     "metadata": {},
     "output_type": "execute_result"
    }
   ],
   "source": [
    "# Fitting the LDA model\n",
    "lda = models.LdaModel(\n",
    "    matutils.Sparse2Corpus(X_narrative, documents_columns=False),\n",
    "    num_topics  =  5,\n",
    "    passes      =  100,\n",
    "    id2word     =  vocab\n",
    ")\n",
    "lda"
   ]
  },
  {
   "cell_type": "code",
   "execution_count": 211,
   "metadata": {
    "collapsed": false
   },
   "outputs": [
    {
     "data": {
      "text/plain": [
       "[(0,\n",
       "  '0.013*\"hijacker\" + 0.013*\"damage\" + 0.010*\"international\" + 0.009*\"demanded\" + 0.009*\"accident\" + 0.008*\"injured\" + 0.008*\"taken\" + 0.007*\"day\" + 0.007*\"airlines\" + 0.007*\"reportedly\"'),\n",
       " (1,\n",
       "  '0.016*\"pilot\" + 0.010*\"cleared\" + 0.008*\"first\" + 0.007*\"altitude\" + 0.007*\"control\" + 0.006*\"left\" + 0.006*\"officer\" + 0.006*\"land\" + 0.006*\"time\" + 0.006*\"controller\"'),\n",
       " (2,\n",
       "  '0.032*\"engine\" + 0.017*\"left\" + 0.015*\"gear\" + 0.013*\"right\" + 0.013*\"fire\" + 0.010*\"pilot\" + 0.010*\"lost\" + 0.010*\"wing\" + 0.009*\"power\" + 0.009*\"landed\"'),\n",
       " (3,\n",
       "  '0.024*\"accident\" + 0.023*\"fire\" + 0.019*\"destroyed\" + 0.011*\"killed\" + 0.011*\"dakota\" + 0.009*\"forced\" + 0.009*\"ground\" + 0.008*\"de\" + 0.007*\"force\" + 0.007*\"transport\"'),\n",
       " (4,\n",
       "  '0.018*\"weather\" + 0.015*\"route\" + 0.013*\"en\" + 0.013*\"mountain\" + 0.009*\"poor\" + 0.009*\"flew\" + 0.008*\"conditions\" + 0.008*\"visibility\" + 0.006*\"side\" + 0.006*\"impacted\"')]"
      ]
     },
     "execution_count": 211,
     "metadata": {},
     "output_type": "execute_result"
    }
   ],
   "source": [
    "num_topics=5\n",
    "num_words=5\n",
    "lda.print_topics(num_topics=num_topics, num_words=10)"
   ]
  },
  {
   "cell_type": "code",
   "execution_count": 204,
   "metadata": {
    "collapsed": true
   },
   "outputs": [],
   "source": [
    "# Label the topics\n",
    "topics_labels = {\n",
    "    0: \"Weather_Fault\",\n",
    "    1: \"Technical_Issue_Engine_Gear\",\n",
    "    2: \"Pilot_Control\",\n",
    "    3: \"Land_Control\",\n",
    "    4: \"Hijack\"\n",
    "}"
   ]
  },
  {
   "cell_type": "code",
   "execution_count": 205,
   "metadata": {
    "collapsed": false,
    "scrolled": true
   },
   "outputs": [
    {
     "data": {
      "text/plain": [
       "document_id  topic                      \n",
       "0            Hijack                         0.133390\n",
       "             Land_Control                   0.199501\n",
       "             Pilot_Control                  0.088288\n",
       "             Technical_Issue_Engine_Gear    0.442485\n",
       "             Weather_Fault                  0.136337\n",
       "1            Hijack                         0.100820\n",
       "             Land_Control                   0.100004\n",
       "             Pilot_Control                  0.100002\n",
       "             Technical_Issue_Engine_Gear    0.599168\n",
       "             Weather_Fault                  0.100006\n",
       "2            Hijack                         0.066695\n",
       "             Land_Control                   0.398756\n",
       "             Pilot_Control                  0.066685\n",
       "             Technical_Issue_Engine_Gear    0.401168\n",
       "             Weather_Fault                  0.066696\n",
       "3            Hijack                         0.553353\n",
       "             Land_Control                   0.050135\n",
       "             Pilot_Control                  0.050367\n",
       "             Technical_Issue_Engine_Gear    0.050283\n",
       "             Weather_Fault                  0.295861\n",
       "4            Hijack                         0.028620\n",
       "             Land_Control                   0.331461\n",
       "             Pilot_Control                  0.582152\n",
       "             Technical_Issue_Engine_Gear    0.028605\n",
       "             Weather_Fault                  0.029162\n",
       "                                              ...   \n",
       "8167         Hijack                         0.104634\n",
       "             Land_Control                   0.145437\n",
       "             Pilot_Control                  0.173255\n",
       "             Technical_Issue_Engine_Gear    0.334226\n",
       "             Weather_Fault                  0.242448\n",
       "8168         Hijack                         0.312845\n",
       "             Land_Control                   0.457532\n",
       "             Pilot_Control                  0.028823\n",
       "             Technical_Issue_Engine_Gear    0.028916\n",
       "             Weather_Fault                  0.171884\n",
       "8169         Hijack                         0.239605\n",
       "             Land_Control                   0.240039\n",
       "             Pilot_Control                  0.232525\n",
       "             Technical_Issue_Engine_Gear    0.040051\n",
       "             Weather_Fault                  0.247779\n",
       "8170         Hijack                         0.161811\n",
       "             Land_Control                   0.176558\n",
       "             Pilot_Control                  0.270287\n",
       "             Technical_Issue_Engine_Gear    0.220069\n",
       "             Weather_Fault                  0.171275\n",
       "8171         Hijack                         0.066693\n",
       "             Land_Control                   0.399408\n",
       "             Pilot_Control                  0.400511\n",
       "             Technical_Issue_Engine_Gear    0.066690\n",
       "             Weather_Fault                  0.066699\n",
       "Name: probability, dtype: float64"
      ]
     },
     "execution_count": 205,
     "metadata": {},
     "output_type": "execute_result"
    }
   ],
   "source": [
    "doc_topics = [lda.get_document_topics(doc) for doc in corpus]\n",
    "\n",
    "topic_data = []\n",
    "\n",
    "for document_id, topics in enumerate(doc_topics):\n",
    "    \n",
    "    document_topics = []\n",
    "    \n",
    "    for topic, probability in topics:\n",
    "       \n",
    "        topic_data.append({\n",
    "            'document_id':  document_id,\n",
    "            'topic_id':     topic,\n",
    "            'topic':        topics_labels[topic],\n",
    "            'probability':  probability\n",
    "        })\n",
    "\n",
    "topics_df = pd.DataFrame(topic_data)\n",
    "topics_df.pivot_table(values=\"probability\", index=[\"document_id\", \"topic\"]).T"
   ]
  },
  {
   "cell_type": "code",
   "execution_count": 206,
   "metadata": {
    "collapsed": false,
    "scrolled": true
   },
   "outputs": [
    {
     "data": {
      "text/plain": [
       "0        0.136337\n",
       "1        0.442485\n",
       "2        0.088288\n",
       "3        0.199501\n",
       "4        0.133390\n",
       "5        0.100006\n",
       "6        0.599168\n",
       "7        0.100002\n",
       "8        0.100004\n",
       "9        0.100820\n",
       "10       0.066696\n",
       "11       0.401168\n",
       "12       0.066685\n",
       "13       0.398756\n",
       "14       0.066695\n",
       "15       0.295861\n",
       "16       0.050283\n",
       "17       0.050367\n",
       "18       0.050135\n",
       "19       0.553353\n",
       "20       0.029162\n",
       "21       0.028605\n",
       "22       0.582152\n",
       "23       0.331461\n",
       "24       0.028620\n",
       "           ...   \n",
       "40716    0.242448\n",
       "40717    0.334226\n",
       "40718    0.173255\n",
       "40719    0.145437\n",
       "40720    0.104634\n",
       "40721    0.171884\n",
       "40722    0.028916\n",
       "40723    0.028823\n",
       "40724    0.457532\n",
       "40725    0.312845\n",
       "40726    0.247779\n",
       "40727    0.040051\n",
       "40728    0.232525\n",
       "40729    0.240039\n",
       "40730    0.239605\n",
       "40731    0.171275\n",
       "40732    0.220069\n",
       "40733    0.270287\n",
       "40734    0.176558\n",
       "40735    0.161811\n",
       "40736    0.066699\n",
       "40737    0.066690\n",
       "40738    0.400511\n",
       "40739    0.399408\n",
       "40740    0.066693\n",
       "Name: probability, dtype: float64"
      ]
     },
     "execution_count": 206,
     "metadata": {},
     "output_type": "execute_result"
    }
   ],
   "source": [
    "(topics_df['probability'])"
   ]
  },
  {
   "cell_type": "code",
   "execution_count": 207,
   "metadata": {
    "collapsed": false
   },
   "outputs": [],
   "source": [
    "# Since there are many rows/datapoints, it is not possible to plot all the correlations. But I would like to see how\n",
    "# the summaries correlate to the topic\n",
    "\n",
    "# This map displays the topic correlation for each incident Narrative\n",
    "def plot_heatmap(min_topic, max_topic):\n",
    "    doc_topic_probabilities = []\n",
    "\n",
    "    for document in doc_topics[min_topic:max_topic]:\n",
    "\n",
    "        single_document = []\n",
    "\n",
    "        for topic, probablity in document:\n",
    "\n",
    "            single_document.append(probablity)\n",
    "\n",
    "        doc_topic_probabilities.append(single_document)\n",
    "\n",
    "    docs_topics = pd.DataFrame(doc_topic_probabilities)\n",
    "    plt.figure(figsize=(6,6))\n",
    "    sns.heatmap(docs_topics)\n",
    "    plt.show()"
   ]
  },
  {
   "cell_type": "code",
   "execution_count": 208,
   "metadata": {
    "collapsed": false
   },
   "outputs": [
    {
     "data": {
      "image/png": "[encoded data removed]",
      "text/plain": [
       "<matplotlib.figure.Figure at 0x127bdc5f8>"
      ]
     },
     "metadata": {},
     "output_type": "display_data"
    }
   ],
   "source": [
    "plot_heatmap(1,5)"
   ]
  },
  {
   "cell_type": "code",
   "execution_count": 209,
   "metadata": {
    "collapsed": false
   },
   "outputs": [
    {
     "name": "stdout",
     "output_type": "stream",
     "text": [
      "The Peruvian Metro 23 was apparently involved in an accident as the wreck was seen in a hangar at Lima Airport on September 6, 2005. The aircraft was last seen active in July 2003.\n"
     ]
    }
   ],
   "source": [
    "# Manual testing\n",
    "print(data.ix[0,'Narrative'])\n"
   ]
  },
  {
   "cell_type": "code",
   "execution_count": 241,
   "metadata": {
    "collapsed": false
   },
   "outputs": [],
   "source": [
    "# Get the words for each topic\n",
    "\n",
    "all_topic_words = []\n",
    "for topics in range(0,num_topics):\n",
    "    topic_words = []\n",
    "    words = lda.print_topics(num_topics=num_topics, num_words=10)[topics][1]\n",
    "    words = words.split('+')\n",
    "    for word in words:\n",
    "        word = word.split('*')[1]\n",
    "        word = word.replace('\"','').rstrip()\n",
    "        topic_words.append(word)\n",
    "    all_topic_words.append(topic_words)"
   ]
  },
  {
   "cell_type": "code",
   "execution_count": 245,
   "metadata": {
    "collapsed": false,
    "scrolled": true
   },
   "outputs": [
    {
     "name": "stdout",
     "output_type": "stream",
     "text": [
      "Topic 0: hijacker damage international demanded accident injured taken day airlines reportedly\n",
      "Topic 1: pilot cleared first altitude control left officer land time controller\n",
      "Topic 2: engine left gear right fire pilot lost wing power landed\n",
      "Topic 3: accident fire destroyed killed dakota forced ground de force transport\n",
      "Topic 4: weather route en mountain poor flew conditions visibility side impacted\n"
     ]
    }
   ],
   "source": [
    "for t in range(len(all_topic_words)):\n",
    "    print(\"Topic {}: {}\".format(t, ' '.join(all_topic_words[t][:15])))"
   ]
  },
  {
   "cell_type": "code",
   "execution_count": 251,
   "metadata": {
    "collapsed": false
   },
   "outputs": [
    {
     "data": {
      "text/plain": [
       "<matplotlib.axes._subplots.AxesSubplot at 0x126c46358>"
      ]
     },
     "execution_count": 251,
     "metadata": {},
     "output_type": "execute_result"
    },
    {
     "data": {
      "text/plain": [
       "(0, 5.5)"
      ]
     },
     "execution_count": 251,
     "metadata": {},
     "output_type": "execute_result"
    },
    {
     "data": {
      "text/plain": [
       "([], <a list of 0 Text xticklabel objects>)"
      ]
     },
     "execution_count": 251,
     "metadata": {},
     "output_type": "execute_result"
    },
    {
     "data": {
      "text/plain": [
       "([], <a list of 0 Text yticklabel objects>)"
      ]
     },
     "execution_count": 251,
     "metadata": {},
     "output_type": "execute_result"
    },
    {
     "data": {
      "text/plain": [
       "<matplotlib.text.Text at 0x126dec630>"
      ]
     },
     "execution_count": 251,
     "metadata": {},
     "output_type": "execute_result"
    },
    {
     "ename": "TypeError",
     "evalue": "unhashable type: 'list'",
     "output_type": "error",
     "traceback": [
      "\u001b[0;31m---------------------------------------------------------------------------\u001b[0m",
      "\u001b[0;31mTypeError\u001b[0m                                 Traceback (most recent call last)",
      "\u001b[0;32m<ipython-input-251-25695ea20a5a>\u001b[0m in \u001b[0;36m<module>\u001b[0;34m()\u001b[0m\n\u001b[1;32m     11\u001b[0m \u001b[0;31m#     top_words_idx = np.argsort(all_topic_words[:,t])[::-1]  # descending order\u001b[0m\u001b[0;34m\u001b[0m\u001b[0;34m\u001b[0m\u001b[0m\n\u001b[1;32m     12\u001b[0m     \u001b[0mtop_words_idx\u001b[0m \u001b[0;34m=\u001b[0m \u001b[0mall_topic_words\u001b[0m\u001b[0;34m[\u001b[0m\u001b[0;34m:\u001b[0m\u001b[0mnum_top_words\u001b[0m\u001b[0;34m]\u001b[0m\u001b[0;34m\u001b[0m\u001b[0m\n\u001b[0;32m---> 13\u001b[0;31m     \u001b[0mtop_words\u001b[0m \u001b[0;34m=\u001b[0m \u001b[0mvocab\u001b[0m\u001b[0;34m[\u001b[0m\u001b[0mtop_words_idx\u001b[0m\u001b[0;34m]\u001b[0m\u001b[0;34m\u001b[0m\u001b[0m\n\u001b[0m\u001b[1;32m     14\u001b[0m     \u001b[0mtop_words_shares\u001b[0m \u001b[0;34m=\u001b[0m \u001b[0mword_topic\u001b[0m\u001b[0;34m[\u001b[0m\u001b[0mtop_words_idx\u001b[0m\u001b[0;34m,\u001b[0m \u001b[0mt\u001b[0m\u001b[0;34m]\u001b[0m\u001b[0;34m\u001b[0m\u001b[0m\n\u001b[1;32m     15\u001b[0m     \u001b[0;32mfor\u001b[0m \u001b[0mi\u001b[0m\u001b[0;34m,\u001b[0m \u001b[0;34m(\u001b[0m\u001b[0mword\u001b[0m\u001b[0;34m,\u001b[0m \u001b[0mshare\u001b[0m\u001b[0;34m)\u001b[0m \u001b[0;32min\u001b[0m \u001b[0menumerate\u001b[0m\u001b[0;34m(\u001b[0m\u001b[0mzip\u001b[0m\u001b[0;34m(\u001b[0m\u001b[0mtop_words\u001b[0m\u001b[0;34m,\u001b[0m \u001b[0mtop_words_shares\u001b[0m\u001b[0;34m)\u001b[0m\u001b[0;34m)\u001b[0m\u001b[0;34m:\u001b[0m\u001b[0;34m\u001b[0m\u001b[0m\n",
      "\u001b[0;31mTypeError\u001b[0m: unhashable type: 'list'"
     ]
    },
    {
     "data": {
      "image/png": "[encoded data removed]",
      "text/plain": [
       "<matplotlib.figure.Figure at 0x126c3f390>"
      ]
     },
     "metadata": {},
     "output_type": "display_data"
    }
   ],
   "source": [
    "num_top_words = 5\n",
    "\n",
    "fontsize_base = 70 / np.max(60) # font size for word with largest share in corpus\n",
    "\n",
    "for t in range(num_topics):\n",
    "    plt.subplot(1, num_topics, t + 1)  # plot numbering starts with 1\n",
    "    plt.ylim(0, num_top_words + 0.5)  # stretch the y-axis to accommodate the words\n",
    "    plt.xticks([])  # remove x-axis markings ('ticks')\n",
    "    plt.yticks([]) # remove y-axis markings ('ticks')\n",
    "    plt.title('Topic #{}'.format(t))\n",
    "#     top_words_idx = np.argsort(all_topic_words[:,t])[::-1]  # descending order\n",
    "    top_words_idx = all_topic_words[:num_top_words]\n",
    "    top_words = vocab[top_words_idx]\n",
    "    top_words_shares = word_topic[top_words_idx, t]\n",
    "    for i, (word, share) in enumerate(zip(top_words, top_words_shares)):\n",
    "        plt.text(0.3, num_top_words-i-0.5, word, fontsize=fontsize_base*share) \n",
    "\n",
    "plt.tight_layout()"
   ]
  },
  {
   "cell_type": "markdown",
   "metadata": {
    "collapsed": true
   },
   "source": [
    "## Summary\n",
    "\n",
    "The topic modelling results are not very convincing. It requires more iterations before it can come up with meaningful distributions. Few of the options I am planning to try are:\n",
    "\n",
    "- I think the stop words list needs to be expanded such that relevant words are picked by LDA model.\n",
    "- I have seen that Topic extraction with Non-negative Matrix Factorization is an alternate method for LDA. I would like to try that and see its results too.\n",
    "- SVM is supposedly a good way to check the accuracy of the LDA results. But the challenge is that the results cannot be compared to any training set. \n",
    "- If the topic results from modelling seem convincing enough, I will go ahead and use them. The idea is to add the extracted topics as a feature into the dataset. With this as a new feature, it would be an extra addition to analyzing the aviation accidents."
   ]
  }
 ],
 "metadata": {
  "kernelspec": {
   "display_name": "Python 3",
   "language": "python",
   "name": "python3"
  },
  "language_info": {
   "codemirror_mode": {
    "name": "ipython",
    "version": 3
   },
   "file_extension": ".py",
   "mimetype": "text/x-python",
   "name": "python",
   "nbconvert_exporter": "python",
   "pygments_lexer": "ipython3",
   "version": "3.6.0"
  }
 },
 "nbformat": 4,
 "nbformat_minor": 2
}
