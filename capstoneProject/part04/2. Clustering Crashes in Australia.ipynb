{
 "cells": [
  {
   "cell_type": "markdown",
   "metadata": {},
   "source": [
    "### Some styling Mechanisms ;) Can be deleted later on"
   ]
  },
  {
   "cell_type": "markdown",
   "metadata": {},
   "source": [
    "# Capstone Part 04\n",
    "*Clustering airline crashes*\n",
    "\n",
    "### Submitted by Roshan Lulu"
   ]
  },
  {
   "cell_type": "markdown",
   "metadata": {},
   "source": [
    "<img src=\"./assets/recap.jpg\" alt=\"Drawing\" style=\"width:200px\" align=\"middle\"/>"
   ]
  },
  {
   "cell_type": "markdown",
   "metadata": {},
   "source": [
    "<div class=warn>\n",
    "- **In Part 03, After EDA and Feature Engineering, Feature Extraction, I came up with a cleaned and merged dataset 'cleaned_merged_dataset.csv'.** \n",
    "- *The cleaned_merged dataset will the base to start Part04 of my capstone *\n",
    "- Based on my EDA I did get some very interesting insights on the aircrashes based on the different features. Further ahead I'd like to see if a clustering algorithm has any better insights!\n",
    "- The airline crashes always seem like individual events. But with the clustering I am trying to check if the events are actually similar in type\n",
    "<div/>"
   ]
  },
  {
   "cell_type": "markdown",
   "metadata": {},
   "source": [
    "<img src=\"./assets/start.jpeg\" alt=\"Drawing\" style=\"width:250px\" align=\"middle\"/>\n"
   ]
  },
  {
   "cell_type": "code",
   "execution_count": 139,
   "metadata": {
    "collapsed": false
   },
   "outputs": [
    {
     "data": {
      "text/html": [
       "<style>\n",
       "div.info {    \n",
       "    background-color: #b2dfee;\n",
       "    border-color: #ffffff;\n",
       "    border-left: 5px solid #b2dfee;\n",
       "    padding: 0.5em;\n",
       "    }\n",
       " </style>\n",
       "\n",
       "<style>\n",
       "div.warn {    \n",
       "    background-color: #fcf2f2;\n",
       "    border-color: #dFb5b4;\n",
       "    border-left: 5px solid #dfb5b4;\n",
       "    padding: 0.5em;\n",
       "    }\n",
       " </style>"
      ],
      "text/plain": [
       "<IPython.core.display.HTML object>"
      ]
     },
     "execution_count": 139,
     "metadata": {},
     "output_type": "execute_result"
    }
   ],
   "source": [
    "from IPython.core.display import HTML\n",
    "def css_styling():\n",
    "    styles = open(\"./styles/box.css\", \"r\").read()\n",
    "    return HTML(styles)\n",
    "css_styling()"
   ]
  },
  {
   "cell_type": "markdown",
   "metadata": {},
   "source": [
    "## 1. Read in Cleaned dataset"
   ]
  },
  {
   "cell_type": "code",
   "execution_count": 140,
   "metadata": {
    "collapsed": true
   },
   "outputs": [],
   "source": [
    "import pandas as pd\n",
    "import numpy as np\n",
    "pd.set_option('display.max_rows', 200)\n",
    "pd.set_option('display.max_columns', 50)"
   ]
  },
  {
   "cell_type": "code",
   "execution_count": 141,
   "metadata": {
    "collapsed": true
   },
   "outputs": [],
   "source": [
    "import seaborn as sns\n",
    "import matplotlib.pyplot as plt"
   ]
  },
  {
   "cell_type": "code",
   "execution_count": 142,
   "metadata": {
    "collapsed": true
   },
   "outputs": [],
   "source": [
    "data = pd.read_csv('./dataset/cleaned_merged_dataset.csv')"
   ]
  },
  {
   "cell_type": "code",
   "execution_count": 143,
   "metadata": {
    "collapsed": true
   },
   "outputs": [],
   "source": [
    "data = data[data['Continents'] == 'Australia']"
   ]
  },
  {
   "cell_type": "code",
   "execution_count": 144,
   "metadata": {
    "collapsed": false
   },
   "outputs": [
    {
     "data": {
      "text/html": [
       "<div>\n",
       "<table border=\"1\" class=\"dataframe\">\n",
       "  <thead>\n",
       "    <tr style=\"text-align: right;\">\n",
       "      <th></th>\n",
       "      <th>Narrative</th>\n",
       "      <th>FlightNumber</th>\n",
       "      <th>AirplaneDamage</th>\n",
       "      <th>Phase</th>\n",
       "      <th>Date</th>\n",
       "      <th>Time</th>\n",
       "      <th>Operator</th>\n",
       "      <th>AirplaneFate</th>\n",
       "      <th>FirstFlight</th>\n",
       "      <th>Nature_Code</th>\n",
       "      <th>Type_Code</th>\n",
       "      <th>Engine_Type</th>\n",
       "      <th>Engine_count</th>\n",
       "      <th>Crew_Fatal</th>\n",
       "      <th>Crew_Occ</th>\n",
       "      <th>Total_Fatal</th>\n",
       "      <th>Total_Occ</th>\n",
       "      <th>Psngr_Fatal</th>\n",
       "      <th>Psngr_Occ</th>\n",
       "      <th>GndFatal</th>\n",
       "      <th>Coll_Fatal</th>\n",
       "      <th>Crash_Elev_m</th>\n",
       "      <th>Day</th>\n",
       "      <th>Month</th>\n",
       "      <th>Year</th>\n",
       "      <th>Dep_Airport_1</th>\n",
       "      <th>Dest_Airport_1</th>\n",
       "      <th>Age</th>\n",
       "      <th>Country</th>\n",
       "      <th>sub_place</th>\n",
       "      <th>Continents</th>\n",
       "      <th>Hemisphere</th>\n",
       "      <th>Seasons</th>\n",
       "      <th>orig_latitude</th>\n",
       "      <th>orig_longitude</th>\n",
       "      <th>Decade</th>\n",
       "      <th>label</th>\n",
       "    </tr>\n",
       "  </thead>\n",
       "  <tbody>\n",
       "    <tr>\n",
       "      <th>21</th>\n",
       "      <td>The DC-2, named \"Pengana\", overrun into Cooks ...</td>\n",
       "      <td>33</td>\n",
       "      <td>Substantial</td>\n",
       "      <td>Landing (LDG)</td>\n",
       "      <td>28</td>\n",
       "      <td>12:00</td>\n",
       "      <td>Australian National Airways - ANA</td>\n",
       "      <td>Repaired</td>\n",
       "      <td>1937</td>\n",
       "      <td>Passenger - Domestic</td>\n",
       "      <td>Douglas</td>\n",
       "      <td>Unknown</td>\n",
       "      <td>-1.0</td>\n",
       "      <td>0</td>\n",
       "      <td>0</td>\n",
       "      <td>0</td>\n",
       "      <td>0</td>\n",
       "      <td>0</td>\n",
       "      <td>0</td>\n",
       "      <td>0</td>\n",
       "      <td>0</td>\n",
       "      <td>0</td>\n",
       "      <td>Thursday</td>\n",
       "      <td>SEP</td>\n",
       "      <td>1939</td>\n",
       "      <td>?</td>\n",
       "      <td>SYD</td>\n",
       "      <td>2</td>\n",
       "      <td>Australia</td>\n",
       "      <td>Sydney Airport (SYD), Sydney NSW 2020, Australia</td>\n",
       "      <td>Australia</td>\n",
       "      <td>Southern</td>\n",
       "      <td>Spring</td>\n",
       "      <td>-33.939923</td>\n",
       "      <td>151.175276</td>\n",
       "      <td>1930</td>\n",
       "      <td>others</td>\n",
       "    </tr>\n",
       "    <tr>\n",
       "      <th>99</th>\n",
       "      <td>\"Koranga\" barely became airborne, lost altitud...</td>\n",
       "      <td>111</td>\n",
       "      <td>Damaged beyond repair</td>\n",
       "      <td>Takeoff (TOF)</td>\n",
       "      <td>18</td>\n",
       "      <td>16:00</td>\n",
       "      <td>Guinea Airways Pty Ltd.</td>\n",
       "      <td>-</td>\n",
       "      <td>1938</td>\n",
       "      <td>Passenger - Domestic</td>\n",
       "      <td>Lockheed</td>\n",
       "      <td>Unknown</td>\n",
       "      <td>-1.0</td>\n",
       "      <td>0</td>\n",
       "      <td>0</td>\n",
       "      <td>4</td>\n",
       "      <td>4</td>\n",
       "      <td>0</td>\n",
       "      <td>0</td>\n",
       "      <td>0</td>\n",
       "      <td>0</td>\n",
       "      <td>0</td>\n",
       "      <td>Wednesday</td>\n",
       "      <td>JAN</td>\n",
       "      <td>1939</td>\n",
       "      <td>KTR</td>\n",
       "      <td>ADL</td>\n",
       "      <td>1</td>\n",
       "      <td>Australia</td>\n",
       "      <td>Tindal NT 0853, Australia</td>\n",
       "      <td>Australia</td>\n",
       "      <td>Southern</td>\n",
       "      <td>Summer</td>\n",
       "      <td>-14.520342</td>\n",
       "      <td>132.377505</td>\n",
       "      <td>1930</td>\n",
       "      <td>airtrafficmgmt</td>\n",
       "    </tr>\n",
       "  </tbody>\n",
       "</table>\n",
       "</div>"
      ],
      "text/plain": [
       "                                            Narrative  FlightNumber  \\\n",
       "21  The DC-2, named \"Pengana\", overrun into Cooks ...            33   \n",
       "99  \"Koranga\" barely became airborne, lost altitud...           111   \n",
       "\n",
       "            AirplaneDamage           Phase  Date   Time  \\\n",
       "21             Substantial   Landing (LDG)    28  12:00   \n",
       "99   Damaged beyond repair   Takeoff (TOF)    18  16:00   \n",
       "\n",
       "                             Operator AirplaneFate  FirstFlight  \\\n",
       "21  Australian National Airways - ANA     Repaired         1937   \n",
       "99            Guinea Airways Pty Ltd.            -         1938   \n",
       "\n",
       "             Nature_Code Type_Code Engine_Type  Engine_count  Crew_Fatal  \\\n",
       "21  Passenger - Domestic   Douglas     Unknown          -1.0           0   \n",
       "99  Passenger - Domestic  Lockheed     Unknown          -1.0           0   \n",
       "\n",
       "    Crew_Occ  Total_Fatal  Total_Occ  Psngr_Fatal  Psngr_Occ  GndFatal  \\\n",
       "21         0            0          0            0          0         0   \n",
       "99         0            4          4            0          0         0   \n",
       "\n",
       "    Coll_Fatal  Crash_Elev_m        Day Month  Year Dep_Airport_1  \\\n",
       "21           0             0   Thursday   SEP  1939             ?   \n",
       "99           0             0  Wednesday   JAN  1939           KTR   \n",
       "\n",
       "   Dest_Airport_1  Age    Country  \\\n",
       "21            SYD    2  Australia   \n",
       "99            ADL    1  Australia   \n",
       "\n",
       "                                           sub_place Continents Hemisphere  \\\n",
       "21  Sydney Airport (SYD), Sydney NSW 2020, Australia  Australia   Southern   \n",
       "99                         Tindal NT 0853, Australia  Australia   Southern   \n",
       "\n",
       "   Seasons  orig_latitude  orig_longitude  Decade           label  \n",
       "21  Spring     -33.939923      151.175276    1930          others  \n",
       "99  Summer     -14.520342      132.377505    1930  airtrafficmgmt  "
      ]
     },
     "execution_count": 144,
     "metadata": {},
     "output_type": "execute_result"
    }
   ],
   "source": [
    "data.head(2)"
   ]
  },
  {
   "cell_type": "code",
   "execution_count": 145,
   "metadata": {
    "collapsed": false
   },
   "outputs": [
    {
     "name": "stdout",
     "output_type": "stream",
     "text": [
      "<class 'pandas.core.frame.DataFrame'>\n",
      "Int64Index: 297 entries, 21 to 8085\n",
      "Data columns (total 37 columns):\n",
      "Narrative         297 non-null object\n",
      "FlightNumber      297 non-null int64\n",
      "AirplaneDamage    297 non-null object\n",
      "Phase             297 non-null object\n",
      "Date              297 non-null int64\n",
      "Time              297 non-null object\n",
      "Operator          297 non-null object\n",
      "AirplaneFate      297 non-null object\n",
      "FirstFlight       297 non-null int64\n",
      "Nature_Code       297 non-null object\n",
      "Type_Code         297 non-null object\n",
      "Engine_Type       297 non-null object\n",
      "Engine_count      297 non-null float64\n",
      "Crew_Fatal        297 non-null int64\n",
      "Crew_Occ          297 non-null int64\n",
      "Total_Fatal       297 non-null int64\n",
      "Total_Occ         297 non-null int64\n",
      "Psngr_Fatal       297 non-null int64\n",
      "Psngr_Occ         297 non-null int64\n",
      "GndFatal          297 non-null int64\n",
      "Coll_Fatal        297 non-null int64\n",
      "Crash_Elev_m      297 non-null int64\n",
      "Day               297 non-null object\n",
      "Month             297 non-null object\n",
      "Year              297 non-null int64\n",
      "Dep_Airport_1     297 non-null object\n",
      "Dest_Airport_1    297 non-null object\n",
      "Age               297 non-null int64\n",
      "Country           297 non-null object\n",
      "sub_place         297 non-null object\n",
      "Continents        297 non-null object\n",
      "Hemisphere        297 non-null object\n",
      "Seasons           297 non-null object\n",
      "orig_latitude     297 non-null float64\n",
      "orig_longitude    297 non-null float64\n",
      "Decade            297 non-null int64\n",
      "label             297 non-null object\n",
      "dtypes: float64(3), int64(15), object(19)\n",
      "memory usage: 88.2+ KB\n"
     ]
    }
   ],
   "source": [
    "data.info()"
   ]
  },
  {
   "cell_type": "markdown",
   "metadata": {},
   "source": [
    "### What features are good enough to be taken for clustering?"
   ]
  },
  {
   "cell_type": "code",
   "execution_count": 146,
   "metadata": {
    "collapsed": false
   },
   "outputs": [],
   "source": [
    "drop_col = ['Narrative','FlightNumber', 'Crew_Fatal', 'Crew_Occ', 'Psngr_Fatal',\n",
    "            'Psngr_Occ', 'Day', 'Month', 'Year', 'Time', 'Date', 'Continents', 'Hemisphere', 'sub_place', 'FirstFlight']\n",
    "\n",
    "data.drop(drop_col, axis = 1, inplace = True)"
   ]
  },
  {
   "cell_type": "code",
   "execution_count": 147,
   "metadata": {
    "collapsed": false,
    "scrolled": true
   },
   "outputs": [
    {
     "name": "stdout",
     "output_type": "stream",
     "text": [
      "<class 'pandas.core.frame.DataFrame'>\n",
      "Int64Index: 297 entries, 21 to 8085\n",
      "Data columns (total 22 columns):\n",
      "AirplaneDamage    297 non-null object\n",
      "Phase             297 non-null object\n",
      "Operator          297 non-null object\n",
      "AirplaneFate      297 non-null object\n",
      "Nature_Code       297 non-null object\n",
      "Type_Code         297 non-null object\n",
      "Engine_Type       297 non-null object\n",
      "Engine_count      297 non-null float64\n",
      "Total_Fatal       297 non-null int64\n",
      "Total_Occ         297 non-null int64\n",
      "GndFatal          297 non-null int64\n",
      "Coll_Fatal        297 non-null int64\n",
      "Crash_Elev_m      297 non-null int64\n",
      "Dep_Airport_1     297 non-null object\n",
      "Dest_Airport_1    297 non-null object\n",
      "Age               297 non-null int64\n",
      "Country           297 non-null object\n",
      "Seasons           297 non-null object\n",
      "orig_latitude     297 non-null float64\n",
      "orig_longitude    297 non-null float64\n",
      "Decade            297 non-null int64\n",
      "label             297 non-null object\n",
      "dtypes: float64(3), int64(7), object(12)\n",
      "memory usage: 53.4+ KB\n"
     ]
    }
   ],
   "source": [
    "data.info()"
   ]
  },
  {
   "cell_type": "markdown",
   "metadata": {},
   "source": [
    "## 2. Plot the data to view some clusters\n",
    "*Cluster evaluation with K-means clustering*"
   ]
  },
  {
   "cell_type": "code",
   "execution_count": 148,
   "metadata": {
    "collapsed": true
   },
   "outputs": [],
   "source": [
    "# X = data.iloc[:,:-1]\n",
    "# y = data.label"
   ]
  },
  {
   "cell_type": "code",
   "execution_count": 149,
   "metadata": {
    "collapsed": false,
    "scrolled": false
   },
   "outputs": [],
   "source": [
    "# sns.pairplot(X)\n",
    "# plt.show()"
   ]
  },
  {
   "cell_type": "markdown",
   "metadata": {},
   "source": [
    "## K - Means Clustering\n",
    "https://www.datascience.com/blog/introduction-to-k-means-clustering-algorithm-learn-data-science-tutorials\n",
    "K-means clustering is a type of unsupervised learning, which is used when you have unlabeled data (i.e., data without defined categories or groups). The goal of this algorithm is to find groups in the data, with the number of groups represented by the variable K. The algorithm works iteratively to assign each data point to one of K groups based on the features that are provided. Data points are clustered based on feature similarity. The results of the K-means clustering algorithm are:\n",
    "\n",
    "1. The centroids of the K clusters, which can be used to label new data\n",
    "\n",
    "2. Labels for the training data (each data point is assigned to a single cluster)\n",
    "\n",
    "3. Feature engineering is the process of using domain knowledge to choose which data metrics to input as features into a machine learning algorithm. Feature engineering plays a key role in K-means clustering; using meaningful features that capture the variability of the data is essential for the algorithm to find all of the naturally-occurring groups.  "
   ]
  },
  {
   "cell_type": "markdown",
   "metadata": {},
   "source": [
    "### Some light on Continuous and Categorical variables as predictors when performing Clustering!\n",
    "**Source: ** https://datascience.stackexchange.com/questions/22/k-means-clustering-for-mixed-numeric-and-categorical-data/24#24\n",
    "- If you have multiple categories you could code them as dummy variables, or better yet, transform them into a single classifier using principal components.  \n",
    "- There is also a specialized form of hierarchical clustering known as a two step or two stage cluster model which is used by some products. This model handles both continuous and categorical variables."
   ]
  },
  {
   "cell_type": "markdown",
   "metadata": {},
   "source": [
    "**What went wrong?**\n",
    "- Before performing the K means , I did a pairplot of the variables to check the relation. I realized that only continuous variables appeared int he pairplot\n",
    "- So when I tried to add all predictors and do a K means clustering, it gave an error since I had categorical variable that were not dummy coded\n",
    "\n",
    "**How to fix it?**\n",
    "- First I will try to dummy code the variables, then try to pass it through K means clustering."
   ]
  },
  {
   "cell_type": "code",
   "execution_count": 150,
   "metadata": {
    "collapsed": true
   },
   "outputs": [],
   "source": [
    "# from sklearn import cluster, metrics"
   ]
  },
  {
   "cell_type": "code",
   "execution_count": 151,
   "metadata": {
    "collapsed": false
   },
   "outputs": [],
   "source": [
    "# X_dummies = pd.get_dummies(X, drop_first=True)\n",
    "# X_dummies.drop(['orig_latitude', 'orig_longitude'], axis = 1, inplace = True)\n"
   ]
  },
  {
   "cell_type": "markdown",
   "metadata": {},
   "source": [
    "- Considering Australia; There are 257 data poitns --> \n",
    "- 15 Countries, 130 unique Operators, 109 Departure Airports, 132 Destination Airports, 11 Nature Codes, 12 Engine Types"
   ]
  },
  {
   "cell_type": "markdown",
   "metadata": {},
   "source": [
    "## What would be a good cluster number?\n",
    "- Ref: 8.2.1\n",
    "\n",
    "**Inertia vs. K clusters: the elbow method**\n",
    "- Plot the inertia vs. the K number of clusters to get an idea of what the optimal number of clusters would be for the dataset. The \"elbow\" technique, though controversial, is a great heuristic to evaluate the optimal K. \n",
    "\n",
    "- Basically, we look for the K where the inertia has an \"elbow\": the point where decreases in inertia are considerably more marginal than for previous increases in K.\n"
   ]
  },
  {
   "cell_type": "code",
   "execution_count": 152,
   "metadata": {
    "collapsed": false,
    "scrolled": false
   },
   "outputs": [],
   "source": [
    "# inertias = []\n",
    "# for n_clusters in range(2,30):\n",
    "#     kmeans = cluster.KMeans(n_clusters=n_clusters)\n",
    "#     kmeans.fit(X_dummies)\n",
    "#     inertia = kmeans.inertia_\n",
    "#     inertias.append(inertia.mean())\n",
    "\n",
    "# plt.plot(inertias)\n",
    "# plt.ylabel(\"Inertia\")\n",
    "# plt.xlabel(\"K\")\n",
    "# plt.title(\"Inertia across K in Airline crash data\")\n",
    "# sns.despine()\n",
    "# plt.show()"
   ]
  },
  {
   "cell_type": "markdown",
   "metadata": {},
   "source": [
    "### Fit K means clustering model\n",
    "- algorithm = auto; It chooses elkan algorithm for dense data and full for sparse data.\n",
    "- copy_x = True; original data is not modified\n",
    "- init = ‘k-means++’; selects initial cluster centers for k-mean clustering in a smart way to speed up convergence. See section Notes in k_init for more details.\n",
    "- max_iter = 300 iterations ina . single run to calculate the groups\n",
    "- n_clusters = 6\n",
    "- n_init = 10\n",
    "- n_jobs = 1\n",
    "- precompute_distances='auto'; Does not precompute distances when large memory is required\n",
    "- random_state = None; No genertor s specified since the init method is not random\n",
    "- tol = 0.0001\n",
    "- verbose = 0"
   ]
  },
  {
   "cell_type": "markdown",
   "metadata": {},
   "source": [
    "### Compute labels and centroids"
   ]
  },
  {
   "cell_type": "code",
   "execution_count": 153,
   "metadata": {
    "collapsed": false
   },
   "outputs": [],
   "source": [
    "# k = 6\n",
    "# kmeans = cluster.KMeans(n_clusters=6)\n",
    "# kmeans.fit(X_dummies)"
   ]
  },
  {
   "cell_type": "code",
   "execution_count": 154,
   "metadata": {
    "collapsed": true
   },
   "outputs": [],
   "source": [
    "# predicted = kmeans.labels_\n",
    "# centroids = kmeans.cluster_centers_\n",
    "\n",
    "# print (\"Predicted clusters to points: \", predicted)\n",
    "# print (\"Location of centroids: \")\n",
    "# print (centroids)"
   ]
  },
  {
   "cell_type": "code",
   "execution_count": 155,
   "metadata": {
    "collapsed": false
   },
   "outputs": [],
   "source": [
    "# X_dummies['predicted'] = predicted"
   ]
  },
  {
   "cell_type": "markdown",
   "metadata": {},
   "source": [
    "## Plot the clusters"
   ]
  },
  {
   "cell_type": "code",
   "execution_count": 156,
   "metadata": {
    "collapsed": true
   },
   "outputs": [],
   "source": [
    "# def plot_clusters(df, title):\n",
    "#     fig, ax = plt.subplots(figsize=(5,5))\n",
    "    \n",
    "#     colors = plt.cm.Spectral(np.linspace(0, 1, len(df.label.unique())))\n",
    "    \n",
    "#     for label, color in zip(df.label.unique(), colors):\n",
    "#         X = df[df.label == label]\n",
    "#         ax.scatter(X.iloc[:,0], X.iloc[:,1], s=70, \n",
    "#                    color=color, label=label, alpha=0.9)\n",
    "        \n",
    "#     ax.set_title(title, fontsize=20)\n",
    "#     ax.legend(loc='lower right')\n",
    "    \n",
    "#     plt.show()"
   ]
  },
  {
   "cell_type": "code",
   "execution_count": 157,
   "metadata": {
    "collapsed": false,
    "scrolled": true
   },
   "outputs": [],
   "source": [
    "# X_dummies['label'] = data.label\n",
    "# plot_clusters(X_dummies, 'label')\n",
    "# plot_clusters(X_dummies, 'predicted')"
   ]
  },
  {
   "cell_type": "code",
   "execution_count": 158,
   "metadata": {
    "collapsed": true
   },
   "outputs": [],
   "source": [
    "# from sklearn.metrics import silhouette_score"
   ]
  },
  {
   "cell_type": "code",
   "execution_count": 159,
   "metadata": {
    "collapsed": false
   },
   "outputs": [],
   "source": [
    "# score = silhouette_score(X_dummies, predicted, metric='euclidean')\n",
    "# score"
   ]
  },
  {
   "cell_type": "code",
   "execution_count": 160,
   "metadata": {
    "collapsed": false
   },
   "outputs": [],
   "source": [
    "data.label = [0 if label == 'others'\n",
    "              else 1 if label == 'human'\n",
    "              else 2 if label == 'airtrafficmgmt'\n",
    "              else 3 if label == 'maintanence'\n",
    "              else 4 if label == 'malfunction'\n",
    "              else 5 for label in data.label]"
   ]
  },
  {
   "cell_type": "code",
   "execution_count": 161,
   "metadata": {
    "collapsed": true
   },
   "outputs": [],
   "source": [
    "X = data.iloc[:,:-1]\n",
    "y = data.label\n",
    "\n",
    "X_dummies = pd.get_dummies(X, drop_first=True)\n",
    "X_dummies.drop(['orig_latitude', 'orig_longitude'], axis = 1, inplace = True)"
   ]
  },
  {
   "cell_type": "code",
   "execution_count": 162,
   "metadata": {
    "collapsed": true
   },
   "outputs": [],
   "source": [
    "from sklearn.cluster import KMeans, AgglomerativeClustering, DBSCAN"
   ]
  },
  {
   "cell_type": "code",
   "execution_count": 163,
   "metadata": {
    "collapsed": true
   },
   "outputs": [],
   "source": [
    "def plot_competing_algos(df, n_clusters_kmeans=3, n_clusters_agg=3,\n",
    "                         dbscan_eps=3, dbscan_min_samples=5):\n",
    "    title = 'label'\n",
    "    fig, axarr = plt.subplots(1,4, figsize=(24,7))\n",
    "    \n",
    "    # TRUE:\n",
    "    X_true = df\n",
    "    X_true['label']  = data['label']\n",
    "    X_true['orig_longitude'] = data['orig_longitude']\n",
    "    X_true['orig_latitude'] = data['orig_latitude']\n",
    "    colors = plt.cm.Spectral(np.linspace(0, 1, len(X_true.label.unique())))\n",
    "    \n",
    "    for label, color in zip(X_true.label.unique(), colors):\n",
    "        X_ = X_true[X_true.label == label]\n",
    "        axarr[0].scatter(X_.ix[:,'orig_longitude'], X_.ix[:,'orig_latitude'], s=70, \n",
    "                         color=color, label=label, alpha=0.9)\n",
    "        \n",
    "    axarr[0].set_title(title+' '+'true', fontsize=20)\n",
    "    axarr[0].legend(loc='lower left')\n",
    "    \n",
    "    # setup X:\n",
    "    X = df\n",
    "    \n",
    "    # K-MEANS:\n",
    "    kmeans = KMeans(n_clusters=n_clusters_kmeans)\n",
    "    kmeans.fit(X)\n",
    "    \n",
    "    X['kmeans_label'] = kmeans.labels_\n",
    "    X['orig_longitude'] = data['orig_longitude']\n",
    "    X['orig_latitude'] = data['orig_latitude']\n",
    "    colors = plt.cm.Spectral(np.linspace(0, 1, len(X.kmeans_label.unique())))\n",
    "    \n",
    "    for label, color in zip(X.kmeans_label.unique(), colors):\n",
    "        X_ = X[X.kmeans_label == label]\n",
    "        axarr[1].scatter(X_.ix[:,'orig_longitude'], X_.ix[:,'orig_latitude'], s=70, \n",
    "                         color=color, label=label, alpha=0.9)\n",
    "        \n",
    "    axarr[1].set_title(title+' '+'kmeans', fontsize=20)\n",
    "    axarr[1].legend(loc='lower left')\n",
    "    \n",
    "    \n",
    "    # re-setup X:\n",
    "    X = df\n",
    "    # HIERARCHICAL/AGGLOMERATIVE:\n",
    "    aggclust = AgglomerativeClustering(n_clusters=n_clusters_agg)\n",
    "    aggclust.fit(X.iloc[:, 0:-1])\n",
    "    \n",
    "    data['agg_label'] = aggclust.labels_\n",
    "    X['aggclust_label'] = aggclust.labels_\n",
    "    X['orig_longitude'] = data['orig_longitude']\n",
    "    X['orig_latitude'] = data['orig_latitude']\n",
    "    \n",
    "    colors = plt.cm.Spectral(np.linspace(0, 1, len(X.aggclust_label.unique())))\n",
    "    \n",
    "    for label, color in zip(X.aggclust_label.unique(), colors):\n",
    "        X_ = X[X.aggclust_label == label]\n",
    "        axarr[2].scatter(X_.ix[:,'orig_longitude'], X_.ix[:,'orig_latitude'], s=70, \n",
    "                         color=color, label=label, alpha=0.9)\n",
    "        \n",
    "    axarr[2].set_title(title+' '+'agglomerative', fontsize=20)\n",
    "    axarr[2].legend(loc='lower left')\n",
    "    \n",
    "    # re-setup X:\n",
    "    X = df\n",
    "    # DBSCAN:\n",
    "    dbscan = DBSCAN(eps=dbscan_eps, min_samples=dbscan_min_samples)\n",
    "    dbscan.fit(X.iloc[:, 0:-1])\n",
    "    \n",
    "    X['dbscan_label'] = dbscan.labels_\n",
    "    X['orig_longitude'] = data['orig_longitude']\n",
    "    X['orig_latitude'] = data['orig_latitude']\n",
    "    \n",
    "    colors = plt.cm.Spectral(np.linspace(0, 1, len(X.dbscan_label.unique())))\n",
    "    \n",
    "    for label, color in zip(X.dbscan_label.unique(), colors):\n",
    "        X_ = X[X.dbscan_label == label]\n",
    "        axarr[3].scatter(X_.ix[:,'orig_longitude'], X_.ix[:,'orig_latitude'], s=70, \n",
    "                         color=color, label=label, alpha=0.9)\n",
    "        \n",
    "    axarr[3].set_title(title+' '+'DBSCAN', fontsize=20)\n",
    "    axarr[3].legend(loc='lower left')\n",
    "    plt.show()\n",
    "    \n",
    "    \n",
    "    "
   ]
  },
  {
   "cell_type": "code",
   "execution_count": 166,
   "metadata": {
    "collapsed": false,
    "scrolled": true
   },
   "outputs": [
    {
     "data": {
      "image/png": "[encoded data removed]",
      "text/plain": [
       "<matplotlib.figure.Figure at 0x11148e0b8>"
      ]
     },
     "metadata": {},
     "output_type": "display_data"
    }
   ],
   "source": [
    "plot_competing_algos(X_dummies, n_clusters_kmeans=6, n_clusters_agg=3,\n",
    "                     dbscan_eps=2, dbscan_min_samples=3)"
   ]
  },
  {
   "cell_type": "markdown",
   "metadata": {},
   "source": [
    "## Results of clustering\n"
   ]
  },
  {
   "cell_type": "markdown",
   "metadata": {},
   "source": [
    "Method: \n",
    "    - The clustering models were fit onto dataframe without the label and the lat long. I chose to do this, because lat long will provide obvious clusters.\n",
    "    - While plotting I plotted the newly found clusters along lat long to see the effect"
   ]
  },
  {
   "cell_type": "code",
   "execution_count": 56,
   "metadata": {
    "collapsed": false
   },
   "outputs": [
    {
     "data": {
      "text/html": [
       "<div>\n",
       "<table border=\"1\" class=\"dataframe\">\n",
       "  <thead>\n",
       "    <tr style=\"text-align: right;\">\n",
       "      <th></th>\n",
       "      <th>AirplaneDamage</th>\n",
       "      <th>Phase</th>\n",
       "      <th>Operator</th>\n",
       "      <th>AirplaneFate</th>\n",
       "      <th>Nature_Code</th>\n",
       "      <th>Type_Code</th>\n",
       "      <th>Engine_Type</th>\n",
       "      <th>Engine_count</th>\n",
       "      <th>Total_Fatal</th>\n",
       "      <th>Total_Occ</th>\n",
       "      <th>GndFatal</th>\n",
       "      <th>Coll_Fatal</th>\n",
       "      <th>Crash_Elev_m</th>\n",
       "      <th>Dep_Airport_1</th>\n",
       "      <th>Dest_Airport_1</th>\n",
       "      <th>Age</th>\n",
       "      <th>Country</th>\n",
       "      <th>Seasons</th>\n",
       "      <th>orig_latitude</th>\n",
       "      <th>orig_longitude</th>\n",
       "      <th>Decade</th>\n",
       "      <th>label</th>\n",
       "      <th>agg_label</th>\n",
       "    </tr>\n",
       "  </thead>\n",
       "  <tbody>\n",
       "    <tr>\n",
       "      <th>21</th>\n",
       "      <td>Substantial</td>\n",
       "      <td>Landing (LDG)</td>\n",
       "      <td>Australian National Airways - ANA</td>\n",
       "      <td>Repaired</td>\n",
       "      <td>Passenger - Domestic</td>\n",
       "      <td>Douglas</td>\n",
       "      <td>Unknown</td>\n",
       "      <td>-1.0</td>\n",
       "      <td>0</td>\n",
       "      <td>0</td>\n",
       "      <td>0</td>\n",
       "      <td>0</td>\n",
       "      <td>0</td>\n",
       "      <td>?</td>\n",
       "      <td>SYD</td>\n",
       "      <td>2</td>\n",
       "      <td>Australia</td>\n",
       "      <td>Spring</td>\n",
       "      <td>-33.939923</td>\n",
       "      <td>151.175276</td>\n",
       "      <td>1930</td>\n",
       "      <td>0</td>\n",
       "      <td>0</td>\n",
       "    </tr>\n",
       "    <tr>\n",
       "      <th>99</th>\n",
       "      <td>Damaged beyond repair</td>\n",
       "      <td>Takeoff (TOF)</td>\n",
       "      <td>Guinea Airways Pty Ltd.</td>\n",
       "      <td>-</td>\n",
       "      <td>Passenger - Domestic</td>\n",
       "      <td>Lockheed</td>\n",
       "      <td>Unknown</td>\n",
       "      <td>-1.0</td>\n",
       "      <td>4</td>\n",
       "      <td>4</td>\n",
       "      <td>0</td>\n",
       "      <td>0</td>\n",
       "      <td>0</td>\n",
       "      <td>KTR</td>\n",
       "      <td>ADL</td>\n",
       "      <td>1</td>\n",
       "      <td>Australia</td>\n",
       "      <td>Summer</td>\n",
       "      <td>-14.520342</td>\n",
       "      <td>132.377505</td>\n",
       "      <td>1930</td>\n",
       "      <td>2</td>\n",
       "      <td>0</td>\n",
       "    </tr>\n",
       "    <tr>\n",
       "      <th>112</th>\n",
       "      <td>Damaged beyond repair</td>\n",
       "      <td>Unknown (UNK)</td>\n",
       "      <td>United States Navy</td>\n",
       "      <td>-</td>\n",
       "      <td>Military</td>\n",
       "      <td>Catalina</td>\n",
       "      <td>Unknown</td>\n",
       "      <td>-1.0</td>\n",
       "      <td>2</td>\n",
       "      <td>7</td>\n",
       "      <td>0</td>\n",
       "      <td>0</td>\n",
       "      <td>0</td>\n",
       "      <td>?</td>\n",
       "      <td>?</td>\n",
       "      <td>0</td>\n",
       "      <td>Fiji</td>\n",
       "      <td>Spring</td>\n",
       "      <td>19.903797</td>\n",
       "      <td>-155.136609</td>\n",
       "      <td>1930</td>\n",
       "      <td>2</td>\n",
       "      <td>1</td>\n",
       "    </tr>\n",
       "    <tr>\n",
       "      <th>117</th>\n",
       "      <td>Damaged beyond repair</td>\n",
       "      <td>En route (ENR)</td>\n",
       "      <td>Australian National Airways - ANA</td>\n",
       "      <td>-</td>\n",
       "      <td>Passenger - Domestic</td>\n",
       "      <td>Douglas</td>\n",
       "      <td>Unknown</td>\n",
       "      <td>-1.0</td>\n",
       "      <td>18</td>\n",
       "      <td>18</td>\n",
       "      <td>0</td>\n",
       "      <td>0</td>\n",
       "      <td>0</td>\n",
       "      <td>ADL</td>\n",
       "      <td>MEB</td>\n",
       "      <td>1</td>\n",
       "      <td>Australia</td>\n",
       "      <td>Spring</td>\n",
       "      <td>-37.831111</td>\n",
       "      <td>145.360000</td>\n",
       "      <td>1930</td>\n",
       "      <td>1</td>\n",
       "      <td>0</td>\n",
       "    </tr>\n",
       "    <tr>\n",
       "      <th>132</th>\n",
       "      <td>Missing</td>\n",
       "      <td>En route (ENR)</td>\n",
       "      <td>Pan American Airways (Pan Am)</td>\n",
       "      <td>Presumed damaged beyond repair</td>\n",
       "      <td>Passenger - Intl</td>\n",
       "      <td>Others</td>\n",
       "      <td>Pratt &amp; Whitney</td>\n",
       "      <td>4.0</td>\n",
       "      <td>15</td>\n",
       "      <td>15</td>\n",
       "      <td>0</td>\n",
       "      <td>0</td>\n",
       "      <td>0</td>\n",
       "      <td>unknown airport</td>\n",
       "      <td>MNL</td>\n",
       "      <td>4</td>\n",
       "      <td>Fiji</td>\n",
       "      <td>Winter</td>\n",
       "      <td>14.599512</td>\n",
       "      <td>120.984220</td>\n",
       "      <td>1930</td>\n",
       "      <td>0</td>\n",
       "      <td>0</td>\n",
       "    </tr>\n",
       "  </tbody>\n",
       "</table>\n",
       "</div>"
      ],
      "text/plain": [
       "             AirplaneDamage            Phase  \\\n",
       "21              Substantial    Landing (LDG)   \n",
       "99    Damaged beyond repair    Takeoff (TOF)   \n",
       "112   Damaged beyond repair    Unknown (UNK)   \n",
       "117   Damaged beyond repair   En route (ENR)   \n",
       "132                 Missing   En route (ENR)   \n",
       "\n",
       "                              Operator                     AirplaneFate  \\\n",
       "21   Australian National Airways - ANA                         Repaired   \n",
       "99             Guinea Airways Pty Ltd.                                -   \n",
       "112                 United States Navy                                -   \n",
       "117  Australian National Airways - ANA                                -   \n",
       "132      Pan American Airways (Pan Am)   Presumed damaged beyond repair   \n",
       "\n",
       "              Nature_Code Type_Code      Engine_Type  Engine_count  \\\n",
       "21   Passenger - Domestic   Douglas          Unknown          -1.0   \n",
       "99   Passenger - Domestic  Lockheed          Unknown          -1.0   \n",
       "112              Military  Catalina          Unknown          -1.0   \n",
       "117  Passenger - Domestic   Douglas          Unknown          -1.0   \n",
       "132      Passenger - Intl    Others  Pratt & Whitney           4.0   \n",
       "\n",
       "     Total_Fatal  Total_Occ  GndFatal  Coll_Fatal  Crash_Elev_m  \\\n",
       "21             0          0         0           0             0   \n",
       "99             4          4         0           0             0   \n",
       "112            2          7         0           0             0   \n",
       "117           18         18         0           0             0   \n",
       "132           15         15         0           0             0   \n",
       "\n",
       "       Dep_Airport_1 Dest_Airport_1  Age    Country Seasons  orig_latitude  \\\n",
       "21                 ?            SYD    2  Australia  Spring     -33.939923   \n",
       "99               KTR            ADL    1  Australia  Summer     -14.520342   \n",
       "112                ?              ?    0       Fiji  Spring      19.903797   \n",
       "117              ADL            MEB    1  Australia  Spring     -37.831111   \n",
       "132  unknown airport            MNL    4       Fiji  Winter      14.599512   \n",
       "\n",
       "     orig_longitude  Decade  label  agg_label  \n",
       "21       151.175276    1930      0          0  \n",
       "99       132.377505    1930      2          0  \n",
       "112     -155.136609    1930      2          1  \n",
       "117      145.360000    1930      1          0  \n",
       "132      120.984220    1930      0          0  "
      ]
     },
     "execution_count": 56,
     "metadata": {},
     "output_type": "execute_result"
    }
   ],
   "source": [
    "data.head()"
   ]
  },
  {
   "cell_type": "code",
   "execution_count": 63,
   "metadata": {
    "collapsed": false
   },
   "outputs": [
    {
     "data": {
      "text/plain": [
       "0    219\n",
       "1     74\n",
       "2      4\n",
       "Name: agg_label, dtype: int64"
      ]
     },
     "execution_count": 63,
     "metadata": {},
     "output_type": "execute_result"
    }
   ],
   "source": [
    "data.agg_label.value_counts()"
   ]
  },
  {
   "cell_type": "code",
   "execution_count": 71,
   "metadata": {
    "collapsed": false
   },
   "outputs": [
    {
     "data": {
      "text/html": [
       "<div>\n",
       "<table border=\"1\" class=\"dataframe\">\n",
       "  <thead>\n",
       "    <tr style=\"text-align: right;\">\n",
       "      <th></th>\n",
       "      <th>AirplaneDamage</th>\n",
       "      <th>Phase</th>\n",
       "      <th>Operator</th>\n",
       "      <th>AirplaneFate</th>\n",
       "      <th>Nature_Code</th>\n",
       "      <th>Type_Code</th>\n",
       "      <th>Engine_Type</th>\n",
       "      <th>Engine_count</th>\n",
       "      <th>Total_Fatal</th>\n",
       "      <th>Total_Occ</th>\n",
       "      <th>GndFatal</th>\n",
       "      <th>Coll_Fatal</th>\n",
       "      <th>Crash_Elev_m</th>\n",
       "      <th>Dep_Airport_1</th>\n",
       "      <th>Dest_Airport_1</th>\n",
       "      <th>Age</th>\n",
       "      <th>Country</th>\n",
       "      <th>Seasons</th>\n",
       "      <th>orig_latitude</th>\n",
       "      <th>orig_longitude</th>\n",
       "      <th>Decade</th>\n",
       "      <th>label</th>\n",
       "      <th>agg_label</th>\n",
       "    </tr>\n",
       "  </thead>\n",
       "  <tbody>\n",
       "    <tr>\n",
       "      <th>21</th>\n",
       "      <td>Substantial</td>\n",
       "      <td>Landing (LDG)</td>\n",
       "      <td>Australian National Airways - ANA</td>\n",
       "      <td>Repaired</td>\n",
       "      <td>Passenger - Domestic</td>\n",
       "      <td>Douglas</td>\n",
       "      <td>Unknown</td>\n",
       "      <td>-1.0</td>\n",
       "      <td>0</td>\n",
       "      <td>0</td>\n",
       "      <td>0</td>\n",
       "      <td>0</td>\n",
       "      <td>0</td>\n",
       "      <td>?</td>\n",
       "      <td>SYD</td>\n",
       "      <td>2</td>\n",
       "      <td>Australia</td>\n",
       "      <td>Spring</td>\n",
       "      <td>-33.939923</td>\n",
       "      <td>151.175276</td>\n",
       "      <td>1930</td>\n",
       "      <td>0</td>\n",
       "      <td>0</td>\n",
       "    </tr>\n",
       "  </tbody>\n",
       "</table>\n",
       "</div>"
      ],
      "text/plain": [
       "   AirplaneDamage           Phase                           Operator  \\\n",
       "21    Substantial   Landing (LDG)  Australian National Airways - ANA   \n",
       "\n",
       "   AirplaneFate           Nature_Code Type_Code Engine_Type  Engine_count  \\\n",
       "21     Repaired  Passenger - Domestic   Douglas     Unknown          -1.0   \n",
       "\n",
       "    Total_Fatal  Total_Occ  GndFatal  Coll_Fatal  Crash_Elev_m Dep_Airport_1  \\\n",
       "21            0          0         0           0             0             ?   \n",
       "\n",
       "   Dest_Airport_1  Age    Country Seasons  orig_latitude  orig_longitude  \\\n",
       "21            SYD    2  Australia  Spring     -33.939923      151.175276   \n",
       "\n",
       "    Decade  label  agg_label  \n",
       "21    1930      0          0  "
      ]
     },
     "execution_count": 71,
     "metadata": {},
     "output_type": "execute_result"
    }
   ],
   "source": [
    "data.head(1)"
   ]
  },
  {
   "cell_type": "code",
   "execution_count": 99,
   "metadata": {
    "collapsed": false
   },
   "outputs": [
    {
     "data": {
      "text/plain": [
       "Autumn    99\n",
       "Summer    98\n",
       "Winter    17\n",
       "Spring     5\n",
       "Name: Seasons, dtype: int64"
      ]
     },
     "execution_count": 99,
     "metadata": {},
     "output_type": "execute_result"
    }
   ],
   "source": [
    "data[data['agg_label'] == 0].Seasons.value_counts()"
   ]
  },
  {
   "cell_type": "code",
   "execution_count": 100,
   "metadata": {
    "collapsed": false
   },
   "outputs": [
    {
     "data": {
      "text/plain": [
       "Summer    39\n",
       "Autumn    28\n",
       "Winter     5\n",
       "Spring     2\n",
       "Name: Seasons, dtype: int64"
      ]
     },
     "execution_count": 100,
     "metadata": {},
     "output_type": "execute_result"
    }
   ],
   "source": [
    "data[data['agg_label'] == 1].Seasons.value_counts()"
   ]
  },
  {
   "cell_type": "code",
   "execution_count": 101,
   "metadata": {
    "collapsed": false
   },
   "outputs": [
    {
     "data": {
      "text/plain": [
       "Autumn    3\n",
       "Summer    1\n",
       "Name: Seasons, dtype: int64"
      ]
     },
     "execution_count": 101,
     "metadata": {},
     "output_type": "execute_result"
    }
   ],
   "source": [
    "data[data['agg_label'] == 2].Seasons.value_counts()"
   ]
  },
  {
   "cell_type": "markdown",
   "metadata": {},
   "source": [
    "> **Source** - https://stats.stackexchange.com/questions/58910/kmeans-whether-to-standardise-can-you-use-categorical-variables-is-cluster-3\n",
    "- Discrete data is a larger issue. K-means is meant for continuous data. The mean will not be discrete, so the cluster centers will likely be anomalous. You have a high chance that the clustering algorithms ends up discovering the discreteness of your data, instead of a sensible structure.\n",
    "\n",
    "- Categorical variables are worse. K-means can't handle them at all; a popular hack is to turn them into multiple binary variables (male, female). This will however expose above problems just at an even worse scale, because now it's multiple highly correlated binary variables.\n",
    "\n",
    "- Since you apparently are dealing with survey data, consider using hierarchical clustering. With an appropriate distance function, it can deal with all above issues. You just need to spend some effort on finding a good measure of similarity."
   ]
  },
  {
   "cell_type": "markdown",
   "metadata": {
    "collapsed": true
   },
   "source": [
    "- mca is a Multiple Correspondence Analysis (MCA) package for python, intended to be used with pandas. MCA is a feature extraction method; essentially PCA for categorical variables. You can use it, for example, to address multicollinearity or the curse of dimensionality with big categorical variables.\n",
    "\n"
   ]
  },
  {
   "cell_type": "code",
   "execution_count": 105,
   "metadata": {
    "collapsed": false
   },
   "outputs": [
    {
     "data": {
      "text/html": [
       "<div>\n",
       "<table border=\"1\" class=\"dataframe\">\n",
       "  <thead>\n",
       "    <tr style=\"text-align: right;\">\n",
       "      <th></th>\n",
       "      <th>AirplaneDamage</th>\n",
       "      <th>Phase</th>\n",
       "      <th>Operator</th>\n",
       "      <th>AirplaneFate</th>\n",
       "      <th>Nature_Code</th>\n",
       "      <th>Type_Code</th>\n",
       "      <th>Engine_Type</th>\n",
       "      <th>Engine_count</th>\n",
       "      <th>Total_Fatal</th>\n",
       "      <th>Total_Occ</th>\n",
       "      <th>GndFatal</th>\n",
       "      <th>Coll_Fatal</th>\n",
       "      <th>Crash_Elev_m</th>\n",
       "      <th>Dep_Airport_1</th>\n",
       "      <th>Dest_Airport_1</th>\n",
       "      <th>Age</th>\n",
       "      <th>Country</th>\n",
       "      <th>Seasons</th>\n",
       "      <th>orig_latitude</th>\n",
       "      <th>orig_longitude</th>\n",
       "      <th>Decade</th>\n",
       "      <th>label</th>\n",
       "      <th>agg_label</th>\n",
       "    </tr>\n",
       "  </thead>\n",
       "  <tbody>\n",
       "    <tr>\n",
       "      <th>21</th>\n",
       "      <td>Substantial</td>\n",
       "      <td>Landing (LDG)</td>\n",
       "      <td>Australian National Airways - ANA</td>\n",
       "      <td>Repaired</td>\n",
       "      <td>Passenger - Domestic</td>\n",
       "      <td>Douglas</td>\n",
       "      <td>Unknown</td>\n",
       "      <td>-1.0</td>\n",
       "      <td>0</td>\n",
       "      <td>0</td>\n",
       "      <td>0</td>\n",
       "      <td>0</td>\n",
       "      <td>0</td>\n",
       "      <td>?</td>\n",
       "      <td>SYD</td>\n",
       "      <td>2</td>\n",
       "      <td>Australia</td>\n",
       "      <td>Spring</td>\n",
       "      <td>-33.939923</td>\n",
       "      <td>151.175276</td>\n",
       "      <td>1930</td>\n",
       "      <td>0</td>\n",
       "      <td>0</td>\n",
       "    </tr>\n",
       "  </tbody>\n",
       "</table>\n",
       "</div>"
      ],
      "text/plain": [
       "   AirplaneDamage           Phase                           Operator  \\\n",
       "21    Substantial   Landing (LDG)  Australian National Airways - ANA   \n",
       "\n",
       "   AirplaneFate           Nature_Code Type_Code Engine_Type  Engine_count  \\\n",
       "21     Repaired  Passenger - Domestic   Douglas     Unknown          -1.0   \n",
       "\n",
       "    Total_Fatal  Total_Occ  GndFatal  Coll_Fatal  Crash_Elev_m Dep_Airport_1  \\\n",
       "21            0          0         0           0             0             ?   \n",
       "\n",
       "   Dest_Airport_1  Age    Country Seasons  orig_latitude  orig_longitude  \\\n",
       "21            SYD    2  Australia  Spring     -33.939923      151.175276   \n",
       "\n",
       "    Decade  label  agg_label  \n",
       "21    1930      0          0  "
      ]
     },
     "execution_count": 105,
     "metadata": {},
     "output_type": "execute_result"
    }
   ],
   "source": [
    "# Can I plot the label against any variables like country to see whats happening\n",
    "data.head(1)"
   ]
  },
  {
   "cell_type": "code",
   "execution_count": 131,
   "metadata": {
    "collapsed": false
   },
   "outputs": [],
   "source": [
    "from sklearn import preprocessing\n",
    "\n",
    "le = preprocessing.LabelEncoder()\n",
    "y = le.fit_transform(data['Seasons'])"
   ]
  },
  {
   "cell_type": "code",
   "execution_count": 132,
   "metadata": {
    "collapsed": true
   },
   "outputs": [],
   "source": [
    "data['Seasons'] = y"
   ]
  },
  {
   "cell_type": "code",
   "execution_count": 134,
   "metadata": {
    "collapsed": false
   },
   "outputs": [
    {
     "data": {
      "text/plain": [
       "2    138\n",
       "0    130\n",
       "3     22\n",
       "1      7\n",
       "Name: Seasons, dtype: int64"
      ]
     },
     "execution_count": 134,
     "metadata": {},
     "output_type": "execute_result"
    }
   ],
   "source": [
    "data['Seasons'].value_counts()"
   ]
  },
  {
   "cell_type": "code",
   "execution_count": 123,
   "metadata": {
    "collapsed": true
   },
   "outputs": [
    {
     "data": {
      "text/html": [
       "<div>\n",
       "<table border=\"1\" class=\"dataframe\">\n",
       "  <thead>\n",
       "    <tr style=\"text-align: right;\">\n",
       "      <th></th>\n",
       "      <th>AirplaneDamage</th>\n",
       "      <th>Phase</th>\n",
       "      <th>Operator</th>\n",
       "      <th>AirplaneFate</th>\n",
       "      <th>Nature_Code</th>\n",
       "      <th>Type_Code</th>\n",
       "      <th>Engine_Type</th>\n",
       "      <th>Engine_count</th>\n",
       "      <th>Total_Fatal</th>\n",
       "      <th>Total_Occ</th>\n",
       "      <th>GndFatal</th>\n",
       "      <th>Coll_Fatal</th>\n",
       "      <th>Crash_Elev_m</th>\n",
       "      <th>Dep_Airport_1</th>\n",
       "      <th>Dest_Airport_1</th>\n",
       "      <th>Age</th>\n",
       "      <th>Country</th>\n",
       "      <th>Seasons</th>\n",
       "      <th>orig_latitude</th>\n",
       "      <th>orig_longitude</th>\n",
       "      <th>Decade</th>\n",
       "      <th>label</th>\n",
       "      <th>agg_label</th>\n",
       "    </tr>\n",
       "  </thead>\n",
       "  <tbody>\n",
       "    <tr>\n",
       "      <th>21</th>\n",
       "      <td>Substantial</td>\n",
       "      <td>Landing (LDG)</td>\n",
       "      <td>Australian National Airways - ANA</td>\n",
       "      <td>Repaired</td>\n",
       "      <td>Passenger - Domestic</td>\n",
       "      <td>Douglas</td>\n",
       "      <td>Unknown</td>\n",
       "      <td>-1.0</td>\n",
       "      <td>0</td>\n",
       "      <td>0</td>\n",
       "      <td>0</td>\n",
       "      <td>0</td>\n",
       "      <td>0</td>\n",
       "      <td>?</td>\n",
       "      <td>SYD</td>\n",
       "      <td>2</td>\n",
       "      <td>1</td>\n",
       "      <td>Spring</td>\n",
       "      <td>-33.939923</td>\n",
       "      <td>151.175276</td>\n",
       "      <td>1930</td>\n",
       "      <td>0</td>\n",
       "      <td>0</td>\n",
       "    </tr>\n",
       "    <tr>\n",
       "      <th>99</th>\n",
       "      <td>Damaged beyond repair</td>\n",
       "      <td>Takeoff (TOF)</td>\n",
       "      <td>Guinea Airways Pty Ltd.</td>\n",
       "      <td>-</td>\n",
       "      <td>Passenger - Domestic</td>\n",
       "      <td>Lockheed</td>\n",
       "      <td>Unknown</td>\n",
       "      <td>-1.0</td>\n",
       "      <td>4</td>\n",
       "      <td>4</td>\n",
       "      <td>0</td>\n",
       "      <td>0</td>\n",
       "      <td>0</td>\n",
       "      <td>KTR</td>\n",
       "      <td>ADL</td>\n",
       "      <td>1</td>\n",
       "      <td>1</td>\n",
       "      <td>Summer</td>\n",
       "      <td>-14.520342</td>\n",
       "      <td>132.377505</td>\n",
       "      <td>1930</td>\n",
       "      <td>2</td>\n",
       "      <td>0</td>\n",
       "    </tr>\n",
       "    <tr>\n",
       "      <th>112</th>\n",
       "      <td>Damaged beyond repair</td>\n",
       "      <td>Unknown (UNK)</td>\n",
       "      <td>United States Navy</td>\n",
       "      <td>-</td>\n",
       "      <td>Military</td>\n",
       "      <td>Catalina</td>\n",
       "      <td>Unknown</td>\n",
       "      <td>-1.0</td>\n",
       "      <td>2</td>\n",
       "      <td>7</td>\n",
       "      <td>0</td>\n",
       "      <td>0</td>\n",
       "      <td>0</td>\n",
       "      <td>?</td>\n",
       "      <td>?</td>\n",
       "      <td>0</td>\n",
       "      <td>2</td>\n",
       "      <td>Spring</td>\n",
       "      <td>19.903797</td>\n",
       "      <td>-155.136609</td>\n",
       "      <td>1930</td>\n",
       "      <td>2</td>\n",
       "      <td>1</td>\n",
       "    </tr>\n",
       "    <tr>\n",
       "      <th>117</th>\n",
       "      <td>Damaged beyond repair</td>\n",
       "      <td>En route (ENR)</td>\n",
       "      <td>Australian National Airways - ANA</td>\n",
       "      <td>-</td>\n",
       "      <td>Passenger - Domestic</td>\n",
       "      <td>Douglas</td>\n",
       "      <td>Unknown</td>\n",
       "      <td>-1.0</td>\n",
       "      <td>18</td>\n",
       "      <td>18</td>\n",
       "      <td>0</td>\n",
       "      <td>0</td>\n",
       "      <td>0</td>\n",
       "      <td>ADL</td>\n",
       "      <td>MEB</td>\n",
       "      <td>1</td>\n",
       "      <td>1</td>\n",
       "      <td>Spring</td>\n",
       "      <td>-37.831111</td>\n",
       "      <td>145.360000</td>\n",
       "      <td>1930</td>\n",
       "      <td>1</td>\n",
       "      <td>0</td>\n",
       "    </tr>\n",
       "    <tr>\n",
       "      <th>132</th>\n",
       "      <td>Missing</td>\n",
       "      <td>En route (ENR)</td>\n",
       "      <td>Pan American Airways (Pan Am)</td>\n",
       "      <td>Presumed damaged beyond repair</td>\n",
       "      <td>Passenger - Intl</td>\n",
       "      <td>Others</td>\n",
       "      <td>Pratt &amp; Whitney</td>\n",
       "      <td>4.0</td>\n",
       "      <td>15</td>\n",
       "      <td>15</td>\n",
       "      <td>0</td>\n",
       "      <td>0</td>\n",
       "      <td>0</td>\n",
       "      <td>unknown airport</td>\n",
       "      <td>MNL</td>\n",
       "      <td>4</td>\n",
       "      <td>2</td>\n",
       "      <td>Winter</td>\n",
       "      <td>14.599512</td>\n",
       "      <td>120.984220</td>\n",
       "      <td>1930</td>\n",
       "      <td>0</td>\n",
       "      <td>0</td>\n",
       "    </tr>\n",
       "  </tbody>\n",
       "</table>\n",
       "</div>"
      ],
      "text/plain": [
       "             AirplaneDamage            Phase  \\\n",
       "21              Substantial    Landing (LDG)   \n",
       "99    Damaged beyond repair    Takeoff (TOF)   \n",
       "112   Damaged beyond repair    Unknown (UNK)   \n",
       "117   Damaged beyond repair   En route (ENR)   \n",
       "132                 Missing   En route (ENR)   \n",
       "\n",
       "                              Operator                     AirplaneFate  \\\n",
       "21   Australian National Airways - ANA                         Repaired   \n",
       "99             Guinea Airways Pty Ltd.                                -   \n",
       "112                 United States Navy                                -   \n",
       "117  Australian National Airways - ANA                                -   \n",
       "132      Pan American Airways (Pan Am)   Presumed damaged beyond repair   \n",
       "\n",
       "              Nature_Code Type_Code      Engine_Type  Engine_count  \\\n",
       "21   Passenger - Domestic   Douglas          Unknown          -1.0   \n",
       "99   Passenger - Domestic  Lockheed          Unknown          -1.0   \n",
       "112              Military  Catalina          Unknown          -1.0   \n",
       "117  Passenger - Domestic   Douglas          Unknown          -1.0   \n",
       "132      Passenger - Intl    Others  Pratt & Whitney           4.0   \n",
       "\n",
       "     Total_Fatal  Total_Occ  GndFatal  Coll_Fatal  Crash_Elev_m  \\\n",
       "21             0          0         0           0             0   \n",
       "99             4          4         0           0             0   \n",
       "112            2          7         0           0             0   \n",
       "117           18         18         0           0             0   \n",
       "132           15         15         0           0             0   \n",
       "\n",
       "       Dep_Airport_1 Dest_Airport_1  Age  Country Seasons  orig_latitude  \\\n",
       "21                 ?            SYD    2        1  Spring     -33.939923   \n",
       "99               KTR            ADL    1        1  Summer     -14.520342   \n",
       "112                ?              ?    0        2  Spring      19.903797   \n",
       "117              ADL            MEB    1        1  Spring     -37.831111   \n",
       "132  unknown airport            MNL    4        2  Winter      14.599512   \n",
       "\n",
       "     orig_longitude  Decade  label  agg_label  \n",
       "21       151.175276    1930      0          0  \n",
       "99       132.377505    1930      2          0  \n",
       "112     -155.136609    1930      2          1  \n",
       "117      145.360000    1930      1          0  \n",
       "132      120.984220    1930      0          0  "
      ]
     },
     "execution_count": 123,
     "metadata": {},
     "output_type": "execute_result"
    }
   ],
   "source": [
    "data.head()"
   ]
  },
  {
   "cell_type": "code",
   "execution_count": 135,
   "metadata": {
    "collapsed": false
   },
   "outputs": [
    {
     "data": {
      "image/png": "[encoded data removed]",
      "text/plain": [
       "<matplotlib.figure.Figure at 0x113402898>"
      ]
     },
     "metadata": {},
     "output_type": "display_data"
    }
   ],
   "source": [
    "colors = plt.cm.Spectral(np.linspace(0, 1, len(data.agg_label.unique())))\n",
    "    \n",
    "for label, color in zip(data.agg_label.unique(), colors):\n",
    "    X_ = data[data.agg_label == label]\n",
    "    plt.scatter(X_.ix[:,'Seasons'], X_.ix[:,'agg_label'],  s=70, color=color, label=label, alpha=0.9)\n",
    "plt.show()"
   ]
  }
 ],
 "metadata": {
  "kernelspec": {
   "display_name": "Python 3",
   "language": "python",
   "name": "python3"
  },
  "language_info": {
   "codemirror_mode": {
    "name": "ipython",
    "version": 3
   },
   "file_extension": ".py",
   "mimetype": "text/x-python",
   "name": "python",
   "nbconvert_exporter": "python",
   "pygments_lexer": "ipython3",
   "version": "3.6.0"
  }
 },
 "nbformat": 4,
 "nbformat_minor": 2
}
