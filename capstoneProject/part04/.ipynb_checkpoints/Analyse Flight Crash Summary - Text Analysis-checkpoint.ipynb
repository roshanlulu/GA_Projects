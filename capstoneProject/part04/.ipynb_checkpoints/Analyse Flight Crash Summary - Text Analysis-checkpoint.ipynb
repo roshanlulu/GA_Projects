{
 "cells": [
  {
   "cell_type": "markdown",
   "metadata": {
    "collapsed": true
   },
   "source": [
    "## Analyse Summary of Passenger Flights"
   ]
  },
  {
   "cell_type": "code",
   "execution_count": 3,
   "metadata": {
    "collapsed": true
   },
   "outputs": [],
   "source": [
    "import pandas as pd"
   ]
  },
  {
   "cell_type": "code",
   "execution_count": 4,
   "metadata": {
    "collapsed": false
   },
   "outputs": [],
   "source": [
    "data = pd.read_csv('./dataset/cleaned_merged_dataset.csv')"
   ]
  },
  {
   "cell_type": "code",
   "execution_count": 5,
   "metadata": {
    "collapsed": false
   },
   "outputs": [
    {
     "data": {
      "text/plain": [
       "Index(['Engines', 'Narrative', 'FlightNumber', 'AirplaneDamage', 'Phase',\n",
       "       'DestinationAirport', 'Date', 'Time', 'DepartureAirport', 'Operator',\n",
       "       'AirplaneFate', 'FirstFlight', 'Nature_Code', 'Type_Code',\n",
       "       'Engine_Type', 'Engine_count', 'Crew_Fatal', 'Crew_Occ', 'Total_Fatal',\n",
       "       'Total_Occ', 'Psngr_Fatal', 'Psngr_Occ', 'GndFatal', 'Coll_Fatal',\n",
       "       'Crash_Elev_m', 'Day', 'Month', 'Year', 'Dep_Airport_1',\n",
       "       'Dest_Airport_1', 'Age', 'Country', 'latlon', 'sub_place', 'Continents',\n",
       "       'Hemisphere', 'Seasons', 'orig_latitude', 'orig_longitude', 'Decade'],\n",
       "      dtype='object')"
      ]
     },
     "execution_count": 5,
     "metadata": {},
     "output_type": "execute_result"
    }
   ],
   "source": [
    "data.columns"
   ]
  },
  {
   "cell_type": "code",
   "execution_count": 7,
   "metadata": {
    "collapsed": false
   },
   "outputs": [
    {
     "data": {
      "text/plain": [
       "Military                2147\n",
       "Passenger - Domestic    2005\n",
       "Unknown                 1235\n",
       "Cargo                    822\n",
       "Passenger - Intl         695\n",
       "Train/Test/Demo          340\n",
       "Ferry/positioning        282\n",
       "Executive                212\n",
       "Private                  169\n",
       "Agricultural              71\n",
       "Illegal Flight            58\n",
       "Ambulance                 38\n",
       "Fire fighting             24\n",
       "Name: Nature_Code, dtype: int64"
      ]
     },
     "execution_count": 7,
     "metadata": {},
     "output_type": "execute_result"
    }
   ],
   "source": [
    "data.Nature_Code.value_counts()"
   ]
  },
  {
   "cell_type": "code",
   "execution_count": 8,
   "metadata": {
    "collapsed": false
   },
   "outputs": [],
   "source": [
    "# mask = (data.Nature_Code == 'Passenger - Domestic') | (data.Nature_Code == 'Passenger - Intl')\n",
    "# data_comm = data[mask]\n",
    "# mask = (data.Year > 1960)\n",
    "# data_comm = data_comm[mask]"
   ]
  },
  {
   "cell_type": "code",
   "execution_count": 10,
   "metadata": {
    "collapsed": false
   },
   "outputs": [
    {
     "data": {
      "text/plain": [
       "Index(['Engines', 'Narrative', 'FlightNumber', 'AirplaneDamage', 'Phase',\n",
       "       'DestinationAirport', 'Date', 'Time', 'DepartureAirport', 'Operator',\n",
       "       'AirplaneFate', 'FirstFlight', 'Nature_Code', 'Type_Code',\n",
       "       'Engine_Type', 'Engine_count', 'Crew_Fatal', 'Crew_Occ', 'Total_Fatal',\n",
       "       'Total_Occ', 'Psngr_Fatal', 'Psngr_Occ', 'GndFatal', 'Coll_Fatal',\n",
       "       'Crash_Elev_m', 'Day', 'Month', 'Year', 'Dep_Airport_1',\n",
       "       'Dest_Airport_1', 'Age', 'Country', 'latlon', 'sub_place', 'Continents',\n",
       "       'Hemisphere', 'Seasons', 'orig_latitude', 'orig_longitude', 'Decade'],\n",
       "      dtype='object')"
      ]
     },
     "execution_count": 10,
     "metadata": {},
     "output_type": "execute_result"
    }
   ],
   "source": [
    "data.columns"
   ]
  },
  {
   "cell_type": "code",
   "execution_count": 11,
   "metadata": {
    "collapsed": false,
    "scrolled": false
   },
   "outputs": [
    {
     "name": "stdout",
     "output_type": "stream",
     "text": [
      "Length of Data frame 8098\n"
     ]
    }
   ],
   "source": [
    "print('Length of Data frame', data.shape[0])\n",
    "for col in data.columns:\n",
    "    try:\n",
    "        if(len(data_comm[data[col] == '-']) != 0):\n",
    "            print(col, len(data[data[col] == '-']))\n",
    "    except:\n",
    "        continue\n",
    "\n",
    "# Unknown values more for : Engines, Airplane Fate, "
   ]
  },
  {
   "cell_type": "code",
   "execution_count": 12,
   "metadata": {
    "collapsed": false,
    "scrolled": true
   },
   "outputs": [
    {
     "data": {
      "text/html": [
       "<div>\n",
       "<table border=\"1\" class=\"dataframe\">\n",
       "  <thead>\n",
       "    <tr style=\"text-align: right;\">\n",
       "      <th></th>\n",
       "      <th>Year</th>\n",
       "      <th>Count</th>\n",
       "    </tr>\n",
       "  </thead>\n",
       "  <tbody>\n",
       "    <tr>\n",
       "      <th>79</th>\n",
       "      <td>2017</td>\n",
       "      <td>46</td>\n",
       "    </tr>\n",
       "    <tr>\n",
       "      <th>32</th>\n",
       "      <td>2016</td>\n",
       "      <td>100</td>\n",
       "    </tr>\n",
       "    <tr>\n",
       "      <th>16</th>\n",
       "      <td>2015</td>\n",
       "      <td>101</td>\n",
       "    </tr>\n",
       "    <tr>\n",
       "      <th>71</th>\n",
       "      <td>2014</td>\n",
       "      <td>97</td>\n",
       "    </tr>\n",
       "    <tr>\n",
       "      <th>7</th>\n",
       "      <td>2013</td>\n",
       "      <td>101</td>\n",
       "    </tr>\n",
       "    <tr>\n",
       "      <th>33</th>\n",
       "      <td>2012</td>\n",
       "      <td>100</td>\n",
       "    </tr>\n",
       "    <tr>\n",
       "      <th>44</th>\n",
       "      <td>2011</td>\n",
       "      <td>100</td>\n",
       "    </tr>\n",
       "    <tr>\n",
       "      <th>45</th>\n",
       "      <td>2010</td>\n",
       "      <td>100</td>\n",
       "    </tr>\n",
       "    <tr>\n",
       "      <th>43</th>\n",
       "      <td>2009</td>\n",
       "      <td>100</td>\n",
       "    </tr>\n",
       "    <tr>\n",
       "      <th>22</th>\n",
       "      <td>2008</td>\n",
       "      <td>100</td>\n",
       "    </tr>\n",
       "    <tr>\n",
       "      <th>36</th>\n",
       "      <td>2007</td>\n",
       "      <td>100</td>\n",
       "    </tr>\n",
       "    <tr>\n",
       "      <th>55</th>\n",
       "      <td>2006</td>\n",
       "      <td>99</td>\n",
       "    </tr>\n",
       "    <tr>\n",
       "      <th>60</th>\n",
       "      <td>2005</td>\n",
       "      <td>99</td>\n",
       "    </tr>\n",
       "    <tr>\n",
       "      <th>23</th>\n",
       "      <td>2004</td>\n",
       "      <td>100</td>\n",
       "    </tr>\n",
       "    <tr>\n",
       "      <th>62</th>\n",
       "      <td>2003</td>\n",
       "      <td>98</td>\n",
       "    </tr>\n",
       "    <tr>\n",
       "      <th>29</th>\n",
       "      <td>2002</td>\n",
       "      <td>100</td>\n",
       "    </tr>\n",
       "    <tr>\n",
       "      <th>13</th>\n",
       "      <td>2001</td>\n",
       "      <td>101</td>\n",
       "    </tr>\n",
       "    <tr>\n",
       "      <th>74</th>\n",
       "      <td>2000</td>\n",
       "      <td>96</td>\n",
       "    </tr>\n",
       "    <tr>\n",
       "      <th>4</th>\n",
       "      <td>1999</td>\n",
       "      <td>102</td>\n",
       "    </tr>\n",
       "    <tr>\n",
       "      <th>48</th>\n",
       "      <td>1998</td>\n",
       "      <td>100</td>\n",
       "    </tr>\n",
       "    <tr>\n",
       "      <th>59</th>\n",
       "      <td>1997</td>\n",
       "      <td>99</td>\n",
       "    </tr>\n",
       "    <tr>\n",
       "      <th>17</th>\n",
       "      <td>1996</td>\n",
       "      <td>101</td>\n",
       "    </tr>\n",
       "    <tr>\n",
       "      <th>41</th>\n",
       "      <td>1995</td>\n",
       "      <td>100</td>\n",
       "    </tr>\n",
       "    <tr>\n",
       "      <th>15</th>\n",
       "      <td>1994</td>\n",
       "      <td>101</td>\n",
       "    </tr>\n",
       "    <tr>\n",
       "      <th>58</th>\n",
       "      <td>1993</td>\n",
       "      <td>99</td>\n",
       "    </tr>\n",
       "    <tr>\n",
       "      <th>35</th>\n",
       "      <td>1992</td>\n",
       "      <td>100</td>\n",
       "    </tr>\n",
       "    <tr>\n",
       "      <th>9</th>\n",
       "      <td>1991</td>\n",
       "      <td>101</td>\n",
       "    </tr>\n",
       "    <tr>\n",
       "      <th>66</th>\n",
       "      <td>1990</td>\n",
       "      <td>98</td>\n",
       "    </tr>\n",
       "    <tr>\n",
       "      <th>50</th>\n",
       "      <td>1989</td>\n",
       "      <td>99</td>\n",
       "    </tr>\n",
       "    <tr>\n",
       "      <th>1</th>\n",
       "      <td>1988</td>\n",
       "      <td>103</td>\n",
       "    </tr>\n",
       "    <tr>\n",
       "      <th>...</th>\n",
       "      <td>...</td>\n",
       "      <td>...</td>\n",
       "    </tr>\n",
       "    <tr>\n",
       "      <th>31</th>\n",
       "      <td>1948</td>\n",
       "      <td>100</td>\n",
       "    </tr>\n",
       "    <tr>\n",
       "      <th>28</th>\n",
       "      <td>1947</td>\n",
       "      <td>100</td>\n",
       "    </tr>\n",
       "    <tr>\n",
       "      <th>46</th>\n",
       "      <td>1946</td>\n",
       "      <td>100</td>\n",
       "    </tr>\n",
       "    <tr>\n",
       "      <th>38</th>\n",
       "      <td>1945</td>\n",
       "      <td>100</td>\n",
       "    </tr>\n",
       "    <tr>\n",
       "      <th>21</th>\n",
       "      <td>1944</td>\n",
       "      <td>100</td>\n",
       "    </tr>\n",
       "    <tr>\n",
       "      <th>39</th>\n",
       "      <td>1943</td>\n",
       "      <td>100</td>\n",
       "    </tr>\n",
       "    <tr>\n",
       "      <th>54</th>\n",
       "      <td>1942</td>\n",
       "      <td>99</td>\n",
       "    </tr>\n",
       "    <tr>\n",
       "      <th>51</th>\n",
       "      <td>1941</td>\n",
       "      <td>99</td>\n",
       "    </tr>\n",
       "    <tr>\n",
       "      <th>57</th>\n",
       "      <td>1940</td>\n",
       "      <td>99</td>\n",
       "    </tr>\n",
       "    <tr>\n",
       "      <th>78</th>\n",
       "      <td>1939</td>\n",
       "      <td>53</td>\n",
       "    </tr>\n",
       "    <tr>\n",
       "      <th>77</th>\n",
       "      <td>1938</td>\n",
       "      <td>66</td>\n",
       "    </tr>\n",
       "    <tr>\n",
       "      <th>80</th>\n",
       "      <td>1937</td>\n",
       "      <td>41</td>\n",
       "    </tr>\n",
       "    <tr>\n",
       "      <th>81</th>\n",
       "      <td>1936</td>\n",
       "      <td>41</td>\n",
       "    </tr>\n",
       "    <tr>\n",
       "      <th>82</th>\n",
       "      <td>1935</td>\n",
       "      <td>32</td>\n",
       "    </tr>\n",
       "    <tr>\n",
       "      <th>83</th>\n",
       "      <td>1934</td>\n",
       "      <td>21</td>\n",
       "    </tr>\n",
       "    <tr>\n",
       "      <th>87</th>\n",
       "      <td>1933</td>\n",
       "      <td>15</td>\n",
       "    </tr>\n",
       "    <tr>\n",
       "      <th>90</th>\n",
       "      <td>1932</td>\n",
       "      <td>8</td>\n",
       "    </tr>\n",
       "    <tr>\n",
       "      <th>86</th>\n",
       "      <td>1931</td>\n",
       "      <td>15</td>\n",
       "    </tr>\n",
       "    <tr>\n",
       "      <th>85</th>\n",
       "      <td>1930</td>\n",
       "      <td>19</td>\n",
       "    </tr>\n",
       "    <tr>\n",
       "      <th>84</th>\n",
       "      <td>1929</td>\n",
       "      <td>20</td>\n",
       "    </tr>\n",
       "    <tr>\n",
       "      <th>88</th>\n",
       "      <td>1928</td>\n",
       "      <td>13</td>\n",
       "    </tr>\n",
       "    <tr>\n",
       "      <th>97</th>\n",
       "      <td>1927</td>\n",
       "      <td>2</td>\n",
       "    </tr>\n",
       "    <tr>\n",
       "      <th>92</th>\n",
       "      <td>1926</td>\n",
       "      <td>4</td>\n",
       "    </tr>\n",
       "    <tr>\n",
       "      <th>95</th>\n",
       "      <td>1925</td>\n",
       "      <td>2</td>\n",
       "    </tr>\n",
       "    <tr>\n",
       "      <th>94</th>\n",
       "      <td>1924</td>\n",
       "      <td>3</td>\n",
       "    </tr>\n",
       "    <tr>\n",
       "      <th>89</th>\n",
       "      <td>1923</td>\n",
       "      <td>9</td>\n",
       "    </tr>\n",
       "    <tr>\n",
       "      <th>98</th>\n",
       "      <td>1922</td>\n",
       "      <td>1</td>\n",
       "    </tr>\n",
       "    <tr>\n",
       "      <th>91</th>\n",
       "      <td>1921</td>\n",
       "      <td>7</td>\n",
       "    </tr>\n",
       "    <tr>\n",
       "      <th>93</th>\n",
       "      <td>1920</td>\n",
       "      <td>4</td>\n",
       "    </tr>\n",
       "    <tr>\n",
       "      <th>96</th>\n",
       "      <td>1919</td>\n",
       "      <td>2</td>\n",
       "    </tr>\n",
       "  </tbody>\n",
       "</table>\n",
       "<p>99 rows × 2 columns</p>\n",
       "</div>"
      ],
      "text/plain": [
       "    Year  Count\n",
       "79  2017     46\n",
       "32  2016    100\n",
       "16  2015    101\n",
       "71  2014     97\n",
       "7   2013    101\n",
       "33  2012    100\n",
       "44  2011    100\n",
       "45  2010    100\n",
       "43  2009    100\n",
       "22  2008    100\n",
       "36  2007    100\n",
       "55  2006     99\n",
       "60  2005     99\n",
       "23  2004    100\n",
       "62  2003     98\n",
       "29  2002    100\n",
       "13  2001    101\n",
       "74  2000     96\n",
       "4   1999    102\n",
       "48  1998    100\n",
       "59  1997     99\n",
       "17  1996    101\n",
       "41  1995    100\n",
       "15  1994    101\n",
       "58  1993     99\n",
       "35  1992    100\n",
       "9   1991    101\n",
       "66  1990     98\n",
       "50  1989     99\n",
       "1   1988    103\n",
       "..   ...    ...\n",
       "31  1948    100\n",
       "28  1947    100\n",
       "46  1946    100\n",
       "38  1945    100\n",
       "21  1944    100\n",
       "39  1943    100\n",
       "54  1942     99\n",
       "51  1941     99\n",
       "57  1940     99\n",
       "78  1939     53\n",
       "77  1938     66\n",
       "80  1937     41\n",
       "81  1936     41\n",
       "82  1935     32\n",
       "83  1934     21\n",
       "87  1933     15\n",
       "90  1932      8\n",
       "86  1931     15\n",
       "85  1930     19\n",
       "84  1929     20\n",
       "88  1928     13\n",
       "97  1927      2\n",
       "92  1926      4\n",
       "95  1925      2\n",
       "94  1924      3\n",
       "89  1923      9\n",
       "98  1922      1\n",
       "91  1921      7\n",
       "93  1920      4\n",
       "96  1919      2\n",
       "\n",
       "[99 rows x 2 columns]"
      ]
     },
     "execution_count": 12,
     "metadata": {},
     "output_type": "execute_result"
    }
   ],
   "source": [
    "check_year = pd.DataFrame(data['Year'].value_counts().sort_values(ascending = False)).reset_index()\n",
    "check_year.reset_index(drop = True, inplace = True)\n",
    "check_year.columns = ['Year', 'Count']\n",
    "check_year.sort_values('Year', ascending =False)"
   ]
  },
  {
   "cell_type": "code",
   "execution_count": 13,
   "metadata": {
    "collapsed": false
   },
   "outputs": [
    {
     "data": {
      "text/plain": [
       "(8098, 40)"
      ]
     },
     "execution_count": 13,
     "metadata": {},
     "output_type": "execute_result"
    }
   ],
   "source": [
    "data.shape"
   ]
  },
  {
   "cell_type": "code",
   "execution_count": 14,
   "metadata": {
    "collapsed": false
   },
   "outputs": [
    {
     "data": {
      "text/html": [
       "<div>\n",
       "<table border=\"1\" class=\"dataframe\">\n",
       "  <thead>\n",
       "    <tr style=\"text-align: right;\">\n",
       "      <th></th>\n",
       "      <th>FlightNumber</th>\n",
       "      <th>Date</th>\n",
       "      <th>FirstFlight</th>\n",
       "      <th>Engine_count</th>\n",
       "      <th>Crew_Fatal</th>\n",
       "      <th>Crew_Occ</th>\n",
       "      <th>Total_Fatal</th>\n",
       "      <th>Total_Occ</th>\n",
       "      <th>Psngr_Fatal</th>\n",
       "      <th>Psngr_Occ</th>\n",
       "      <th>GndFatal</th>\n",
       "      <th>Coll_Fatal</th>\n",
       "      <th>Crash_Elev_m</th>\n",
       "      <th>Year</th>\n",
       "      <th>Age</th>\n",
       "      <th>orig_latitude</th>\n",
       "      <th>orig_longitude</th>\n",
       "      <th>Decade</th>\n",
       "    </tr>\n",
       "  </thead>\n",
       "  <tbody>\n",
       "    <tr>\n",
       "      <th>count</th>\n",
       "      <td>8098.000000</td>\n",
       "      <td>8098.000000</td>\n",
       "      <td>8098.000000</td>\n",
       "      <td>8098.000000</td>\n",
       "      <td>8098.000000</td>\n",
       "      <td>8098.000000</td>\n",
       "      <td>8098.000000</td>\n",
       "      <td>8098.000000</td>\n",
       "      <td>8098.000000</td>\n",
       "      <td>8098.000000</td>\n",
       "      <td>8098.000000</td>\n",
       "      <td>8098.000000</td>\n",
       "      <td>8098.000000</td>\n",
       "      <td>8098.000000</td>\n",
       "      <td>8098.000000</td>\n",
       "      <td>8098.000000</td>\n",
       "      <td>8098.000000</td>\n",
       "      <td>8098.000000</td>\n",
       "    </tr>\n",
       "    <tr>\n",
       "      <th>mean</th>\n",
       "      <td>4106.923561</td>\n",
       "      <td>14.851321</td>\n",
       "      <td>1485.222401</td>\n",
       "      <td>0.627192</td>\n",
       "      <td>1.271302</td>\n",
       "      <td>2.750185</td>\n",
       "      <td>5.826871</td>\n",
       "      <td>19.122993</td>\n",
       "      <td>4.107804</td>\n",
       "      <td>14.204989</td>\n",
       "      <td>0.173006</td>\n",
       "      <td>0.183626</td>\n",
       "      <td>30.098049</td>\n",
       "      <td>1976.198074</td>\n",
       "      <td>11.319956</td>\n",
       "      <td>27.652706</td>\n",
       "      <td>-8.908933</td>\n",
       "      <td>1971.739936</td>\n",
       "    </tr>\n",
       "    <tr>\n",
       "      <th>std</th>\n",
       "      <td>2347.749877</td>\n",
       "      <td>8.774978</td>\n",
       "      <td>843.747780</td>\n",
       "      <td>1.787925</td>\n",
       "      <td>2.324565</td>\n",
       "      <td>3.139143</td>\n",
       "      <td>18.492538</td>\n",
       "      <td>40.917068</td>\n",
       "      <td>17.042287</td>\n",
       "      <td>37.095905</td>\n",
       "      <td>4.198111</td>\n",
       "      <td>4.995786</td>\n",
       "      <td>271.878328</td>\n",
       "      <td>23.753838</td>\n",
       "      <td>12.592089</td>\n",
       "      <td>24.644362</td>\n",
       "      <td>80.953802</td>\n",
       "      <td>23.892498</td>\n",
       "    </tr>\n",
       "    <tr>\n",
       "      <th>min</th>\n",
       "      <td>12.000000</td>\n",
       "      <td>0.000000</td>\n",
       "      <td>0.000000</td>\n",
       "      <td>-1.000000</td>\n",
       "      <td>0.000000</td>\n",
       "      <td>0.000000</td>\n",
       "      <td>0.000000</td>\n",
       "      <td>0.000000</td>\n",
       "      <td>0.000000</td>\n",
       "      <td>0.000000</td>\n",
       "      <td>0.000000</td>\n",
       "      <td>0.000000</td>\n",
       "      <td>-3.000000</td>\n",
       "      <td>1919.000000</td>\n",
       "      <td>0.000000</td>\n",
       "      <td>-85.100001</td>\n",
       "      <td>-179.431122</td>\n",
       "      <td>1910.000000</td>\n",
       "    </tr>\n",
       "    <tr>\n",
       "      <th>25%</th>\n",
       "      <td>2084.250000</td>\n",
       "      <td>7.000000</td>\n",
       "      <td>1927.000000</td>\n",
       "      <td>-1.000000</td>\n",
       "      <td>0.000000</td>\n",
       "      <td>0.000000</td>\n",
       "      <td>0.000000</td>\n",
       "      <td>0.000000</td>\n",
       "      <td>0.000000</td>\n",
       "      <td>0.000000</td>\n",
       "      <td>0.000000</td>\n",
       "      <td>0.000000</td>\n",
       "      <td>0.000000</td>\n",
       "      <td>1956.000000</td>\n",
       "      <td>0.000000</td>\n",
       "      <td>12.994112</td>\n",
       "      <td>-78.639207</td>\n",
       "      <td>1950.000000</td>\n",
       "    </tr>\n",
       "    <tr>\n",
       "      <th>50%</th>\n",
       "      <td>4108.500000</td>\n",
       "      <td>15.000000</td>\n",
       "      <td>1949.000000</td>\n",
       "      <td>-1.000000</td>\n",
       "      <td>0.000000</td>\n",
       "      <td>2.000000</td>\n",
       "      <td>0.000000</td>\n",
       "      <td>4.000000</td>\n",
       "      <td>0.000000</td>\n",
       "      <td>0.000000</td>\n",
       "      <td>0.000000</td>\n",
       "      <td>0.000000</td>\n",
       "      <td>0.000000</td>\n",
       "      <td>1976.000000</td>\n",
       "      <td>7.000000</td>\n",
       "      <td>34.565833</td>\n",
       "      <td>-0.117601</td>\n",
       "      <td>1970.000000</td>\n",
       "    </tr>\n",
       "    <tr>\n",
       "      <th>75%</th>\n",
       "      <td>6134.750000</td>\n",
       "      <td>22.000000</td>\n",
       "      <td>1975.000000</td>\n",
       "      <td>2.000000</td>\n",
       "      <td>2.000000</td>\n",
       "      <td>4.000000</td>\n",
       "      <td>4.000000</td>\n",
       "      <td>16.000000</td>\n",
       "      <td>0.000000</td>\n",
       "      <td>9.000000</td>\n",
       "      <td>0.000000</td>\n",
       "      <td>0.000000</td>\n",
       "      <td>0.000000</td>\n",
       "      <td>1997.000000</td>\n",
       "      <td>19.000000</td>\n",
       "      <td>44.669441</td>\n",
       "      <td>43.416913</td>\n",
       "      <td>1990.000000</td>\n",
       "    </tr>\n",
       "    <tr>\n",
       "      <th>max</th>\n",
       "      <td>8171.000000</td>\n",
       "      <td>31.000000</td>\n",
       "      <td>2016.000000</td>\n",
       "      <td>8.000000</td>\n",
       "      <td>23.000000</td>\n",
       "      <td>29.000000</td>\n",
       "      <td>346.000000</td>\n",
       "      <td>425.000000</td>\n",
       "      <td>335.000000</td>\n",
       "      <td>409.000000</td>\n",
       "      <td>237.000000</td>\n",
       "      <td>335.000000</td>\n",
       "      <td>5974.000000</td>\n",
       "      <td>2017.000000</td>\n",
       "      <td>72.000000</td>\n",
       "      <td>87.000000</td>\n",
       "      <td>179.340356</td>\n",
       "      <td>2010.000000</td>\n",
       "    </tr>\n",
       "  </tbody>\n",
       "</table>\n",
       "</div>"
      ],
      "text/plain": [
       "       FlightNumber         Date  FirstFlight  Engine_count   Crew_Fatal  \\\n",
       "count   8098.000000  8098.000000  8098.000000   8098.000000  8098.000000   \n",
       "mean    4106.923561    14.851321  1485.222401      0.627192     1.271302   \n",
       "std     2347.749877     8.774978   843.747780      1.787925     2.324565   \n",
       "min       12.000000     0.000000     0.000000     -1.000000     0.000000   \n",
       "25%     2084.250000     7.000000  1927.000000     -1.000000     0.000000   \n",
       "50%     4108.500000    15.000000  1949.000000     -1.000000     0.000000   \n",
       "75%     6134.750000    22.000000  1975.000000      2.000000     2.000000   \n",
       "max     8171.000000    31.000000  2016.000000      8.000000    23.000000   \n",
       "\n",
       "          Crew_Occ  Total_Fatal    Total_Occ  Psngr_Fatal    Psngr_Occ  \\\n",
       "count  8098.000000  8098.000000  8098.000000  8098.000000  8098.000000   \n",
       "mean      2.750185     5.826871    19.122993     4.107804    14.204989   \n",
       "std       3.139143    18.492538    40.917068    17.042287    37.095905   \n",
       "min       0.000000     0.000000     0.000000     0.000000     0.000000   \n",
       "25%       0.000000     0.000000     0.000000     0.000000     0.000000   \n",
       "50%       2.000000     0.000000     4.000000     0.000000     0.000000   \n",
       "75%       4.000000     4.000000    16.000000     0.000000     9.000000   \n",
       "max      29.000000   346.000000   425.000000   335.000000   409.000000   \n",
       "\n",
       "          GndFatal   Coll_Fatal  Crash_Elev_m         Year          Age  \\\n",
       "count  8098.000000  8098.000000   8098.000000  8098.000000  8098.000000   \n",
       "mean      0.173006     0.183626     30.098049  1976.198074    11.319956   \n",
       "std       4.198111     4.995786    271.878328    23.753838    12.592089   \n",
       "min       0.000000     0.000000     -3.000000  1919.000000     0.000000   \n",
       "25%       0.000000     0.000000      0.000000  1956.000000     0.000000   \n",
       "50%       0.000000     0.000000      0.000000  1976.000000     7.000000   \n",
       "75%       0.000000     0.000000      0.000000  1997.000000    19.000000   \n",
       "max     237.000000   335.000000   5974.000000  2017.000000    72.000000   \n",
       "\n",
       "       orig_latitude  orig_longitude       Decade  \n",
       "count    8098.000000     8098.000000  8098.000000  \n",
       "mean       27.652706       -8.908933  1971.739936  \n",
       "std        24.644362       80.953802    23.892498  \n",
       "min       -85.100001     -179.431122  1910.000000  \n",
       "25%        12.994112      -78.639207  1950.000000  \n",
       "50%        34.565833       -0.117601  1970.000000  \n",
       "75%        44.669441       43.416913  1990.000000  \n",
       "max        87.000000      179.340356  2010.000000  "
      ]
     },
     "execution_count": 14,
     "metadata": {},
     "output_type": "execute_result"
    }
   ],
   "source": [
    "data.describe()"
   ]
  },
  {
   "cell_type": "code",
   "execution_count": 15,
   "metadata": {
    "collapsed": false,
    "scrolled": true
   },
   "outputs": [
    {
     "name": "stdout",
     "output_type": "stream",
     "text": [
      "<class 'pandas.core.frame.DataFrame'>\n",
      "RangeIndex: 8098 entries, 0 to 8097\n",
      "Data columns (total 40 columns):\n",
      "Engines               8098 non-null object\n",
      "Narrative             8098 non-null object\n",
      "FlightNumber          8098 non-null int64\n",
      "AirplaneDamage        8098 non-null object\n",
      "Phase                 8098 non-null object\n",
      "DestinationAirport    8098 non-null object\n",
      "Date                  8098 non-null int64\n",
      "Time                  8098 non-null object\n",
      "DepartureAirport      8098 non-null object\n",
      "Operator              8098 non-null object\n",
      "AirplaneFate          8098 non-null object\n",
      "FirstFlight           8098 non-null int64\n",
      "Nature_Code           8098 non-null object\n",
      "Type_Code             8098 non-null object\n",
      "Engine_Type           8098 non-null object\n",
      "Engine_count          8098 non-null float64\n",
      "Crew_Fatal            8098 non-null int64\n",
      "Crew_Occ              8098 non-null int64\n",
      "Total_Fatal           8098 non-null int64\n",
      "Total_Occ             8098 non-null int64\n",
      "Psngr_Fatal           8098 non-null int64\n",
      "Psngr_Occ             8098 non-null int64\n",
      "GndFatal              8098 non-null int64\n",
      "Coll_Fatal            8098 non-null int64\n",
      "Crash_Elev_m          8098 non-null int64\n",
      "Day                   8098 non-null object\n",
      "Month                 8098 non-null object\n",
      "Year                  8098 non-null int64\n",
      "Dep_Airport_1         8098 non-null object\n",
      "Dest_Airport_1        8098 non-null object\n",
      "Age                   8098 non-null int64\n",
      "Country               8098 non-null object\n",
      "latlon                8098 non-null object\n",
      "sub_place             8098 non-null object\n",
      "Continents            8098 non-null object\n",
      "Hemisphere            8098 non-null object\n",
      "Seasons               8098 non-null object\n",
      "orig_latitude         8098 non-null float64\n",
      "orig_longitude        8098 non-null float64\n",
      "Decade                8098 non-null int64\n",
      "dtypes: float64(3), int64(15), object(22)\n",
      "memory usage: 2.5+ MB\n"
     ]
    }
   ],
   "source": [
    "data.info()"
   ]
  },
  {
   "cell_type": "code",
   "execution_count": 16,
   "metadata": {
    "collapsed": false
   },
   "outputs": [
    {
     "data": {
      "text/plain": [
       "0    A Beech 1900D aircraft operated by North-Wrigh...\n",
       "1    A Shorts 330 cargo plane impacted wooded terra...\n",
       "2    The pilot of a Cessna 208B Grand Caravan was k...\n",
       "3    The Junkers Ju-52/3mce named \"Huanuni\" crashed...\n",
       "4    Crashed in bad weather. Flight: Paris-Lyon-Mar...\n",
       "Name: Narrative, dtype: object"
      ]
     },
     "execution_count": 16,
     "metadata": {},
     "output_type": "execute_result"
    }
   ],
   "source": [
    "data.Narrative.head()"
   ]
  },
  {
   "cell_type": "code",
   "execution_count": 17,
   "metadata": {
    "collapsed": true
   },
   "outputs": [],
   "source": [
    "txt_data = data[:]"
   ]
  },
  {
   "cell_type": "markdown",
   "metadata": {},
   "source": [
    "## Lets start with the text analytics"
   ]
  },
  {
   "cell_type": "code",
   "execution_count": 18,
   "metadata": {
    "collapsed": true
   },
   "outputs": [],
   "source": [
    "import pandas as pd\n",
    "import numpy as np\n",
    "\n",
    "import seaborn as sns\n",
    "sns.set(font_scale=1.5)\n",
    "\n",
    "import matplotlib.pyplot as plt\n",
    "%matplotlib inline\n",
    "\n",
    "pd.set_option('display.max_rows', 50)\n",
    "pd.set_option('display.max_columns', 50)"
   ]
  },
  {
   "cell_type": "code",
   "execution_count": 19,
   "metadata": {
    "collapsed": false
   },
   "outputs": [],
   "source": [
    "from nltk.corpus import stopwords\n",
    "from sklearn.feature_extraction.text import CountVectorizer, TfidfVectorizer\n",
    "from collections import Counter\n",
    "\n",
    "from textacy.preprocess import preprocess_text\n",
    "\n",
    "from textblob import TextBlob, Word\n",
    "from nltk.stem.snowball import SnowballStemmer"
   ]
  },
  {
   "cell_type": "code",
   "execution_count": 20,
   "metadata": {
    "collapsed": false
   },
   "outputs": [],
   "source": [
    "# Creating stop words database for all the numbers\n",
    "stop = stopwords.words('english')\n",
    "stop += ['00', '000', '01', '02', '03', '04', '04r', '05', '050', '05l', '05r', '06', '06r', '07', '08', '080', '09', '09r', '10', '100', '1000', '10000', '102', '103', '104', '1049', '105', '106', '107', '108', '109', '10deg', '10l', '11', '110', '1100', '111', '111f', '112', '113', '114', '115', '116', '117', '118', '118a', '119', '11f', '11s', '12', '120', '1200', '12000', '121', '361', '376','122', '123', '124', '124c', '125', '128', '129', '12bk', '13', '130', '1300', '130b', '130e', '130h', '130j', '131', '133', '134', '135', '135a', '139', '13l', '14', '140', '1400', '141', '1420', '145', '14500', '146', '148', '15', '150', '1500', '153', '154', '157', '158', '159', '15deg', '16', '160', '1600', '163', '165', '166', '168', '16r', '17', '170', '1700', '172', '175', '1750', '17l', '18', '180', '1800', '180deg', '185', '188', '19', '190', '1900', '1900c', '1900d', '191', '1936', '1938', '1940', '1941', '1942', '1943', '1944', '1945', '1948', '1949', '1950', '1951', '1953', '1954', '1955', '1957', '1963', '1964', '1966', '1968', '1969', '1972', '1973', '1974', '1978', '1979', '1980', '1981', '1982', '1983', '1985', '1986', '1988', '1990', '1991', '1992', '1993', '1994', '1997', '1998', '1999', '19r', '1a', '1a10', '1st', '20', '200', '2000', '2001', '2002', '2003', '2004', '2005', '2006', '2007', '200c', '201', '2011', '2013', '2015', '202', '203', '2050', '207', '208', '208b', '20deg', '21', '210', '211', '212', '215', '22', '220', '2200', '222', '225', '227', '228', '22l', '23', '230', '2300', '232', '235', '24', '240', '2400', '241', '242', '24b', '24l', '24r', '24rv', '25', '250', '2500', '25l', '26', '260', '265', '266', '26b', '26l', '27', '270', '2700', '27l', '27r', '28', '280', '2800', '285', '28l', '28r', '29', '290', '29l', '2a', '2r', '2t', '30', '300', '3000', '304', '306', '30deg', '31', '310', '31242', '31243', '314', '315', '31l', '31r', '32', '320', '3200', '320o', '322', '325', '328', '32l', '32r', '33', '330', '3300', '330o', '336', '338', '33l', '34', '340', '340b', '340o', '345', '35', '350', '3500', '350o', '35a', '35l', '36', '360', '3600', '37', '38', '39', '390', '3a', '3c', '3deg', '3m', '3mge', '3t', '40', '400', '4000', '41', '410', '410uvp', '42', '420', '4200', '43', '430', '436', '44', '440', '45', '450', '4500', '45deg', '46', '46d', '47', '470', '4700', '47a', '47b', '47d', '47s', '48', '49', '50', '500', '5000', '501', '504', '50832', '50deg', '51', '52', '525', '53', '54', '5400', '55', '550', '5500', '56', '57', '58', '580', '59', '5a', '5h', '5n', '5nm', '5y', '60', '600', '6000', '601', '61', '610', '62', '620', '63', '631', '64', '640', '65', '650', '6500', '66', '67', '68', '6a', '6e', '70', '700', '7000', '707', '71', '710', '72', '720', '725', '727', '73', '737', '74', '747', '748', '75', '750', '7500', '756', '757', '76', '767', '767s', '76md', '770', '777', '78', '78505', '7nm', '80', '800', '8000', '801', '81', '811', '812', '82', '8235', '8241', '82a', '83', '84', '85', '850', '8500', '86', '87', '88', '8807', '89', '8q', '8th', '90', '900', '9000', '90deg', '91', '910', '92', '93', '931', '94', '95', '96', '97', '98', '99', '990', '9k', '9n', '9q', 'a100', 'a300', 'a310', 'a319', 'a320', 'a321', 'a330', 'a6m2', 'aa', 'aaa', 'aab', 'aaf', 'ab', 'ababa']\n",
    "stop += ['08r', '1009', '101', '1011', '104b', '144', '21st', '221', '22285', '231', '23l', '300yds', '301', '3100', '318', '319', '31de', '321', '321b', '324', '3277', '33666', '33r', '380', '3800', '395', '39a', '3mce', '400a', '402q', '40563', '40deg', '415', '42e', '42w', '4300', '451', '460', '701', '702', '712', '730', '740', '75a', '76td', '7700', '775', '780', '78270', '78462', '785', '797', '800xp', '823', '841', '8as', '8r', '901', '919', '920', '926', '980', '9j', '9l', '9m']\n",
    "stop += ['675','680','6800','6b', '000ft']\n",
    "stop += ['airport', 'airplane','aircraft', 'approach',\n",
    " 'crashed','crew','feet','flight','following','main','members','near','one','operated','passenger','passengers','plane','runway','struck','substantial','sustained','three','took','two','boeing','dc','due','beyond',\n",
    " 'damaged','b200','repair', 'miles', 'km', 'air', 'lines', 'departed', 'abort', 'takeoff', 'landing', 'reported', 'airline', 'captain'\n",
    " ]\n",
    "stop += ['001', '0014', '002', '003', '006', '010', '010º', '0127', '015', '017', '0171', '0173', '0195', '01l', '01r', '020', '020deg', '0218', '022', '024', '0256', '02801', '02r', '030', '030º', '0326', '0328', '040', '040b', '040deg', '044', '045', '0450', '0462', '0463', '049', '04l', '053', '0597', '060', '0602', '060deg', '061', '064', '069', '06l', '070', '0703', '0705', '0719', '072', '0730', '07308', '075deg', '076', '07l', '07r', '0839', '085', '0850', '08l', '090', '0900', '090deg', '092', '094', '0970', '0972', '0981', '09l', '1002', '1006', '1007', '1008', '100912', '100deg', '100e', '100er', '100nm', '100yds', '10100', '1015', '1018', '1020', '10200', '1024', '1025', '1027', '10350', '1036', '1040', '1041k', '104g', '1050', '10500', '1054', '10554', '1058', '1060', '10687', '1069', '1070', '10737', '1074', '1075', '1081', '1086', '10884', '10942', '109770', '10a', '10f', '10nm', '11000', '110c', '110p1', '1114', '1120', '11200', '1121', '1123', '1124', '1124a', '1132', '1140', '11500', '1154', '1159', '11600', '11620', '1169', '1170', '1171', '1173', '117d', '11800', '11900', '1198', '119b', '119c', '119cf', '119f', '119k', '11a', '11deg', '11dme', '1200yds', '120er', '1212', '1215', '121d', '121g', '121k', '121m', '122443', '1229', '1230', '12328', '12364', '123k', '12435', '12467', '124a', '1250', '12500', '1255', '125kts', '126', '1260', '12600', '127', '1276', '1277', '127723', '1279', '1281', '1296', '12a', '12b', '12bp', '12deg', '12l', '12n', '12p', '12th', '12w', '13000', '1300k', '1301', '1307', '130a', '130f', '130kias', '130m', '130p', '130r', '1310', '131582', '131639', '131e', '131f', '132', '1320', '13200', '1322', '1325gal', '1329', '1338', '133b', '133deg', '1340', '13400', '1342', '1347', '134a', '134ak', '13500', '135350', '1355', '135deg', '135j', '135kl', '135lr', '135n', '135r', '135s', '135t', '135v', '136', '1360', '137', '1370', '137e', '138', '13807', '1390', '13e', '13r', '14000', '1400z', '140a', '141b', '142', '143', '1436', '1440', '1449', '144a', '1450', '1455', '1457', '145kts', '145li', '145lr', '145lu', '146deg', '147', '1486', '149', '1490', '1493', '1495', '14970', '149813', '149d', '14b', '14fkm', '14p', '14th', '15000', '1500yds', '1500z', '1502', '1509', '150deg', '150f', '150ft', '150h', '150m', '151', '151890', '152', '15200', '152608', '1533', '1535', '1539', '1541', '1545', '1549', '154a', '154b', '154m', '155', '1550', '155130', '1553', '15585', '155deg', '156', '15652', '15677', '1568', '1570', '15721', '157332', '15800', '158761', '1588', '158930', '159325', '15f', '15l', '15r', '15s', '15th', '15tm', '16000', '1602', '160r', '161', '1610', '16100', '162', '164', '1640', '1645', '16481', '1649a', '16500', '165522', '165525', '1669', '167', '16720', '1687', '1690', '16a', '16b', '16d', '16f', '16l', '16th', '17000', '17010', '1707', '1709', '1716', '171st', '1720', '1721', '1723', '172n', '173', '1730', '1733', '1736', '17388', '174', '1763', '1768', '178', '178deg', '179', '1790', '17c', '17f', '17g', '17r', '17th', '18000', '1801', '181', '1810', '1814', '182', '18255', '1828', '182l', '1833', '1840', '18440', '1850', '1851', '18591', '18598', '186', '1860', '187', '1870', '1880', '1885', '189', '18930l', '18a', '18b', '18d', '18r', '18th', '18v', '19000', '1902', '1908', '1909', '190deg', '1910', '1918', '192', '1920', '1921', '1922p', '1923', '1925', '1929', '193', '1930', '1933', '1934', '1935', '1937', '1939', '194', '1946', '1947', '195', '1952', '1956', '1958', '1959', '1960', '1961', '1962', '1967', '197', '1970', '1971', '1975', '1976', '1977', '198', '1984', '1987', '1989', '1990s', '1995', '1996', '199deg', '19a', '19l', '1b', '1g167', '1h', '1h18', '1hour', '1l', '1r', '20000', '2000ft', '2008', '2009', '200b', '200deg', '200er', '200ft', '200x100', '200yds', '2010', '2012', '2014', '2016', '2025', '204', '204b', '205', '206', '206b', '2086', '209b', '20c', '20f', '20gmt', '20l', '20r', '20th', '2100', '2104', '2110', '212667', '212a', '213', '214', '21504', '216', '2165', '218', '21b', '21l', '21mf', '21r', '21u', '2200m', '220º', '2215', '2219', '221f', '2230', '224', '2250rpm', '226', '227ac', '227b', '227bc', '2280', '2284', '2286', '229', '2295', '22c', '22r', '2300yds', '2303', '2311', '2318', '233', '23310', '23488', '2350', '235m', '236', '2370', '238', '238b', '23f', '23r', '24000', '2400rpm', '2406', '240deg', '2422x', '243', '245', '2450', '246', '2460', '246er', '246tg', '247', '247d', '248', '2487', '24a', '24bi', '24kay', '24ko', '24th', '25000', '2501f', '250deg', '250yds', '250º', '251', '2523', '255', '2560', '258', '25b', '25d', '25deg', '25g', '25nm', '25pd', '25r', '25th', '2600', '2600rpm', '260deg', '261', '2615', '2620', '263', '2638', '26492', '2650', '2652', '26r', '27097', '270deg', '271', '2710', '2720', '2733', '2734', '274', '2740', '2747', '275', '2750', '277', '2771', '2790', '27deg', '27th', '280c', '280º', '2813', '2823', '283er', '284', '2841', '2850', '2850rpm', '286', '287', '2873', '288', '2885', '28d', '28nm', '28p', '28th', '2900', '291', '2925', '295m', '296', '297', '298', '29nm', '29r', '2a8', '2b', '2deg', '2e', '2f', '2h', '2nd', '2nm', '2p', '2sq', '2t5', '2tp', '2u3b', '3002', '300er', '300s', '300º', '302ftu', '303', '3050', '3068', '306m', '307', '3079', '307b', '308', '30862', '30a', '30b', '30cf', '30f', '30l', '30psi', '30r', '30th', '3102', '3108', '310deg', '310º', '311', '311q', '312', '3120', '3130', '3132', '3137', '3150', '317', '3183', '31fi', '3205', '320º', '3232', '3233', '3244lb', '3252', '3260', '3263', '3281', '328jet', '329c', '32a', '32tons', '32z', '330yds', '330º', '331', '3316', '334', '335', '3380', '339', '33a', '33rc', '3400', '34037', '340a', '340er', '340º', '3416', '342', '343', '343rd', '344', '344c', '3476', '34deg', '34l', '34r', '3506', '350º', '352nd', '353', '354', '3540', '355', '357', '3587', '35deg', '35r', '360deg', '3628', '365', '366', '3666', '366er', '3679', '3680', '368lb', '369', '3698', '36a', '36l', '36n', '36r', '370', '3700', '3700rpm', '371', '3720', '375', '377', '378', '379c', '379th', '381er', '3839x', '384th', '385', '38658', '38667', '387', '389', '38th', '3900', '392', '3930', '39323', '39325', '3960', '398', '39939', '39980', '39n', '3b', '3b4c', '3h4', '3k1c', '3l', '3mfe', '3mg4e', '3mlu', '3mte', '3nm', '3rd', '400b', '400bcf', '400yds', '402', '403', '40312', '404', '4042', '405', '406', '4064', '40641', '4069', '407', '408', '40a', '40cm', '40gmt', '40in', '40k', '40nm', '40s2', '40z', '4100', '411', '412f', '413th', '4146', '418', '41834', '419', '4192', '41deg', '41st', '4204', '422', '42444', '425', '4250', '4265', '42a', '42b', '431', '4317', '4340', '435', '4350', '436th', '4374', '439', '43b', '43s', '4400', '441', '44166', '4422', '444', '4458', '44648', '4479', '4525', '4536', '4539', '455', '457', '45g', '4600', '462', '46327', '465', '467', '46807', '46deg', '46e', '46f', '471', '4723', '47302', '47360', '474', '475', '4750', '477', '47deg', '47e', '47j', '47nm', '47p', '47q', '480', '4805', '481', '484', '4860', '4896', '490', '4900', '4904', '491', '4915', '492', '495', '496', '499', '4a', '4c', '4f', '4g', '4h6', '4k', '4l', '4nm', '4y0', '500ft', '500m', '500sq', '500yds', '501sp', '502', '5049', '505', '506', '507', '508', '509', '50c', '50feet', '50psi', '50s', '50th', '510', '5100', '512', '5120', '5160', '518', '520', '52002', '524', '5250', '525c', '527', '529', '52g', '530', '5300', '530yds', '5315', '5323', '5340', '537', '53d', '540', '5401', '5407', '541', '542ct', '543', '545', '5452', '546', '54a', '54b', '550b', '5513', '553', '5539', '557', '558', '55deg', '55kts', '55th', '560', '5600', '560xl', '561', '5615', '5669', '5675', '56g', '56pst', '56th', '570', '5700', '5711', '572', '5733', '57752', '57760', '5800', '580a', '580as', '5811', '583', '585', '588', '589', '590', '5900', '592', '594', '595', '599', '59d', '5b', '5d', '5deg', '5e', '5f', '5g', '5th', '5v', '5x', '5x61', '600f', '600gal', '600r', '600yds', '6013', '6017', '601e', '602', '603', '60314', '603m', '603sq', '604', '6048', '6050', '605r', '6060', '60deg', '6100', '611', '614', '6150', '6163', '6165', '61708', '618', '621', '623', '6240', '625', '6250', '626', '627', '628', '6289', '6291', '62f', '630', '6300', '634', '6343', '635', '6350', '6354', '63f', '6400', '642', '6420', '643', '6448', '64w', '6500ft', '65120', '652', '6526', '654', '655', '65691', '658', '65856', '65nm', '661', '663', '6631', '664', '666', '6700', '670a', '671', '6715', '6745', '676', '67608', '6780', '6800ft', '681', '6865', '687', '6878', '6901', '696', '69620', '6970', '6bf', '6deg', '6in', '6nm', '6th', '70000', '700a', '700b', '70349', '704', '705', '706', '708', '70yds', '7100', '711', '714', '716', '717', '718', '7200', '721', '7218', '724', '726', '72614', '731', '732', '7353', '736', '738', '739', '73960', '7400', '742', '7463', '747sp', '749', '7493', '751', '752', '753', '7533', '75687', '75732', '760', '7613', '7638', '765', '76679', '76685', '76761', '7682', '76825', '76827', '76t', '77', '771', '772', '773', '7743', '77508', '7775', '7800', '7800ft', '7815', '7816', '783', '783cp', '7843', '785d', '7864', '78826', '78849', '79', '790', '793', '7980', '7989', '7b', '7c', '7deg', '7m', '7occupants', '7½', '8000f', '800b', '800ft', '8012', '8015', '8019', '802', '805', '8050', '806', '809', '80c2b2', '80deg', '81000', '813', '8137', '813th', '814', '817', '819', '820', '821', '824', '8276', '82s', '8300', '831', '8315', '832', '835', '8355', '837', '839', '840', '8400', '843', '844', '84738', '84g', '8502', '850xp', '851', '8535', '855', '860', '8600', '861', '8650', '8665', '86a', '86b', '86d', '870', '8700', '8738', '875', '878', '87s', '881', '8810', '88241', '885', '886', '8867', '890', '897', '89d', '8c', '8f600', '8g', '8h4', '8nm', '900c', '9018', '901a', '902', '904', '906', '90nm', '90º', '9100', '911', '914', '916', '918', '9202', '921', '922', '9243', '927', '930', '9300', '933', '9350', '936', '940', '941', '942', '946', '94b', '950', '9500'\n",
    "         , '953', '95981', '95b', '960', '962633', '9640', '967', '96th', '970', '9700', '975', '9766', '97g', '9800', '983', '984', '9842', '985', '9859', '9877', '9900', '99165', '9925', '9930', '9955', '9975', '99853', '99a', '99c', '9d', '9k38', '9th', '9v', '9w354', 'a1', 'a12', 'a185f', 'a2', 'a23', 'a300b4', 'a31', 'a340', 'a36', 'a4', 'a400m', 'a59', 'a59w', 'a6', 'a65', 'a6m', 'a7', 'aa201', 'aa320', 'aa423', 'aa699', 'aac', 'aam', 'aapo', 'aar', 'aarhus', 'aau']"
   ]
  },
  {
   "cell_type": "markdown",
   "metadata": {},
   "source": [
    "## Analyse the text - Find common n-grams(2-4)"
   ]
  },
  {
   "cell_type": "code",
   "execution_count": 21,
   "metadata": {
    "collapsed": false
   },
   "outputs": [
    {
     "data": {
      "text/plain": [
       "[('the aircraft', 3061),\n",
       " ('of the', 2592),\n",
       " ('the runway', 1493),\n",
       " ('the airplane', 1392),\n",
       " ('to the', 1284),\n",
       " ('and the', 1171),\n",
       " ('the crew', 1018),\n",
       " ('in the', 1017),\n",
       " ('the pilot', 974),\n",
       " ('the flight', 970),\n",
       " ('on the', 966),\n",
       " ('the left', 680),\n",
       " ('the right', 652),\n",
       " ('from the', 594),\n",
       " ('aircraft was', 581),\n",
       " ('beyond repair', 579),\n",
       " ('damaged beyond', 578),\n",
       " ('the plane', 572),\n",
       " ('damaged beyond repair', 572),\n",
       " ('flight to', 551)]"
      ]
     },
     "execution_count": 21,
     "metadata": {},
     "output_type": "execute_result"
    }
   ],
   "source": [
    "# We can use the TfidfVectorizer to find ngrams for us\n",
    "vect = TfidfVectorizer(ngram_range=(2,4))\n",
    "\n",
    "# Pulls all of the Narratives into one giant string\n",
    "summaries = \"\".join(txt_data['Narrative'])\n",
    "ngrams_summaries = vect.build_analyzer()(summaries)\n",
    "\n",
    "Counter(ngrams_summaries).most_common(20)"
   ]
  },
  {
   "cell_type": "markdown",
   "metadata": {},
   "source": [
    "## To do classfication we will need to convert the text into a set of features.\n",
    "\n",
    "- Vectorize input text data.\n",
    "- Intialize a model (try Logistic regression).\n",
    "- Train / Predict / cross-validate.\n",
    "- Evaluate the performance of the model.\n"
   ]
  },
  {
   "cell_type": "code",
   "execution_count": 23,
   "metadata": {
    "collapsed": false
   },
   "outputs": [],
   "source": [
    "# BONUS\n",
    "# Using the textacy package to do some more comprehensive preprocessing - Remove punctuations, change to lower case\n",
    "summary = txt_data['Narrative'].values\n",
    "clean_summary = [preprocess_text(x, fix_unicode=True, lowercase=True, transliterate=False,\n",
    "                              no_urls=True, no_emails=True, no_phone_numbers=True, no_currency_symbols=True,\n",
    "                              no_punct=True, no_accents=True)\n",
    "              for x in summary]"
   ]
  },
  {
   "cell_type": "code",
   "execution_count": 24,
   "metadata": {
    "collapsed": false
   },
   "outputs": [
    {
     "data": {
      "text/plain": [
       "'A Beech 1900D aircraft operated by North-Wright Airways, was conducting flight NWL125 from Norman Wells, Canada to Tulita, Canada. The flight crew was trying to initiate a right hand turn on the ramp after landing to park the aircraft and during the manoeuvre, they felt the aircraft started to slip on the slippery surface. The captain tried to do a recovery manoeuvre by applying differential power, reverse, and braking, however these manoeuvres were unsuccessful. The left wing came into contact with the airport building, sheering off the left winglet and wing tip down to the wing rib located below the wing fence. The aircraft continued past the building before coming to rest with the winglet and debris resting behind it. The 4 passengers and 2 crew members disembarked without any injury.'"
      ]
     },
     "execution_count": 24,
     "metadata": {},
     "output_type": "execute_result"
    }
   ],
   "source": [
    "summary[0]"
   ]
  },
  {
   "cell_type": "code",
   "execution_count": 25,
   "metadata": {
    "collapsed": false
   },
   "outputs": [
    {
     "data": {
      "text/plain": [
       "'a beech 1900d aircraft operated by northwright airways was conducting flight nwl125 from norman wells canada to tulita canada the flight crew was trying to initiate a right hand turn on the ramp after landing to park the aircraft and during the manoeuvre they felt the aircraft started to slip on the slippery surface the captain tried to do a recovery manoeuvre by applying differential power reverse and braking however these manoeuvres were unsuccessful the left wing came into contact with the airport building sheering off the left winglet and wing tip down to the wing rib located below the wing fence the aircraft continued past the building before coming to rest with the winglet and debris resting behind it the 4 passengers and 2 crew members disembarked without any injury'"
      ]
     },
     "execution_count": 25,
     "metadata": {},
     "output_type": "execute_result"
    }
   ],
   "source": [
    "clean_summary[0]"
   ]
  },
  {
   "cell_type": "code",
   "execution_count": null,
   "metadata": {
    "collapsed": true
   },
   "outputs": [],
   "source": []
  },
  {
   "cell_type": "markdown",
   "metadata": {},
   "source": [
    "## Tokenization\n",
    "- What: Separate text into units such as sentences or words\n",
    "- Why: Gives structure to previously unstructured text"
   ]
  },
  {
   "cell_type": "code",
   "execution_count": 26,
   "metadata": {
    "collapsed": false,
    "scrolled": true
   },
   "outputs": [],
   "source": [
    "X_train = txt_data['Narrative']"
   ]
  },
  {
   "cell_type": "code",
   "execution_count": 27,
   "metadata": {
    "collapsed": false
   },
   "outputs": [
    {
     "data": {
      "text/plain": [
       "CountVectorizer(analyzer='word', binary=False, decode_error='strict',\n",
       "        dtype=<class 'numpy.int64'>, encoding='utf-8', input='content',\n",
       "        lowercase=True, max_df=1.0, max_features=1000, min_df=2,\n",
       "        ngram_range=(1, 1), preprocessor=None,\n",
       "        stop_words=['i', 'me', 'my', 'myself', 'we', 'our', 'ours', 'ourselves', 'you', 'your', 'yours', 'yourself', 'yourselves', 'he', 'him', 'his', 'himself', 'she', 'her', 'hers', 'herself', 'it', 'its', 'itself', 'they', 'them', 'their', 'theirs', 'themselves', 'what', 'which', 'who', 'whom', 'this', '...a65', 'a6m', 'a7', 'aa201', 'aa320', 'aa423', 'aa699', 'aac', 'aam', 'aapo', 'aar', 'aarhus', 'aau'],\n",
       "        strip_accents=None, token_pattern='(?u)\\\\b\\\\w\\\\w+\\\\b',\n",
       "        tokenizer=None, vocabulary=None)"
      ]
     },
     "execution_count": 27,
     "metadata": {},
     "output_type": "execute_result"
    }
   ],
   "source": [
    "## Count Vectorizer\n",
    "# remove English stop words and only keep 100 features\n",
    "vect = CountVectorizer(stop_words=stop, max_features=1000, min_df=2)\n",
    "vect"
   ]
  },
  {
   "cell_type": "code",
   "execution_count": 28,
   "metadata": {
    "collapsed": false,
    "scrolled": true
   },
   "outputs": [
    {
     "name": "stdout",
     "output_type": "stream",
     "text": [
      "['abandoned', 'able', 'aboard', 'aborted', 'accident', 'according', 'acknowledged', 'across', 'action', 'activated', 'advanced', 'advised', 'aeroflot', 'afb', 'afghanistan', 'aft', 'afterwards', 'agl', 'ahead', 'aileron', 'airborne', 'airbus', 'aires', 'airfield', 'airlines', 'airspeed', 'airstrip', 'airway', 'airways', 'alaska', 'allowed', 'almost', 'along', 'also', 'although', 'altimeter', 'altitude', 'american', 'among', 'amsterdam', 'angeles', 'angle', 'ankara', 'another', 'anti', 'antonov', 'apparently', 'appeared', 'applied', 'approached', 'approaches', 'approaching', 'approx', 'approximately', 'april', 'area', 'armed', 'army', 'around', 'arrested', 'arrival', 'arrive', 'arrived', 'asked', 'assigned', 'atc', 'atlantic', 'atr', 'attack', 'attacked', 'attempt', 'attempted', 'attempting', 'attempts', 'attendant', 'attitude', 'australia', 'authorities', 'autopilot', 'available', 'aviation', 'avoid', 'away', 'back', 'bad', 'bailed', 'bandeirante', 'bank', 'banked', 'base', 'bay', 'beach', 'beacon', 'became', 'beech', 'beechcraft', 'began', 'behalf', 'behind', 'belly', 'biplane', 'blown', 'bn', 'board', 'boarded', 'boat', 'bogotá', 'bomb', 'bounced', 'bound', 'boundary', 'brake', 'brakes', 'braking', 'brazil', 'british', 'broke', 'broken', 'buenos', 'building', 'burned', 'burnt', 'burst', 'ca', 'cabin', 'cairo', 'california', 'call', 'called', 'came', 'canada', 'caravan', 'cargo', 'carried', 'carry', 'carrying', 'catalina', 'caught', 'caused', 'causing', 'ceiling', 'center', 'centerline', 'central', 'centre', 'centreline', 'cerro', 'cessna', 'change', 'changed', 'charter', 'chartered', 'check', 'checklist', 'chicago', 'china', 'circuit', 'citation', 'city', 'civil', 'claimed', 'clear', 'clearance', 'cleared', 'climb', 'climbed', 'climbing', 'close', 'closed', 'cloud', 'clouds', 'co', 'coast', 'cockpit', 'collapse', 'collapsed', 'collided', 'collision', 'colombia', 'colorado', 'coming', 'command', 'commander', 'commenced', 'commercial', 'company', 'complete', 'completed', 'concrete', 'condition', 'conditions', 'conducted', 'confirmed', 'congo', 'constellation', 'contact', 'contacted', 'continue', 'continued', 'control', 'controller', 'controls', 'convair', 'copilot', 'corporate', 'could', 'county', 'course', 'covered', 'crash', 'crewmembers', 'crop', 'cross', 'crossed', 'crossing', 'crosswind', 'cruise', 'cruising', 'cuba', 'curtiss', 'cut', 'cv', 'dakota', 'damage', 'date', 'day', 'days', 'de', 'debris', 'decided', 'declared', 'decreased', 'deep', 'deg', 'degree', 'degrees', 'del', 'delivery', 'demanded', 'denver', 'depart', 'departing', 'departure', 'deployed', 'descend', 'descended', 'descending', 'descent', 'despite', 'destination', 'destroyed', 'destroying', 'detroit', 'deviated', 'dhc', 'died', 'direction', 'directional', 'disintegrated', 'distance', 'district', 'ditch', 'ditched', 'dive', 'divert', 'diverted', 'dme', 'domestic', 'door', 'douglas', 'downwind', 'drop', 'dropped', 'dropping', 'dulles', 'duration', 'early', 'east', 'eastern', 'edge', 'eight', 'el', 'elected', 'electrical', 'elevation', 'elevator', 'embankment', 'embraer', 'emergency', 'en', 'encountered', 'end', 'ended', 'engaged', 'engine', 'engineer', 'engines', 'enter', 'entered', 'entering', 'equipment', 'equipped', 'erupted', 'escaped', 'established', 'estimated', 'ethiopian', 'evacuated', 'examination', 'excursion', 'executed', 'exercise', 'experienced', 'exploded', 'explosion', 'explosives', 'express', 'extend', 'extended', 'extinguished', 'failed', 'failure', 'falcon', 'farm', 'fast', 'fatal', 'feather', 'feathered', 'february', 'fell', 'felt', 'fence', 'ferried', 'ferry', 'field', 'fighter', 'filed', 'final', 'finally', 'finals', 'fire', 'first', 'five', 'fl', 'fl100', 'flames', 'flap', 'flaps', 'flare', 'flew', 'flights', 'float', 'florida', 'flown', 'fly', 'flying', 'fog', 'fokker', 'followed', 'foot', 'force', 'forced', 'forces', 'forest', 'formation', 'fort', 'forward', 'found', 'four', 'france', 'francisco', 'frankfurt', 'freight', 'frequency', 'front', 'frozen', 'ft', 'fuel', 'full', 'fully', 'fuselage', 'gate', 'gear', 'general', 'german', 'germany', 'get', 'given', 'glide', 'gmt', 'go', 'got', 'government', 'grand', 'grass', 'ground', 'guard', 'gulfstream', 'gusting', 'half', 'hand', 'hangar', 'hard', 'havilland', 'heading', 'heard', 'heavily', 'heavy', 'height', 'held', 'hercules', 'high', 'highway', 'hijack', 'hijacked', 'hijacker', 'hijackers', 'hijacking', 'hill', 'hillside', 'hit', 'hold', 'holding', 'horizontal', 'hour', 'hours', 'house', 'however', 'hrs', 'hs', 'hydraulic', 'ice', 'icing', 'idle', 'ifr', 'ii', 'il', 'ils', 'ilyushin', 'immediately', 'impact', 'impacted', 'inbound', 'incident', 'included', 'including', 'increased', 'india', 'indian', 'indicated', 'indication', 'indonesia', 'information', 'informed', 'initial', 'initially', 'initiated', 'injured', 'injuries', 'inside', 'inspection', 'instead', 'instructed', 'instructor', 'instrument', 'intended', 'intermediate', 'international', 'intersection', 'invasion', 'inverted', 'investigation', 'involved', 'iran', 'island', 'islander', 'italy', 'janeiro', 'january', 'japan', 'japanese', 'jet', 'ju', 'juan', 'june', 'jungle', 'junkers', 'kc', 'kg', 'killed', 'killing', 'king', 'knife', 'knots', 'kt', 'kts', 'la', 'lagos', 'lake', 'land', 'landed', 'laos', 'large', 'las', 'last', 'late', 'later', 'lb', 'leading', 'learjet', 'least', 'leaving', 'left', 'leg', 'less', 'let', 'level', 'lever', 'libya', 'lift', 'lifted', 'light', 'lights', 'line', 'little', 'load', 'loaded', 'local', 'localizer', 'located', 'locked', 'lockheed', 'london', 'long', 'looped', 'los', 'lose', 'losing', 'loss', 'lost', 'low', 'lower', 'lowered', 'made', 'mail', 'maintain', 'maintenance', 'make', 'making', 'male', 'man', 'managed', 'manila', 'manual', 'march', 'marker', 'maximum', 'may', 'md', 'mechanic', 'mechanical', 'member', 'men', 'message', 'meteorological', 'meters', 'metres', 'metro', 'mexico', 'miami', 'mid', 'mile', 'military', 'minima', 'minimum', 'minister', 'minor', 'minute', 'minutes', 'missed', 'missile', 'missing', 'mission', 'moment', 'morning', 'moscow', 'motor', 'mount', 'mountain', 'mountainous', 'mountains', 'mountainside', 'moved', 'msl', 'municipal', 'named', 'nas', 'national', 'navigation', 'navy', 'ndb', 'nearly', 'neptune', 'netherlands', 'new', 'newark', 'next', 'night', 'nine', 'nm', 'non', 'none', 'normal', 'normally', 'north', 'northeast', 'northwest', 'nose', 'nosed', 'nosegear', 'noted', 'noticed', 'number', 'observed', 'occupants', 'occurred', 'ocean', 'officer', 'officials', 'oil', 'old', 'onboard', 'onto', 'open', 'opened', 'operating', 'operation', 'operations', 'operator', 'order', 'ordered', 'originated', 'otter', 'outer', 'outside', 'overcast', 'overpowered', 'overran', 'overrun', 'overshot', 'overturned', 'owned', 'pacific', 'paris', 'park', 'parked', 'part', 'partially', 'pass', 'passed', 'passing', 'past', 'path', 'patrol', 'pattern', 'peak', 'people', 'per', 'perform', 'performed', 'performing', 'perimeter', 'personnel', 'persons', 'pilot', 'pilots', 'pitch', 'pitched', 'plan', 'planes', 'planned', 'point', 'pole', 'police', 'poor', 'port', 'position', 'possible', 'post', 'pounds', 'power', 'practice', 'prepared', 'president', 'pressure', 'prevailed', 'prior', 'probably', 'problem', 'problems', 'procedure', 'procedures', 'proceeded', 'prop', 'propeller', 'propellers', 'provided', 'puerto', 'pulled', 'put', 'quickly', 'radar', 'radio', 'raf', 'raid', 'rain', 'ramp', 'ran', 'range', 'rapidly', 'rate', 'reach', 'reached', 'reaching', 'rear', 'received', 'recovery', 'reduced', 'refueling', 'region', 'regional', 'registered', 'registration', 'regular', 'release', 'released', 'remained', 'remaining', 'replied', 'report', 'reportedly', 'reporting', 'reports', 'republic', 'requested', 'required', 'rescue', 'rescued', 'rest', 'result', 'resulted', 'resulting', 'retracted', 'return', 'returned', 'returning', 'revealed', 'reverse', 'reverser', 'ridge', 'right', 'rio', 'river', 'road', 'rock', 'roll', 'rolled', 'rolling', 'rome', 'rough', 'route', 'routine', 'royal', 'rpm', 'rudder', 'rules', 'run', 'ruptured', 'russia', 'safe', 'safely', 'said', 'san', 'sank', 'santa', 'saudi', 'saw', 'scheduled', 'sea', 'search', 'seat', 'seattle', 'second', 'seconds', 'section', 'security', 'see', 'seen', 'selected', 'separated', 'separation', 'serious', 'seriously', 'service', 'services', 'set', 'setting', 'seven', 'several', 'severe', 'shallow', 'short', 'shortly', 'shorts', 'shot', 'shut', 'side', 'sight', 'simulated', 'since', 'single', 'site', 'six', 'skidded', 'sky', 'slid', 'slightly', 'slope', 'small', 'smoke', 'snow', 'snowfall', 'soon', 'sounded', 'south', 'southwest', 'soviet', 'spain', 'speed', 'spin', 'spoilers', 'spraying', 'st', 'stabilizer', 'stall', 'stalled', 'starboard', 'start', 'started', 'state', 'stated', 'states', 'station', 'steep', 'still', 'stop', 'stopped', 'stops', 'storm', 'straight', 'strike', 'striking', 'strip', 'strong', 'structural', 'subsequently', 'substantially', 'sudan', 'suddenly', 'suffered', 'super', 'supply', 'support', 'surface', 'surrendered', 'survived', 'survivors', 'sweden', 'swung', 'system', 'systems', 'são', 'tail', 'tailwind', 'taiwan', 'take', 'taken', 'taking', 'tank', 'tanker', 'tanks', 'taxi', 'taxied', 'taxiing', 'taxiway', 'tehran', 'temperature', 'ten', 'terminal', 'terrain', 'test', 'texas', 'thereafter', 'thought', 'threshold', 'throttles', 'thrust', 'thunderstorm', 'time', 'times', 'tip', 'tire', 'told', 'top', 'torn', 'total', 'touch', 'touchdown', 'touched', 'towards', 'tower', 'track', 'traffic', 'training', 'transport', 'tree', 'trees', 'tried', 'trim', 'troops', 'truck', 'trying', 'tupolev', 'turbine', 'turbulence', 'turn', 'turned', 'turning', 'twin', 'tx', 'unable', 'uncontained', 'undercarriage', 'undershot', 'uneventful', 'unit', 'united', 'unknown', 'upon', 'us', 'usa', 'usaf', 'use', 'used', 'using', 'utc', 'valley', 'veered', 'venezuela', 'vertical', 'vfr', 'via', 'vicinity', 'viking', 'viscount', 'visibility', 'visual', 'vor', 'wall', 'wanted', 'war', 'warning', 'washington', 'water', 'way', 'weather', 'weight', 'well', 'went', 'west', 'western', 'wet', 'wheel', 'wheels', 'wind', 'winds', 'wing', 'wings', 'wingtip', 'within', 'without', 'wooded', 'world', 'would', 'wreckage', 'written', 'year', 'york', 'zero', 'zone']\n"
     ]
    }
   ],
   "source": [
    "# Fit the vectorizer\n",
    "X_train = vect.fit_transform(X_train)\n",
    "print(vect.get_feature_names())"
   ]
  },
  {
   "cell_type": "markdown",
   "metadata": {},
   "source": [
    "## Try TextBlob"
   ]
  },
  {
   "cell_type": "code",
   "execution_count": 29,
   "metadata": {
    "collapsed": false
   },
   "outputs": [
    {
     "data": {
      "text/plain": [
       "textblob.blob.TextBlob"
      ]
     },
     "execution_count": 29,
     "metadata": {},
     "output_type": "execute_result"
    }
   ],
   "source": [
    "# save it as a TextBlob object\n",
    "summary = TextBlob(txt_data['Narrative'][0])\n",
    "TextBlob"
   ]
  },
  {
   "cell_type": "code",
   "execution_count": 30,
   "metadata": {
    "collapsed": false
   },
   "outputs": [
    {
     "data": {
      "text/plain": [
       "WordList(['A', 'Beech', '1900D', 'aircraft', 'operated', 'by', 'North-Wright', 'Airways', 'was', 'conducting', 'flight', 'NWL125', 'from', 'Norman', 'Wells', 'Canada', 'to', 'Tulita', 'Canada', 'The', 'flight', 'crew', 'was', 'trying', 'to', 'initiate', 'a', 'right', 'hand', 'turn', 'on', 'the', 'ramp', 'after', 'landing', 'to', 'park', 'the', 'aircraft', 'and', 'during', 'the', 'manoeuvre', 'they', 'felt', 'the', 'aircraft', 'started', 'to', 'slip', 'on', 'the', 'slippery', 'surface', 'The', 'captain', 'tried', 'to', 'do', 'a', 'recovery', 'manoeuvre', 'by', 'applying', 'differential', 'power', 'reverse', 'and', 'braking', 'however', 'these', 'manoeuvres', 'were', 'unsuccessful', 'The', 'left', 'wing', 'came', 'into', 'contact', 'with', 'the', 'airport', 'building', 'sheering', 'off', 'the', 'left', 'winglet', 'and', 'wing', 'tip', 'down', 'to', 'the', 'wing', 'rib', 'located', 'below', 'the', 'wing', 'fence', 'The', 'aircraft', 'continued', 'past', 'the', 'building', 'before', 'coming', 'to', 'rest', 'with', 'the', 'winglet', 'and', 'debris', 'resting', 'behind', 'it', 'The', '4', 'passengers', 'and', '2', 'crew', 'members', 'disembarked', 'without', 'any', 'injury'])"
      ]
     },
     "execution_count": 30,
     "metadata": {},
     "output_type": "execute_result"
    }
   ],
   "source": [
    "summary.words"
   ]
  },
  {
   "cell_type": "code",
   "execution_count": 31,
   "metadata": {
    "collapsed": false
   },
   "outputs": [
    {
     "data": {
      "text/plain": [
       "[Sentence(\"A Beech 1900D aircraft operated by North-Wright Airways, was conducting flight NWL125 from Norman Wells, Canada to Tulita, Canada.\"),\n",
       " Sentence(\"The flight crew was trying to initiate a right hand turn on the ramp after landing to park the aircraft and during the manoeuvre, they felt the aircraft started to slip on the slippery surface.\"),\n",
       " Sentence(\"The captain tried to do a recovery manoeuvre by applying differential power, reverse, and braking, however these manoeuvres were unsuccessful.\"),\n",
       " Sentence(\"The left wing came into contact with the airport building, sheering off the left winglet and wing tip down to the wing rib located below the wing fence.\"),\n",
       " Sentence(\"The aircraft continued past the building before coming to rest with the winglet and debris resting behind it.\"),\n",
       " Sentence(\"The 4 passengers and 2 crew members disembarked without any injury.\")]"
      ]
     },
     "execution_count": 31,
     "metadata": {},
     "output_type": "execute_result"
    }
   ],
   "source": [
    "summary.sentences"
   ]
  },
  {
   "cell_type": "code",
   "execution_count": 32,
   "metadata": {
    "collapsed": false
   },
   "outputs": [
    {
     "data": {
      "text/plain": [
       "<bound method StringlikeMixin.lower of TextBlob(\"A Beech 1900D aircraft operated by North-Wright Airways, was conducting flight NWL125 from Norman Wells, Canada to Tulita, Canada. The flight crew was trying to initiate a right hand turn on the ramp after landing to park the aircraft and during the manoeuvre, they felt the aircraft started to slip on the slippery surface. The captain tried to do a recovery manoeuvre by applying differential power, reverse, and braking, however these manoeuvres were unsuccessful. The left wing came into contact with the airport building, sheering off the left winglet and wing tip down to the wing rib located below the wing fence. The aircraft continued past the building before coming to rest with the winglet and debris resting behind it. The 4 passengers and 2 crew members disembarked without any injury.\")>"
      ]
     },
     "execution_count": 32,
     "metadata": {},
     "output_type": "execute_result"
    }
   ],
   "source": [
    "summary.lower"
   ]
  },
  {
   "cell_type": "markdown",
   "metadata": {},
   "source": [
    "## Stemming\n",
    "- What: Reduce a word to its base/stem/root form\n",
    "- Why: Often makes sense to treat related words the same way"
   ]
  },
  {
   "cell_type": "code",
   "execution_count": 33,
   "metadata": {
    "collapsed": false,
    "scrolled": false
   },
   "outputs": [
    {
     "name": "stdout",
     "output_type": "stream",
     "text": [
      "['a beech 1900d aircraft operated by north-wright airways, was conducting flight nwl125 from norman wells, canada to tulita, canada. the flight crew was trying to initiate a right hand turn on the ramp after landing to park the aircraft and during the manoeuvre, they felt the aircraft started to slip on the slippery surface. the captain tried to do a recovery manoeuvre by applying differential power, reverse, and braking, however these manoeuvres were unsuccessful. the left wing came into contact with the airport building, sheering off the left winglet and wing tip down to the wing rib located below the wing fence. the aircraft continued past the building before coming to rest with the winglet and debris resting behind it. the 4 passengers and 2 crew members disembarked without any injury.', 'a shorts 330 cargo plane impacted wooded terrain during an attempted landing at charleston-yeager airport, west virginia, usa. both crew members suffered fatal injuries.']\n"
     ]
    }
   ],
   "source": [
    "# initialize stemmer\n",
    "stemmer = SnowballStemmer('english')\n",
    "\n",
    "# stem each word\n",
    "print ([stemmer.stem(txt) for txt in data['Narrative'][0:2]])"
   ]
  },
  {
   "cell_type": "markdown",
   "metadata": {},
   "source": [
    "## Lemmatization\n",
    "- What: Derive the canonical form ('lemma') of a word\n",
    "- Why: Can be better than stemming"
   ]
  },
  {
   "cell_type": "code",
   "execution_count": 34,
   "metadata": {
    "collapsed": false
   },
   "outputs": [
    {
     "name": "stdout",
     "output_type": "stream",
     "text": [
      "['A', 'Beech', '1900D', 'aircraft', 'operated', 'by', 'North-Wright', 'Airways', 'wa', 'conducting', 'flight', 'NWL125', 'from', 'Norman', 'Wells', 'Canada', 'to', 'Tulita', 'Canada', 'The', 'flight', 'crew', 'wa', 'trying', 'to', 'initiate', 'a', 'right', 'hand', 'turn', 'on', 'the', 'ramp', 'after', 'landing', 'to', 'park', 'the', 'aircraft', 'and', 'during', 'the', 'manoeuvre', 'they', 'felt', 'the', 'aircraft', 'started', 'to', 'slip', 'on', 'the', 'slippery', 'surface', 'The', 'captain', 'tried', 'to', 'do', 'a', 'recovery', 'manoeuvre', 'by', 'applying', 'differential', 'power', 'reverse', 'and', 'braking', 'however', 'these', 'manoeuvre', 'were', 'unsuccessful', 'The', 'left', 'wing', 'came', 'into', 'contact', 'with', 'the', 'airport', 'building', 'sheering', 'off', 'the', 'left', 'winglet', 'and', 'wing', 'tip', 'down', 'to', 'the', 'wing', 'rib', 'located', 'below', 'the', 'wing', 'fence', 'The', 'aircraft', 'continued', 'past', 'the', 'building', 'before', 'coming', 'to', 'rest', 'with', 'the', 'winglet', 'and', 'debris', 'resting', 'behind', 'it', 'The', '4', 'passenger', 'and', '2', 'crew', 'member', 'disembarked', 'without', 'any', 'injury']\n"
     ]
    }
   ],
   "source": [
    "# assume every word is a noun\n",
    "print ([word.lemmatize() for word in summary.words])"
   ]
  },
  {
   "cell_type": "code",
   "execution_count": 35,
   "metadata": {
    "collapsed": false
   },
   "outputs": [
    {
     "name": "stdout",
     "output_type": "stream",
     "text": [
      "['A', 'Beech', '1900D', 'aircraft', 'operate', 'by', 'North-Wright', 'Airways', 'be', 'conduct', 'flight', 'NWL125', 'from', 'Norman', 'Wells', 'Canada', 'to', 'Tulita', 'Canada', 'The', 'flight', 'crew', 'be', 'try', 'to', 'initiate', 'a', 'right', 'hand', 'turn', 'on', 'the', 'ramp', 'after', 'land', 'to', 'park', 'the', 'aircraft', 'and', 'during', 'the', 'manoeuvre', 'they', 'felt', 'the', 'aircraft', 'start', 'to', 'slip', 'on', 'the', 'slippery', 'surface', 'The', 'captain', 'try', 'to', 'do', 'a', 'recovery', 'manoeuvre', 'by', 'apply', 'differential', 'power', 'reverse', 'and', 'brake', 'however', 'these', 'manoeuvre', 'be', 'unsuccessful', 'The', 'leave', 'wing', 'come', 'into', 'contact', 'with', 'the', 'airport', 'build', 'sheer', 'off', 'the', 'leave', 'winglet', 'and', 'wing', 'tip', 'down', 'to', 'the', 'wing', 'rib', 'locate', 'below', 'the', 'wing', 'fence', 'The', 'aircraft', 'continue', 'past', 'the', 'build', 'before', 'come', 'to', 'rest', 'with', 'the', 'winglet', 'and', 'debris', 'rest', 'behind', 'it', 'The', '4', 'passengers', 'and', '2', 'crew', 'members', 'disembark', 'without', 'any', 'injury']\n"
     ]
    }
   ],
   "source": [
    "# assume every word is a verb\n",
    "print ([word.lemmatize(pos='v') for word in summary.words])"
   ]
  },
  {
   "cell_type": "code",
   "execution_count": 36,
   "metadata": {
    "collapsed": true
   },
   "outputs": [],
   "source": [
    "# Function that accepts text and returns a list of lemmas\n",
    "def split_into_lemmas(text):\n",
    "    text = str(text).lower()\n",
    "    words = TextBlob(text).words\n",
    "    return [word.lemmatize() for word in words]"
   ]
  },
  {
   "cell_type": "code",
   "execution_count": 37,
   "metadata": {
    "collapsed": false,
    "scrolled": true
   },
   "outputs": [
    {
     "name": "stdout",
     "output_type": "stream",
     "text": [
      "[\"'s\", '08', '09', '1', '10', '100', '1000', '11', '12', '13', '14', '15', '150', '1500', '157', '16', '17', '18', '19', '2', '20', '200', '2000', '208b', '21', '22', '23', '24', '25', '26', '27', '28', '29', '3', '30', '300', '3000', '31', '32', '34', '35', '36', '4', '40', '400', '4000', '430', '45', '5', '50', '500', '5000', '6', '60', '600', '7', '70', '700', '707', '727', '737', '8', '80', '800', '9', '90', '900', 'a', 'abandoned', 'able', 'aboard', 'abort', 'aborted', 'about', 'above', 'accident', 'according', 'across', 'action', 'advised', 'aeroflot', 'afb', 'afghanistan', 'aft', 'after', 'again', 'against', 'agl', 'ahead', 'air', 'airborne', 'airbus', 'aircraft', 'airfield', 'airline', 'airplane', 'airport', 'airspeed', 'airstrip', 'airway', 'alaska', 'all', 'allowed', 'almost', 'along', 'also', 'although', 'altimeter', 'altitude', 'american', 'an', 'an-2', 'and', 'angle', 'another', 'antonov', 'any', 'apparently', 'appeared', 'applied', 'approach', 'approached', 'approaching', 'approximately', 'april', 'are', 'area', 'armed', 'army', 'around', 'arrested', 'arrival', 'arrived', 'asked', 'at', 'atc', 'attack', 'attacked', 'attempt', 'attempted', 'attempting', 'attendant', 'attitude', 'australia', 'authority', 'aviation', 'avoid', 'away', 'back', 'bad', 'bailed', 'bandeirante', 'bank', 'banked', 'base', 'bay', 'be', 'beach', 'became', 'because', 'beech', 'beechcraft', 'been', 'before', 'began', 'behalf', 'behind', 'being', 'belly', 'below', 'between', 'beyond', 'biplane', 'bird', 'blown', 'board', 'boarded', 'boat', 'boeing', 'bomb', 'both', 'bounced', 'bound', 'brake', 'braking', 'brazil', 'broke', 'broken', 'building', 'burned', 'burnt', 'burst', 'but', 'by', 'c', 'c-46', 'c-47', 'c-54', 'ca', 'cabin', 'cairo', 'california', 'call', 'called', 'came', 'canada', 'captain', 'caravan', 'cargo', 'carried', 'carry', 'carrying', 'caught', 'caused', 'causing', 'ceiling', 'center', 'centre', 'centreline', 'cerro', 'cessna', 'change', 'changed', 'charter', 'chartered', 'check', 'checklist', 'china', 'circuit', 'citation', 'city', 'claimed', 'clear', 'clearance', 'cleared', 'climb', 'climbed', 'climbing', 'close', 'closed', 'cloud', 'co-pilot', 'coast', 'cockpit', 'collapse', 'collapsed', 'collided', 'collision', 'colombia', 'coming', 'command', 'commenced', 'company', 'completed', 'concrete', 'condition', 'conducted', 'confirmed', 'congo', 'constellation', 'contact', 'contacted', 'continue', 'continued', 'control', 'controller', 'convair', 'copilot', 'corporate', 'could', 'county', 'course', 'covered', 'crash', 'crash-landed', 'crashed', 'crew', 'crewmembers', 'crossed', 'crossing', 'crosswind', 'cruise', 'cruising', 'cuba', 'curtis', 'dakota', 'damage', 'damaged', 'date', 'day', 'dc-3', 'dc-4', 'dc-6', 'dc-9', 'de', 'debris', 'decided', 'declared', 'degree', 'delivery', 'demanded', 'departed', 'departing', 'departure', 'descend', 'descended', 'descending', 'descent', 'destination', 'destroyed', 'destroying', 'dhc-6', 'did', 'died', 'direction', 'directional', 'distance', 'district', 'ditch', 'ditched', 'divert', 'diverted', 'do', 'domestic', 'door', 'douglas', 'down', 'downwind', 'drop', 'dropped', 'dropping', 'due', 'duration', 'during', 'each', 'east', 'eastern', 'edge', 'eight', 'el', 'elected', 'electrical', 'elevation', 'elevator', 'embankment', 'embraer', 'emergency', 'en', 'encountered', 'end', 'ended', 'engaged', 'engine', 'engineer', 'enter', 'entered', 'equipment', 'erupted', 'escaped', 'established', 'estimated', 'evacuated', 'excursion', 'exercise', 'experienced', 'exploded', 'explosion', 'explosive', 'express', 'extended', 'extinguished', 'f-27', 'failed', 'failure', 'farm', 'fast', 'fatal', 'feathered', 'february', 'fell', 'felt', 'fence', 'ferried', 'ferry', 'few', 'field', 'fighter', 'filed', 'final', 'finally', 'fire', 'first', 'five', 'fl', 'flame', 'flap', 'flare', 'flew', 'flight', 'florida', 'flown', 'fly', 'flying', 'fog', 'fokker', 'followed', 'following', 'foot', 'for', 'force', 'forced', 'forest', 'fort', 'forward', 'found', 'four', 'france', 'from', 'front', 'frozen', 'ft', 'fuel', 'full', 'fully', 'further', 'fuselage', 'gear', 'german', 'germany', 'get', 'given', 'glide', 'go', 'go-around', 'got', 'government', 'grand', 'grass', 'grenade', 'ground', 'guard', 'gust', 'ha', 'had', 'half', 'hand', 'hangar', 'hard', 'have', 'havilland', 'having', 'he', 'heading', 'heard', 'heavily', 'heavy', 'height', 'hercules', 'high', 'hijack', 'hijacked', 'hijacker', 'hijacking', 'hill', 'hillside', 'him', 'his', 'hit', 'hold', 'holding', 'horizontal', 'hour', 'house', 'however', 'hydraulic', 'i', 'ice', 'icing', 'idle', 'if', 'ifr', 'ii', 'il', 'ilyushin', 'immediately', 'impact', 'impacted', 'in', 'in-flight', 'inbound', 'incident', 'included', 'including', 'increased', 'india', 'indian', 'indicated', 'indication', 'indonesia', 'information', 'informed', 'initial', 'initiated', 'injured', 'injury', 'inside', 'inspection', 'instead', 'instructed', 'instrument', 'intended', 'intermediate', 'international', 'intersection', 'into', 'invasion', 'inverted', 'investigation', 'involved', 'iran', 'is', 'island', 'islander', 'it', 'italy', 'january', 'japan', 'japanese', 'jet', 'ju-52', 'june', 'jungle', 'junker', 'just', 'kg', 'killed', 'killing', 'king', 'km', 'knot', 'kt', 'la', 'lake', 'land', 'landed', 'landing', 'large', 'last', 'late', 'later', 'le', 'learjet', 'least', 'leaving', 'left', 'leg', 'let', 'level', 'lever', 'lifted', 'light', 'line', 'little', 'load', 'local', 'localizer', 'located', 'locked', 'lockheed', 'london', 'long', 'los', 'lose', 'loss', 'lost', 'low', 'lower', 'lowered', 'm', 'made', 'mail', 'main', 'maintain', 'maintenance', 'make', 'making', 'male', 'man', 'managed', 'manoeuvre', 'march', 'marker', 'maximum', 'may', 'mechanic', 'member', 'men', 'message', 'meteorological', 'meter', 'metre', 'metro', 'mexico', 'miami', 'mid-air', 'mile', 'military', 'minimum', 'minor', 'minute', 'missed', 'missile', 'missing', 'mission', 'moment', 'more', 'morning', 'moscow', 'mount', 'mountain', 'mountainous', 'mountainside', 'moved', 'msl', 'municipal', \"n't\", 'na', 'named', 'national', 'navy', 'ndb', 'near', 'neptune', 'netherlands', 'new', 'next', 'night', 'nine', 'nm', 'no', 'normal', 'normally', 'north', 'northwest', 'nose', 'nosed', 'nosegear', 'not', 'noted', 'noticed', 'now', 'number', 'observed', 'occupant', 'occurred', 'of', 'off', 'officer', 'official', 'oil', 'on', 'onboard', 'one', 'only', 'onto', 'open', 'operated', 'operating', 'operation', 'or', 'order', 'ordered', 'originated', 'other', 'otter', 'out', 'outer', 'over', 'overcast', 'overpowered', 'overran', 'overshot', 'pacific', 'paris', 'parked', 'part', 'partially', 'pas', 'passed', 'passenger', 'passing', 'past', 'path', 'patrol', 'pattern', 'peak', 'people', 'performed', 'perimeter', 'person', 'personnel', 'pilot', 'pilot-in-command', 'pitch', 'pitched', 'plan', 'plane', 'planned', 'point', 'pole', 'poor', 'port', 'portion', 'position', 'possible', 'power', 'prepared', 'pressure', 'prevailed', 'prior', 'probably', 'problem', 'procedure', 'proceeded', 'prop', 'propeller', 'provided', 'puerto', 'pulled', 'quickly', 'radar', 'radio', 'raf', 'rain', 'ramp', 'ran', 'range', 'rapidly', 'rate', 'reached', 'reaching', 'rear', 'received', 'reduced', 'refueling', 'region', 'registered', 'registration', 'released', 'remained', 'remaining', 'repair', 'report', 'reported', 'reportedly', 'reporting', 'republic', 'requested', 'rescue', 'rescued', 'rest', 'result', 'resulted', 'resulting', 'retracted', 'return', 'returned', 'returning', 'revealed', 'reverse', 'ridge', 'right', 'rio', 'river', 'road', 'rock', 'roll', 'rolled', 'rome', 'roof', 'route', 'routine', 'royal', 'rudder', 'rule', 'run', 'runway', 'russia', 'safe', 'safely', 'said', 'same', 'san', 'sank', 'santa', 'saw', 'scheduled', 'sea', 'seat', 'second', 'section', 'security', 'seen', 'selected', 'separated', 'serious', 'seriously', 'service', 'set', 'setting', 'seven', 'several', 'severe', 'shallow', 'short', 'shortly', 'shot', 'shut', 'side', 'sight', 'simulated', 'since', 'single', 'site', 'six', 'skidded', 'slid', 'slightly', 'slope', 'small', 'smoke', 'snow', 'snow-covered', 'so', 'some', 'soon', 'south', 'spain', 'speed', 'st', 'stabilizer', 'stall', 'stalled', 'starboard', 'start', 'started', 'state', 'stated', 'station', 'steep', 'still', 'stop', 'stopped', 'storm', 'straight', 'strike', 'striking', 'strip', 'strong', 'struck', 'structural', 'subsequently', 'substantial', 'substantially', 'suddenly', 'suffered', 'super', 'supply', 'support', 'surface', 'surrendered', 'survived', 'survivor', 'sustained', 'system', 'tail', 'take', 'taken', 'takeoff', 'taking', 'tank', 'taxi', 'taxied', 'taxiing', 'taxiway', 'temperature', 'ten', 'terminal', 'terrain', 'test', 'than', 'that', 'the', 'their', 'them', 'then', 'there', 'these', 'they', 'this', 'thought', 'three', 'threshold', 'throttle', 'through', 'thrust', 'thunderstorm', 'time', 'tire', 'to', 'told', 'too', 'took', 'top', 'torn', 'total', 'touch', 'touchdown', 'touched', 'towards', 'tower', 'track', 'traffic', 'training', 'transport', 'tree', 'tried', 'troop', 'truck', 'trying', 'tupolev', 'turbulence', 'turn', 'turned', 'turning', 'twin', 'two', 'tyre', 'u', 'u.s', 'unable', 'under', 'undercarriage', 'undershot', 'uneventful', 'unit', 'united', 'until', 'up', 'upon', 'usa', 'use', 'used', 'using', 'utc', 'veered', 'venezuela', 'vertical', 'very', 'vfr', 'via', 'vibration', 'vicinity', 'viscount', 'visibility', 'visual', 'vor', 'wa', 'wall', 'wanted', 'war', 'warning', 'washington', 'water', 'way', 'weather', 'weight', 'well', 'went', 'were', 'west', 'wet', 'wheel', 'when', 'where', 'which', 'while', 'who', 'wind', 'wing', 'with', 'within', 'without', 'wooded', 'world', 'would', 'wreckage', 'written', 'york', 'zone']\n"
     ]
    }
   ],
   "source": [
    "vect = CountVectorizer(stop_words=stop, max_features=1000, min_df=3,analyzer=split_into_lemmas, binary = True)\n",
    "X_train = data['Narrative']\n",
    "X_train = vect.fit_transform(X_train)\n",
    "print(vect.get_feature_names())"
   ]
  },
  {
   "cell_type": "code",
   "execution_count": 38,
   "metadata": {
    "collapsed": true
   },
   "outputs": [],
   "source": [
    "## TFIDF"
   ]
  },
  {
   "cell_type": "code",
   "execution_count": 39,
   "metadata": {
    "collapsed": false
   },
   "outputs": [
    {
     "data": {
      "text/plain": [
       "(8098, 14937)"
      ]
     },
     "execution_count": 39,
     "metadata": {},
     "output_type": "execute_result"
    }
   ],
   "source": [
    "# create a document-term matrix using TF-IDF\n",
    "vect = TfidfVectorizer(stop_words=stop)\n",
    "dtm = vect.fit_transform(data['Narrative'])\n",
    "features = vect.get_feature_names()\n",
    "dtm.shape"
   ]
  },
  {
   "cell_type": "code",
   "execution_count": 40,
   "metadata": {
    "collapsed": true
   },
   "outputs": [],
   "source": [
    "import random"
   ]
  },
  {
   "cell_type": "code",
   "execution_count": 41,
   "metadata": {
    "collapsed": true
   },
   "outputs": [],
   "source": [
    "def summarize():\n",
    "    \n",
    "    # choose a random summary that is at least 300 characters\n",
    "    incident_summary = 0\n",
    "#     while incident_summary < 100:\n",
    "    incident_id = np.random.randint(0, len(data))\n",
    "    incident_text = str(data['Narrative'][incident_id])\n",
    "    incident_length = len(incident_text)\n",
    "    \n",
    "    # create a dictionary of words and their TF-IDF scores\n",
    "    word_scores = {}\n",
    "    for word in TextBlob(incident_text).words:\n",
    "        word = word.lower()\n",
    "        if word in features:\n",
    "            word_scores[word] = dtm[incident_id, features.index(word)]\n",
    "    \n",
    "    # print words with the top 5 TF-IDF scores\n",
    "    print ('TOP SCORING WORDS:')\n",
    "    top_scores = sorted(word_scores.items(), key=lambda x: x[1], reverse=True)[:5]\n",
    "    for word, score in top_scores:\n",
    "        print (word)\n",
    "    \n",
    "    # print 5 random words\n",
    "    print ('\\n' + 'RANDOM WORDS:')\n",
    "#     print(word_scores.keys())\n",
    "    random_words = np.random.choice(list(word_scores.keys()), size=5, replace=False)\n",
    "    for word in random_words:\n",
    "        print (word)\n",
    "    \n",
    "    # print the summary\n",
    "    print ('\\n' + incident_text)"
   ]
  },
  {
   "cell_type": "code",
   "execution_count": 42,
   "metadata": {
    "collapsed": false,
    "scrolled": true
   },
   "outputs": [
    {
     "name": "stdout",
     "output_type": "stream",
     "text": [
      "TOP SCORING WORDS:\n",
      "denver\n",
      "icing\n",
      "degrees\n",
      "haul\n",
      "ase\n",
      "\n",
      "RANDOM WORDS:\n",
      "denver\n",
      "descent\n",
      "snow\n",
      "temperature\n",
      "ase\n",
      "\n",
      "The Cessna Caravan was on an IFR flight to haul freight from Aspen (ASE) to Denver-Stapleton (DEN). Moderate to heavy icing conditions were forecast for the Denver area. While on an ILS runway 36 approach, the aircraft encountered icing conditions. Subsequently, it entered a steep descent and crashed short of the runway. The weather at Denver was reported as: clouds 800 feet scattered, 1000 feet broken, visibility 4 miles with freezing drizzle and snow showers, temperature 28 degrees F, dew point 25 degrees F.\n"
     ]
    }
   ],
   "source": [
    "summarize()"
   ]
  },
  {
   "cell_type": "code",
   "execution_count": 43,
   "metadata": {
    "collapsed": false
   },
   "outputs": [
    {
     "data": {
      "text/plain": [
       "-0.125"
      ]
     },
     "execution_count": 43,
     "metadata": {},
     "output_type": "execute_result"
    }
   ],
   "source": [
    "TextBlob(data['Narrative'][20]).sentiment.polarity"
   ]
  },
  {
   "cell_type": "code",
   "execution_count": 44,
   "metadata": {
    "collapsed": false
   },
   "outputs": [
    {
     "data": {
      "text/plain": [
       "'Crashed into sea due to handling error. Pilot Oblt. Günther (II./186) injured.'"
      ]
     },
     "execution_count": 44,
     "metadata": {},
     "output_type": "execute_result"
    }
   ],
   "source": [
    "data['Narrative'][20]"
   ]
  },
  {
   "cell_type": "code",
   "execution_count": 45,
   "metadata": {
    "collapsed": false
   },
   "outputs": [
    {
     "data": {
      "text/plain": [
       "'The Super Electra ditched some 300 miles (480 km) north-west of Alexandria, Egypt. A ship rescued six survivors.'"
      ]
     },
     "execution_count": 45,
     "metadata": {},
     "output_type": "execute_result"
    }
   ],
   "source": [
    "data['Narrative'][10]"
   ]
  },
  {
   "cell_type": "code",
   "execution_count": null,
   "metadata": {
    "collapsed": true
   },
   "outputs": [],
   "source": [
    "## Create a new label for the"
   ]
  },
  {
   "cell_type": "markdown",
   "metadata": {},
   "source": [
    "## Based on the words in the summary, I am going to create a new label for the Accident Cause\n",
    "**The classification are: **\n",
    "\n",
    "1. Human factors/Personnel error\n",
    "    - flight crew, cabin crew, passengers, ground crew, air traffic controllers, maintenance crews, and others because of confusion, fatigue, inadequate coordination, poor communications, terrorist acts\n",
    "    \n",
    "2. Malfunction/Technical Failure of aircraft structures, engines, or other systems\n",
    "    - airfield obstacles, inadequate braking because of runway contamination or other reasons, poor lighting, inadequate signage, problems with landing or navigational aids, malfunctions of air traffic control equipment, inadequate emergency crash/fire/rescue equipment\n",
    "    \n",
    "3. Maintenance issues\n",
    "    - depressurization, emergency descent, fuselage shell opening, warning indications, uncommanded actuation of aircraft systems or controls, oxygen system problems, hazardous cargo, rotating machinery failure, multiple failures, air conditioning and pressurization problems, pneumatic system malfunctions, hydraulic system malfunctions, electrical system malfunctions, fuel system problems, exceeding ''g'' limits, separation of parts in flight, fluid seepage and spills, blue ice, jettisoning of fuel, leakage of fluids from cargo, loose cargo, improper activation of fire extinguishers, malfunctions of items on the minimum equipment list, electrical systems, flammable fluids, cargo, auxiliary power unit, or other system\n",
    "    \n",
    "4. Meteorological/hazardous environment\n",
    "    - ice ,turbulence, lightning strike, static discharge, clouds, winds, tailwinds, headwinds, crosswinds,  thunderstorms, wind shear, microbursts, fog, haze, rain, heavy rain, freezing rain, snow, slush, hail, mountain, weather, volcanic ash, birds\n",
    "\n",
    "5. Air traffic management errors\n",
    "    - unscheduled landings, gear-up landings, excursions off the end or side of the runway, brake malfunctions or difficulties, goarounds, short landings, long landings, overweight landings, hard landings, problems from contaminated runways, using the wrong runway, ditching, loss of directional control, or runway contact by nacelle, wing, tail, or fuselage.\n",
    "    \n",
    "6. Others\n",
    "\n",
    "    - Landing gear and brake problems include collapse of the landing gear, tire failure, wheel failure, brake failure, asymmetric braking, main landing gear up or unlocked, nose landing gear up or unlocked, false gear indication, antiskid system failure, steering failure, strut failure, emergency extension (gear free-fall), asymmetric gear extension, and tire damage by foreign objects.\n",
    "    \n",
    "    - Thrust problems include in-flight engine shutdowns, failure or asymmetric deployment of thrust reversers, inadvertent thrust reverser deployment in flight or on the ground, engine flameout, engine failure that is not contained by the engine case and/or the nacelle, engine fire warning, engine separation, high exhaust gas temperature, engine stab or surge, engine power loss, multiple engine failure, foreign object damage to engine, engine overspeed, and abnormalities involving the oil system, throttles, gear box, or fuel.\n",
    "    \n",
    "    - Flight control problems include gross weight and center-of-gravity problems, jammed or locked controls, aircraft stall, instrument error or false indications, wake turbulence, buffet, or vibrations caused by structural failures, improper actions by the pilot or autopilot, uncommanded actuation of control surfaces, adverse weather, or other system cause.\n"
   ]
  },
  {
   "cell_type": "code",
   "execution_count": 46,
   "metadata": {
    "collapsed": false
   },
   "outputs": [
    {
     "data": {
      "text/plain": [
       "'A Beech 1900D aircraft operated by North-Wright Airways, was conducting flight NWL125 from Norman Wells, Canada to Tulita, Canada. The flight crew was trying to initiate a right hand turn on the ramp after landing to park the aircraft and during the manoeuvre, they felt the aircraft started to slip on the slippery surface. The captain tried to do a recovery manoeuvre by applying differential power, reverse, and braking, however these manoeuvres were unsuccessful. The left wing came into contact with the airport building, sheering off the left winglet and wing tip down to the wing rib located below the wing fence. The aircraft continued past the building before coming to rest with the winglet and debris resting behind it. The 4 passengers and 2 crew members disembarked without any injury.'"
      ]
     },
     "execution_count": 46,
     "metadata": {},
     "output_type": "execute_result"
    }
   ],
   "source": [
    "data['Narrative'][0]"
   ]
  },
  {
   "cell_type": "code",
   "execution_count": 47,
   "metadata": {
    "collapsed": true
   },
   "outputs": [],
   "source": [
    "human = TextBlob('flight crew, cabin crew, passengers, ground crew, air traffic controllers, maintenance crews, and others because of confusion, fatigue, inadequate coordination, poor communications, terrorist acts')\n",
    "malfunction = TextBlob('airfield obstacles, inadequate braking because of runway contamination or other reasons, poor lighting, inadequate signage, problems with landing or navigational aids, malfunctions of air traffic control equipment, inadequate emergency crash/fire/rescue equipment')\n",
    "maintanence = TextBlob('depressurization, emergency descent, fuselage shell opening, warning indications, uncommanded actuation of aircraft systems or controls, oxygen system problems, hazardous cargo, rotating machinery failure, multiple failures, air conditioning and pressurization problems, pneumatic system malfunctions, hydraulic system malfunctions, electrical system malfunctions, fuel system problems, exceeding ''g'' limits, separation of parts in flight, fluid seepage and spills, blue ice, jettisoning of fuel, leakage of fluids from cargo, loose cargo, improper activation of fire extinguishers, malfunctions of items on the minimum equipment list, electrical systems, flammable fluids, cargo, auxiliary power unit, or other system')\n",
    "meteorological = TextBlob('ice ,turbulence, lightning strike, static discharge, clouds, winds, tailwinds, headwinds, crosswinds, thunderstorms, wind shear, microbursts, fog, haze, rain, heavy rain, freezing rain, snow, slush, hail, mountain, weather, volcanic ash, birds')\n",
    "airtrafficmgmt = TextBlob('unscheduled landings, gear-up landings, excursions off the end or side of the runway, brake malfunctions or difficulties, goarounds, short landings, long landings, overweight landings, hard landings, problems from contaminated runways, using the wrong runway, ditching, loss of directional control, or runway contact by nacelle, wing, tail, or fuselage.')\n",
    "others = TextBlob('Landing gear and brake problems include collapse of the landing gear, tire failure, wheel failure, brake failure, asymmetric braking, main landing gear up or unlocked, nose landing gear up or unlocked, false gear indication, antiskid system failure, steering failure, strut failure, emergency extension (gear free-fall), asymmetric gear extension, and tire damage by foreign objects. Thrust problems include in-flight engine shutdowns, failure or asymmetric deployment of thrust reversers, inadvertent thrust reverser deployment in flight or on the ground, engine flameout, engine failure that is not contained by the engine case and/or the nacelle, engine fire warning, engine separation, high exhaust gas temperature, engine stab or surge, engine power loss, multiple engine failure, foreign object damage to engine, engine overspeed, and abnormalities involving the oil system, throttles, gear box, or fuel. Flight control problems include gross weight and center-of-gravity problems, jammed or locked controls, aircraft stall, instrument error or false indications, wake turbulence, buffet, or vibrations caused by structural failures, improper actions by the pilot or autopilot, uncommanded actuation of control surfaces, adverse weather, or other system cause.')\n",
    "\n",
    "                          "
   ]
  },
  {
   "cell_type": "code",
   "execution_count": 48,
   "metadata": {
    "collapsed": false,
    "scrolled": true
   },
   "outputs": [
    {
     "name": "stdout",
     "output_type": "stream",
     "text": [
      "human ['flight', 'crew', 'cabin', 'crew', 'passengers', 'ground', 'crew', 'air', 'traffic', 'controllers', 'maintenance', 'crews', 'and', 'others', 'because', 'of', 'confusion', 'fatigue', 'inadequate', 'coordination', 'poor', 'communications', 'terrorist', 'acts']\n",
      "malfunction ['airfield', 'obstacles', 'inadequate', 'braking', 'because', 'of', 'runway', 'contamination', 'or', 'other', 'reasons', 'poor', 'lighting', 'inadequate', 'signage', 'problems', 'with', 'landing', 'or', 'navigational', 'aids', 'malfunctions', 'of', 'air', 'traffic', 'control', 'equipment', 'inadequate', 'emergency', 'crash/fire/rescue', 'equipment']\n",
      "maintanence ['depressurization', 'emergency', 'descent', 'fuselage', 'shell', 'opening', 'warning', 'indications', 'uncommanded', 'actuation', 'of', 'aircraft', 'systems', 'or', 'controls', 'oxygen', 'system', 'problems', 'hazardous', 'cargo', 'rotating', 'machinery', 'failure', 'multiple', 'failures', 'air', 'conditioning', 'and', 'pressurization', 'problems', 'pneumatic', 'system', 'malfunctions', 'hydraulic', 'system', 'malfunctions', 'electrical', 'system', 'malfunctions', 'fuel', 'system', 'problems', 'exceeding', 'g', 'limits', 'separation', 'of', 'parts', 'in', 'flight', 'fluid', 'seepage', 'and', 'spills', 'blue', 'ice', 'jettisoning', 'of', 'fuel', 'leakage', 'of', 'fluids', 'from', 'cargo', 'loose', 'cargo', 'improper', 'activation', 'of', 'fire', 'extinguishers', 'malfunctions', 'of', 'items', 'on', 'the', 'minimum', 'equipment', 'list', 'electrical', 'systems', 'flammable', 'fluids', 'cargo', 'auxiliary', 'power', 'unit', 'or', 'other', 'system']\n",
      "meteorological ['ice', 'turbulence', 'lightning', 'strike', 'static', 'discharge', 'clouds', 'winds', 'tailwinds', 'headwinds', 'crosswinds', 'thunderstorms', 'wind', 'shear', 'microbursts', 'fog', 'haze', 'rain', 'heavy', 'rain', 'freezing', 'rain', 'snow', 'slush', 'hail', 'mountain', 'weather', 'volcanic', 'ash', 'birds']\n",
      "airtrafficmgmt ['unscheduled', 'landings', 'gear-up', 'landings', 'excursions', 'off', 'the', 'end', 'or', 'side', 'of', 'the', 'runway', 'brake', 'malfunctions', 'or', 'difficulties', 'goarounds', 'short', 'landings', 'long', 'landings', 'overweight', 'landings', 'hard', 'landings', 'problems', 'from', 'contaminated', 'runways', 'using', 'the', 'wrong', 'runway', 'ditching', 'loss', 'of', 'directional', 'control', 'or', 'runway', 'contact', 'by', 'nacelle', 'wing', 'tail', 'or', 'fuselage']\n",
      "others ['Landing', 'gear', 'and', 'brake', 'problems', 'include', 'collapse', 'of', 'the', 'landing', 'gear', 'tire', 'failure', 'wheel', 'failure', 'brake', 'failure', 'asymmetric', 'braking', 'main', 'landing', 'gear', 'up', 'or', 'unlocked', 'nose', 'landing', 'gear', 'up', 'or', 'unlocked', 'false', 'gear', 'indication', 'antiskid', 'system', 'failure', 'steering', 'failure', 'strut', 'failure', 'emergency', 'extension', 'gear', 'free-fall', 'asymmetric', 'gear', 'extension', 'and', 'tire', 'damage', 'by', 'foreign', 'objects', 'Thrust', 'problems', 'include', 'in-flight', 'engine', 'shutdowns', 'failure', 'or', 'asymmetric', 'deployment', 'of', 'thrust', 'reversers', 'inadvertent', 'thrust', 'reverser', 'deployment', 'in', 'flight', 'or', 'on', 'the', 'ground', 'engine', 'flameout', 'engine', 'failure', 'that', 'is', 'not', 'contained', 'by', 'the', 'engine', 'case', 'and/or', 'the', 'nacelle', 'engine', 'fire', 'warning', 'engine', 'separation', 'high', 'exhaust', 'gas', 'temperature', 'engine', 'stab', 'or', 'surge', 'engine', 'power', 'loss', 'multiple', 'engine', 'failure', 'foreign', 'object', 'damage', 'to', 'engine', 'engine', 'overspeed', 'and', 'abnormalities', 'involving', 'the', 'oil', 'system', 'throttles', 'gear', 'box', 'or', 'fuel', 'Flight', 'control', 'problems', 'include', 'gross', 'weight', 'and', 'center-of-gravity', 'problems', 'jammed', 'or', 'locked', 'controls', 'aircraft', 'stall', 'instrument', 'error', 'or', 'false', 'indications', 'wake', 'turbulence', 'buffet', 'or', 'vibrations', 'caused', 'by', 'structural', 'failures', 'improper', 'actions', 'by', 'the', 'pilot', 'or', 'autopilot', 'uncommanded', 'actuation', 'of', 'control', 'surfaces', 'adverse', 'weather', 'or', 'other', 'system', 'cause']\n"
     ]
    }
   ],
   "source": [
    "print('human', human.words)\n",
    "print('malfunction', malfunction.words)\n",
    "print('maintanence', maintanence.words)\n",
    "print('meteorological', meteorological.words)\n",
    "print('airtrafficmgmt', airtrafficmgmt.words)\n",
    "print('others', others.words)"
   ]
  },
  {
   "cell_type": "code",
   "execution_count": 52,
   "metadata": {
    "collapsed": true
   },
   "outputs": [],
   "source": [
    "from sklearn.pipeline import Pipeline\n",
    "from sklearn.svm import SVC\n",
    "# http://nadbordrozd.github.io/blog/2016/05/20/text-classification-with-word2vec/"
   ]
  },
  {
   "cell_type": "code",
   "execution_count": 53,
   "metadata": {
    "collapsed": false
   },
   "outputs": [],
   "source": [
    "malfunction_train = [''.join(word) for word in malfunction.words]\n",
    "malfunction_train = ' '.join(map(str, malfunction_train))\n",
    "\n",
    "maintanence_train = [''.join(word) for word in maintanence.words]\n",
    "maintanence_train = ' '.join(map(str, maintanence_train))\n",
    "\n",
    "meteorological_train = [''.join(word) for word in meteorological.words]\n",
    "meteorological_train = ' '.join(map(str, meteorological_train))\n",
    "\n",
    "airtrafficmgmt_train = [''.join(word) for word in airtrafficmgmt.words]\n",
    "airtrafficmgmt_train = ' '.join(map(str, airtrafficmgmt_train))\n",
    "\n",
    "\n",
    "others_train = [''.join(word) for word in others.words]\n",
    "others_train = ' '.join(map(str, others_train))\n",
    "\n",
    "human_train = [''.join(word) for word in human.words]\n",
    "human_train = ' '.join(map(str, human_train))\n"
   ]
  },
  {
   "cell_type": "code",
   "execution_count": 54,
   "metadata": {
    "collapsed": false
   },
   "outputs": [],
   "source": [
    "X_train = [malfunction_train, maintanence_train, meteorological_train, airtrafficmgmt_train,others_train,human_train]\n",
    "y_train = ['malfunction', 'maintanence', 'meteorological', 'airtrafficmgmt', 'others', 'human']"
   ]
  },
  {
   "cell_type": "code",
   "execution_count": 55,
   "metadata": {
    "collapsed": true
   },
   "outputs": [],
   "source": [
    "X_test = data['Narrative']\n",
    "# y_test = "
   ]
  },
  {
   "cell_type": "code",
   "execution_count": 56,
   "metadata": {
    "collapsed": false
   },
   "outputs": [
    {
     "data": {
      "text/plain": [
       "197"
      ]
     },
     "execution_count": 56,
     "metadata": {},
     "output_type": "execute_result"
    }
   ],
   "source": [
    "# Lets use the stop_words argument to remove words like \"and, the, a\"\n",
    "cvec = CountVectorizer(stop_words='english')\n",
    "\n",
    "# Fit our vectorizer using our train data\n",
    "words = cvec.fit_transform(X_train, y_train)\n",
    "\n",
    "# and check out the length of the vectorized data after\n",
    "len(cvec.get_feature_names())"
   ]
  },
  {
   "cell_type": "code",
   "execution_count": 57,
   "metadata": {
    "collapsed": false
   },
   "outputs": [
    {
     "data": {
      "text/html": [
       "<div>\n",
       "<table border=\"1\" class=\"dataframe\">\n",
       "  <thead>\n",
       "    <tr style=\"text-align: right;\">\n",
       "      <th></th>\n",
       "      <th>abnormalities</th>\n",
       "      <th>actions</th>\n",
       "      <th>activation</th>\n",
       "      <th>acts</th>\n",
       "      <th>actuation</th>\n",
       "      <th>adverse</th>\n",
       "      <th>aids</th>\n",
       "      <th>air</th>\n",
       "      <th>aircraft</th>\n",
       "      <th>airfield</th>\n",
       "      <th>antiskid</th>\n",
       "      <th>ash</th>\n",
       "      <th>asymmetric</th>\n",
       "      <th>autopilot</th>\n",
       "      <th>auxiliary</th>\n",
       "      <th>birds</th>\n",
       "      <th>blue</th>\n",
       "      <th>box</th>\n",
       "      <th>brake</th>\n",
       "      <th>braking</th>\n",
       "      <th>buffet</th>\n",
       "      <th>cabin</th>\n",
       "      <th>cargo</th>\n",
       "      <th>case</th>\n",
       "      <th>cause</th>\n",
       "      <th>...</th>\n",
       "      <th>tailwinds</th>\n",
       "      <th>temperature</th>\n",
       "      <th>terrorist</th>\n",
       "      <th>throttles</th>\n",
       "      <th>thrust</th>\n",
       "      <th>thunderstorms</th>\n",
       "      <th>tire</th>\n",
       "      <th>traffic</th>\n",
       "      <th>turbulence</th>\n",
       "      <th>uncommanded</th>\n",
       "      <th>unit</th>\n",
       "      <th>unlocked</th>\n",
       "      <th>unscheduled</th>\n",
       "      <th>using</th>\n",
       "      <th>vibrations</th>\n",
       "      <th>volcanic</th>\n",
       "      <th>wake</th>\n",
       "      <th>warning</th>\n",
       "      <th>weather</th>\n",
       "      <th>weight</th>\n",
       "      <th>wheel</th>\n",
       "      <th>wind</th>\n",
       "      <th>winds</th>\n",
       "      <th>wing</th>\n",
       "      <th>wrong</th>\n",
       "    </tr>\n",
       "  </thead>\n",
       "  <tbody>\n",
       "    <tr>\n",
       "      <th>0</th>\n",
       "      <td>0</td>\n",
       "      <td>0</td>\n",
       "      <td>0</td>\n",
       "      <td>0</td>\n",
       "      <td>0</td>\n",
       "      <td>0</td>\n",
       "      <td>1</td>\n",
       "      <td>1</td>\n",
       "      <td>0</td>\n",
       "      <td>1</td>\n",
       "      <td>0</td>\n",
       "      <td>0</td>\n",
       "      <td>0</td>\n",
       "      <td>0</td>\n",
       "      <td>0</td>\n",
       "      <td>0</td>\n",
       "      <td>0</td>\n",
       "      <td>0</td>\n",
       "      <td>0</td>\n",
       "      <td>1</td>\n",
       "      <td>0</td>\n",
       "      <td>0</td>\n",
       "      <td>0</td>\n",
       "      <td>0</td>\n",
       "      <td>0</td>\n",
       "      <td>...</td>\n",
       "      <td>0</td>\n",
       "      <td>0</td>\n",
       "      <td>0</td>\n",
       "      <td>0</td>\n",
       "      <td>0</td>\n",
       "      <td>0</td>\n",
       "      <td>0</td>\n",
       "      <td>1</td>\n",
       "      <td>0</td>\n",
       "      <td>0</td>\n",
       "      <td>0</td>\n",
       "      <td>0</td>\n",
       "      <td>0</td>\n",
       "      <td>0</td>\n",
       "      <td>0</td>\n",
       "      <td>0</td>\n",
       "      <td>0</td>\n",
       "      <td>0</td>\n",
       "      <td>0</td>\n",
       "      <td>0</td>\n",
       "      <td>0</td>\n",
       "      <td>0</td>\n",
       "      <td>0</td>\n",
       "      <td>0</td>\n",
       "      <td>0</td>\n",
       "    </tr>\n",
       "    <tr>\n",
       "      <th>1</th>\n",
       "      <td>0</td>\n",
       "      <td>0</td>\n",
       "      <td>1</td>\n",
       "      <td>0</td>\n",
       "      <td>1</td>\n",
       "      <td>0</td>\n",
       "      <td>0</td>\n",
       "      <td>1</td>\n",
       "      <td>1</td>\n",
       "      <td>0</td>\n",
       "      <td>0</td>\n",
       "      <td>0</td>\n",
       "      <td>0</td>\n",
       "      <td>0</td>\n",
       "      <td>1</td>\n",
       "      <td>0</td>\n",
       "      <td>1</td>\n",
       "      <td>0</td>\n",
       "      <td>0</td>\n",
       "      <td>0</td>\n",
       "      <td>0</td>\n",
       "      <td>0</td>\n",
       "      <td>4</td>\n",
       "      <td>0</td>\n",
       "      <td>0</td>\n",
       "      <td>...</td>\n",
       "      <td>0</td>\n",
       "      <td>0</td>\n",
       "      <td>0</td>\n",
       "      <td>0</td>\n",
       "      <td>0</td>\n",
       "      <td>0</td>\n",
       "      <td>0</td>\n",
       "      <td>0</td>\n",
       "      <td>0</td>\n",
       "      <td>1</td>\n",
       "      <td>1</td>\n",
       "      <td>0</td>\n",
       "      <td>0</td>\n",
       "      <td>0</td>\n",
       "      <td>0</td>\n",
       "      <td>0</td>\n",
       "      <td>0</td>\n",
       "      <td>1</td>\n",
       "      <td>0</td>\n",
       "      <td>0</td>\n",
       "      <td>0</td>\n",
       "      <td>0</td>\n",
       "      <td>0</td>\n",
       "      <td>0</td>\n",
       "      <td>0</td>\n",
       "    </tr>\n",
       "    <tr>\n",
       "      <th>2</th>\n",
       "      <td>0</td>\n",
       "      <td>0</td>\n",
       "      <td>0</td>\n",
       "      <td>0</td>\n",
       "      <td>0</td>\n",
       "      <td>0</td>\n",
       "      <td>0</td>\n",
       "      <td>0</td>\n",
       "      <td>0</td>\n",
       "      <td>0</td>\n",
       "      <td>0</td>\n",
       "      <td>1</td>\n",
       "      <td>0</td>\n",
       "      <td>0</td>\n",
       "      <td>0</td>\n",
       "      <td>1</td>\n",
       "      <td>0</td>\n",
       "      <td>0</td>\n",
       "      <td>0</td>\n",
       "      <td>0</td>\n",
       "      <td>0</td>\n",
       "      <td>0</td>\n",
       "      <td>0</td>\n",
       "      <td>0</td>\n",
       "      <td>0</td>\n",
       "      <td>...</td>\n",
       "      <td>1</td>\n",
       "      <td>0</td>\n",
       "      <td>0</td>\n",
       "      <td>0</td>\n",
       "      <td>0</td>\n",
       "      <td>1</td>\n",
       "      <td>0</td>\n",
       "      <td>0</td>\n",
       "      <td>1</td>\n",
       "      <td>0</td>\n",
       "      <td>0</td>\n",
       "      <td>0</td>\n",
       "      <td>0</td>\n",
       "      <td>0</td>\n",
       "      <td>0</td>\n",
       "      <td>1</td>\n",
       "      <td>0</td>\n",
       "      <td>0</td>\n",
       "      <td>1</td>\n",
       "      <td>0</td>\n",
       "      <td>0</td>\n",
       "      <td>1</td>\n",
       "      <td>1</td>\n",
       "      <td>0</td>\n",
       "      <td>0</td>\n",
       "    </tr>\n",
       "    <tr>\n",
       "      <th>3</th>\n",
       "      <td>0</td>\n",
       "      <td>0</td>\n",
       "      <td>0</td>\n",
       "      <td>0</td>\n",
       "      <td>0</td>\n",
       "      <td>0</td>\n",
       "      <td>0</td>\n",
       "      <td>0</td>\n",
       "      <td>0</td>\n",
       "      <td>0</td>\n",
       "      <td>0</td>\n",
       "      <td>0</td>\n",
       "      <td>0</td>\n",
       "      <td>0</td>\n",
       "      <td>0</td>\n",
       "      <td>0</td>\n",
       "      <td>0</td>\n",
       "      <td>0</td>\n",
       "      <td>1</td>\n",
       "      <td>0</td>\n",
       "      <td>0</td>\n",
       "      <td>0</td>\n",
       "      <td>0</td>\n",
       "      <td>0</td>\n",
       "      <td>0</td>\n",
       "      <td>...</td>\n",
       "      <td>0</td>\n",
       "      <td>0</td>\n",
       "      <td>0</td>\n",
       "      <td>0</td>\n",
       "      <td>0</td>\n",
       "      <td>0</td>\n",
       "      <td>0</td>\n",
       "      <td>0</td>\n",
       "      <td>0</td>\n",
       "      <td>0</td>\n",
       "      <td>0</td>\n",
       "      <td>0</td>\n",
       "      <td>1</td>\n",
       "      <td>1</td>\n",
       "      <td>0</td>\n",
       "      <td>0</td>\n",
       "      <td>0</td>\n",
       "      <td>0</td>\n",
       "      <td>0</td>\n",
       "      <td>0</td>\n",
       "      <td>0</td>\n",
       "      <td>0</td>\n",
       "      <td>0</td>\n",
       "      <td>1</td>\n",
       "      <td>1</td>\n",
       "    </tr>\n",
       "    <tr>\n",
       "      <th>4</th>\n",
       "      <td>1</td>\n",
       "      <td>1</td>\n",
       "      <td>0</td>\n",
       "      <td>0</td>\n",
       "      <td>1</td>\n",
       "      <td>1</td>\n",
       "      <td>0</td>\n",
       "      <td>0</td>\n",
       "      <td>1</td>\n",
       "      <td>0</td>\n",
       "      <td>1</td>\n",
       "      <td>0</td>\n",
       "      <td>3</td>\n",
       "      <td>1</td>\n",
       "      <td>0</td>\n",
       "      <td>0</td>\n",
       "      <td>0</td>\n",
       "      <td>1</td>\n",
       "      <td>2</td>\n",
       "      <td>1</td>\n",
       "      <td>1</td>\n",
       "      <td>0</td>\n",
       "      <td>0</td>\n",
       "      <td>1</td>\n",
       "      <td>1</td>\n",
       "      <td>...</td>\n",
       "      <td>0</td>\n",
       "      <td>1</td>\n",
       "      <td>0</td>\n",
       "      <td>1</td>\n",
       "      <td>3</td>\n",
       "      <td>0</td>\n",
       "      <td>2</td>\n",
       "      <td>0</td>\n",
       "      <td>1</td>\n",
       "      <td>1</td>\n",
       "      <td>0</td>\n",
       "      <td>2</td>\n",
       "      <td>0</td>\n",
       "      <td>0</td>\n",
       "      <td>1</td>\n",
       "      <td>0</td>\n",
       "      <td>1</td>\n",
       "      <td>1</td>\n",
       "      <td>1</td>\n",
       "      <td>1</td>\n",
       "      <td>1</td>\n",
       "      <td>0</td>\n",
       "      <td>0</td>\n",
       "      <td>0</td>\n",
       "      <td>0</td>\n",
       "    </tr>\n",
       "  </tbody>\n",
       "</table>\n",
       "<p>5 rows × 197 columns</p>\n",
       "</div>"
      ],
      "text/plain": [
       "   abnormalities  actions  activation  acts  actuation  adverse  aids  air  \\\n",
       "0              0        0           0     0          0        0     1    1   \n",
       "1              0        0           1     0          1        0     0    1   \n",
       "2              0        0           0     0          0        0     0    0   \n",
       "3              0        0           0     0          0        0     0    0   \n",
       "4              1        1           0     0          1        1     0    0   \n",
       "\n",
       "   aircraft  airfield  antiskid  ash  asymmetric  autopilot  auxiliary  birds  \\\n",
       "0         0         1         0    0           0          0          0      0   \n",
       "1         1         0         0    0           0          0          1      0   \n",
       "2         0         0         0    1           0          0          0      1   \n",
       "3         0         0         0    0           0          0          0      0   \n",
       "4         1         0         1    0           3          1          0      0   \n",
       "\n",
       "   blue  box  brake  braking  buffet  cabin  cargo  case  cause  ...    \\\n",
       "0     0    0      0        1       0      0      0     0      0  ...     \n",
       "1     1    0      0        0       0      0      4     0      0  ...     \n",
       "2     0    0      0        0       0      0      0     0      0  ...     \n",
       "3     0    0      1        0       0      0      0     0      0  ...     \n",
       "4     0    1      2        1       1      0      0     1      1  ...     \n",
       "\n",
       "   tailwinds  temperature  terrorist  throttles  thrust  thunderstorms  tire  \\\n",
       "0          0            0          0          0       0              0     0   \n",
       "1          0            0          0          0       0              0     0   \n",
       "2          1            0          0          0       0              1     0   \n",
       "3          0            0          0          0       0              0     0   \n",
       "4          0            1          0          1       3              0     2   \n",
       "\n",
       "   traffic  turbulence  uncommanded  unit  unlocked  unscheduled  using  \\\n",
       "0        1           0            0     0         0            0      0   \n",
       "1        0           0            1     1         0            0      0   \n",
       "2        0           1            0     0         0            0      0   \n",
       "3        0           0            0     0         0            1      1   \n",
       "4        0           1            1     0         2            0      0   \n",
       "\n",
       "   vibrations  volcanic  wake  warning  weather  weight  wheel  wind  winds  \\\n",
       "0           0         0     0        0        0       0      0     0      0   \n",
       "1           0         0     0        1        0       0      0     0      0   \n",
       "2           0         1     0        0        1       0      0     1      1   \n",
       "3           0         0     0        0        0       0      0     0      0   \n",
       "4           1         0     1        1        1       1      1     0      0   \n",
       "\n",
       "   wing  wrong  \n",
       "0     0      0  \n",
       "1     0      0  \n",
       "2     0      0  \n",
       "3     1      1  \n",
       "4     0      0  \n",
       "\n",
       "[5 rows x 197 columns]"
      ]
     },
     "execution_count": 57,
     "metadata": {},
     "output_type": "execute_result"
    }
   ],
   "source": [
    "words = pd.DataFrame(words.todense(), columns=cvec.get_feature_names())\n",
    "words.head()"
   ]
  },
  {
   "cell_type": "code",
   "execution_count": 58,
   "metadata": {
    "collapsed": false
   },
   "outputs": [],
   "source": [
    "X_test_dtm = cvec.transform(X_test)"
   ]
  },
  {
   "cell_type": "code",
   "execution_count": 59,
   "metadata": {
    "collapsed": true
   },
   "outputs": [],
   "source": [
    "X_train = [malfunction_train, maintanence_train, meteorological_train, airtrafficmgmt_train,others_train,human_train]\n",
    "y_train = ['malfunction', 'maintanence', 'meteorological', 'airtrafficmgmt', 'others', 'human']"
   ]
  },
  {
   "cell_type": "code",
   "execution_count": 60,
   "metadata": {
    "collapsed": false
   },
   "outputs": [],
   "source": [
    "from sklearn.naive_bayes import MultinomialNB\n",
    "# use Naive Bayes  to predict the star rating\n",
    "nb = MultinomialNB()\n",
    "\n",
    "X_train_dtm = cvec.fit_transform(X_train)\n",
    "X_test_dtm = cvec.transform(X_test)\n",
    "\n",
    "nb.fit(X_train_dtm, y_train)\n",
    "y_pred_class = nb.predict(X_test_dtm)"
   ]
  },
  {
   "cell_type": "code",
   "execution_count": 61,
   "metadata": {
    "collapsed": false
   },
   "outputs": [
    {
     "data": {
      "text/plain": [
       "array(['human', 'human', 'others', ..., 'others', 'human', 'others'], \n",
       "      dtype='<U14')"
      ]
     },
     "execution_count": 61,
     "metadata": {},
     "output_type": "execute_result"
    }
   ],
   "source": [
    "y_pred_class"
   ]
  },
  {
   "cell_type": "code",
   "execution_count": 62,
   "metadata": {
    "collapsed": true
   },
   "outputs": [],
   "source": [
    "data['label'] = y_pred_class"
   ]
  },
  {
   "cell_type": "code",
   "execution_count": 63,
   "metadata": {
    "collapsed": false
   },
   "outputs": [
    {
     "data": {
      "text/html": [
       "<div>\n",
       "<table border=\"1\" class=\"dataframe\">\n",
       "  <thead>\n",
       "    <tr style=\"text-align: right;\">\n",
       "      <th></th>\n",
       "      <th>Narrative</th>\n",
       "      <th>label</th>\n",
       "    </tr>\n",
       "  </thead>\n",
       "  <tbody>\n",
       "    <tr>\n",
       "      <th>0</th>\n",
       "      <td>A Beech 1900D aircraft operated by North-Wrigh...</td>\n",
       "      <td>human</td>\n",
       "    </tr>\n",
       "    <tr>\n",
       "      <th>1</th>\n",
       "      <td>A Shorts 330 cargo plane impacted wooded terra...</td>\n",
       "      <td>human</td>\n",
       "    </tr>\n",
       "    <tr>\n",
       "      <th>2</th>\n",
       "      <td>The pilot of a Cessna 208B Grand Caravan was k...</td>\n",
       "      <td>others</td>\n",
       "    </tr>\n",
       "    <tr>\n",
       "      <th>3</th>\n",
       "      <td>The Junkers Ju-52/3mce named \"Huanuni\" crashed...</td>\n",
       "      <td>airtrafficmgmt</td>\n",
       "    </tr>\n",
       "    <tr>\n",
       "      <th>4</th>\n",
       "      <td>Crashed in bad weather. Flight: Paris-Lyon-Mar...</td>\n",
       "      <td>others</td>\n",
       "    </tr>\n",
       "    <tr>\n",
       "      <th>5</th>\n",
       "      <td>The Junkers Ju-52/3mge named \"Ecuador\" crashed...</td>\n",
       "      <td>others</td>\n",
       "    </tr>\n",
       "    <tr>\n",
       "      <th>6</th>\n",
       "      <td>Overturned whilst taxiing.</td>\n",
       "      <td>airtrafficmgmt</td>\n",
       "    </tr>\n",
       "    <tr>\n",
       "      <th>7</th>\n",
       "      <td>On takeoff engine no. 2 failed at low altitude...</td>\n",
       "      <td>others</td>\n",
       "    </tr>\n",
       "    <tr>\n",
       "      <th>8</th>\n",
       "      <td>The DC-2 Nakajima-assembled DC-2 \"Fuji\" crashe...</td>\n",
       "      <td>others</td>\n",
       "    </tr>\n",
       "    <tr>\n",
       "      <th>9</th>\n",
       "      <td>A Focke-Wulf Fw 200 airliner operated by Deuts...</td>\n",
       "      <td>airtrafficmgmt</td>\n",
       "    </tr>\n",
       "  </tbody>\n",
       "</table>\n",
       "</div>"
      ],
      "text/plain": [
       "                                           Narrative           label\n",
       "0  A Beech 1900D aircraft operated by North-Wrigh...           human\n",
       "1  A Shorts 330 cargo plane impacted wooded terra...           human\n",
       "2  The pilot of a Cessna 208B Grand Caravan was k...          others\n",
       "3  The Junkers Ju-52/3mce named \"Huanuni\" crashed...  airtrafficmgmt\n",
       "4  Crashed in bad weather. Flight: Paris-Lyon-Mar...          others\n",
       "5  The Junkers Ju-52/3mge named \"Ecuador\" crashed...          others\n",
       "6                         Overturned whilst taxiing.  airtrafficmgmt\n",
       "7  On takeoff engine no. 2 failed at low altitude...          others\n",
       "8  The DC-2 Nakajima-assembled DC-2 \"Fuji\" crashe...          others\n",
       "9  A Focke-Wulf Fw 200 airliner operated by Deuts...  airtrafficmgmt"
      ]
     },
     "execution_count": 63,
     "metadata": {},
     "output_type": "execute_result"
    }
   ],
   "source": [
    "data[['Narrative', 'label']].head(10)"
   ]
  },
  {
   "cell_type": "code",
   "execution_count": 65,
   "metadata": {
    "collapsed": false
   },
   "outputs": [
    {
     "data": {
      "text/plain": [
       "548"
      ]
     },
     "execution_count": 65,
     "metadata": {},
     "output_type": "execute_result"
    }
   ],
   "source": [
    "len(data[data['label'] =='maintanence'])"
   ]
  },
  {
   "cell_type": "code",
   "execution_count": 66,
   "metadata": {
    "collapsed": false
   },
   "outputs": [
    {
     "data": {
      "text/plain": [
       "airtrafficmgmt    2752\n",
       "others            2545\n",
       "human             1537\n",
       "maintanence        548\n",
       "meteorological     403\n",
       "malfunction        313\n",
       "Name: label, dtype: int64"
      ]
     },
     "execution_count": 66,
     "metadata": {},
     "output_type": "execute_result"
    }
   ],
   "source": [
    "data.label.value_counts()"
   ]
  },
  {
   "cell_type": "markdown",
   "metadata": {},
   "source": [
    "## Add label to csv file"
   ]
  },
  {
   "cell_type": "code",
   "execution_count": 70,
   "metadata": {
    "collapsed": false
   },
   "outputs": [
    {
     "data": {
      "text/html": [
       "<div>\n",
       "<table border=\"1\" class=\"dataframe\">\n",
       "  <thead>\n",
       "    <tr style=\"text-align: right;\">\n",
       "      <th></th>\n",
       "      <th>Engines</th>\n",
       "      <th>Narrative</th>\n",
       "      <th>FlightNumber</th>\n",
       "      <th>AirplaneDamage</th>\n",
       "      <th>Phase</th>\n",
       "      <th>DestinationAirport</th>\n",
       "      <th>Date</th>\n",
       "      <th>Time</th>\n",
       "      <th>DepartureAirport</th>\n",
       "      <th>Operator</th>\n",
       "      <th>AirplaneFate</th>\n",
       "      <th>FirstFlight</th>\n",
       "      <th>Nature_Code</th>\n",
       "      <th>Type_Code</th>\n",
       "      <th>Engine_Type</th>\n",
       "      <th>Engine_count</th>\n",
       "      <th>Crew_Fatal</th>\n",
       "      <th>Crew_Occ</th>\n",
       "      <th>Total_Fatal</th>\n",
       "      <th>Total_Occ</th>\n",
       "      <th>Psngr_Fatal</th>\n",
       "      <th>Psngr_Occ</th>\n",
       "      <th>GndFatal</th>\n",
       "      <th>Coll_Fatal</th>\n",
       "      <th>Crash_Elev_m</th>\n",
       "      <th>Day</th>\n",
       "      <th>Month</th>\n",
       "      <th>Year</th>\n",
       "      <th>Dep_Airport_1</th>\n",
       "      <th>Dest_Airport_1</th>\n",
       "      <th>Age</th>\n",
       "      <th>Country</th>\n",
       "      <th>latlon</th>\n",
       "      <th>sub_place</th>\n",
       "      <th>Continents</th>\n",
       "      <th>Hemisphere</th>\n",
       "      <th>Seasons</th>\n",
       "      <th>orig_latitude</th>\n",
       "      <th>orig_longitude</th>\n",
       "      <th>Decade</th>\n",
       "      <th>label</th>\n",
       "    </tr>\n",
       "  </thead>\n",
       "  <tbody>\n",
       "    <tr>\n",
       "      <th>0</th>\n",
       "      <td>-</td>\n",
       "      <td>A Beech 1900D aircraft operated by North-Wrigh...</td>\n",
       "      <td>12</td>\n",
       "      <td>Minor</td>\n",
       "      <td>Taxi (TXI)</td>\n",
       "      <td>, CanadaTulita Airport, NT (ZFN/CZFN)</td>\n",
       "      <td>9</td>\n",
       "      <td>16:11</td>\n",
       "      <td>, CanadaNorman Wells Airport, NT (YVQ/CYVQ)</td>\n",
       "      <td>North-Wright Airways</td>\n",
       "      <td>Repaired</td>\n",
       "      <td>1994</td>\n",
       "      <td>Passenger - Domestic</td>\n",
       "      <td>Beechcraft</td>\n",
       "      <td>Unknown</td>\n",
       "      <td>-1.0</td>\n",
       "      <td>0</td>\n",
       "      <td>2</td>\n",
       "      <td>0</td>\n",
       "      <td>6</td>\n",
       "      <td>0</td>\n",
       "      <td>4</td>\n",
       "      <td>0</td>\n",
       "      <td>0</td>\n",
       "      <td>0</td>\n",
       "      <td>Thursday</td>\n",
       "      <td>FEB</td>\n",
       "      <td>2017</td>\n",
       "      <td>YVQ</td>\n",
       "      <td>ZFN</td>\n",
       "      <td>23</td>\n",
       "      <td>Canada</td>\n",
       "      <td>(56.130366, -106.346771)</td>\n",
       "      <td>Tulita Airport (ZFN), Tulita, NT X0E 0K0, Canada</td>\n",
       "      <td>North America</td>\n",
       "      <td>Northern</td>\n",
       "      <td>Winter</td>\n",
       "      <td>64.909102</td>\n",
       "      <td>-125.567917</td>\n",
       "      <td>2010</td>\n",
       "      <td>human</td>\n",
       "    </tr>\n",
       "    <tr>\n",
       "      <th>1</th>\n",
       "      <td>2 Pratt &amp; Whitney Canada PT6A-45R</td>\n",
       "      <td>A Shorts 330 cargo plane impacted wooded terra...</td>\n",
       "      <td>13</td>\n",
       "      <td>Damaged beyond repair</td>\n",
       "      <td>Landing (LDG)</td>\n",
       "      <td>, United States of AmericaCharleston-Yeager Ai...</td>\n",
       "      <td>5</td>\n",
       "      <td>06:53</td>\n",
       "      <td>, United States of AmericaLouisville Internati...</td>\n",
       "      <td>Air Cargo Carriers</td>\n",
       "      <td>-</td>\n",
       "      <td>1979</td>\n",
       "      <td>Cargo</td>\n",
       "      <td>Others</td>\n",
       "      <td>Pratt &amp; Whitney</td>\n",
       "      <td>2.0</td>\n",
       "      <td>2</td>\n",
       "      <td>2</td>\n",
       "      <td>2</td>\n",
       "      <td>2</td>\n",
       "      <td>0</td>\n",
       "      <td>0</td>\n",
       "      <td>0</td>\n",
       "      <td>0</td>\n",
       "      <td>0</td>\n",
       "      <td>Friday</td>\n",
       "      <td>MAY</td>\n",
       "      <td>2017</td>\n",
       "      <td>SDF</td>\n",
       "      <td>CRW</td>\n",
       "      <td>38</td>\n",
       "      <td>United States</td>\n",
       "      <td>(37.09024, -95.712891)</td>\n",
       "      <td>Yeager Airport, 100 Airport Rd, Charleston, WV...</td>\n",
       "      <td>North America</td>\n",
       "      <td>Northern</td>\n",
       "      <td>Spring</td>\n",
       "      <td>38.370485</td>\n",
       "      <td>-81.596705</td>\n",
       "      <td>2010</td>\n",
       "      <td>human</td>\n",
       "    </tr>\n",
       "  </tbody>\n",
       "</table>\n",
       "</div>"
      ],
      "text/plain": [
       "                              Engines  \\\n",
       "0                                   -   \n",
       "1   2 Pratt & Whitney Canada PT6A-45R   \n",
       "\n",
       "                                           Narrative  FlightNumber  \\\n",
       "0  A Beech 1900D aircraft operated by North-Wrigh...            12   \n",
       "1  A Shorts 330 cargo plane impacted wooded terra...            13   \n",
       "\n",
       "           AirplaneDamage           Phase  \\\n",
       "0                   Minor      Taxi (TXI)   \n",
       "1   Damaged beyond repair   Landing (LDG)   \n",
       "\n",
       "                                  DestinationAirport  Date   Time  \\\n",
       "0              , CanadaTulita Airport, NT (ZFN/CZFN)     9  16:11   \n",
       "1  , United States of AmericaCharleston-Yeager Ai...     5  06:53   \n",
       "\n",
       "                                    DepartureAirport              Operator  \\\n",
       "0        , CanadaNorman Wells Airport, NT (YVQ/CYVQ)  North-Wright Airways   \n",
       "1  , United States of AmericaLouisville Internati...    Air Cargo Carriers   \n",
       "\n",
       "  AirplaneFate  FirstFlight           Nature_Code   Type_Code  \\\n",
       "0     Repaired         1994  Passenger - Domestic  Beechcraft   \n",
       "1            -         1979                 Cargo      Others   \n",
       "\n",
       "       Engine_Type  Engine_count  Crew_Fatal  Crew_Occ  Total_Fatal  \\\n",
       "0          Unknown          -1.0           0         2            0   \n",
       "1  Pratt & Whitney           2.0           2         2            2   \n",
       "\n",
       "   Total_Occ  Psngr_Fatal  Psngr_Occ  GndFatal  Coll_Fatal  Crash_Elev_m  \\\n",
       "0          6            0          4         0           0             0   \n",
       "1          2            0          0         0           0             0   \n",
       "\n",
       "        Day Month  Year Dep_Airport_1 Dest_Airport_1  Age        Country  \\\n",
       "0  Thursday   FEB  2017           YVQ            ZFN   23         Canada   \n",
       "1    Friday   MAY  2017           SDF            CRW   38  United States   \n",
       "\n",
       "                     latlon  \\\n",
       "0  (56.130366, -106.346771)   \n",
       "1    (37.09024, -95.712891)   \n",
       "\n",
       "                                           sub_place     Continents  \\\n",
       "0   Tulita Airport (ZFN), Tulita, NT X0E 0K0, Canada  North America   \n",
       "1  Yeager Airport, 100 Airport Rd, Charleston, WV...  North America   \n",
       "\n",
       "  Hemisphere Seasons  orig_latitude  orig_longitude  Decade  label  \n",
       "0   Northern  Winter      64.909102     -125.567917    2010  human  \n",
       "1   Northern  Spring      38.370485      -81.596705    2010  human  "
      ]
     },
     "execution_count": 70,
     "metadata": {},
     "output_type": "execute_result"
    }
   ],
   "source": [
    "data.head(2)"
   ]
  },
  {
   "cell_type": "code",
   "execution_count": 74,
   "metadata": {
    "collapsed": false
   },
   "outputs": [],
   "source": [
    "dropcol = ['DepartureAirport', 'DestinationAirport', 'Engines', 'latlon']\n",
    "data.drop(dropcol, inplace = True, axis = 1)"
   ]
  },
  {
   "cell_type": "code",
   "execution_count": 75,
   "metadata": {
    "collapsed": true
   },
   "outputs": [],
   "source": [
    "data.to_csv('./dataset/cleaned_merged_dataset.csv', index = False)"
   ]
  },
  {
   "cell_type": "code",
   "execution_count": null,
   "metadata": {
    "collapsed": true
   },
   "outputs": [],
   "source": []
  }
 ],
 "metadata": {
  "kernelspec": {
   "display_name": "Python 3",
   "language": "python",
   "name": "python3"
  },
  "language_info": {
   "codemirror_mode": {
    "name": "ipython",
    "version": 3
   },
   "file_extension": ".py",
   "mimetype": "text/x-python",
   "name": "python",
   "nbconvert_exporter": "python",
   "pygments_lexer": "ipython3",
   "version": "3.6.0"
  }
 },
 "nbformat": 4,
 "nbformat_minor": 2
}
