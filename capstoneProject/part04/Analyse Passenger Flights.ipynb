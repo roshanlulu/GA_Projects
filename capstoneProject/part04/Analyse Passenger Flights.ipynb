{
 "cells": [
  {
   "cell_type": "markdown",
   "metadata": {
    "collapsed": true
   },
   "source": [
    "## Analyse Summary of Passenger Flights"
   ]
  },
  {
   "cell_type": "code",
   "execution_count": 1,
   "metadata": {
    "collapsed": true
   },
   "outputs": [],
   "source": [
    "import pandas as pd"
   ]
  },
  {
   "cell_type": "code",
   "execution_count": 2,
   "metadata": {
    "collapsed": false
   },
   "outputs": [],
   "source": [
    "data = pd.read_csv('./dataset/cleaned_merged_dataset.csv')"
   ]
  },
  {
   "cell_type": "code",
   "execution_count": 3,
   "metadata": {
    "collapsed": false
   },
   "outputs": [
    {
     "data": {
      "text/plain": [
       "Index(['Engines', 'Narrative', 'FlightNumber', 'AirplaneDamage', 'Phase',\n",
       "       'DestinationAirport', 'Date', 'Time', 'DepartureAirport', 'Operator',\n",
       "       'AirplaneFate', 'FirstFlight', 'Nature_Code', 'Type_Code',\n",
       "       'Engine_Type', 'Engine_count', 'Crew_Fatal', 'Crew_Occ', 'Total_Fatal',\n",
       "       'Total_Occ', 'Psngr_Fatal', 'Psngr_Occ', 'GndFatal', 'Coll_Fatal',\n",
       "       'Crash_Elev_m', 'Day', 'Month', 'Year', 'Dep_Airport_1',\n",
       "       'Dest_Airport_1', 'Age', 'Country', 'latlon', 'sub_place', 'Continents',\n",
       "       'Hemisphere', 'Seasons', 'orig_latitude', 'orig_longitude', 'Decade'],\n",
       "      dtype='object')"
      ]
     },
     "execution_count": 3,
     "metadata": {},
     "output_type": "execute_result"
    }
   ],
   "source": [
    "data.columns"
   ]
  },
  {
   "cell_type": "code",
   "execution_count": 4,
   "metadata": {
    "collapsed": false
   },
   "outputs": [
    {
     "data": {
      "text/plain": [
       "Military                2147\n",
       "Passenger - Domestic    2005\n",
       "Unknown                 1235\n",
       "Cargo                    822\n",
       "Passenger - Intl         695\n",
       "Train/Test/Demo          340\n",
       "Ferry/positioning        282\n",
       "Executive                212\n",
       "Private                  169\n",
       "Agricultural              71\n",
       "Illegal Flight            58\n",
       "Ambulance                 38\n",
       "Fire fighting             24\n",
       "Name: Nature_Code, dtype: int64"
      ]
     },
     "execution_count": 4,
     "metadata": {},
     "output_type": "execute_result"
    }
   ],
   "source": [
    "data.Nature_Code.value_counts()"
   ]
  },
  {
   "cell_type": "code",
   "execution_count": 5,
   "metadata": {
    "collapsed": false
   },
   "outputs": [
    {
     "name": "stderr",
     "output_type": "stream",
     "text": [
      "/Users/roshanlulu/anaconda3/lib/python3.6/site-packages/ipykernel/__main__.py:4: UserWarning: Boolean Series key will be reindexed to match DataFrame index.\n"
     ]
    }
   ],
   "source": [
    "mask = (data.Nature_Code == 'Passenger - Domestic') | (data.Nature_Code == 'Passenger - Intl')\n",
    "data_comm = data[mask]\n",
    "mask = (data.Year > 1960)\n",
    "data_comm = data_comm[mask]"
   ]
  },
  {
   "cell_type": "code",
   "execution_count": 6,
   "metadata": {
    "collapsed": false
   },
   "outputs": [
    {
     "data": {
      "text/plain": [
       "Index(['Engines', 'Narrative', 'FlightNumber', 'AirplaneDamage', 'Phase',\n",
       "       'DestinationAirport', 'Date', 'Time', 'DepartureAirport', 'Operator',\n",
       "       'AirplaneFate', 'FirstFlight', 'Nature_Code', 'Type_Code',\n",
       "       'Engine_Type', 'Engine_count', 'Crew_Fatal', 'Crew_Occ', 'Total_Fatal',\n",
       "       'Total_Occ', 'Psngr_Fatal', 'Psngr_Occ', 'GndFatal', 'Coll_Fatal',\n",
       "       'Crash_Elev_m', 'Day', 'Month', 'Year', 'Dep_Airport_1',\n",
       "       'Dest_Airport_1', 'Age', 'Country', 'latlon', 'sub_place', 'Continents',\n",
       "       'Hemisphere', 'Seasons', 'orig_latitude', 'orig_longitude', 'Decade'],\n",
       "      dtype='object')"
      ]
     },
     "execution_count": 6,
     "metadata": {},
     "output_type": "execute_result"
    }
   ],
   "source": [
    "data_comm.columns"
   ]
  },
  {
   "cell_type": "code",
   "execution_count": 7,
   "metadata": {
    "collapsed": false,
    "scrolled": false
   },
   "outputs": [
    {
     "name": "stdout",
     "output_type": "stream",
     "text": [
      "Length of Data frame 2052\n",
      "Engines 774\n",
      "AirplaneFate 1287\n"
     ]
    },
    {
     "name": "stderr",
     "output_type": "stream",
     "text": [
      "/Users/roshanlulu/anaconda3/lib/python3.6/site-packages/pandas/core/ops.py:792: FutureWarning: elementwise comparison failed; returning scalar instead, but in the future will perform elementwise comparison\n",
      "  result = getattr(x, name)(y)\n"
     ]
    }
   ],
   "source": [
    "print('Length of Data frame', data_comm.shape[0])\n",
    "for col in data_comm.columns:\n",
    "    try:\n",
    "        if(len(data_comm[data_comm[col] == '-']) != 0):\n",
    "            print(col, len(data_comm[data_comm[col] == '-']))\n",
    "    except:\n",
    "        continue\n",
    "\n",
    "# Unknown values more for : Engines, Airplane Fate, "
   ]
  },
  {
   "cell_type": "code",
   "execution_count": 8,
   "metadata": {
    "collapsed": false,
    "scrolled": true
   },
   "outputs": [
    {
     "data": {
      "text/html": [
       "<div>\n",
       "<table border=\"1\" class=\"dataframe\">\n",
       "  <thead>\n",
       "    <tr style=\"text-align: right;\">\n",
       "      <th></th>\n",
       "      <th>Year</th>\n",
       "      <th>Count</th>\n",
       "    </tr>\n",
       "  </thead>\n",
       "  <tbody>\n",
       "    <tr>\n",
       "      <th>56</th>\n",
       "      <td>2017</td>\n",
       "      <td>17</td>\n",
       "    </tr>\n",
       "    <tr>\n",
       "      <th>31</th>\n",
       "      <td>2016</td>\n",
       "      <td>35</td>\n",
       "    </tr>\n",
       "    <tr>\n",
       "      <th>53</th>\n",
       "      <td>2015</td>\n",
       "      <td>24</td>\n",
       "    </tr>\n",
       "    <tr>\n",
       "      <th>33</th>\n",
       "      <td>2014</td>\n",
       "      <td>34</td>\n",
       "    </tr>\n",
       "    <tr>\n",
       "      <th>3</th>\n",
       "      <td>2013</td>\n",
       "      <td>49</td>\n",
       "    </tr>\n",
       "    <tr>\n",
       "      <th>29</th>\n",
       "      <td>2012</td>\n",
       "      <td>37</td>\n",
       "    </tr>\n",
       "    <tr>\n",
       "      <th>28</th>\n",
       "      <td>2011</td>\n",
       "      <td>37</td>\n",
       "    </tr>\n",
       "    <tr>\n",
       "      <th>14</th>\n",
       "      <td>2010</td>\n",
       "      <td>42</td>\n",
       "    </tr>\n",
       "    <tr>\n",
       "      <th>38</th>\n",
       "      <td>2009</td>\n",
       "      <td>33</td>\n",
       "    </tr>\n",
       "    <tr>\n",
       "      <th>6</th>\n",
       "      <td>2008</td>\n",
       "      <td>46</td>\n",
       "    </tr>\n",
       "    <tr>\n",
       "      <th>7</th>\n",
       "      <td>2007</td>\n",
       "      <td>45</td>\n",
       "    </tr>\n",
       "    <tr>\n",
       "      <th>55</th>\n",
       "      <td>2006</td>\n",
       "      <td>21</td>\n",
       "    </tr>\n",
       "    <tr>\n",
       "      <th>15</th>\n",
       "      <td>2005</td>\n",
       "      <td>42</td>\n",
       "    </tr>\n",
       "    <tr>\n",
       "      <th>26</th>\n",
       "      <td>2004</td>\n",
       "      <td>37</td>\n",
       "    </tr>\n",
       "    <tr>\n",
       "      <th>27</th>\n",
       "      <td>2003</td>\n",
       "      <td>37</td>\n",
       "    </tr>\n",
       "    <tr>\n",
       "      <th>19</th>\n",
       "      <td>2002</td>\n",
       "      <td>40</td>\n",
       "    </tr>\n",
       "    <tr>\n",
       "      <th>37</th>\n",
       "      <td>2001</td>\n",
       "      <td>33</td>\n",
       "    </tr>\n",
       "    <tr>\n",
       "      <th>12</th>\n",
       "      <td>2000</td>\n",
       "      <td>43</td>\n",
       "    </tr>\n",
       "    <tr>\n",
       "      <th>21</th>\n",
       "      <td>1999</td>\n",
       "      <td>39</td>\n",
       "    </tr>\n",
       "    <tr>\n",
       "      <th>2</th>\n",
       "      <td>1998</td>\n",
       "      <td>49</td>\n",
       "    </tr>\n",
       "    <tr>\n",
       "      <th>10</th>\n",
       "      <td>1997</td>\n",
       "      <td>43</td>\n",
       "    </tr>\n",
       "    <tr>\n",
       "      <th>16</th>\n",
       "      <td>1996</td>\n",
       "      <td>42</td>\n",
       "    </tr>\n",
       "    <tr>\n",
       "      <th>41</th>\n",
       "      <td>1995</td>\n",
       "      <td>32</td>\n",
       "    </tr>\n",
       "    <tr>\n",
       "      <th>4</th>\n",
       "      <td>1994</td>\n",
       "      <td>48</td>\n",
       "    </tr>\n",
       "    <tr>\n",
       "      <th>13</th>\n",
       "      <td>1993</td>\n",
       "      <td>42</td>\n",
       "    </tr>\n",
       "    <tr>\n",
       "      <th>11</th>\n",
       "      <td>1992</td>\n",
       "      <td>43</td>\n",
       "    </tr>\n",
       "    <tr>\n",
       "      <th>20</th>\n",
       "      <td>1991</td>\n",
       "      <td>40</td>\n",
       "    </tr>\n",
       "    <tr>\n",
       "      <th>22</th>\n",
       "      <td>1990</td>\n",
       "      <td>39</td>\n",
       "    </tr>\n",
       "    <tr>\n",
       "      <th>25</th>\n",
       "      <td>1989</td>\n",
       "      <td>37</td>\n",
       "    </tr>\n",
       "    <tr>\n",
       "      <th>1</th>\n",
       "      <td>1988</td>\n",
       "      <td>49</td>\n",
       "    </tr>\n",
       "    <tr>\n",
       "      <th>36</th>\n",
       "      <td>1987</td>\n",
       "      <td>33</td>\n",
       "    </tr>\n",
       "    <tr>\n",
       "      <th>32</th>\n",
       "      <td>1986</td>\n",
       "      <td>34</td>\n",
       "    </tr>\n",
       "    <tr>\n",
       "      <th>18</th>\n",
       "      <td>1985</td>\n",
       "      <td>41</td>\n",
       "    </tr>\n",
       "    <tr>\n",
       "      <th>17</th>\n",
       "      <td>1984</td>\n",
       "      <td>41</td>\n",
       "    </tr>\n",
       "    <tr>\n",
       "      <th>23</th>\n",
       "      <td>1983</td>\n",
       "      <td>38</td>\n",
       "    </tr>\n",
       "    <tr>\n",
       "      <th>24</th>\n",
       "      <td>1982</td>\n",
       "      <td>37</td>\n",
       "    </tr>\n",
       "    <tr>\n",
       "      <th>50</th>\n",
       "      <td>1981</td>\n",
       "      <td>24</td>\n",
       "    </tr>\n",
       "    <tr>\n",
       "      <th>30</th>\n",
       "      <td>1980</td>\n",
       "      <td>35</td>\n",
       "    </tr>\n",
       "    <tr>\n",
       "      <th>42</th>\n",
       "      <td>1979</td>\n",
       "      <td>31</td>\n",
       "    </tr>\n",
       "    <tr>\n",
       "      <th>40</th>\n",
       "      <td>1978</td>\n",
       "      <td>32</td>\n",
       "    </tr>\n",
       "    <tr>\n",
       "      <th>47</th>\n",
       "      <td>1977</td>\n",
       "      <td>27</td>\n",
       "    </tr>\n",
       "    <tr>\n",
       "      <th>34</th>\n",
       "      <td>1976</td>\n",
       "      <td>34</td>\n",
       "    </tr>\n",
       "    <tr>\n",
       "      <th>44</th>\n",
       "      <td>1975</td>\n",
       "      <td>30</td>\n",
       "    </tr>\n",
       "    <tr>\n",
       "      <th>5</th>\n",
       "      <td>1974</td>\n",
       "      <td>48</td>\n",
       "    </tr>\n",
       "    <tr>\n",
       "      <th>39</th>\n",
       "      <td>1973</td>\n",
       "      <td>32</td>\n",
       "    </tr>\n",
       "    <tr>\n",
       "      <th>9</th>\n",
       "      <td>1972</td>\n",
       "      <td>44</td>\n",
       "    </tr>\n",
       "    <tr>\n",
       "      <th>35</th>\n",
       "      <td>1971</td>\n",
       "      <td>33</td>\n",
       "    </tr>\n",
       "    <tr>\n",
       "      <th>8</th>\n",
       "      <td>1970</td>\n",
       "      <td>44</td>\n",
       "    </tr>\n",
       "    <tr>\n",
       "      <th>0</th>\n",
       "      <td>1969</td>\n",
       "      <td>50</td>\n",
       "    </tr>\n",
       "    <tr>\n",
       "      <th>46</th>\n",
       "      <td>1968</td>\n",
       "      <td>27</td>\n",
       "    </tr>\n",
       "    <tr>\n",
       "      <th>54</th>\n",
       "      <td>1967</td>\n",
       "      <td>24</td>\n",
       "    </tr>\n",
       "    <tr>\n",
       "      <th>45</th>\n",
       "      <td>1966</td>\n",
       "      <td>28</td>\n",
       "    </tr>\n",
       "    <tr>\n",
       "      <th>48</th>\n",
       "      <td>1965</td>\n",
       "      <td>26</td>\n",
       "    </tr>\n",
       "    <tr>\n",
       "      <th>49</th>\n",
       "      <td>1964</td>\n",
       "      <td>26</td>\n",
       "    </tr>\n",
       "    <tr>\n",
       "      <th>43</th>\n",
       "      <td>1963</td>\n",
       "      <td>30</td>\n",
       "    </tr>\n",
       "    <tr>\n",
       "      <th>52</th>\n",
       "      <td>1962</td>\n",
       "      <td>24</td>\n",
       "    </tr>\n",
       "    <tr>\n",
       "      <th>51</th>\n",
       "      <td>1961</td>\n",
       "      <td>24</td>\n",
       "    </tr>\n",
       "  </tbody>\n",
       "</table>\n",
       "</div>"
      ],
      "text/plain": [
       "    Year  Count\n",
       "56  2017     17\n",
       "31  2016     35\n",
       "53  2015     24\n",
       "33  2014     34\n",
       "3   2013     49\n",
       "29  2012     37\n",
       "28  2011     37\n",
       "14  2010     42\n",
       "38  2009     33\n",
       "6   2008     46\n",
       "7   2007     45\n",
       "55  2006     21\n",
       "15  2005     42\n",
       "26  2004     37\n",
       "27  2003     37\n",
       "19  2002     40\n",
       "37  2001     33\n",
       "12  2000     43\n",
       "21  1999     39\n",
       "2   1998     49\n",
       "10  1997     43\n",
       "16  1996     42\n",
       "41  1995     32\n",
       "4   1994     48\n",
       "13  1993     42\n",
       "11  1992     43\n",
       "20  1991     40\n",
       "22  1990     39\n",
       "25  1989     37\n",
       "1   1988     49\n",
       "36  1987     33\n",
       "32  1986     34\n",
       "18  1985     41\n",
       "17  1984     41\n",
       "23  1983     38\n",
       "24  1982     37\n",
       "50  1981     24\n",
       "30  1980     35\n",
       "42  1979     31\n",
       "40  1978     32\n",
       "47  1977     27\n",
       "34  1976     34\n",
       "44  1975     30\n",
       "5   1974     48\n",
       "39  1973     32\n",
       "9   1972     44\n",
       "35  1971     33\n",
       "8   1970     44\n",
       "0   1969     50\n",
       "46  1968     27\n",
       "54  1967     24\n",
       "45  1966     28\n",
       "48  1965     26\n",
       "49  1964     26\n",
       "43  1963     30\n",
       "52  1962     24\n",
       "51  1961     24"
      ]
     },
     "execution_count": 8,
     "metadata": {},
     "output_type": "execute_result"
    }
   ],
   "source": [
    "check_year = pd.DataFrame(data_comm['Year'].value_counts().sort_values(ascending = False)).reset_index()\n",
    "check_year.reset_index(drop = True, inplace = True)\n",
    "check_year.columns = ['Year', 'Count']\n",
    "check_year.sort_values('Year', ascending =False)"
   ]
  },
  {
   "cell_type": "code",
   "execution_count": 9,
   "metadata": {
    "collapsed": false
   },
   "outputs": [
    {
     "data": {
      "text/plain": [
       "(2052, 40)"
      ]
     },
     "execution_count": 9,
     "metadata": {},
     "output_type": "execute_result"
    }
   ],
   "source": [
    "data_comm.shape"
   ]
  },
  {
   "cell_type": "code",
   "execution_count": 10,
   "metadata": {
    "collapsed": false
   },
   "outputs": [
    {
     "data": {
      "text/html": [
       "<div>\n",
       "<table border=\"1\" class=\"dataframe\">\n",
       "  <thead>\n",
       "    <tr style=\"text-align: right;\">\n",
       "      <th></th>\n",
       "      <th>FlightNumber</th>\n",
       "      <th>Date</th>\n",
       "      <th>FirstFlight</th>\n",
       "      <th>Engine_count</th>\n",
       "      <th>Crew_Fatal</th>\n",
       "      <th>Crew_Occ</th>\n",
       "      <th>Total_Fatal</th>\n",
       "      <th>Total_Occ</th>\n",
       "      <th>Psngr_Fatal</th>\n",
       "      <th>Psngr_Occ</th>\n",
       "      <th>GndFatal</th>\n",
       "      <th>Coll_Fatal</th>\n",
       "      <th>Crash_Elev_m</th>\n",
       "      <th>Year</th>\n",
       "      <th>Age</th>\n",
       "      <th>orig_latitude</th>\n",
       "      <th>orig_longitude</th>\n",
       "      <th>Decade</th>\n",
       "    </tr>\n",
       "  </thead>\n",
       "  <tbody>\n",
       "    <tr>\n",
       "      <th>count</th>\n",
       "      <td>2052.000000</td>\n",
       "      <td>2052.000000</td>\n",
       "      <td>2052.000000</td>\n",
       "      <td>2052.000000</td>\n",
       "      <td>2052.000000</td>\n",
       "      <td>2052.000000</td>\n",
       "      <td>2052.000000</td>\n",
       "      <td>2052.000000</td>\n",
       "      <td>2052.000000</td>\n",
       "      <td>2052.000000</td>\n",
       "      <td>2052.000000</td>\n",
       "      <td>2052.000000</td>\n",
       "      <td>2052.000000</td>\n",
       "      <td>2052.000000</td>\n",
       "      <td>2052.000000</td>\n",
       "      <td>2052.000000</td>\n",
       "      <td>2052.000000</td>\n",
       "      <td>2052.000000</td>\n",
       "    </tr>\n",
       "    <tr>\n",
       "      <th>mean</th>\n",
       "      <td>3473.266082</td>\n",
       "      <td>14.852339</td>\n",
       "      <td>1675.884016</td>\n",
       "      <td>1.041423</td>\n",
       "      <td>1.275828</td>\n",
       "      <td>4.300682</td>\n",
       "      <td>12.275828</td>\n",
       "      <td>56.938109</td>\n",
       "      <td>10.859162</td>\n",
       "      <td>46.530214</td>\n",
       "      <td>0.196881</td>\n",
       "      <td>0.386452</td>\n",
       "      <td>64.969786</td>\n",
       "      <td>1989.886452</td>\n",
       "      <td>13.081871</td>\n",
       "      <td>25.240842</td>\n",
       "      <td>-1.240294</td>\n",
       "      <td>1985.472710</td>\n",
       "    </tr>\n",
       "    <tr>\n",
       "      <th>std</th>\n",
       "      <td>1719.552134</td>\n",
       "      <td>8.689347</td>\n",
       "      <td>708.658292</td>\n",
       "      <td>1.685322</td>\n",
       "      <td>2.558900</td>\n",
       "      <td>3.735494</td>\n",
       "      <td>32.318728</td>\n",
       "      <td>64.958334</td>\n",
       "      <td>30.219886</td>\n",
       "      <td>60.656329</td>\n",
       "      <td>3.258747</td>\n",
       "      <td>9.366177</td>\n",
       "      <td>410.393947</td>\n",
       "      <td>15.697074</td>\n",
       "      <td>11.864468</td>\n",
       "      <td>24.230232</td>\n",
       "      <td>81.467633</td>\n",
       "      <td>15.886627</td>\n",
       "    </tr>\n",
       "    <tr>\n",
       "      <th>min</th>\n",
       "      <td>12.000000</td>\n",
       "      <td>0.000000</td>\n",
       "      <td>0.000000</td>\n",
       "      <td>-1.000000</td>\n",
       "      <td>0.000000</td>\n",
       "      <td>0.000000</td>\n",
       "      <td>0.000000</td>\n",
       "      <td>0.000000</td>\n",
       "      <td>0.000000</td>\n",
       "      <td>0.000000</td>\n",
       "      <td>0.000000</td>\n",
       "      <td>0.000000</td>\n",
       "      <td>-3.000000</td>\n",
       "      <td>1961.000000</td>\n",
       "      <td>0.000000</td>\n",
       "      <td>-54.931294</td>\n",
       "      <td>-179.431122</td>\n",
       "      <td>1960.000000</td>\n",
       "    </tr>\n",
       "    <tr>\n",
       "      <th>25%</th>\n",
       "      <td>2045.750000</td>\n",
       "      <td>7.000000</td>\n",
       "      <td>1955.000000</td>\n",
       "      <td>-1.000000</td>\n",
       "      <td>0.000000</td>\n",
       "      <td>2.000000</td>\n",
       "      <td>0.000000</td>\n",
       "      <td>12.000000</td>\n",
       "      <td>0.000000</td>\n",
       "      <td>6.000000</td>\n",
       "      <td>0.000000</td>\n",
       "      <td>0.000000</td>\n",
       "      <td>0.000000</td>\n",
       "      <td>1976.000000</td>\n",
       "      <td>3.000000</td>\n",
       "      <td>8.629696</td>\n",
       "      <td>-76.161046</td>\n",
       "      <td>1970.000000</td>\n",
       "    </tr>\n",
       "    <tr>\n",
       "      <th>50%</th>\n",
       "      <td>3398.500000</td>\n",
       "      <td>15.000000</td>\n",
       "      <td>1971.000000</td>\n",
       "      <td>2.000000</td>\n",
       "      <td>0.000000</td>\n",
       "      <td>4.000000</td>\n",
       "      <td>0.000000</td>\n",
       "      <td>33.000000</td>\n",
       "      <td>0.000000</td>\n",
       "      <td>22.000000</td>\n",
       "      <td>0.000000</td>\n",
       "      <td>0.000000</td>\n",
       "      <td>0.000000</td>\n",
       "      <td>1991.000000</td>\n",
       "      <td>11.000000</td>\n",
       "      <td>30.257317</td>\n",
       "      <td>7.511001</td>\n",
       "      <td>1990.000000</td>\n",
       "    </tr>\n",
       "    <tr>\n",
       "      <th>75%</th>\n",
       "      <td>4778.750000</td>\n",
       "      <td>22.000000</td>\n",
       "      <td>1985.250000</td>\n",
       "      <td>2.000000</td>\n",
       "      <td>2.000000</td>\n",
       "      <td>6.000000</td>\n",
       "      <td>9.000000</td>\n",
       "      <td>82.000000</td>\n",
       "      <td>6.000000</td>\n",
       "      <td>62.000000</td>\n",
       "      <td>0.000000</td>\n",
       "      <td>0.000000</td>\n",
       "      <td>0.000000</td>\n",
       "      <td>2003.000000</td>\n",
       "      <td>20.000000</td>\n",
       "      <td>42.555643</td>\n",
       "      <td>57.410015</td>\n",
       "      <td>2000.000000</td>\n",
       "    </tr>\n",
       "    <tr>\n",
       "      <th>max</th>\n",
       "      <td>7633.000000</td>\n",
       "      <td>31.000000</td>\n",
       "      <td>2015.000000</td>\n",
       "      <td>4.000000</td>\n",
       "      <td>23.000000</td>\n",
       "      <td>26.000000</td>\n",
       "      <td>346.000000</td>\n",
       "      <td>425.000000</td>\n",
       "      <td>335.000000</td>\n",
       "      <td>409.000000</td>\n",
       "      <td>87.000000</td>\n",
       "      <td>335.000000</td>\n",
       "      <td>5974.000000</td>\n",
       "      <td>2017.000000</td>\n",
       "      <td>66.000000</td>\n",
       "      <td>75.522510</td>\n",
       "      <td>179.340356</td>\n",
       "      <td>2010.000000</td>\n",
       "    </tr>\n",
       "  </tbody>\n",
       "</table>\n",
       "</div>"
      ],
      "text/plain": [
       "       FlightNumber         Date  FirstFlight  Engine_count   Crew_Fatal  \\\n",
       "count   2052.000000  2052.000000  2052.000000   2052.000000  2052.000000   \n",
       "mean    3473.266082    14.852339  1675.884016      1.041423     1.275828   \n",
       "std     1719.552134     8.689347   708.658292      1.685322     2.558900   \n",
       "min       12.000000     0.000000     0.000000     -1.000000     0.000000   \n",
       "25%     2045.750000     7.000000  1955.000000     -1.000000     0.000000   \n",
       "50%     3398.500000    15.000000  1971.000000      2.000000     0.000000   \n",
       "75%     4778.750000    22.000000  1985.250000      2.000000     2.000000   \n",
       "max     7633.000000    31.000000  2015.000000      4.000000    23.000000   \n",
       "\n",
       "          Crew_Occ  Total_Fatal    Total_Occ  Psngr_Fatal    Psngr_Occ  \\\n",
       "count  2052.000000  2052.000000  2052.000000  2052.000000  2052.000000   \n",
       "mean      4.300682    12.275828    56.938109    10.859162    46.530214   \n",
       "std       3.735494    32.318728    64.958334    30.219886    60.656329   \n",
       "min       0.000000     0.000000     0.000000     0.000000     0.000000   \n",
       "25%       2.000000     0.000000    12.000000     0.000000     6.000000   \n",
       "50%       4.000000     0.000000    33.000000     0.000000    22.000000   \n",
       "75%       6.000000     9.000000    82.000000     6.000000    62.000000   \n",
       "max      26.000000   346.000000   425.000000   335.000000   409.000000   \n",
       "\n",
       "          GndFatal   Coll_Fatal  Crash_Elev_m         Year          Age  \\\n",
       "count  2052.000000  2052.000000   2052.000000  2052.000000  2052.000000   \n",
       "mean      0.196881     0.386452     64.969786  1989.886452    13.081871   \n",
       "std       3.258747     9.366177    410.393947    15.697074    11.864468   \n",
       "min       0.000000     0.000000     -3.000000  1961.000000     0.000000   \n",
       "25%       0.000000     0.000000      0.000000  1976.000000     3.000000   \n",
       "50%       0.000000     0.000000      0.000000  1991.000000    11.000000   \n",
       "75%       0.000000     0.000000      0.000000  2003.000000    20.000000   \n",
       "max      87.000000   335.000000   5974.000000  2017.000000    66.000000   \n",
       "\n",
       "       orig_latitude  orig_longitude       Decade  \n",
       "count    2052.000000     2052.000000  2052.000000  \n",
       "mean       25.240842       -1.240294  1985.472710  \n",
       "std        24.230232       81.467633    15.886627  \n",
       "min       -54.931294     -179.431122  1960.000000  \n",
       "25%         8.629696      -76.161046  1970.000000  \n",
       "50%        30.257317        7.511001  1990.000000  \n",
       "75%        42.555643       57.410015  2000.000000  \n",
       "max        75.522510      179.340356  2010.000000  "
      ]
     },
     "execution_count": 10,
     "metadata": {},
     "output_type": "execute_result"
    }
   ],
   "source": [
    "data_comm.describe()"
   ]
  },
  {
   "cell_type": "code",
   "execution_count": 11,
   "metadata": {
    "collapsed": false,
    "scrolled": true
   },
   "outputs": [
    {
     "name": "stdout",
     "output_type": "stream",
     "text": [
      "<class 'pandas.core.frame.DataFrame'>\n",
      "Int64Index: 2052 entries, 0 to 7559\n",
      "Data columns (total 40 columns):\n",
      "Engines               2052 non-null object\n",
      "Narrative             2052 non-null object\n",
      "FlightNumber          2052 non-null int64\n",
      "AirplaneDamage        2052 non-null object\n",
      "Phase                 2052 non-null object\n",
      "DestinationAirport    2052 non-null object\n",
      "Date                  2052 non-null int64\n",
      "Time                  2052 non-null object\n",
      "DepartureAirport      2052 non-null object\n",
      "Operator              2052 non-null object\n",
      "AirplaneFate          2052 non-null object\n",
      "FirstFlight           2052 non-null int64\n",
      "Nature_Code           2052 non-null object\n",
      "Type_Code             2052 non-null object\n",
      "Engine_Type           2052 non-null object\n",
      "Engine_count          2052 non-null float64\n",
      "Crew_Fatal            2052 non-null int64\n",
      "Crew_Occ              2052 non-null int64\n",
      "Total_Fatal           2052 non-null int64\n",
      "Total_Occ             2052 non-null int64\n",
      "Psngr_Fatal           2052 non-null int64\n",
      "Psngr_Occ             2052 non-null int64\n",
      "GndFatal              2052 non-null int64\n",
      "Coll_Fatal            2052 non-null int64\n",
      "Crash_Elev_m          2052 non-null int64\n",
      "Day                   2052 non-null object\n",
      "Month                 2052 non-null object\n",
      "Year                  2052 non-null int64\n",
      "Dep_Airport_1         2052 non-null object\n",
      "Dest_Airport_1        2052 non-null object\n",
      "Age                   2052 non-null int64\n",
      "Country               2052 non-null object\n",
      "latlon                2052 non-null object\n",
      "sub_place             2052 non-null object\n",
      "Continents            2052 non-null object\n",
      "Hemisphere            2052 non-null object\n",
      "Seasons               2052 non-null object\n",
      "orig_latitude         2052 non-null float64\n",
      "orig_longitude        2052 non-null float64\n",
      "Decade                2052 non-null int64\n",
      "dtypes: float64(3), int64(15), object(22)\n",
      "memory usage: 657.3+ KB\n"
     ]
    }
   ],
   "source": [
    "data_comm.info()"
   ]
  },
  {
   "cell_type": "code",
   "execution_count": 12,
   "metadata": {
    "collapsed": false
   },
   "outputs": [
    {
     "data": {
      "text/plain": [
       "0      A Beech 1900D aircraft operated by North-Wrigh...\n",
       "206    Flight WE291 was preparing for departure when ...\n",
       "207    Due to a strong crosswind, the aircraft veered...\n",
       "210    Jet2 flight\\tLS271, a Boeing 757-200, suffered...\n",
       "211    A Malaysia Airlines Boeing 737-800, operating ...\n",
       "Name: Narrative, dtype: object"
      ]
     },
     "execution_count": 12,
     "metadata": {},
     "output_type": "execute_result"
    }
   ],
   "source": [
    "data_comm.Narrative.head()"
   ]
  },
  {
   "cell_type": "code",
   "execution_count": 13,
   "metadata": {
    "collapsed": true
   },
   "outputs": [],
   "source": [
    "txt_data = data_comm[:]"
   ]
  },
  {
   "cell_type": "markdown",
   "metadata": {},
   "source": [
    "## Lets start with the text analytics"
   ]
  },
  {
   "cell_type": "code",
   "execution_count": 14,
   "metadata": {
    "collapsed": true
   },
   "outputs": [],
   "source": [
    "import pandas as pd\n",
    "import numpy as np\n",
    "\n",
    "import seaborn as sns\n",
    "sns.set(font_scale=1.5)\n",
    "\n",
    "import matplotlib.pyplot as plt\n",
    "%matplotlib inline\n",
    "\n",
    "pd.set_option('display.max_rows', 50)\n",
    "pd.set_option('display.max_columns', 50)"
   ]
  },
  {
   "cell_type": "code",
   "execution_count": 15,
   "metadata": {
    "collapsed": false
   },
   "outputs": [],
   "source": [
    "from nltk.corpus import stopwords\n",
    "from sklearn.feature_extraction.text import CountVectorizer, TfidfVectorizer\n",
    "from collections import Counter\n",
    "\n",
    "from textacy.preprocess import preprocess_text\n",
    "\n",
    "from textblob import TextBlob, Word\n",
    "from nltk.stem.snowball import SnowballStemmer"
   ]
  },
  {
   "cell_type": "code",
   "execution_count": 16,
   "metadata": {
    "collapsed": false
   },
   "outputs": [],
   "source": [
    "# Creating stop words database for all the numbers\n",
    "stop = stopwords.words('english')\n",
    "stop += ['00', '000', '01', '02', '03', '04', '04r', '05', '050', '05l', '05r', '06', '06r', '07', '08', '080', '09', '09r', '10', '100', '1000', '10000', '102', '103', '104', '1049', '105', '106', '107', '108', '109', '10deg', '10l', '11', '110', '1100', '111', '111f', '112', '113', '114', '115', '116', '117', '118', '118a', '119', '11f', '11s', '12', '120', '1200', '12000', '121', '361', '376','122', '123', '124', '124c', '125', '128', '129', '12bk', '13', '130', '1300', '130b', '130e', '130h', '130j', '131', '133', '134', '135', '135a', '139', '13l', '14', '140', '1400', '141', '1420', '145', '14500', '146', '148', '15', '150', '1500', '153', '154', '157', '158', '159', '15deg', '16', '160', '1600', '163', '165', '166', '168', '16r', '17', '170', '1700', '172', '175', '1750', '17l', '18', '180', '1800', '180deg', '185', '188', '19', '190', '1900', '1900c', '1900d', '191', '1936', '1938', '1940', '1941', '1942', '1943', '1944', '1945', '1948', '1949', '1950', '1951', '1953', '1954', '1955', '1957', '1963', '1964', '1966', '1968', '1969', '1972', '1973', '1974', '1978', '1979', '1980', '1981', '1982', '1983', '1985', '1986', '1988', '1990', '1991', '1992', '1993', '1994', '1997', '1998', '1999', '19r', '1a', '1a10', '1st', '20', '200', '2000', '2001', '2002', '2003', '2004', '2005', '2006', '2007', '200c', '201', '2011', '2013', '2015', '202', '203', '2050', '207', '208', '208b', '20deg', '21', '210', '211', '212', '215', '22', '220', '2200', '222', '225', '227', '228', '22l', '23', '230', '2300', '232', '235', '24', '240', '2400', '241', '242', '24b', '24l', '24r', '24rv', '25', '250', '2500', '25l', '26', '260', '265', '266', '26b', '26l', '27', '270', '2700', '27l', '27r', '28', '280', '2800', '285', '28l', '28r', '29', '290', '29l', '2a', '2r', '2t', '30', '300', '3000', '304', '306', '30deg', '31', '310', '31242', '31243', '314', '315', '31l', '31r', '32', '320', '3200', '320o', '322', '325', '328', '32l', '32r', '33', '330', '3300', '330o', '336', '338', '33l', '34', '340', '340b', '340o', '345', '35', '350', '3500', '350o', '35a', '35l', '36', '360', '3600', '37', '38', '39', '390', '3a', '3c', '3deg', '3m', '3mge', '3t', '40', '400', '4000', '41', '410', '410uvp', '42', '420', '4200', '43', '430', '436', '44', '440', '45', '450', '4500', '45deg', '46', '46d', '47', '470', '4700', '47a', '47b', '47d', '47s', '48', '49', '50', '500', '5000', '501', '504', '50832', '50deg', '51', '52', '525', '53', '54', '5400', '55', '550', '5500', '56', '57', '58', '580', '59', '5a', '5h', '5n', '5nm', '5y', '60', '600', '6000', '601', '61', '610', '62', '620', '63', '631', '64', '640', '65', '650', '6500', '66', '67', '68', '6a', '6e', '70', '700', '7000', '707', '71', '710', '72', '720', '725', '727', '73', '737', '74', '747', '748', '75', '750', '7500', '756', '757', '76', '767', '767s', '76md', '770', '777', '78', '78505', '7nm', '80', '800', '8000', '801', '81', '811', '812', '82', '8235', '8241', '82a', '83', '84', '85', '850', '8500', '86', '87', '88', '8807', '89', '8q', '8th', '90', '900', '9000', '90deg', '91', '910', '92', '93', '931', '94', '95', '96', '97', '98', '99', '990', '9k', '9n', '9q', 'a100', 'a300', 'a310', 'a319', 'a320', 'a321', 'a330', 'a6m2', 'aa', 'aaa', 'aab', 'aaf', 'ab', 'ababa']\n",
    "stop += ['08r', '1009', '101', '1011', '104b', '144', '21st', '221', '22285', '231', '23l', '300yds', '301', '3100', '318', '319', '31de', '321', '321b', '324', '3277', '33666', '33r', '380', '3800', '395', '39a', '3mce', '400a', '402q', '40563', '40deg', '415', '42e', '42w', '4300', '451', '460', '701', '702', '712', '730', '740', '75a', '76td', '7700', '775', '780', '78270', '78462', '785', '797', '800xp', '823', '841', '8as', '8r', '901', '919', '920', '926', '980', '9j', '9l', '9m']\n",
    "stop += ['675','680','6800','6b', '000ft']\n",
    "stop += ['airport', 'airplane','aircraft', 'approach',\n",
    " 'crashed','crew','feet','flight','following','main','members','near','one','operated','passenger','passengers','plane','runway','struck','substantial','sustained','three','took','two','boeing','dc','due','beyond',\n",
    " 'damaged','b200','repair', 'miles', 'km', 'air', 'lines', 'departed', 'abort', 'takeoff', 'landing', 'reported', 'airline', 'captain'\n",
    " ]\n",
    "stop += ['001', '0014', '002', '003', '006', '010', '010º', '0127', '015', '017', '0171', '0173', '0195', '01l', '01r', '020', '020deg', '0218', '022', '024', '0256', '02801', '02r', '030', '030º', '0326', '0328', '040', '040b', '040deg', '044', '045', '0450', '0462', '0463', '049', '04l', '053', '0597', '060', '0602', '060deg', '061', '064', '069', '06l', '070', '0703', '0705', '0719', '072', '0730', '07308', '075deg', '076', '07l', '07r', '0839', '085', '0850', '08l', '090', '0900', '090deg', '092', '094', '0970', '0972', '0981', '09l', '1002', '1006', '1007', '1008', '100912', '100deg', '100e', '100er', '100nm', '100yds', '10100', '1015', '1018', '1020', '10200', '1024', '1025', '1027', '10350', '1036', '1040', '1041k', '104g', '1050', '10500', '1054', '10554', '1058', '1060', '10687', '1069', '1070', '10737', '1074', '1075', '1081', '1086', '10884', '10942', '109770', '10a', '10f', '10nm', '11000', '110c', '110p1', '1114', '1120', '11200', '1121', '1123', '1124', '1124a', '1132', '1140', '11500', '1154', '1159', '11600', '11620', '1169', '1170', '1171', '1173', '117d', '11800', '11900', '1198', '119b', '119c', '119cf', '119f', '119k', '11a', '11deg', '11dme', '1200yds', '120er', '1212', '1215', '121d', '121g', '121k', '121m', '122443', '1229', '1230', '12328', '12364', '123k', '12435', '12467', '124a', '1250', '12500', '1255', '125kts', '126', '1260', '12600', '127', '1276', '1277', '127723', '1279', '1281', '1296', '12a', '12b', '12bp', '12deg', '12l', '12n', '12p', '12th', '12w', '13000', '1300k', '1301', '1307', '130a', '130f', '130kias', '130m', '130p', '130r', '1310', '131582', '131639', '131e', '131f', '132', '1320', '13200', '1322', '1325gal', '1329', '1338', '133b', '133deg', '1340', '13400', '1342', '1347', '134a', '134ak', '13500', '135350', '1355', '135deg', '135j', '135kl', '135lr', '135n', '135r', '135s', '135t', '135v', '136', '1360', '137', '1370', '137e', '138', '13807', '1390', '13e', '13r', '14000', '1400z', '140a', '141b', '142', '143', '1436', '1440', '1449', '144a', '1450', '1455', '1457', '145kts', '145li', '145lr', '145lu', '146deg', '147', '1486', '149', '1490', '1493', '1495', '14970', '149813', '149d', '14b', '14fkm', '14p', '14th', '15000', '1500yds', '1500z', '1502', '1509', '150deg', '150f', '150ft', '150h', '150m', '151', '151890', '152', '15200', '152608', '1533', '1535', '1539', '1541', '1545', '1549', '154a', '154b', '154m', '155', '1550', '155130', '1553', '15585', '155deg', '156', '15652', '15677', '1568', '1570', '15721', '157332', '15800', '158761', '1588', '158930', '159325', '15f', '15l', '15r', '15s', '15th', '15tm', '16000', '1602', '160r', '161', '1610', '16100', '162', '164', '1640', '1645', '16481', '1649a', '16500', '165522', '165525', '1669', '167', '16720', '1687', '1690', '16a', '16b', '16d', '16f', '16l', '16th', '17000', '17010', '1707', '1709', '1716', '171st', '1720', '1721', '1723', '172n', '173', '1730', '1733', '1736', '17388', '174', '1763', '1768', '178', '178deg', '179', '1790', '17c', '17f', '17g', '17r', '17th', '18000', '1801', '181', '1810', '1814', '182', '18255', '1828', '182l', '1833', '1840', '18440', '1850', '1851', '18591', '18598', '186', '1860', '187', '1870', '1880', '1885', '189', '18930l', '18a', '18b', '18d', '18r', '18th', '18v', '19000', '1902', '1908', '1909', '190deg', '1910', '1918', '192', '1920', '1921', '1922p', '1923', '1925', '1929', '193', '1930', '1933', '1934', '1935', '1937', '1939', '194', '1946', '1947', '195', '1952', '1956', '1958', '1959', '1960', '1961', '1962', '1967', '197', '1970', '1971', '1975', '1976', '1977', '198', '1984', '1987', '1989', '1990s', '1995', '1996', '199deg', '19a', '19l', '1b', '1g167', '1h', '1h18', '1hour', '1l', '1r', '20000', '2000ft', '2008', '2009', '200b', '200deg', '200er', '200ft', '200x100', '200yds', '2010', '2012', '2014', '2016', '2025', '204', '204b', '205', '206', '206b', '2086', '209b', '20c', '20f', '20gmt', '20l', '20r', '20th', '2100', '2104', '2110', '212667', '212a', '213', '214', '21504', '216', '2165', '218', '21b', '21l', '21mf', '21r', '21u', '2200m', '220º', '2215', '2219', '221f', '2230', '224', '2250rpm', '226', '227ac', '227b', '227bc', '2280', '2284', '2286', '229', '2295', '22c', '22r', '2300yds', '2303', '2311', '2318', '233', '23310', '23488', '2350', '235m', '236', '2370', '238', '238b', '23f', '23r', '24000', '2400rpm', '2406', '240deg', '2422x', '243', '245', '2450', '246', '2460', '246er', '246tg', '247', '247d', '248', '2487', '24a', '24bi', '24kay', '24ko', '24th', '25000', '2501f', '250deg', '250yds', '250º', '251', '2523', '255', '2560', '258', '25b', '25d', '25deg', '25g', '25nm', '25pd', '25r', '25th', '2600', '2600rpm', '260deg', '261', '2615', '2620', '263', '2638', '26492', '2650', '2652', '26r', '27097', '270deg', '271', '2710', '2720', '2733', '2734', '274', '2740', '2747', '275', '2750', '277', '2771', '2790', '27deg', '27th', '280c', '280º', '2813', '2823', '283er', '284', '2841', '2850', '2850rpm', '286', '287', '2873', '288', '2885', '28d', '28nm', '28p', '28th', '2900', '291', '2925', '295m', '296', '297', '298', '29nm', '29r', '2a8', '2b', '2deg', '2e', '2f', '2h', '2nd', '2nm', '2p', '2sq', '2t5', '2tp', '2u3b', '3002', '300er', '300s', '300º', '302ftu', '303', '3050', '3068', '306m', '307', '3079', '307b', '308', '30862', '30a', '30b', '30cf', '30f', '30l', '30psi', '30r', '30th', '3102', '3108', '310deg', '310º', '311', '311q', '312', '3120', '3130', '3132', '3137', '3150', '317', '3183', '31fi', '3205', '320º', '3232', '3233', '3244lb', '3252', '3260', '3263', '3281', '328jet', '329c', '32a', '32tons', '32z', '330yds', '330º', '331', '3316', '334', '335', '3380', '339', '33a', '33rc', '3400', '34037', '340a', '340er', '340º', '3416', '342', '343', '343rd', '344', '344c', '3476', '34deg', '34l', '34r', '3506', '350º', '352nd', '353', '354', '3540', '355', '357', '3587', '35deg', '35r', '360deg', '3628', '365', '366', '3666', '366er', '3679', '3680', '368lb', '369', '3698', '36a', '36l', '36n', '36r', '370', '3700', '3700rpm', '371', '3720', '375', '377', '378', '379c', '379th', '381er', '3839x', '384th', '385', '38658', '38667', '387', '389', '38th', '3900', '392', '3930', '39323', '39325', '3960', '398', '39939', '39980', '39n', '3b', '3b4c', '3h4', '3k1c', '3l', '3mfe', '3mg4e', '3mlu', '3mte', '3nm', '3rd', '400b', '400bcf', '400yds', '402', '403', '40312', '404', '4042', '405', '406', '4064', '40641', '4069', '407', '408', '40a', '40cm', '40gmt', '40in', '40k', '40nm', '40s2', '40z', '4100', '411', '412f', '413th', '4146', '418', '41834', '419', '4192', '41deg', '41st', '4204', '422', '42444', '425', '4250', '4265', '42a', '42b', '431', '4317', '4340', '435', '4350', '436th', '4374', '439', '43b', '43s', '4400', '441', '44166', '4422', '444', '4458', '44648', '4479', '4525', '4536', '4539', '455', '457', '45g', '4600', '462', '46327', '465', '467', '46807', '46deg', '46e', '46f', '471', '4723', '47302', '47360', '474', '475', '4750', '477', '47deg', '47e', '47j', '47nm', '47p', '47q', '480', '4805', '481', '484', '4860', '4896', '490', '4900', '4904', '491', '4915', '492', '495', '496', '499', '4a', '4c', '4f', '4g', '4h6', '4k', '4l', '4nm', '4y0', '500ft', '500m', '500sq', '500yds', '501sp', '502', '5049', '505', '506', '507', '508', '509', '50c', '50feet', '50psi', '50s', '50th', '510', '5100', '512', '5120', '5160', '518', '520', '52002', '524', '5250', '525c', '527', '529', '52g', '530', '5300', '530yds', '5315', '5323', '5340', '537', '53d', '540', '5401', '5407', '541', '542ct', '543', '545', '5452', '546', '54a', '54b', '550b', '5513', '553', '5539', '557', '558', '55deg', '55kts', '55th', '560', '5600', '560xl', '561', '5615', '5669', '5675', '56g', '56pst', '56th', '570', '5700', '5711', '572', '5733', '57752', '57760', '5800', '580a', '580as', '5811', '583', '585', '588', '589', '590', '5900', '592', '594', '595', '599', '59d', '5b', '5d', '5deg', '5e', '5f', '5g', '5th', '5v', '5x', '5x61', '600f', '600gal', '600r', '600yds', '6013', '6017', '601e', '602', '603', '60314', '603m', '603sq', '604', '6048', '6050', '605r', '6060', '60deg', '6100', '611', '614', '6150', '6163', '6165', '61708', '618', '621', '623', '6240', '625', '6250', '626', '627', '628', '6289', '6291', '62f', '630', '6300', '634', '6343', '635', '6350', '6354', '63f', '6400', '642', '6420', '643', '6448', '64w', '6500ft', '65120', '652', '6526', '654', '655', '65691', '658', '65856', '65nm', '661', '663', '6631', '664', '666', '6700', '670a', '671', '6715', '6745', '676', '67608', '6780', '6800ft', '681', '6865', '687', '6878', '6901', '696', '69620', '6970', '6bf', '6deg', '6in', '6nm', '6th', '70000', '700a', '700b', '70349', '704', '705', '706', '708', '70yds', '7100', '711', '714', '716', '717', '718', '7200', '721', '7218', '724', '726', '72614', '731', '732', '7353', '736', '738', '739', '73960', '7400', '742', '7463', '747sp', '749', '7493', '751', '752', '753', '7533', '75687', '75732', '760', '7613', '7638', '765', '76679', '76685', '76761', '7682', '76825', '76827', '76t', '77', '771', '772', '773', '7743', '77508', '7775', '7800', '7800ft', '7815', '7816', '783', '783cp', '7843', '785d', '7864', '78826', '78849', '79', '790', '793', '7980', '7989', '7b', '7c', '7deg', '7m', '7occupants', '7½', '8000f', '800b', '800ft', '8012', '8015', '8019', '802', '805', '8050', '806', '809', '80c2b2', '80deg', '81000', '813', '8137', '813th', '814', '817', '819', '820', '821', '824', '8276', '82s', '8300', '831', '8315', '832', '835', '8355', '837', '839', '840', '8400', '843', '844', '84738', '84g', '8502', '850xp', '851', '8535', '855', '860', '8600', '861', '8650', '8665', '86a', '86b', '86d', '870', '8700', '8738', '875', '878', '87s', '881', '8810', '88241', '885', '886', '8867', '890', '897', '89d', '8c', '8f600', '8g', '8h4', '8nm', '900c', '9018', '901a', '902', '904', '906', '90nm', '90º', '9100', '911', '914', '916', '918', '9202', '921', '922', '9243', '927', '930', '9300', '933', '9350', '936', '940', '941', '942', '946', '94b', '950', '9500'\n",
    "         , '953', '95981', '95b', '960', '962633', '9640', '967', '96th', '970', '9700', '975', '9766', '97g', '9800', '983', '984', '9842', '985', '9859', '9877', '9900', '99165', '9925', '9930', '9955', '9975', '99853', '99a', '99c', '9d', '9k38', '9th', '9v', '9w354', 'a1', 'a12', 'a185f', 'a2', 'a23', 'a300b4', 'a31', 'a340', 'a36', 'a4', 'a400m', 'a59', 'a59w', 'a6', 'a65', 'a6m', 'a7', 'aa201', 'aa320', 'aa423', 'aa699', 'aac', 'aam', 'aapo', 'aar', 'aarhus', 'aau']"
   ]
  },
  {
   "cell_type": "markdown",
   "metadata": {},
   "source": [
    "## Analyse the text - Find common n-grams(2-4)"
   ]
  },
  {
   "cell_type": "code",
   "execution_count": 17,
   "metadata": {
    "collapsed": false
   },
   "outputs": [
    {
     "data": {
      "text/plain": [
       "[('the aircraft', 1243),\n",
       " ('of the', 1006),\n",
       " ('the runway', 623),\n",
       " ('to the', 518),\n",
       " ('and the', 489),\n",
       " ('the flight', 466),\n",
       " ('the airplane', 432),\n",
       " ('the crew', 430),\n",
       " ('on the', 345),\n",
       " ('in the', 318),\n",
       " ('the pilot', 304),\n",
       " ('the right', 283),\n",
       " ('the captain', 279),\n",
       " ('the left', 247),\n",
       " ('the plane', 231),\n",
       " ('flight to', 221),\n",
       " ('to be', 218),\n",
       " ('aircraft was', 213),\n",
       " ('from the', 212),\n",
       " ('of the runway', 209)]"
      ]
     },
     "execution_count": 17,
     "metadata": {},
     "output_type": "execute_result"
    }
   ],
   "source": [
    "# We can use the TfidfVectorizer to find ngrams for us\n",
    "vect = TfidfVectorizer(ngram_range=(2,4))\n",
    "\n",
    "# Pulls all of the Narratives into one giant string\n",
    "summaries = \"\".join(txt_data['Narrative'])\n",
    "ngrams_summaries = vect.build_analyzer()(summaries)\n",
    "\n",
    "Counter(ngrams_summaries).most_common(20)"
   ]
  },
  {
   "cell_type": "markdown",
   "metadata": {},
   "source": [
    "## To do classfication we will need to convert the text into a set of features.\n",
    "\n",
    "- Vectorize input text data.\n",
    "- Intialize a model (try Logistic regression).\n",
    "- Train / Predict / cross-validate.\n",
    "- Evaluate the performance of the model.\n"
   ]
  },
  {
   "cell_type": "code",
   "execution_count": 18,
   "metadata": {
    "collapsed": false
   },
   "outputs": [
    {
     "ename": "NameError",
     "evalue": "name 'tweet_text' is not defined",
     "output_type": "error",
     "traceback": [
      "\u001b[0;31m---------------------------------------------------------------------------\u001b[0m",
      "\u001b[0;31mNameError\u001b[0m                                 Traceback (most recent call last)",
      "\u001b[0;32m<ipython-input-18-544f8178ed07>\u001b[0m in \u001b[0;36m<module>\u001b[0;34m()\u001b[0m\n\u001b[1;32m      5\u001b[0m                               \u001b[0mno_urls\u001b[0m\u001b[0;34m=\u001b[0m\u001b[0;32mTrue\u001b[0m\u001b[0;34m,\u001b[0m \u001b[0mno_emails\u001b[0m\u001b[0;34m=\u001b[0m\u001b[0;32mTrue\u001b[0m\u001b[0;34m,\u001b[0m \u001b[0mno_phone_numbers\u001b[0m\u001b[0;34m=\u001b[0m\u001b[0;32mTrue\u001b[0m\u001b[0;34m,\u001b[0m \u001b[0mno_currency_symbols\u001b[0m\u001b[0;34m=\u001b[0m\u001b[0;32mTrue\u001b[0m\u001b[0;34m,\u001b[0m\u001b[0;34m\u001b[0m\u001b[0m\n\u001b[1;32m      6\u001b[0m                               no_punct=True, no_accents=True)\n\u001b[0;32m----> 7\u001b[0;31m               for x in tweet_text]\n\u001b[0m",
      "\u001b[0;31mNameError\u001b[0m: name 'tweet_text' is not defined"
     ]
    }
   ],
   "source": [
    "# BONUS\n",
    "# Using the textacy package to do some more comprehensive preprocessing - Remove punctuations, change to lower case\n",
    "summary = txt_data['Narrative'].values\n",
    "clean_summary = [preprocess_text(x, fix_unicode=True, lowercase=True, transliterate=False,\n",
    "                              no_urls=True, no_emails=True, no_phone_numbers=True, no_currency_symbols=True,\n",
    "                              no_punct=True, no_accents=True)\n",
    "              for x in tweet_text]"
   ]
  },
  {
   "cell_type": "code",
   "execution_count": null,
   "metadata": {
    "collapsed": false
   },
   "outputs": [],
   "source": [
    "summary[0]"
   ]
  },
  {
   "cell_type": "code",
   "execution_count": null,
   "metadata": {
    "collapsed": false
   },
   "outputs": [],
   "source": [
    "clean_summary[0]"
   ]
  },
  {
   "cell_type": "code",
   "execution_count": null,
   "metadata": {
    "collapsed": true
   },
   "outputs": [],
   "source": []
  },
  {
   "cell_type": "markdown",
   "metadata": {},
   "source": [
    "## Tokenization\n",
    "- What: Separate text into units such as sentences or words\n",
    "- Why: Gives structure to previously unstructured text"
   ]
  },
  {
   "cell_type": "code",
   "execution_count": null,
   "metadata": {
    "collapsed": false,
    "scrolled": true
   },
   "outputs": [],
   "source": [
    "X_train = txt_data['Narrative']"
   ]
  },
  {
   "cell_type": "code",
   "execution_count": null,
   "metadata": {
    "collapsed": false
   },
   "outputs": [],
   "source": [
    "## Count Vectorizer\n",
    "# remove English stop words and only keep 100 features\n",
    "vect = CountVectorizer(stop_words=stop, max_features=1000, min_df=2)\n",
    "vect"
   ]
  },
  {
   "cell_type": "code",
   "execution_count": null,
   "metadata": {
    "collapsed": false,
    "scrolled": true
   },
   "outputs": [],
   "source": [
    "# Fit the vectorizer\n",
    "X_train = vect.fit_transform(X_train)\n",
    "print(vect.get_feature_names())"
   ]
  },
  {
   "cell_type": "markdown",
   "metadata": {},
   "source": [
    "## Try TextBlob"
   ]
  },
  {
   "cell_type": "code",
   "execution_count": null,
   "metadata": {
    "collapsed": false
   },
   "outputs": [],
   "source": [
    "# save it as a TextBlob object\n",
    "summary = TextBlob(txt_data['Narrative'][0])\n",
    "TextBlob"
   ]
  },
  {
   "cell_type": "code",
   "execution_count": null,
   "metadata": {
    "collapsed": false
   },
   "outputs": [],
   "source": [
    "summary.words"
   ]
  },
  {
   "cell_type": "code",
   "execution_count": null,
   "metadata": {
    "collapsed": false
   },
   "outputs": [],
   "source": [
    "summary.sentences"
   ]
  },
  {
   "cell_type": "code",
   "execution_count": null,
   "metadata": {
    "collapsed": false
   },
   "outputs": [],
   "source": [
    "summary.lower"
   ]
  },
  {
   "cell_type": "markdown",
   "metadata": {},
   "source": [
    "## Stemming\n",
    "- What: Reduce a word to its base/stem/root form\n",
    "- Why: Often makes sense to treat related words the same way"
   ]
  },
  {
   "cell_type": "code",
   "execution_count": null,
   "metadata": {
    "collapsed": false,
    "scrolled": false
   },
   "outputs": [],
   "source": [
    "# initialize stemmer\n",
    "stemmer = SnowballStemmer('english')\n",
    "\n",
    "# stem each word\n",
    "print ([stemmer.stem(txt) for txt in data['Narrative'][0:2]])"
   ]
  },
  {
   "cell_type": "markdown",
   "metadata": {},
   "source": [
    "## Lemmatization\n",
    "- What: Derive the canonical form ('lemma') of a word\n",
    "- Why: Can be better than stemming"
   ]
  },
  {
   "cell_type": "code",
   "execution_count": null,
   "metadata": {
    "collapsed": false
   },
   "outputs": [],
   "source": [
    "# assume every word is a noun\n",
    "print ([word.lemmatize() for word in summary.words])"
   ]
  },
  {
   "cell_type": "code",
   "execution_count": null,
   "metadata": {
    "collapsed": false
   },
   "outputs": [],
   "source": [
    "# assume every word is a verb\n",
    "print ([word.lemmatize(pos='v') for word in summary.words])"
   ]
  },
  {
   "cell_type": "code",
   "execution_count": null,
   "metadata": {
    "collapsed": true
   },
   "outputs": [],
   "source": [
    "# Function that accepts text and returns a list of lemmas\n",
    "def split_into_lemmas(text):\n",
    "    text = str(text).lower()\n",
    "    words = TextBlob(text).words\n",
    "    return [word.lemmatize() for word in words]"
   ]
  },
  {
   "cell_type": "code",
   "execution_count": null,
   "metadata": {
    "collapsed": false,
    "scrolled": true
   },
   "outputs": [],
   "source": [
    "vect = CountVectorizer(stop_words=stop, max_features=1000, min_df=3,analyzer=split_into_lemmas, binary = True)\n",
    "X_train = data['Narrative']\n",
    "X_train = vect.fit_transform(X_train)\n",
    "print(vect.get_feature_names())"
   ]
  },
  {
   "cell_type": "code",
   "execution_count": null,
   "metadata": {
    "collapsed": true
   },
   "outputs": [],
   "source": [
    "## TFIDF"
   ]
  },
  {
   "cell_type": "code",
   "execution_count": null,
   "metadata": {
    "collapsed": false
   },
   "outputs": [],
   "source": [
    "# create a document-term matrix using TF-IDF\n",
    "vect = TfidfVectorizer(stop_words=stop)\n",
    "dtm = vect.fit_transform(data['Narrative'])\n",
    "features = vect.get_feature_names()\n",
    "dtm.shape"
   ]
  },
  {
   "cell_type": "code",
   "execution_count": null,
   "metadata": {
    "collapsed": true
   },
   "outputs": [],
   "source": [
    "import random"
   ]
  },
  {
   "cell_type": "code",
   "execution_count": null,
   "metadata": {
    "collapsed": true
   },
   "outputs": [],
   "source": [
    "def summarize():\n",
    "    \n",
    "    # choose a random summary that is at least 300 characters\n",
    "    incident_summary = 0\n",
    "#     while incident_summary < 100:\n",
    "    incident_id = np.random.randint(0, len(data))\n",
    "    incident_text = str(data['Narrative'][incident_id])\n",
    "    incident_length = len(incident_text)\n",
    "    \n",
    "    # create a dictionary of words and their TF-IDF scores\n",
    "    word_scores = {}\n",
    "    for word in TextBlob(incident_text).words:\n",
    "        word = word.lower()\n",
    "        if word in features:\n",
    "            word_scores[word] = dtm[incident_id, features.index(word)]\n",
    "    \n",
    "    # print words with the top 5 TF-IDF scores\n",
    "    print ('TOP SCORING WORDS:')\n",
    "    top_scores = sorted(word_scores.items(), key=lambda x: x[1], reverse=True)[:5]\n",
    "    for word, score in top_scores:\n",
    "        print (word)\n",
    "    \n",
    "    # print 5 random words\n",
    "    print ('\\n' + 'RANDOM WORDS:')\n",
    "#     print(word_scores.keys())\n",
    "    random_words = np.random.choice(list(word_scores.keys()), size=5, replace=False)\n",
    "    for word in random_words:\n",
    "        print (word)\n",
    "    \n",
    "    # print the summary\n",
    "    print ('\\n' + incident_text)"
   ]
  },
  {
   "cell_type": "code",
   "execution_count": null,
   "metadata": {
    "collapsed": false,
    "scrolled": true
   },
   "outputs": [],
   "source": [
    "summarize()"
   ]
  },
  {
   "cell_type": "code",
   "execution_count": null,
   "metadata": {
    "collapsed": false
   },
   "outputs": [],
   "source": [
    "TextBlob(data['Narrative'][20]).sentiment.polarity"
   ]
  },
  {
   "cell_type": "code",
   "execution_count": null,
   "metadata": {
    "collapsed": false
   },
   "outputs": [],
   "source": [
    "data['Narrative'][20]"
   ]
  },
  {
   "cell_type": "code",
   "execution_count": null,
   "metadata": {
    "collapsed": false
   },
   "outputs": [],
   "source": [
    "data['Narrative'][10]"
   ]
  },
  {
   "cell_type": "code",
   "execution_count": null,
   "metadata": {
    "collapsed": true
   },
   "outputs": [],
   "source": [
    "## Create a new label for the"
   ]
  },
  {
   "cell_type": "markdown",
   "metadata": {},
   "source": [
    "## Based on the words in the summary, I am going to create a new label for the Accident Cause\n",
    "**The classification are: **\n",
    "\n",
    "1. Human factors/Personnel error\n",
    "    - flight crew, cabin crew, passengers, ground crew, air traffic controllers, maintenance crews, and others because of confusion, fatigue, inadequate coordination, poor communications, terrorist acts\n",
    "    \n",
    "2. Malfunction/Technical Failure of aircraft structures, engines, or other systems\n",
    "    - airfield obstacles, inadequate braking because of runway contamination or other reasons, poor lighting, inadequate signage, problems with landing or navigational aids, malfunctions of air traffic control equipment, inadequate emergency crash/fire/rescue equipment\n",
    "    \n",
    "3. Maintenance issues\n",
    "    - depressurization, emergency descent, fuselage shell opening, warning indications, uncommanded actuation of aircraft systems or controls, oxygen system problems, hazardous cargo, rotating machinery failure, multiple failures, air conditioning and pressurization problems, pneumatic system malfunctions, hydraulic system malfunctions, electrical system malfunctions, fuel system problems, exceeding ''g'' limits, separation of parts in flight, fluid seepage and spills, blue ice, jettisoning of fuel, leakage of fluids from cargo, loose cargo, improper activation of fire extinguishers, malfunctions of items on the minimum equipment list, electrical systems, flammable fluids, cargo, auxiliary power unit, or other system\n",
    "    \n",
    "4. Meteorological/hazardous environment\n",
    "    - ice ,turbulence, lightning strike, static discharge, clouds, winds, tailwinds, headwinds, crosswinds,  thunderstorms, wind shear, microbursts, fog, haze, rain, heavy rain, freezing rain, snow, slush, hail, mountain, weather, volcanic ash, birds\n",
    "\n",
    "5. Air traffic management errors\n",
    "    - unscheduled landings, gear-up landings, excursions off the end or side of the runway, brake malfunctions or difficulties, goarounds, short landings, long landings, overweight landings, hard landings, problems from contaminated runways, using the wrong runway, ditching, loss of directional control, or runway contact by nacelle, wing, tail, or fuselage.\n",
    "    \n",
    "6. Others\n",
    "\n",
    "    - Landing gear and brake problems include collapse of the landing gear, tire failure, wheel failure, brake failure, asymmetric braking, main landing gear up or unlocked, nose landing gear up or unlocked, false gear indication, antiskid system failure, steering failure, strut failure, emergency extension (gear free-fall), asymmetric gear extension, and tire damage by foreign objects.\n",
    "    \n",
    "    - Thrust problems include in-flight engine shutdowns, failure or asymmetric deployment of thrust reversers, inadvertent thrust reverser deployment in flight or on the ground, engine flameout, engine failure that is not contained by the engine case and/or the nacelle, engine fire warning, engine separation, high exhaust gas temperature, engine stab or surge, engine power loss, multiple engine failure, foreign object damage to engine, engine overspeed, and abnormalities involving the oil system, throttles, gear box, or fuel.\n",
    "    \n",
    "    - Flight control problems include gross weight and center-of-gravity problems, jammed or locked controls, aircraft stall, instrument error or false indications, wake turbulence, buffet, or vibrations caused by structural failures, improper actions by the pilot or autopilot, uncommanded actuation of control surfaces, adverse weather, or other system cause.\n"
   ]
  },
  {
   "cell_type": "code",
   "execution_count": null,
   "metadata": {
    "collapsed": false
   },
   "outputs": [],
   "source": [
    "data['Narrative'][0]"
   ]
  },
  {
   "cell_type": "code",
   "execution_count": null,
   "metadata": {
    "collapsed": true
   },
   "outputs": [],
   "source": [
    "human = TextBlob('flight crew, cabin crew, passengers, ground crew, air traffic controllers, maintenance crews, and others because of confusion, fatigue, inadequate coordination, poor communications, terrorist acts')\n",
    "malfunction = TextBlob('airfield obstacles, inadequate braking because of runway contamination or other reasons, poor lighting, inadequate signage, problems with landing or navigational aids, malfunctions of air traffic control equipment, inadequate emergency crash/fire/rescue equipment')\n",
    "maintanence = TextBlob('depressurization, emergency descent, fuselage shell opening, warning indications, uncommanded actuation of aircraft systems or controls, oxygen system problems, hazardous cargo, rotating machinery failure, multiple failures, air conditioning and pressurization problems, pneumatic system malfunctions, hydraulic system malfunctions, electrical system malfunctions, fuel system problems, exceeding ''g'' limits, separation of parts in flight, fluid seepage and spills, blue ice, jettisoning of fuel, leakage of fluids from cargo, loose cargo, improper activation of fire extinguishers, malfunctions of items on the minimum equipment list, electrical systems, flammable fluids, cargo, auxiliary power unit, or other system')\n",
    "meteorological = TextBlob('ice ,turbulence, lightning strike, static discharge, clouds, winds, tailwinds, headwinds, crosswinds, thunderstorms, wind shear, microbursts, fog, haze, rain, heavy rain, freezing rain, snow, slush, hail, mountain, weather, volcanic ash, birds')\n",
    "airtrafficmgmt = TextBlob('unscheduled landings, gear-up landings, excursions off the end or side of the runway, brake malfunctions or difficulties, goarounds, short landings, long landings, overweight landings, hard landings, problems from contaminated runways, using the wrong runway, ditching, loss of directional control, or runway contact by nacelle, wing, tail, or fuselage.')\n",
    "others = TextBlob('Landing gear and brake problems include collapse of the landing gear, tire failure, wheel failure, brake failure, asymmetric braking, main landing gear up or unlocked, nose landing gear up or unlocked, false gear indication, antiskid system failure, steering failure, strut failure, emergency extension (gear free-fall), asymmetric gear extension, and tire damage by foreign objects. Thrust problems include in-flight engine shutdowns, failure or asymmetric deployment of thrust reversers, inadvertent thrust reverser deployment in flight or on the ground, engine flameout, engine failure that is not contained by the engine case and/or the nacelle, engine fire warning, engine separation, high exhaust gas temperature, engine stab or surge, engine power loss, multiple engine failure, foreign object damage to engine, engine overspeed, and abnormalities involving the oil system, throttles, gear box, or fuel. Flight control problems include gross weight and center-of-gravity problems, jammed or locked controls, aircraft stall, instrument error or false indications, wake turbulence, buffet, or vibrations caused by structural failures, improper actions by the pilot or autopilot, uncommanded actuation of control surfaces, adverse weather, or other system cause.')\n",
    "\n",
    "                          "
   ]
  },
  {
   "cell_type": "code",
   "execution_count": null,
   "metadata": {
    "collapsed": false,
    "scrolled": true
   },
   "outputs": [],
   "source": [
    "print('human', human.words)\n",
    "print('malfunction', malfunction.words)\n",
    "print('maintanence', maintanence.words)\n",
    "print('meteorological', meteorological.words)\n",
    "print('airtrafficmgmt', airtrafficmgmt.words)\n",
    "print('others', others.words)"
   ]
  },
  {
   "cell_type": "code",
   "execution_count": null,
   "metadata": {
    "collapsed": true
   },
   "outputs": [],
   "source": [
    "from sklearn.pipeline import Pipeline\n",
    "from sklearn.svm import SVC\n",
    "# http://nadbordrozd.github.io/blog/2016/05/20/text-classification-with-word2vec/"
   ]
  },
  {
   "cell_type": "code",
   "execution_count": null,
   "metadata": {
    "collapsed": false
   },
   "outputs": [],
   "source": [
    "malfunction_train = [''.join(word) for word in malfunction.words]\n",
    "malfunction_train = ' '.join(map(str, malfunction_train))\n",
    "\n",
    "maintanence_train = [''.join(word) for word in maintanence.words]\n",
    "maintanence_train = ' '.join(map(str, maintanence_train))\n",
    "\n",
    "meteorological_train = [''.join(word) for word in meteorological.words]\n",
    "meteorological_train = ' '.join(map(str, meteorological_train))\n",
    "\n",
    "airtrafficmgmt_train = [''.join(word) for word in airtrafficmgmt.words]\n",
    "airtrafficmgmt_train = ' '.join(map(str, airtrafficmgmt_train))\n",
    "\n",
    "\n",
    "others_train = [''.join(word) for word in others.words]\n",
    "others_train = ' '.join(map(str, others_train))\n",
    "\n",
    "human_train = [''.join(word) for word in human.words]\n",
    "human_train = ' '.join(map(str, human_train))\n"
   ]
  },
  {
   "cell_type": "code",
   "execution_count": null,
   "metadata": {
    "collapsed": true
   },
   "outputs": [],
   "source": [
    "X_train = [malfunction_train, maintanence_train, meteorological_train, airtrafficmgmt_train,others_train,human_train]\n",
    "y_train = ['malfunction', 'maintanence', 'meteorological', 'airtrafficmgmt', 'others', 'human']"
   ]
  },
  {
   "cell_type": "code",
   "execution_count": null,
   "metadata": {
    "collapsed": true
   },
   "outputs": [],
   "source": [
    "X_test = data['Narrative']\n",
    "# y_test = "
   ]
  },
  {
   "cell_type": "code",
   "execution_count": null,
   "metadata": {
    "collapsed": false
   },
   "outputs": [],
   "source": [
    "# Lets use the stop_words argument to remove words like \"and, the, a\"\n",
    "cvec = CountVectorizer(stop_words='english')\n",
    "\n",
    "# Fit our vectorizer using our train data\n",
    "words = cvec.fit_transform(X_train, y_train)\n",
    "\n",
    "# and check out the length of the vectorized data after\n",
    "len(cvec.get_feature_names())"
   ]
  },
  {
   "cell_type": "code",
   "execution_count": null,
   "metadata": {
    "collapsed": false
   },
   "outputs": [],
   "source": [
    "words = pd.DataFrame(words.todense(), columns=cvec.get_feature_names())\n",
    "words.head()"
   ]
  },
  {
   "cell_type": "code",
   "execution_count": null,
   "metadata": {
    "collapsed": false
   },
   "outputs": [],
   "source": [
    "X_test_dtm = cvec.transform(X_test)"
   ]
  },
  {
   "cell_type": "code",
   "execution_count": null,
   "metadata": {
    "collapsed": true
   },
   "outputs": [],
   "source": [
    "X_train = [malfunction_train, maintanence_train, meteorological_train, airtrafficmgmt_train,others_train,human_train]\n",
    "y_train = ['malfunction', 'maintanence', 'meteorological', 'airtrafficmgmt', 'others', 'human']"
   ]
  },
  {
   "cell_type": "code",
   "execution_count": null,
   "metadata": {
    "collapsed": false
   },
   "outputs": [],
   "source": [
    "from sklearn.naive_bayes import MultinomialNB\n",
    "# use Naive Bayes  to predict the star rating\n",
    "nb = MultinomialNB()\n",
    "\n",
    "X_train_dtm = cvec.fit_transform(X_train)\n",
    "X_test_dtm = cvec.transform(X_test)\n",
    "\n",
    "nb.fit(X_train_dtm, y_train)\n",
    "y_pred_class = nb.predict(X_test_dtm)"
   ]
  },
  {
   "cell_type": "code",
   "execution_count": null,
   "metadata": {
    "collapsed": false
   },
   "outputs": [],
   "source": [
    "y_pred_class"
   ]
  },
  {
   "cell_type": "code",
   "execution_count": null,
   "metadata": {
    "collapsed": true
   },
   "outputs": [],
   "source": [
    "data['label'] = y_pred_class"
   ]
  },
  {
   "cell_type": "code",
   "execution_count": null,
   "metadata": {
    "collapsed": false
   },
   "outputs": [],
   "source": [
    "data[['Narrative', 'label']].head(10)"
   ]
  },
  {
   "cell_type": "code",
   "execution_count": null,
   "metadata": {
    "collapsed": false
   },
   "outputs": [],
   "source": [
    "data[data['label'] =='maintanence']"
   ]
  }
 ],
 "metadata": {
  "kernelspec": {
   "display_name": "Python 3",
   "language": "python",
   "name": "python3"
  },
  "language_info": {
   "codemirror_mode": {
    "name": "ipython",
    "version": 3
   },
   "file_extension": ".py",
   "mimetype": "text/x-python",
   "name": "python",
   "nbconvert_exporter": "python",
   "pygments_lexer": "ipython3",
   "version": "3.6.0"
  }
 },
 "nbformat": 4,
 "nbformat_minor": 2
}
