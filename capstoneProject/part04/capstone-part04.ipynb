{
 "cells": [
  {
   "cell_type": "markdown",
   "metadata": {},
   "source": [
    "# Progress Report Capstone Part 04\n",
    "*Aviation Accident Analysis*\n",
    "\n",
    "## Submitted by Roshan Lulu\n",
    "https://roshanlulu.github.io/"
   ]
  },
  {
   "cell_type": "markdown",
   "metadata": {},
   "source": [
    "<img src=\"./assets/recap.jpg\" alt=\"Drawing\" style=\"width:200px\" align=\"left\"/>"
   ]
  },
  {
   "cell_type": "markdown",
   "metadata": {},
   "source": [
    "### 1. Data Acquire: Demonstrate how you imported, queried, and sorted your data"
   ]
  },
  {
   "cell_type": "markdown",
   "metadata": {},
   "source": [
    "** Data Sources **\n",
    "- Aviation accident Database Websites\n",
    "    - planecrashinfo.com\n",
    "    - aviation.net\n",
    "\n",
    "** Method used **\n",
    "- Web Scraping using Scrapy Spyder\n",
    "- Scrapped data saved as csv files\n",
    "- Scrapped data saved into SQL database\n",
    "\n",
    "** Data Manipulation **\n",
    "- Pandas, Python, SQL?\n",
    "\n",
    "*NOTE Draw a block diagram to explaint he data extraction process*"
   ]
  },
  {
   "cell_type": "markdown",
   "metadata": {},
   "source": [
    "### 2. Parse: Identify any outliers, define variables"
   ]
  },
  {
   "cell_type": "markdown",
   "metadata": {},
   "source": [
    "** Data Dictionary **\n",
    " Describe my main features\n",
    "    \n",
    "Data Munging was a very important part of my capstone. Considering the fact that it was messy data from a website, the following points were important:\n",
    "\n",
    "Examine the dataset\n",
    "Check for null/missing values\n",
    "Come up with assumptions to impute/drop the null or missing values"
   ]
  },
  {
   "cell_type": "markdown",
   "metadata": {},
   "source": [
    "### 3. Mine: Perform statistical analysis, correlate data\n",
    "#### AND\n",
    "### 4. Refine: Describe and plot your data\n",
    "https://stats.stackexchange.com/questions/1521/data-mining-and-statistical-analysis"
   ]
  },
  {
   "cell_type": "markdown",
   "metadata": {},
   "source": [
    "** Feature Engineering **\n",
    "Come up with new features from the provided ones for better Data Exploration\n",
    "Features that I extracted out of data\n",
    "\n",
    "Created a label for the crash type using Natural Language processing techniques\n",
    "Libraries that I used:\n",
    "\n",
    "Machine learning models that I used:\n",
    "\n",
    "\n",
    "** Describe and Plot data **\n",
    "HYpothesis - Consistent accidents over the years\n",
    "- Which area is the most accident prone\n",
    "- Which aircraft is safest\n",
    "Which aircraft is to be avoided.\n",
    "Which airline is safest\n",
    "Which airline is to be avoided\n",
    "Which airline aircraft combination has had the most no of accidents.\n",
    "\n",
    "\n",
    "**Correlate data **\n",
    "Check correlation between airline and aircraft and fatalities/crashes\n",
    "Check correlation between country continents and fatalities/crashes\n",
    "Check correlation of season with hemispheres and crashes/fatalities\n",
    "\n"
   ]
  },
  {
   "cell_type": "markdown",
   "metadata": {},
   "source": [
    "### 5. Model: Perform model (train subset as needed)\n",
    "#### AND\n",
    "### 6. Model: Tune and evaluate model"
   ]
  },
  {
   "cell_type": "markdown",
   "metadata": {},
   "source": [
    "- Given a country, provided there is a crash; which kind of crash is the most probable.\n",
    "- Since we have the classification now, It is possible to apply a classification model to predict what type of an accident is expected\n",
    "\n",
    "## 1 Try a classification model\n",
    "- ** Test Train as needed **\n",
    "- ** Check the accuracy **\n",
    "\n",
    "## 2 Try a Time series model"
   ]
  },
  {
   "cell_type": "markdown",
   "metadata": {},
   "source": [
    "## Presentation"
   ]
  },
  {
   "cell_type": "markdown",
   "metadata": {},
   "source": [
    "### 7. Present: Discuss data pipeline - importing/sorting/querying/munging"
   ]
  },
  {
   "cell_type": "markdown",
   "metadata": {},
   "source": [
    "- Draw a diagram discussing the data pipeline that was dicusssed above"
   ]
  },
  {
   "cell_type": "markdown",
   "metadata": {},
   "source": [
    "### 8. Present: Discuss statistical and visual analysis"
   ]
  },
  {
   "cell_type": "markdown",
   "metadata": {},
   "source": [
    "- Discuss the visualization from above found in EDA and featur engineering"
   ]
  },
  {
   "cell_type": "markdown",
   "metadata": {},
   "source": [
    "### 9. Present: Discuss model selection and implementation process"
   ]
  },
  {
   "cell_type": "markdown",
   "metadata": {},
   "source": [
    "- Discuss the classification, NLP and time series modelling techniques that were used above. \n",
    "- Reason for selecting\n",
    "- Draw a diagram discussing the iterative pipeline"
   ]
  },
  {
   "cell_type": "markdown",
   "metadata": {},
   "source": [
    "### 10. Present: Interpret findings and relate to goals/criteria\n",
    "#### AND\n",
    "### 11. Present: Create recommendations for stakeholders & summarize next steps"
   ]
  },
  {
   "cell_type": "markdown",
   "metadata": {},
   "source": [
    "- Summarize the findings from the above steps\n",
    "- Answer the questions about the crashes\n",
    "- What is one of the safest routes to travel? Can i answer this because I only crashes?\n",
    "- Which is one of the most common type of accidents. Has it decrease dover years?\n",
    "- Can more care be taken to avoid such kind of accidents?\n",
    "- Insurance companies can predict what kind of accidents from the classificationa nd the time series models"
   ]
  },
  {
   "cell_type": "markdown",
   "metadata": {},
   "source": [
    "### 12. Bonus! Deploy: Address how to (re)train model over time\n",
    "### 13. Bonus! Deploy: Discuss how to deploy model in production environment\n",
    "**????**"
   ]
  },
  {
   "cell_type": "markdown",
   "metadata": {},
   "source": [
    "### 14. Bonus! Present: Create blog post summary"
   ]
  }
 ],
 "metadata": {
  "kernelspec": {
   "display_name": "Python 3",
   "language": "python",
   "name": "python3"
  },
  "language_info": {
   "codemirror_mode": {
    "name": "ipython",
    "version": 3
   },
   "file_extension": ".py",
   "mimetype": "text/x-python",
   "name": "python",
   "nbconvert_exporter": "python",
   "pygments_lexer": "ipython3",
   "version": "3.6.0"
  }
 },
 "nbformat": 4,
 "nbformat_minor": 2
}
