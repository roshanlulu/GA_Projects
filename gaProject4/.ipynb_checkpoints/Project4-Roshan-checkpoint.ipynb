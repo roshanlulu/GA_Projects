{
 "cells": [
  {
   "cell_type": "markdown",
   "metadata": {},
   "source": [
    "## Project 4\n",
    "## Submitted by Roshan Lulu"
   ]
  },
  {
   "cell_type": "code",
   "execution_count": null,
   "metadata": {
    "collapsed": true
   },
   "outputs": [],
   "source": []
  },
  {
   "cell_type": "markdown",
   "metadata": {},
   "source": [
    "### Step 1 - Get the Job Posting data from the website\n",
    "\n",
    "- Identify the Job titles to scrap\n",
    "- Identify the element/child relationships and get the attributes\n",
    "- Baby step - Get 1 job posting scraped\n"
   ]
  },
  {
   "cell_type": "markdown",
   "metadata": {},
   "source": [
    "### A. Import Libraries"
   ]
  },
  {
   "cell_type": "code",
   "execution_count": 11,
   "metadata": {
    "collapsed": true
   },
   "outputs": [],
   "source": [
    "# import libraries\n",
    "import scrapy\n",
    "from scrapy.http import Request\n",
    "from scrapy import Selector\n",
    "import requests\n",
    "import pandas as pd\n"
   ]
  },
  {
   "cell_type": "raw",
   "metadata": {
    "collapsed": false
   },
   "source": [
    "# Define your parse function inside your class\n",
    "def parse_each_job_result_page(response, meta, page_num):\n",
    "    all_links = []\n",
    "    hxs = Selector(response)\n",
    "    # Get links in that page\n",
    "    links = Selector(text=response.text).xpath(\"//a[@data-automation='jobTitle']/@href\").extract()\n",
    "    all_links.append(links)\n",
    "    # get the link to the next page\n",
    "    next_page_anchor  =  Selector(text=response.text).xpath(\"//a[@data-automation='page-next']/@href\").extract()\n",
    "    print(next_page_anchor)\n",
    "    if len(next_page_anchor) > 0:\n",
    "        page_num += 1\n",
    "        get_links_for_job([{'type':meta, 'page':page_num += 1,'url':next_page_anchor}])\n",
    "    else:\n",
    "        pass\n",
    "        \n"
   ]
  },
  {
   "cell_type": "raw",
   "metadata": {},
   "source": [
    "# Define the start request function\n",
    "def get_links_for_job(urls = search_urls):\n",
    "    for url in urls:\n",
    "        print(url['type'], \"***************************************************************************\", url['type'])\n",
    "        print('\\n')\n",
    "        response = requests.get(url['url'])\n",
    "        parse_each_job_link(response, url['type'], url['page'])\n",
    "        print('\\n')\n",
    "\n"
   ]
  },
  {
   "cell_type": "markdown",
   "metadata": {},
   "source": [
    "### B. GET THE PAGE LINKS FOR THE JOBS"
   ]
  },
  {
   "cell_type": "code",
   "execution_count": 12,
   "metadata": {
    "collapsed": false
   },
   "outputs": [
    {
     "data": {
      "text/plain": [
       "[{'page': 1,\n",
       "  'type': 'Data-Science',\n",
       "  'url': 'https://www.seek.com.au/Data-Science-jobs/in-All-Sydney-NSW'},\n",
       " {'page': 1,\n",
       "  'type': 'Data-Analyst',\n",
       "  'url': 'https://www.seek.com.au/Data-Analyst-jobs/in-All-Sydney-NSW'},\n",
       " {'page': 1,\n",
       "  'type': 'Business-Intelligence',\n",
       "  'url': 'https://www.seek.com.au/Business-Intelligence-jobs/in-All-Sydney-NSW'}]"
      ]
     },
     "execution_count": 12,
     "metadata": {},
     "output_type": "execute_result"
    }
   ],
   "source": [
    "# # deinfe the serach urls\n",
    "# urls = [{'page':1,'type': 'data-analyst', 'url':'https://www.seek.com.au/Data-Analyst-jobs/in-All-Sydney-NSW'},\n",
    "#                 {'page':1,'type': 'data-science', 'url':'https://www.seek.com.au/Data-Science-jobs/in-All-Sydney-NSW'},\n",
    "#                  {'page':1, 'type': 'business-intelligence', 'url':'https://www.seek.com.au/Business-Intelligence-jobs/in-All-Sydney-NSW'}]\n",
    "\n",
    "job_desc_i_want = ['Data-Science', 'Data-Analyst', 'Business-Intelligence']\n",
    "where_is_the_job = '-jobs/in-All-Sydney-NSW'\n",
    "search_urls = []\n",
    "\n",
    "for index in range(0, len(job_desc_i_want)):\n",
    "    job_dict = {}\n",
    "    job_dict['type'] = job_desc_i_want[index]\n",
    "    job_dict['page'] = 1\n",
    "    job_dict['url'] = 'https://www.seek.com.au/' + job_desc_i_want[index] + where_is_the_job\n",
    "    search_urls.append(job_dict)\n",
    "\n",
    "search_urls"
   ]
  },
  {
   "cell_type": "code",
   "execution_count": 13,
   "metadata": {
    "collapsed": false
   },
   "outputs": [],
   "source": [
    "pagelinks_df = pd.DataFrame(columns = ('Job_Desc', 'Page_Num', 'url_link'))"
   ]
  },
  {
   "cell_type": "code",
   "execution_count": 14,
   "metadata": {
    "collapsed": false
   },
   "outputs": [],
   "source": [
    "# Define the start request function\n",
    "def get_all_page_links_per_job(url, job_desc, page_num=1):\n",
    "    # Get the html response from the first page url\n",
    "    response = requests.get(url)\n",
    "    # get the link to the next page\n",
    "    next_page_anchor  =  Selector(text=response.text).xpath(\"//a[@data-automation='page-next']/@href\").extract()\n",
    "    # check if there is a next page\n",
    "    if len(next_page_anchor) > 0:\n",
    "        # Save the current url details before finding the next one\n",
    "        pagelinks_df.loc[len(pagelinks_df),:] = [job_desc, page_num, url]\n",
    "        # Start searching for next page link\n",
    "        # Recursively call to get the links in next anchor page\n",
    "        page_num += 1\n",
    "        next_page_anchor = \"https://www.seek.com.au\" + next_page_anchor[0]\n",
    "        get_all_page_links_per_job(next_page_anchor, job_desc, page_num)\n",
    "    else:\n",
    "        pass"
   ]
  },
  {
   "cell_type": "code",
   "execution_count": 15,
   "metadata": {
    "collapsed": false
   },
   "outputs": [],
   "source": [
    "def parse_all_first_pages(urls=search_urls):\n",
    "    for url in urls:\n",
    "        get_all_page_links_per_job(url['url'], url['type']) \n",
    "\n",
    "#Parse all the required job search results and get the links to the job postings\n",
    "parse_all_first_pages()"
   ]
  },
  {
   "cell_type": "code",
   "execution_count": 16,
   "metadata": {
    "collapsed": false,
    "scrolled": true
   },
   "outputs": [
    {
     "data": {
      "text/html": [
       "<div>\n",
       "<table border=\"1\" class=\"dataframe\">\n",
       "  <thead>\n",
       "    <tr style=\"text-align: right;\">\n",
       "      <th></th>\n",
       "      <th>Job_Desc</th>\n",
       "      <th>Page_Num</th>\n",
       "      <th>url_link</th>\n",
       "    </tr>\n",
       "  </thead>\n",
       "  <tbody>\n",
       "    <tr>\n",
       "      <th>0</th>\n",
       "      <td>Data-Science</td>\n",
       "      <td>1</td>\n",
       "      <td>https://www.seek.com.au/Data-Science-jobs/in-A...</td>\n",
       "    </tr>\n",
       "    <tr>\n",
       "      <th>1</th>\n",
       "      <td>Data-Science</td>\n",
       "      <td>2</td>\n",
       "      <td>https://www.seek.com.au/Data-Science-jobs/in-A...</td>\n",
       "    </tr>\n",
       "    <tr>\n",
       "      <th>2</th>\n",
       "      <td>Data-Science</td>\n",
       "      <td>3</td>\n",
       "      <td>https://www.seek.com.au/Data-Science-jobs/in-A...</td>\n",
       "    </tr>\n",
       "    <tr>\n",
       "      <th>3</th>\n",
       "      <td>Data-Science</td>\n",
       "      <td>4</td>\n",
       "      <td>https://www.seek.com.au/Data-Science-jobs/in-A...</td>\n",
       "    </tr>\n",
       "    <tr>\n",
       "      <th>4</th>\n",
       "      <td>Data-Science</td>\n",
       "      <td>5</td>\n",
       "      <td>https://www.seek.com.au/Data-Science-jobs/in-A...</td>\n",
       "    </tr>\n",
       "  </tbody>\n",
       "</table>\n",
       "</div>"
      ],
      "text/plain": [
       "       Job_Desc Page_Num                                           url_link\n",
       "0  Data-Science        1  https://www.seek.com.au/Data-Science-jobs/in-A...\n",
       "1  Data-Science        2  https://www.seek.com.au/Data-Science-jobs/in-A...\n",
       "2  Data-Science        3  https://www.seek.com.au/Data-Science-jobs/in-A...\n",
       "3  Data-Science        4  https://www.seek.com.au/Data-Science-jobs/in-A...\n",
       "4  Data-Science        5  https://www.seek.com.au/Data-Science-jobs/in-A..."
      ]
     },
     "execution_count": 16,
     "metadata": {},
     "output_type": "execute_result"
    }
   ],
   "source": [
    "# Display the dataframe obtained\n",
    "pagelinks_df.head()"
   ]
  },
  {
   "cell_type": "code",
   "execution_count": 26,
   "metadata": {
    "collapsed": false
   },
   "outputs": [],
   "source": [
    "# Get all the job posting links from each page\n",
    "list_of_posts = []\n",
    "for index in range(0, len(pagelinks_df)):\n",
    "    # Get the response text from the url\n",
    "    url = pagelinks_df.iloc[index, 2]\n",
    "    response = requests.get(url)\n",
    "    # Parse the response text\n",
    "    # parse_job_posting(response)\n",
    "    post = Selector(text=response.text).xpath('//a[@data-automation=\"jobTitle\"]/@href').extract()\n",
    "    list_of_posts.append(post)\n",
    "\n",
    "pagelinks_df['Job_Posts'] = list_of_posts"
   ]
  },
  {
   "cell_type": "markdown",
   "metadata": {},
   "source": [
    "### THE TEXT PARSE STARTS NOW !"
   ]
  },
  {
   "cell_type": "code",
   "execution_count": null,
   "metadata": {
    "collapsed": true
   },
   "outputs": [],
   "source": [
    "### C. Go through each page link and get the \n",
    "# Description, Job_Title, Salary, Location, Work_Type, Classification,\n",
    "# DatePosted, Postedby"
   ]
  },
  {
   "cell_type": "code",
   "execution_count": 33,
   "metadata": {
    "collapsed": false
   },
   "outputs": [
    {
     "name": "stdout",
     "output_type": "stream",
     "text": [
      "['Senior Manager - Data Science']\n",
      "['Head of Data Science - ML & AI']\n",
      "['Head of Data Science & Analytics | Strategic role | Innovative Tech Product Co']\n",
      "['Head of Data Science - Unique Career Opportunity -Innovative Technology Company']\n",
      "['Head of Data Science &amp; Products']\n",
      "['Head of Data Science &amp; Products']\n",
      "['Head of Data Science &amp; Products']\n",
      "['Computational Statistician | Data Science and Research Software Business']\n",
      "['Junior Data Scientist (Modelling, Insights & Data Science)']\n",
      "['DATA SCIENCE EXPERT ']\n",
      "['Business Analyst- Data Analytics / Data Science ']\n",
      "['Data Scientist']\n",
      "['JAPANESE-SPEAKING DATA SCIENTIST - REMOTE']\n",
      "['Senior Data Scientist | Strategic Position | Innovative & Dynamic Organisation']\n",
      "['Junior Software Engineer']\n",
      "['Lead Data Scientist']\n",
      "['Data Analyst / Data Scientist']\n",
      "['Senior Client Consultant - Financial Services']\n",
      "['Forensic Data Analytics']\n",
      "['Principal Consultant - Analytics']\n",
      "['Senior Data Scientist']\n",
      "['Senior Data Scientist']\n",
      "['Data Engineer/Scientist']\n",
      "['Senior Manager Monitoring and Supervision']\n",
      "['SAS Analytics Consultant - CONTRACT']\n",
      "['Product Data Scientist - Growing Digital Team']\n",
      "['Data Analyst']\n",
      "['Graduate Wanted: Talented, Bright Spark!!']\n",
      "['Data Scientist']\n",
      "['Senior Data Scientist']\n",
      "['Data and Strategy Analyst']\n",
      "['Data Scientist - Python - R - Top Tier Client - Sydney CBD Location']\n",
      "['Data Scientist']\n",
      "['Data Scientist']\n",
      "['Financial Services - Finance & Risk Data Scientist - Manager']\n",
      "['Software Development Engineer Graduate']\n",
      "['Data Scientist']\n",
      "['Data Scientist']\n",
      "['Research and Evaluation Officer']\n",
      "['Data Scientist']\n",
      "['Junior SQL Data Analyst']\n",
      "['Senior Data Scientist / Machine Learning (Customer Marketing)']\n",
      "['Data Scientist (Marketing Mix & Econometrics)']\n",
      "['Jnr Data Scientist | Innovative Co Global Organisation |']\n",
      "['Account Executive']\n",
      "['Directors & Senior Managers | Data Analytics & Information Management:']\n",
      "['Campaign Insights Analyst (SQL Teradata)']\n",
      "['Accenture Digital- Analytics Consultant']\n",
      "['Strategic Account Director - Financial Services']\n",
      "['Senior PHP Developer']\n",
      "['Data Scientist - Perm - Sydney']\n",
      "['BI Consultant - Large Datawarehouse and Big Data Environments']\n",
      "['MarkLogic Workflow Developer']\n",
      "['Datastage - ETL - Senior Consultant']\n",
      "['Senior Data Scientist']\n",
      "['DATA SCIENTIST CONTRACTOR – CONSULTING']\n",
      "['Data Scientist / Statistical Modeller']\n",
      "['Web Analytics and Insights Analyst']\n",
      "['Senior Solution Consultant']\n",
      "['Biostatistician / Epidemiologist']\n",
      "['Data Engineer, Data Modelling / Analytics, Exciting New Role, CBD, Flexible Hrs']\n",
      "['Data Analytics Consultant']\n",
      "[\"CHANCELLOR'S POSTDOCTORAL RESEARCH FELLOWSHIPS 2018\"]\n",
      "['UX/UI Designer']\n",
      "['Senior Data Scientist / Machine Learning (Customer Marketing)']\n",
      "['Senior JavaScript Developer']\n",
      "['Statistician & Data Analyst']\n",
      "['Hadoop Big Data Platform Consultant / Engineer']\n",
      "['Principal Consultant - Analytics']\n",
      "['Data Scientist - Customer Insights (Retail)']\n",
      "['Translational Data Scientist']\n",
      "['Translational Data Scientist']\n",
      "['Senior Analyst - Big Data']\n",
      "['Senior Analyst - Big Data']\n",
      "['Senior Analyst - Big Data']\n",
      "['Data Scientist']\n",
      "['DATA SCIENTIST CONTRACTOR – START-UP']\n",
      "['Lead Data Architect & Analyst']\n",
      "['Algorithm Engineer']\n",
      "['Data Scientist']\n",
      "['Data Scientist']\n",
      "['Marketing and Event Administration']\n",
      "['Business Support Manager']\n",
      "['Business Support Manager']\n",
      "['Business Support Manager']\n",
      "['Translational Data Scientist']\n",
      "['Translational Data Scientist']\n",
      "['School Administration Officer']\n",
      "['Junior Software Engineer']\n",
      "['Data Scientist']\n",
      "['Data Scientist']\n",
      "['Data Analyst -SAS SQL Health / Clinical ']\n",
      "['Warehouse Developer']\n",
      "['Data Scientist - Perm role - Sydney']\n",
      "['Business Support Manager']\n",
      "['Business Support Manager']\n",
      "['Business Support Manager']\n",
      "['DATA SCIENCE EXPERT ']\n",
      "['Senior Manager Monitoring and Supervision']\n",
      "['Cryptologist Operator']\n"
     ]
    }
   ],
   "source": [
    "# Define the start request function\n",
    "titles = []\n",
    "jd1 = []\n",
    "jd2 = []\n",
    "for index in range(0, 5):\n",
    "    # Get the response text from the url\n",
    "    urls = pagelinks_df.iloc[index, 3]\n",
    "    for url in urls:\n",
    "        response = requests.get('https://www.seek.com.au' + url)\n",
    "        # Parse the response text\n",
    "        # parse_job_posting(response)\n",
    "#         main_path = '//div[@data-automation=\"joblisting-index\"]/div[@class=\"mod-job-details\"]/ul/li/div/span[@itemprop=\"addressRegion\"]/span/text()'                 \n",
    "        job_title = Selector(text=response.text).xpath('//div[@data-automation=\"joblisting-index\"]/div[@class=\"grid_6\"]/h1/text()').extract()\n",
    "        job_desc_1 = Selector(text=response.text).xpath('//div[@class=\"templatetext\"]/p//text()').extract()\n",
    "        job_desc_2 = Selector(text=response.text).xpath('//div[@class=\"templatetext\"]/ul/li//text()').extract()\n",
    "        print(job_title)"
   ]
  },
  {
   "cell_type": "code",
   "execution_count": null,
   "metadata": {
    "collapsed": true
   },
   "outputs": [],
   "source": []
  }
 ],
 "metadata": {
  "kernelspec": {
   "display_name": "Python 3",
   "language": "python",
   "name": "python3"
  },
  "language_info": {
   "codemirror_mode": {
    "name": "ipython",
    "version": 3
   },
   "file_extension": ".py",
   "mimetype": "text/x-python",
   "name": "python",
   "nbconvert_exporter": "python",
   "pygments_lexer": "ipython3",
   "version": "3.6.0"
  }
 },
 "nbformat": 4,
 "nbformat_minor": 2
}
